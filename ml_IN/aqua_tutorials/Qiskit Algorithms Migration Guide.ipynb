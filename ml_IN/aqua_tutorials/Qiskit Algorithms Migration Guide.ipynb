{
 "cells": [
  {
   "cell_type": "markdown",
   "metadata": {
    "slideshow": {
     "slide_type": "slide"
    }
   },
   "source": [
    "# Qiskit Algorithms Migration Guide\n",
    "\n",
    "**Restructuring the applications**\n",
    "\n",
    "The Qiskit 0.25.0 release includes a restructuring of the applications and algorithms. What previously has been referred to as Qiskit Aqua, the single applications and algorithms module of Qiskit, is now split into dedicated application modules for Optimization, Finance, Machine Learning and Nature (including Physics & Chemistry). The core algorithms and opflow operator functionality are moved to Qiskit Terra.\n",
    "\n",
    "**Algorithm interfaces**\n",
    "\n",
    "Additionally to the restructuring, all algorithms follow a new unified paradigm: algorithms are classified according to the problems they solve, and within one application class algorithms can be used interchangeably to solve the same problem. This means that, unlike before, algorithm instances are decoupled from the problem they solve. We can summarize this in a flowchart:\n",
    "\n",
    "<img src=\"algorithmflow.png\" alt=\"Drawing\" style=\"width: 1000px;\"/>\n",
    "\n",
    "For example, the variational quantum eigensolver, `VQE` is a `MinimumEigensolver` as it computes the minimum eigenvalue of an operator. The problem here is specified with the operator, whose eigenvalue we seek, while properties such as the variational ansatz circuit and classical optimizer are properties of the algorithm. That means the `VQE` has the following structure\n",
    "```python\n",
    "vqe = VQE(ansatz, optimizer)\n",
    "result = vqe.compute_minimum_eigenvalue(operator)\n",
    "```\n",
    "We can exchange the `VQE` with any other algorithm that implements the `MinimumEigensolver` interface to compute the eigenvalues of your operator, e.g.\n",
    "```\n",
    "numpy_based = NumPyMinimumEigensolver()\n",
    "classical_reference = numpy_based.compute_minimum_eigenvalue(operator)\n",
    "```\n",
    "This allows you to easily switch between different algorithms, check against classical references, and provide your own implementation $-$ you just have to implement the existing interface."
   ]
  },
  {
   "cell_type": "markdown",
   "metadata": {},
   "source": [
    "This notebook serves as migration guide to facilitate changing your current code using Qiskit Aqua to the new structure.\n"
   ]
  },
  {
   "cell_type": "markdown",
   "metadata": {},
   "source": [
    "We're disabling deprecation warning for this notebook so you won't see any when we instantiate an object from `qiskit.aqua`. Note though, that the entire package is deprecated and will emit a warning like the following:"
   ]
  },
  {
   "cell_type": "code",
   "execution_count": 1,
   "metadata": {},
   "outputs": [
    {
     "name": "stderr",
     "output_type": "stream",
     "text": [
      "/Users/manoel/projects/Quantum/qiskit-aqua/qiskit/aqua/__init__.py:86: DeprecationWarning: The package qiskit.aqua is deprecated. It was moved/refactored to qiskit-terra For more information see <https://github.com/Qiskit/qiskit-aqua/blob/main/README.md#migration-guide>\n",
      "  warn_package('aqua', 'qiskit-terra')\n",
      "/Users/manoel/projects/Quantum/qiskit-aqua/qiskit/aqua/components/optimizers/optimizer.py:49: DeprecationWarning: The package qiskit.aqua.components.optimizers is deprecated. It was moved/refactored to qiskit.algorithms.optimizers (pip install qiskit-terra). For more information see <https://github.com/Qiskit/qiskit-aqua/blob/main/README.md#migration-guide>\n",
      "  warn_package('aqua.components.optimizers',\n"
     ]
    }
   ],
   "source": [
    "from qiskit.aqua.components.optimizers import COBYLA\n",
    "\n",
    "optimizer = COBYLA()"
   ]
  },
  {
   "cell_type": "code",
   "execution_count": 2,
   "metadata": {},
   "outputs": [],
   "source": [
    "import warnings\n",
    "warnings.simplefilter('ignore', DeprecationWarning)"
   ]
  },
  {
   "cell_type": "markdown",
   "metadata": {},
   "source": [
    "# QuantumInstance\n",
    "\n",
    "The `QuantumInstance` moved the import location from\n",
    "```\n",
    "qiskit.aqua.QuantumInstance\n",
    "```\n",
    "to \n",
    "```\n",
    "qiskit.utils.QuantumInstance\n",
    "```"
   ]
  },
  {
   "cell_type": "markdown",
   "metadata": {},
   "source": [
    "**Previously:**"
   ]
  },
  {
   "cell_type": "code",
   "execution_count": 3,
   "metadata": {},
   "outputs": [],
   "source": [
    "from qiskit import Aer\n",
    "from qiskit.aqua import QuantumInstance as AquaQuantumInstance\n",
    "\n",
    "backend = Aer.get_backend('statevector_simulator')\n",
    "aqua_qinstance = AquaQuantumInstance(backend, seed_simulator=2, seed_transpiler=2)"
   ]
  },
  {
   "cell_type": "markdown",
   "metadata": {
    "slideshow": {
     "slide_type": "slide"
    }
   },
   "source": [
    "**New:**"
   ]
  },
  {
   "cell_type": "code",
   "execution_count": 4,
   "metadata": {},
   "outputs": [],
   "source": [
    "from qiskit import Aer\n",
    "from qiskit.utils import QuantumInstance\n",
    "\n",
    "backend = Aer.get_backend('statevector_simulator')\n",
    "qinstance = QuantumInstance(backend, seed_simulator=2, seed_transpiler=2)"
   ]
  },
  {
   "cell_type": "markdown",
   "metadata": {},
   "source": [
    "# Operators\n",
    "\n",
    "The Opflow operators moved from\n",
    "```\n",
    "qiskit.aqua.operators\n",
    "```\n",
    "to\n",
    "```\n",
    "qiskit.opflow\n",
    "```"
   ]
  },
  {
   "cell_type": "markdown",
   "metadata": {},
   "source": [
    "**Previously:**"
   ]
  },
  {
   "cell_type": "code",
   "execution_count": 5,
   "metadata": {},
   "outputs": [],
   "source": [
    "from qiskit.aqua.operators import X, I, Y\n",
    "\n",
    "op = (X ^ I) + (Y ^ 2)"
   ]
  },
  {
   "cell_type": "markdown",
   "metadata": {},
   "source": [
    "**New:**"
   ]
  },
  {
   "cell_type": "code",
   "execution_count": 6,
   "metadata": {},
   "outputs": [],
   "source": [
    "from qiskit.opflow import X, I, Y\n",
    "\n",
    "op = (X ^ I) + (Y ^ 2)"
   ]
  },
  {
   "cell_type": "markdown",
   "metadata": {},
   "source": [
    "**Additional features:**\n",
    "\n",
    "With `qiskit.opflow` we introduce a new, more efficient representation of sums of Pauli strings, which can significantly speed up computations on very large sums of Paulis. This efficient representation is automatically used if Pauli strings are summed:"
   ]
  },
  {
   "cell_type": "code",
   "execution_count": 7,
   "metadata": {},
   "outputs": [
    {
     "data": {
      "text/plain": [
       "qiskit.opflow.primitive_ops.pauli_sum_op.PauliSumOp"
      ]
     },
     "execution_count": 7,
     "metadata": {},
     "output_type": "execute_result"
    }
   ],
   "source": [
    "op = (X ^ X ^ Y ^ Y) + (X ^ 4) + (Y ^ 4) + (I ^ X ^ I ^ I)\n",
    "type(op)"
   ]
  },
  {
   "cell_type": "markdown",
   "metadata": {},
   "source": [
    "# Optimizers\n",
    "\n",
    "The classical optimization routines changed locations from\n",
    "```\n",
    "qiskit.aqua.components.optimizers\n",
    "```\n",
    "to \n",
    "```\n",
    "qiskit.algorithms.optimizers\n",
    "```"
   ]
  },
  {
   "cell_type": "markdown",
   "metadata": {},
   "source": [
    "**Previously:**"
   ]
  },
  {
   "cell_type": "code",
   "execution_count": 8,
   "metadata": {},
   "outputs": [],
   "source": [
    "from qiskit.aqua.components.optimizers import SPSA\n",
    "\n",
    "spsa = SPSA(maxiter=10)"
   ]
  },
  {
   "cell_type": "markdown",
   "metadata": {},
   "source": [
    "**New:**"
   ]
  },
  {
   "cell_type": "code",
   "execution_count": 9,
   "metadata": {},
   "outputs": [],
   "source": [
    "from qiskit.algorithms.optimizers import SPSA\n",
    "\n",
    "spsa = SPSA(maxiter=10)"
   ]
  },
  {
   "cell_type": "markdown",
   "metadata": {
    "slideshow": {
     "slide_type": "slide"
    }
   },
   "source": [
    "# Grover\n",
    "\n",
    "## Summary\n",
    "\n",
    "The previous structure\n",
    "```python\n",
    "grover = Grover(oracle_settings, algorithm_settings)\n",
    "result = grover.run()\n",
    "```\n",
    "is changed to split problem/oracle settings and algorithm settings, to\n",
    "```python\n",
    "grover = Grover(algorithm_settings)\n",
    "problem = AmplificationProblem(oracle_settings)\n",
    "result = grover.amplify(problem)\n",
    "```\n",
    "<!-- See the documentation of the [deprecated Grover](https://qiskit.org/documentation/stubs/qiskit.aqua.algorithms.Grover.html#qiskit.aqua.algorithms.Grover) and [new Grover](#). -->"
   ]
  },
  {
   "cell_type": "markdown",
   "metadata": {},
   "source": [
    "## Migration guide\n",
    "\n",
    "For oracles provided as circuits and a `is_good_state` function to determine good states"
   ]
  },
  {
   "cell_type": "code",
   "execution_count": 10,
   "metadata": {},
   "outputs": [],
   "source": [
    "from qiskit.circuit import QuantumCircuit\n",
    "\n",
    "oracle = QuantumCircuit(2)\n",
    "oracle.cz(0, 1)\n",
    "\n",
    "def is_good_state(bitstr):\n",
    "    return sum(map(int, bitstr)) == 2"
   ]
  },
  {
   "cell_type": "markdown",
   "metadata": {},
   "source": [
    "**Previously:**"
   ]
  },
  {
   "cell_type": "code",
   "execution_count": 11,
   "metadata": {},
   "outputs": [
    {
     "name": "stdout",
     "output_type": "stream",
     "text": [
      "Top measurement: 11\n"
     ]
    }
   ],
   "source": [
    "from qiskit.aqua.algorithms import Grover\n",
    "\n",
    "grover = Grover(oracle, is_good_state, quantum_instance=aqua_qinstance)\n",
    "result = grover.run()\n",
    "print('Top measurement:', result.top_measurement)"
   ]
  },
  {
   "cell_type": "markdown",
   "metadata": {},
   "source": [
    "**New:**"
   ]
  },
  {
   "cell_type": "code",
   "execution_count": 12,
   "metadata": {},
   "outputs": [
    {
     "name": "stdout",
     "output_type": "stream",
     "text": [
      "Top measurement: 11\n"
     ]
    }
   ],
   "source": [
    "from qiskit.algorithms import Grover, AmplificationProblem\n",
    "\n",
    "problem = AmplificationProblem(oracle=oracle, is_good_state=is_good_state)\n",
    "grover = Grover(quantum_instance=qinstance)\n",
    "result = grover.amplify(problem)\n",
    "print('Top measurement:', result.top_measurement)"
   ]
  },
  {
   "cell_type": "markdown",
   "metadata": {},
   "source": [
    "Since we are streamlining all algorithms to use the `QuantumCircuit` class as base primitive, defining oracles using the `qiskit.aqua.compontents.Oracle` class is deprecated. Instead of using e.g. the `LogicalExpressionOracle` you can now use the `PhaseOracle` circuit from the circuit library."
   ]
  },
  {
   "cell_type": "markdown",
   "metadata": {},
   "source": [
    "**Previously:**"
   ]
  },
  {
   "cell_type": "code",
   "execution_count": 13,
   "metadata": {},
   "outputs": [
    {
     "name": "stdout",
     "output_type": "stream",
     "text": [
      "Top measurement: 01\n"
     ]
    }
   ],
   "source": [
    "from qiskit.aqua.components.oracles import LogicalExpressionOracle\n",
    "from qiskit.aqua.algorithms import Grover\n",
    "\n",
    "oracle = LogicalExpressionOracle('x & ~y')\n",
    "grover = Grover(oracle, quantum_instance=aqua_qinstance)\n",
    "result = grover.run()\n",
    "print('Top measurement:', result.top_measurement)"
   ]
  },
  {
   "cell_type": "markdown",
   "metadata": {},
   "source": [
    "**New:**"
   ]
  },
  {
   "cell_type": "code",
   "execution_count": 14,
   "metadata": {},
   "outputs": [
    {
     "name": "stdout",
     "output_type": "stream",
     "text": [
      "Top measurement: 01\n"
     ]
    }
   ],
   "source": [
    "from qiskit.circuit.library import PhaseOracle\n",
    "from qiskit.algorithms import Grover, AmplificationProblem\n",
    "\n",
    "oracle = PhaseOracle('x & ~y')\n",
    "problem = AmplificationProblem(oracle=oracle, is_good_state=oracle.evaluate_bitstring)\n",
    "grover = Grover(quantum_instance=qinstance)\n",
    "result = grover.amplify(problem)\n",
    "print('Top measurement:', result.top_measurement)"
   ]
  },
  {
   "cell_type": "markdown",
   "metadata": {},
   "source": [
    "The `qiskit.aqua.components.oracles.TruthTableOracle` is not yet ported, but the behaviour can easily be achieved with the `qiskit.circuit.classicalfunction` module, see the tutorials on Grover's algorithm."
   ]
  },
  {
   "cell_type": "markdown",
   "metadata": {},
   "source": [
    "## More examples"
   ]
  },
  {
   "cell_type": "markdown",
   "metadata": {},
   "source": [
    "To construct the circuit we can call `construct_circuit` and pass the problem instance we are interested in:"
   ]
  },
  {
   "cell_type": "code",
   "execution_count": 15,
   "metadata": {},
   "outputs": [
    {
     "data": {
      "image/png": "[encoded data removed]",
      "text/plain": [
       "<Figure size 267.052x144.48 with 1 Axes>"
      ]
     },
     "execution_count": 15,
     "metadata": {},
     "output_type": "execute_result"
    }
   ],
   "source": [
    "power = 2\n",
    "grover.construct_circuit(problem, power).draw('mpl', style='iqx')"
   ]
  },
  {
   "cell_type": "markdown",
   "metadata": {
    "slideshow": {
     "slide_type": "slide"
    }
   },
   "source": [
    "# Amplitude estimation\n",
    "\n",
    "## Summary\n",
    "\n",
    "For all amplitude estimation algorithms \n",
    "* `AmplitudeEstimation`\n",
    "* `IterativeAmplitudeEstimation`\n",
    "* `MaximumLikelihoodAmplitudeEstimation`, and\n",
    "* `FasterAmplitudeEstimation`\n",
    "\n",
    "the interface changed from\n",
    "```python\n",
    "qae = AmplitudeEstimation(algorithm_settings, estimation_settings)\n",
    "result = qae.run()\n",
    "```\n",
    "to split problem/oracle settings and algorithm settings\n",
    "```python\n",
    "qae = AmplitudeEstimation(algorithm_settings)\n",
    "problem = EstimationProblem(oracle_settings)\n",
    "result = qae.amplify(problem)\n",
    "```\n",
    "<!-- See the documentation of the [deprecated amplitude estimation algorithms](https://qiskit.org/documentation/apidoc/qiskit.aqua.algorithms.html#amplitude-estimators) and [new ones](#). -->"
   ]
  },
  {
   "cell_type": "markdown",
   "metadata": {},
   "source": [
    "## Migration guide\n",
    "\n",
    "Here, we'd like to estimate the probability of measuring a $|1\\rangle$ in our single qubit. If the state preparation is provided as circuit"
   ]
  },
  {
   "cell_type": "code",
   "execution_count": 16,
   "metadata": {},
   "outputs": [
    {
     "name": "stdout",
     "output_type": "stream",
     "text": [
      "Target probability: 0.25\n"
     ]
    },
    {
     "data": {
      "image/png": "[encoded data removed]",
      "text/plain": [
       "<Figure size 133.526x84.28 with 1 Axes>"
      ]
     },
     "execution_count": 16,
     "metadata": {},
     "output_type": "execute_result"
    }
   ],
   "source": [
    "import numpy as np\n",
    "\n",
    "probability = 0.25\n",
    "rotation_angle = 2 * np.arcsin(np.sqrt(probability))\n",
    "\n",
    "state_preparation = QuantumCircuit(1)\n",
    "state_preparation.ry(rotation_angle, 0)\n",
    "\n",
    "objective_qubits = [0]  # the good states are identified by qubit 0 being in state |1>\n",
    "\n",
    "print('Target probability:', probability)\n",
    "\n",
    "state_preparation.draw(output='mpl', style='iqx')"
   ]
  },
  {
   "cell_type": "markdown",
   "metadata": {},
   "source": [
    "**Previously:**"
   ]
  },
  {
   "cell_type": "code",
   "execution_count": 17,
   "metadata": {},
   "outputs": [
    {
     "name": "stdout",
     "output_type": "stream",
     "text": [
      "Grid-based estimate: 0.1464466\n",
      "Improved continuous estimate: 0.2499999956526605\n"
     ]
    }
   ],
   "source": [
    "from qiskit.aqua.algorithms import AmplitudeEstimation\n",
    "\n",
    "# instantiate the algorithm and passing the problem instance\n",
    "ae = AmplitudeEstimation(3, state_preparation, quantum_instance=aqua_qinstance)\n",
    "\n",
    "# run the algorithm\n",
    "result = ae.run()\n",
    "\n",
    "# print the results\n",
    "print('Grid-based estimate:', result.estimation) \n",
    "print('Improved continuous estimate:', result.mle)"
   ]
  },
  {
   "cell_type": "markdown",
   "metadata": {},
   "source": [
    "**Now:**"
   ]
  },
  {
   "cell_type": "code",
   "execution_count": 18,
   "metadata": {},
   "outputs": [
    {
     "name": "stdout",
     "output_type": "stream",
     "text": [
      "Grid-based estimate: 0.1464466\n",
      "Improved continuous estimate: 0.2499999956513743\n"
     ]
    }
   ],
   "source": [
    "from qiskit.algorithms import AmplitudeEstimation, EstimationProblem\n",
    "\n",
    "problem = EstimationProblem(state_preparation=state_preparation, objective_qubits=objective_qubits)\n",
    "ae = AmplitudeEstimation(num_eval_qubits=3, quantum_instance=qinstance)\n",
    "\n",
    "result = ae.estimate(problem)\n",
    "print('Grid-based estimate:', result.estimation) \n",
    "print('Improved continuous estimate:', result.mle)"
   ]
  },
  {
   "cell_type": "markdown",
   "metadata": {},
   "source": [
    "Note that the old class used the last qubit in the `state_preparation` as objective qubit as default, if no other indices were specified. This default does not exist anymore to improve transparency and remove implicit assumptions."
   ]
  },
  {
   "cell_type": "markdown",
   "metadata": {
    "slideshow": {
     "slide_type": "slide"
    }
   },
   "source": [
    "## More examples"
   ]
  },
  {
   "cell_type": "markdown",
   "metadata": {},
   "source": [
    "To construct the circuit for amplitude estimation, we can do"
   ]
  },
  {
   "cell_type": "code",
   "execution_count": 19,
   "metadata": {},
   "outputs": [
    {
     "data": {
      "image/png": "[encoded data removed]",
      "text/plain": [
       "<Figure size 237.715x264.88 with 1 Axes>"
      ]
     },
     "execution_count": 19,
     "metadata": {},
     "output_type": "execute_result"
    }
   ],
   "source": [
    "ae.construct_circuit(estimation_problem=problem).draw('mpl', style='iqx')"
   ]
  },
  {
   "cell_type": "markdown",
   "metadata": {},
   "source": [
    "Now that the problem is separated from the algorithm we can exchange `AmplitudeEstimation` with any other algorithm that implements the `AmplitudeEstimator` interface."
   ]
  },
  {
   "cell_type": "code",
   "execution_count": 20,
   "metadata": {},
   "outputs": [
    {
     "name": "stdout",
     "output_type": "stream",
     "text": [
      "Estimate: 0.24999999999999994\n"
     ]
    }
   ],
   "source": [
    "from qiskit.algorithms import IterativeAmplitudeEstimation\n",
    "\n",
    "iae = IterativeAmplitudeEstimation(epsilon_target=0.01, alpha=0.05, quantum_instance=qinstance)\n",
    "\n",
    "result = iae.estimate(problem)\n",
    "print('Estimate:', result.estimation)"
   ]
  },
  {
   "cell_type": "code",
   "execution_count": 21,
   "metadata": {},
   "outputs": [
    {
     "name": "stdout",
     "output_type": "stream",
     "text": [
      "Estimate: 0.2500081904035319\n"
     ]
    }
   ],
   "source": [
    "from qiskit.algorithms import MaximumLikelihoodAmplitudeEstimation\n",
    "\n",
    "mlae = MaximumLikelihoodAmplitudeEstimation(evaluation_schedule=[0, 2, 4], quantum_instance=qinstance)\n",
    "\n",
    "result = mlae.estimate(problem)\n",
    "print('Estimate:', result.estimation)"
   ]
  },
  {
   "cell_type": "markdown",
   "metadata": {
    "slideshow": {
     "slide_type": "slide"
    }
   },
   "source": [
    "# Minimum eigenvalues\n",
    "\n",
    "## Summary\n",
    "\n",
    "* The interface remained mostly the same, but where previously it was possible to pass the operator in the initializer .\n",
    "* The operators must now be constructed with operators from `qiskit.opflow` instead of `qiskit.aqua.operators`.\n",
    "* The `VQE` argument `var_form` has been renamend to `ansatz`."
   ]
  },
  {
   "cell_type": "markdown",
   "metadata": {},
   "source": [
    "## Migration guide"
   ]
  },
  {
   "cell_type": "markdown",
   "metadata": {},
   "source": [
    "Assume we want to find the minimum eigenvalue of \n",
    "$$\n",
    "H = Z \\otimes I.\n",
    "$$"
   ]
  },
  {
   "cell_type": "markdown",
   "metadata": {},
   "source": [
    "### NumPy-based eigensolver\n",
    "\n",
    "**Previously:**\n",
    "\n",
    "Previously we imported the operators from `qiskit.aqua.operators`:"
   ]
  },
  {
   "cell_type": "code",
   "execution_count": 22,
   "metadata": {},
   "outputs": [],
   "source": [
    "from qiskit.aqua.operators import Z, I\n",
    "\n",
    "observable = Z ^ I"
   ]
  },
  {
   "cell_type": "markdown",
   "metadata": {},
   "source": [
    "and then solved for the minimum eigenvalue using"
   ]
  },
  {
   "cell_type": "code",
   "execution_count": 23,
   "metadata": {},
   "outputs": [
    {
     "name": "stdout",
     "output_type": "stream",
     "text": [
      "(-1+0j)\n"
     ]
    }
   ],
   "source": [
    "from qiskit.aqua.algorithms import NumPyMinimumEigensolver\n",
    "\n",
    "mes = NumPyMinimumEigensolver()\n",
    "result = mes.compute_minimum_eigenvalue(observable)\n",
    "print(result.eigenvalue)"
   ]
  },
  {
   "cell_type": "markdown",
   "metadata": {},
   "source": [
    "It used to be possible to pass the observable in the initializer, which is now not allowed anymore due to the problem-algorithm separation."
   ]
  },
  {
   "cell_type": "code",
   "execution_count": 24,
   "metadata": {},
   "outputs": [
    {
     "name": "stdout",
     "output_type": "stream",
     "text": [
      "(-1+0j)\n"
     ]
    }
   ],
   "source": [
    "mes = NumPyMinimumEigensolver(observable)\n",
    "result = mes.compute_minimum_eigenvalue()\n",
    "print(result.eigenvalue)"
   ]
  },
  {
   "cell_type": "markdown",
   "metadata": {},
   "source": [
    "**Now:**\n",
    "\n",
    "Now we need to import from `qiskit.opflow` but the other syntax remains exactly the same:"
   ]
  },
  {
   "cell_type": "code",
   "execution_count": 25,
   "metadata": {},
   "outputs": [],
   "source": [
    "from qiskit.opflow import Z, I\n",
    "\n",
    "observable = Z ^ I "
   ]
  },
  {
   "cell_type": "code",
   "execution_count": 26,
   "metadata": {},
   "outputs": [
    {
     "name": "stdout",
     "output_type": "stream",
     "text": [
      "(-1+0j)\n"
     ]
    }
   ],
   "source": [
    "from qiskit.algorithms import NumPyMinimumEigensolver\n",
    "\n",
    "mes = NumPyMinimumEigensolver()\n",
    "\n",
    "result = mes.compute_minimum_eigenvalue(observable)\n",
    "print(result.eigenvalue)"
   ]
  },
  {
   "cell_type": "markdown",
   "metadata": {
    "slideshow": {
     "slide_type": "slide"
    }
   },
   "source": [
    "### VQE\n",
    "\n",
    "The same changes hold for VQE. Let's use the `RealAmplitudes` circuit as ansatz:"
   ]
  },
  {
   "cell_type": "code",
   "execution_count": 27,
   "metadata": {},
   "outputs": [
    {
     "data": {
      "image/png": "[encoded data removed]",
      "text/plain": [
       "<Figure size 267.052x144.48 with 1 Axes>"
      ]
     },
     "execution_count": 27,
     "metadata": {},
     "output_type": "execute_result"
    }
   ],
   "source": [
    "from qiskit.circuit.library import RealAmplitudes\n",
    "\n",
    "ansatz = RealAmplitudes(2, reps=1)\n",
    "ansatz.draw(output='mpl', style='iqx')"
   ]
  },
  {
   "cell_type": "markdown",
   "metadata": {},
   "source": [
    "**Previously:**\n",
    "\n",
    "Previously, we had to import both the optimizer and operators from Qiskit Aqua:"
   ]
  },
  {
   "cell_type": "code",
   "execution_count": 28,
   "metadata": {},
   "outputs": [
    {
     "name": "stdout",
     "output_type": "stream",
     "text": [
      "(-0.9999999971946394+0j)\n"
     ]
    }
   ],
   "source": [
    "from qiskit.aqua.algorithms import VQE\n",
    "from qiskit.aqua.components.optimizers import COBYLA\n",
    "from qiskit.aqua.operators import Z, I\n",
    "\n",
    "observable = Z ^ I\n",
    "\n",
    "vqe = VQE(var_form=ansatz, optimizer=COBYLA(), quantum_instance=aqua_qinstance)\n",
    "result = vqe.compute_minimum_eigenvalue(observable)\n",
    "print(result.eigenvalue)"
   ]
  },
  {
   "cell_type": "markdown",
   "metadata": {},
   "source": [
    "**Now:** \n",
    "\n",
    "Now we import optimizers from `qiskit.algorithms.optimizers` and operators from `qiskit.opflow`."
   ]
  },
  {
   "cell_type": "code",
   "execution_count": 29,
   "metadata": {},
   "outputs": [
    {
     "name": "stdout",
     "output_type": "stream",
     "text": [
      "(-0.9999995645308767+0j)\n"
     ]
    }
   ],
   "source": [
    "from qiskit.algorithms import VQE\n",
    "from qiskit.algorithms.optimizers import COBYLA\n",
    "from qiskit.opflow import Z, I\n",
    "\n",
    "observable = Z ^ I\n",
    "\n",
    "vqe = VQE(ansatz=ansatz, optimizer=COBYLA(), quantum_instance=qinstance)\n",
    "result = vqe.compute_minimum_eigenvalue(observable)\n",
    "print(result.eigenvalue)"
   ]
  },
  {
   "cell_type": "markdown",
   "metadata": {},
   "source": [
    "Note that the `qiskit.aqua.components.variational_forms` are completely deprecated in favor of circuit objects. Most variational forms have already been ported to circuit library in previous releases and now also `UCCSD` is part of the Qiskit Nature's circuit library:"
   ]
  },
  {
   "cell_type": "markdown",
   "metadata": {},
   "source": [
    "**Previously:**"
   ]
  },
  {
   "cell_type": "code",
   "execution_count": 30,
   "metadata": {},
   "outputs": [
    {
     "data": {
      "image/png": "[encoded data removed]",
      "text/plain": [
       "<Figure size 628.397x264.88 with 1 Axes>"
      ]
     },
     "execution_count": 30,
     "metadata": {},
     "output_type": "execute_result"
    }
   ],
   "source": [
    "from qiskit.circuit import ParameterVector\n",
    "from qiskit.chemistry.components.variational_forms import UCCSD\n",
    "\n",
    "varform = UCCSD(4, (1, 1), qubit_mapping='jordan_wigner', two_qubit_reduction=False)\n",
    "parameters = ParameterVector('x', varform.num_parameters)\n",
    "\n",
    "circuit = varform.construct_circuit(parameters)\n",
    "circuit.draw('mpl', style='iqx')"
   ]
  },
  {
   "cell_type": "markdown",
   "metadata": {},
   "source": [
    "**New:**"
   ]
  },
  {
   "cell_type": "code",
   "execution_count": 31,
   "metadata": {
    "scrolled": false
   },
   "outputs": [
    {
     "data": {
      "image/png": "[encoded data removed]",
      "text/plain": [
       "<Figure size 267.197x264.88 with 1 Axes>"
      ]
     },
     "execution_count": 31,
     "metadata": {},
     "output_type": "execute_result"
    }
   ],
   "source": [
    "from qiskit_nature.mappers.second_quantization import JordanWignerMapper\n",
    "from qiskit_nature.converters.second_quantization.qubit_converter import QubitConverter\n",
    "from qiskit_nature.circuit.library import UCCSD\n",
    "\n",
    "qubit_converter = QubitConverter(JordanWignerMapper())\n",
    "\n",
    "circuit = UCCSD(qubit_converter, (1, 1), 4)\n",
    "circuit.draw('mpl', style='iqx')"
   ]
  },
  {
   "cell_type": "markdown",
   "metadata": {
    "slideshow": {
     "slide_type": "slide"
    }
   },
   "source": [
    "### QAOA\n",
    "\n",
    "For Hamiltonians from combinatorial optimization (like ours: $Z \\otimes I$) we can use the QAOA algorithm."
   ]
  },
  {
   "cell_type": "markdown",
   "metadata": {},
   "source": [
    "**Previously:**"
   ]
  },
  {
   "cell_type": "code",
   "execution_count": 32,
   "metadata": {},
   "outputs": [
    {
     "name": "stdout",
     "output_type": "stream",
     "text": [
      "(-0.9999999808672868+0j)\n"
     ]
    }
   ],
   "source": [
    "from qiskit.aqua.algorithms import QAOA\n",
    "from qiskit.aqua.components.optimizers import COBYLA\n",
    "from qiskit.aqua.operators import Z, I\n",
    "\n",
    "observable = Z ^ I\n",
    "\n",
    "qaoa = QAOA(optimizer=COBYLA(), quantum_instance=aqua_qinstance)\n",
    "result = qaoa.compute_minimum_eigenvalue(observable)\n",
    "print(result.eigenvalue)"
   ]
  },
  {
   "cell_type": "markdown",
   "metadata": {},
   "source": [
    "**Now:**"
   ]
  },
  {
   "cell_type": "code",
   "execution_count": 33,
   "metadata": {},
   "outputs": [
    {
     "name": "stdout",
     "output_type": "stream",
     "text": [
      "(-0.9999999752264653+0j)\n"
     ]
    }
   ],
   "source": [
    "from qiskit.algorithms import QAOA\n",
    "from qiskit.algorithms.optimizers import COBYLA\n",
    "from qiskit.opflow import Z, I\n",
    "\n",
    "observable = Z ^ I\n",
    "\n",
    "qaoa = QAOA(optimizer=COBYLA(), quantum_instance=qinstance)\n",
    "result = qaoa.compute_minimum_eigenvalue(observable)\n",
    "print(result.eigenvalue)"
   ]
  },
  {
   "cell_type": "markdown",
   "metadata": {},
   "source": [
    "**More examples:**"
   ]
  },
  {
   "cell_type": "code",
   "execution_count": 34,
   "metadata": {},
   "outputs": [
    {
     "data": {
      "image/png": "[encoded data removed]",
      "text/plain": [
       "<Figure size 267.052x144.48 with 1 Axes>"
      ]
     },
     "execution_count": 34,
     "metadata": {},
     "output_type": "execute_result"
    }
   ],
   "source": [
    "qaoa.construct_circuit([1, 2], observable)[0].draw(output='mpl', style='iqx')"
   ]
  },
  {
   "cell_type": "markdown",
   "metadata": {},
   "source": [
    "### Classical CPLEX\n",
    "\n",
    "The `ClassicalCPLEX` algorithm is now available via the `CplexOptimizer` interface in the machine learning module.\n",
    "\n",
    "**Previously:**"
   ]
  },
  {
   "cell_type": "code",
   "execution_count": 35,
   "metadata": {},
   "outputs": [
    {
     "name": "stdout",
     "output_type": "stream",
     "text": [
      "Version identifier: 20.1.0.0 | 2020-11-11 | 9bedb6d68\n",
      "CPXPARAM_Read_DataCheck                          1\n",
      "CPXPARAM_Threads                                 1\n",
      "CPXPARAM_MIP_Display                             0\n",
      "CPXPARAM_TimeLimit                               600\n",
      "CPXPARAM_MIP_Tolerances_MIPGap                   0\n",
      "CPXPARAM_MIP_Tolerances_Integrality              0\n",
      "Energy: -3.0\n"
     ]
    }
   ],
   "source": [
    "from qiskit.aqua.algorithms import ClassicalCPLEX\n",
    "from qiskit.aqua.operators import WeightedPauliOperator\n",
    "from qiskit.quantum_info import Pauli\n",
    "\n",
    "op = WeightedPauliOperator([\n",
    "    [1, Pauli('ZZIII')],\n",
    "    [1, Pauli('ZIIIZ')],\n",
    "    [1, Pauli('IZZII')]\n",
    "])\n",
    "\n",
    "cplex = ClassicalCPLEX(op, display=0)\n",
    "result = cplex.run()\n",
    "print('Energy:', result['energy'])"
   ]
  },
  {
   "cell_type": "markdown",
   "metadata": {},
   "source": [
    "**New:**"
   ]
  },
  {
   "cell_type": "code",
   "execution_count": 36,
   "metadata": {},
   "outputs": [
    {
     "name": "stdout",
     "output_type": "stream",
     "text": [
      "Energy: -3.0\n"
     ]
    }
   ],
   "source": [
    "from qiskit_optimization import QuadraticProgram\n",
    "from qiskit_optimization.algorithms import CplexOptimizer\n",
    "from qiskit.opflow import I, Z\n",
    "\n",
    "op = (Z ^ Z ^ I ^ I ^ I) + (Z ^ I ^ I ^ I ^ Z) + (I ^ Z ^ Z ^ I ^ I)\n",
    "\n",
    "qp = QuadraticProgram()\n",
    "qp.from_ising(op)\n",
    "\n",
    "cplex = CplexOptimizer()\n",
    "result = cplex.solve(qp)\n",
    "\n",
    "print('Energy:', result.fval)"
   ]
  },
  {
   "cell_type": "markdown",
   "metadata": {
    "slideshow": {
     "slide_type": "slide"
    }
   },
   "source": [
    "# (General) Eigenvalues\n",
    "\n",
    "## Summary\n",
    "\n",
    "As for the `MinimumEigenSolver`, the only change for the `EigenSolver` is the type for the observable and the import path."
   ]
  },
  {
   "cell_type": "markdown",
   "metadata": {},
   "source": [
    "## Migration guide"
   ]
  },
  {
   "cell_type": "markdown",
   "metadata": {},
   "source": [
    "**Previously:**"
   ]
  },
  {
   "cell_type": "code",
   "execution_count": 37,
   "metadata": {},
   "outputs": [
    {
     "name": "stdout",
     "output_type": "stream",
     "text": [
      "[-1.+0.j -1.+0.j  1.+0.j]\n"
     ]
    }
   ],
   "source": [
    "from qiskit.aqua.algorithms import NumPyEigensolver\n",
    "from qiskit.aqua.operators import I, Z\n",
    "\n",
    "observable = Z ^ I\n",
    "\n",
    "es = NumPyEigensolver(k=3)  # get the lowest 3 eigenvalues\n",
    "\n",
    "result = es.compute_eigenvalues(observable)\n",
    "print(result.eigenvalues)"
   ]
  },
  {
   "cell_type": "markdown",
   "metadata": {},
   "source": [
    "**Now:**"
   ]
  },
  {
   "cell_type": "code",
   "execution_count": 38,
   "metadata": {},
   "outputs": [
    {
     "name": "stdout",
     "output_type": "stream",
     "text": [
      "[-1.+0.j -1.+0.j  1.+0.j]\n"
     ]
    }
   ],
   "source": [
    "from qiskit.algorithms import NumPyEigensolver\n",
    "from qiskit.aqua.operators import I, Z\n",
    "\n",
    "observable = Z ^ I\n",
    "\n",
    "es = NumPyEigensolver(k=3)  # get the lowest 3 eigenvalues\n",
    "\n",
    "result = es.compute_eigenvalues(observable)\n",
    "print(result.eigenvalues)"
   ]
  },
  {
   "cell_type": "markdown",
   "metadata": {
    "slideshow": {
     "slide_type": "slide"
    }
   },
   "source": [
    "# Shor's algorithm\n",
    "\n",
    "## Summary\n",
    "\n",
    "The arguments `N` and `a` moved from the initializer to the `Shor.factor` method."
   ]
  },
  {
   "cell_type": "markdown",
   "metadata": {},
   "source": [
    "## Migration guide\n",
    "\n",
    "We'll be using a shot-based readout for speed here."
   ]
  },
  {
   "cell_type": "code",
   "execution_count": 39,
   "metadata": {},
   "outputs": [],
   "source": [
    "aqua_qasm_qinstance = AquaQuantumInstance(Aer.get_backend('qasm_simulator'))\n",
    "qasm_qinstance = QuantumInstance(Aer.get_backend('qasm_simulator'))"
   ]
  },
  {
   "cell_type": "markdown",
   "metadata": {},
   "source": [
    "**Previously:**"
   ]
  },
  {
   "cell_type": "code",
   "execution_count": 40,
   "metadata": {},
   "outputs": [
    {
     "name": "stdout",
     "output_type": "stream",
     "text": [
      "Factors: [3]\n"
     ]
    }
   ],
   "source": [
    "from qiskit.aqua.algorithms import Shor\n",
    "\n",
    "shor = Shor(N=9, a=2, quantum_instance=aqua_qinstance)\n",
    "\n",
    "result = shor.run()\n",
    "print('Factors:', result['factors'])"
   ]
  },
  {
   "cell_type": "markdown",
   "metadata": {
    "slideshow": {
     "slide_type": "slide"
    }
   },
   "source": [
    "**New:**"
   ]
  },
  {
   "cell_type": "code",
   "execution_count": 41,
   "metadata": {},
   "outputs": [
    {
     "name": "stdout",
     "output_type": "stream",
     "text": [
      "Factors: [3]\n"
     ]
    }
   ],
   "source": [
    "from qiskit.algorithms import Shor\n",
    "\n",
    "shor = Shor(quantum_instance=qinstance)\n",
    "\n",
    "result = shor.factor(N=9, a=2)\n",
    "print('Factors:', result.factors)"
   ]
  },
  {
   "cell_type": "markdown",
   "metadata": {
    "slideshow": {
     "slide_type": "slide"
    }
   },
   "source": [
    "# HHL\n",
    "\n",
    "## Summary\n",
    "\n",
    "HHL has been completely refactored to allow an intuitive interface and return an efficient, circuit-based representation of the result. \n",
    "\n",
    "## Migration guide\n",
    "\n",
    "Assume we want to solve the following linear system\n",
    "$$\n",
    "\\begin{pmatrix}\n",
    "1 & -1/3 \\\\\n",
    "-1/3 & 1 \\\\\n",
    "\\end{pmatrix}\n",
    "\\vec x\n",
    "=\n",
    "\\begin{pmatrix}\n",
    "1 \\\\ 0\n",
    "\\end{pmatrix}\n",
    "$$"
   ]
  },
  {
   "cell_type": "code",
   "execution_count": 42,
   "metadata": {},
   "outputs": [],
   "source": [
    "import numpy as np\n",
    "\n",
    "matrix = np.array([[1, -1/3], [-1/3, 1]])\n",
    "vector = np.array([1, 0])"
   ]
  },
  {
   "cell_type": "markdown",
   "metadata": {},
   "source": [
    "**Previously:**"
   ]
  },
  {
   "cell_type": "code",
   "execution_count": 43,
   "metadata": {},
   "outputs": [
    {
     "name": "stdout",
     "output_type": "stream",
     "text": [
      "[ 0.66575607+4.96430258e-13j -0.38561455-2.84524449e-13j]\n"
     ]
    }
   ],
   "source": [
    "from qiskit.circuit.library import QFT\n",
    "from qiskit.aqua.algorithms import HHL\n",
    "from qiskit.aqua.components.eigs import EigsQPE\n",
    "from qiskit.aqua.components.reciprocals import LookupRotation\n",
    "from qiskit.aqua.components.initial_states import Custom\n",
    "from qiskit.aqua.operators import MatrixOperator\n",
    "\n",
    "def create_eigs(matrix, num_auxiliary, num_time_slices, negative_evals):\n",
    "    ne_qfts = [None, None]\n",
    "    if negative_evals:\n",
    "        num_auxiliary += 1\n",
    "        ne_qfts = [QFT(num_auxiliary - 1), QFT(num_auxiliary - 1).inverse()]\n",
    "    return EigsQPE(MatrixOperator(matrix=matrix),\n",
    "                   QFT(num_auxiliary).inverse(),\n",
    "                   num_time_slices=num_time_slices,\n",
    "                   num_ancillae=num_auxiliary,\n",
    "                   expansion_mode='suzuki',\n",
    "                   expansion_order=2,\n",
    "                   evo_time=None, \n",
    "                   negative_evals=negative_evals,\n",
    "                   ne_qfts=ne_qfts)\n",
    "\n",
    "orig_size = len(vector)\n",
    "\n",
    "matrix, vector, truncate_powerdim, truncate_hermitian = HHL.matrix_resize(matrix, vector)\n",
    "\n",
    "# Initialize eigenvalue finding module\n",
    "eigs = create_eigs(matrix, 3, 50, False)\n",
    "num_q, num_a = eigs.get_register_sizes()\n",
    "\n",
    "# Initialize initial state module\n",
    "init_state = Custom(num_q, state_vector=vector)\n",
    "\n",
    "# Initialize reciprocal rotation module\n",
    "reci = LookupRotation(negative_evals=eigs._negative_evals, evo_time=eigs._evo_time)\n",
    "algo = HHL(matrix, vector, truncate_powerdim, truncate_hermitian, eigs,\n",
    "           init_state, reci, num_q, num_a, orig_size)\n",
    "\n",
    "result = algo.run(aqua_qinstance)\n",
    "print(result.solution)"
   ]
  },
  {
   "cell_type": "markdown",
   "metadata": {},
   "source": [
    "**Now:**"
   ]
  },
  {
   "cell_type": "code",
   "execution_count": 44,
   "metadata": {},
   "outputs": [
    {
     "data": {
      "image/png": "[encoded data removed]",
      "text/plain": [
       "<Figure size 547.521x264.88 with 1 Axes>"
      ]
     },
     "execution_count": 44,
     "metadata": {},
     "output_type": "execute_result"
    }
   ],
   "source": [
    "from qiskit.algorithms.linear_solvers import HHL\n",
    "\n",
    "hhl = HHL()\n",
    "result = hhl.solve(matrix, vector)\n",
    "result.state.draw('mpl', style='iqx')"
   ]
  },
  {
   "cell_type": "markdown",
   "metadata": {},
   "source": [
    "Note that the solution vector is not returned, since that would require an exponentially expensive simulation of the solution circuit. Instead, the circuit can be used to evaluate observables on the solution. For details, see the documentation and docstrings of HHL."
   ]
  },
  {
   "cell_type": "markdown",
   "metadata": {},
   "source": [
    "### NumPy-based linear solver"
   ]
  },
  {
   "cell_type": "markdown",
   "metadata": {},
   "source": [
    "**Previously:**"
   ]
  },
  {
   "cell_type": "code",
   "execution_count": 45,
   "metadata": {},
   "outputs": [
    {
     "name": "stdout",
     "output_type": "stream",
     "text": [
      "[1.125, 0.37499999999999994]\n"
     ]
    }
   ],
   "source": [
    "from qiskit.aqua.algorithms import NumPyLSsolver\n",
    "\n",
    "ls = NumPyLSsolver(matrix, vector)\n",
    "result = ls.run()\n",
    "print(result.solution)"
   ]
  },
  {
   "cell_type": "markdown",
   "metadata": {},
   "source": [
    "**Now:**"
   ]
  },
  {
   "cell_type": "code",
   "execution_count": 46,
   "metadata": {},
   "outputs": [
    {
     "name": "stdout",
     "output_type": "stream",
     "text": [
      "[1.125 0.375]\n"
     ]
    }
   ],
   "source": [
    "from qiskit.algorithms import NumPyLinearSolver\n",
    "\n",
    "ls = NumPyLinearSolver()\n",
    "result = ls.solve(matrix, vector)\n",
    "print(result.state)"
   ]
  },
  {
   "cell_type": "markdown",
   "metadata": {},
   "source": [
    "# Phase estimation\n",
    "\n",
    "## Summary\n",
    "\n",
    "Phase estimation has been completely refactored and instead of just one `qiskit.aqua.algorithms.QPE` class that was used to compute the eigenvalue of a Hamiltonian, we now have two separate implementations: the `HamiltonianPhaseEstimation` taking the role of the old `QPE` and a new `PhaseEstimation` algorithm for textbook phase estimation.\n",
    "\n",
    "The iterative phase estimation, `qiskit.aqua.algorithms.IQPE` is not yet replaced but will follow soon.\n",
    "\n",
    "## Migration guide\n",
    "\n",
    "Let's consider the problem of finding the eigenvalue of"
   ]
  },
  {
   "cell_type": "markdown",
   "metadata": {},
   "source": [
    "$$\n",
    "H = 0.5 X + Y + Z\n",
    "$$\n",
    "with the input state $|0\\rangle$."
   ]
  },
  {
   "cell_type": "code",
   "execution_count": 47,
   "metadata": {},
   "outputs": [],
   "source": [
    "state_in = np.array([1, 0])"
   ]
  },
  {
   "cell_type": "markdown",
   "metadata": {
    "slideshow": {
     "slide_type": "slide"
    }
   },
   "source": [
    "**Previously:**"
   ]
  },
  {
   "cell_type": "code",
   "execution_count": 48,
   "metadata": {},
   "outputs": [
    {
     "name": "stdout",
     "output_type": "stream",
     "text": [
      "0.78125\n"
     ]
    }
   ],
   "source": [
    "from qiskit.circuit.library import QFT\n",
    "from qiskit.aqua.algorithms import QPE\n",
    "from qiskit.aqua.components.initial_states import Custom\n",
    "from qiskit.aqua.operators import I, X, Y, Z\n",
    "\n",
    "n_ancillae = 5\n",
    "num_time_slices = 1\n",
    "\n",
    "op = 0.5 * X + Y + Z\n",
    "\n",
    "state_preparation = Custom(op.num_qubits, state_vector=state_in)\n",
    "iqft = QFT(n_ancillae, do_swaps=False).inverse().reverse_bits()\n",
    "\n",
    "qpe = QPE(op, state_preparation, iqft, num_time_slices, n_ancillae,\n",
    "          expansion_mode='trotter', \n",
    "          shallow_circuit_concat=True)\n",
    "\n",
    "\n",
    "result = qpe.run(aqua_qinstance)\n",
    "\n",
    "print(result.eigenvalue)"
   ]
  },
  {
   "cell_type": "markdown",
   "metadata": {},
   "source": [
    "**New:**"
   ]
  },
  {
   "cell_type": "code",
   "execution_count": 49,
   "metadata": {},
   "outputs": [
    {
     "name": "stdout",
     "output_type": "stream",
     "text": [
      "0.78125\n"
     ]
    }
   ],
   "source": [
    "from qiskit import BasicAer\n",
    "from qiskit.algorithms import HamiltonianPhaseEstimation\n",
    "from qiskit.opflow import I, X, Y, Z, StateFn, PauliTrotterEvolution, Suzuki\n",
    "\n",
    "n_ancillae = 5\n",
    "num_time_slices = 1\n",
    "\n",
    "op = 0.5 * X + Y + Z\n",
    "\n",
    "state_preparation = StateFn(state_in)\n",
    "\n",
    "evolution = PauliTrotterEvolution('trotter', reps=num_time_slices)\n",
    "\n",
    "qpe = HamiltonianPhaseEstimation(n_ancillae, quantum_instance=qinstance)\n",
    "result = qpe.estimate(op, state_preparation, evolution=evolution)\n",
    "\n",
    "print(result.most_likely_eigenvalue)"
   ]
  },
  {
   "cell_type": "markdown",
   "metadata": {},
   "source": [
    "## More examples\n",
    "\n",
    "Now we can also do standard phase estimation to solve\n",
    "$$\n",
    "    U|\\psi\\rangle = e^{2\\pi i\\phi}|\\psi\\rangle.\n",
    "$$"
   ]
  },
  {
   "cell_type": "code",
   "execution_count": 50,
   "metadata": {},
   "outputs": [
    {
     "name": "stdout",
     "output_type": "stream",
     "text": [
      "0.5\n"
     ]
    }
   ],
   "source": [
    "from qiskit.circuit import QuantumCircuit\n",
    "from qiskit.algorithms import PhaseEstimation\n",
    "\n",
    "unitary = QuantumCircuit(1)\n",
    "unitary.z(0)\n",
    "\n",
    "state_in = QuantumCircuit(1)\n",
    "state_in.x(0)  # eigenstate |1> with eigenvalue -1, hence a phase of phi = 0.5\n",
    "\n",
    "pe = PhaseEstimation(num_evaluation_qubits=3, quantum_instance=qinstance)\n",
    "result = pe.estimate(unitary, state_in)\n",
    "\n",
    "print(result.most_likely_phase)"
   ]
  },
  {
   "cell_type": "markdown",
   "metadata": {},
   "source": [
    "# VQC\n",
    "\n",
    "## Summary\n",
    "\n",
    "`VQC` changed the location to `qiskit_machine_learning.algorithms.VQC` and is now implemented as `NeuralNetworkClassification` object instead of a generic variational algorithm. The interface has been updated accordingly, see the tutorials below.\n",
    "\n",
    "## Migration guide\n",
    "\n",
    "Since the examples are rather lengthy, we refer to a comparison of the previous and new tutorials.\n",
    "\n",
    "**Previously:** \n",
    "\n",
    "https://github.com/Qiskit/qiskit-tutorials/blob/master/tutorials/machine_learning/03_vqc.ipynb\n",
    "\n",
    "**New:**\n",
    "\n",
    "https://github.com/Qiskit/qiskit-machine-learning/blob/main/docs/tutorials/02_neural_network_classifier_and_regressor.ipynb\n"
   ]
  },
  {
   "cell_type": "markdown",
   "metadata": {},
   "source": [
    "# QSVM\n",
    "\n",
    "## Summary\n",
    "\n",
    "The `QSVM` workflow has been replaced by a more generic `QuantumKernel` routine to better highlight the possibly advantage of quantum computers in computing kernels. \n",
    "\n",
    "## Migration guide\n",
    "\n",
    "**Previously:**\n",
    "\n",
    "https://github.com/Qiskit/qiskit-tutorials/blob/master/tutorials/machine_learning/01_qsvm_classification.ipynb\n",
    "\n",
    "**New:**\n",
    "\n",
    "https://github.com/Qiskit/qiskit-machine-learning/blob/main/docs/tutorials/03_quantum_kernel.ipynb"
   ]
  },
  {
   "cell_type": "markdown",
   "metadata": {},
   "source": [
    "# QGAN"
   ]
  },
  {
   "cell_type": "markdown",
   "metadata": {},
   "source": [
    "## Summary\n",
    "\n",
    "The interface and methods remained the same, only the import location of the algorithm and it's components changed from `qiskit.aqua` to `qiskit_machine_learning`.\n",
    "\n",
    "## Migration guide\n",
    "\n",
    "**Previously:**\n",
    "\n",
    "https://github.com/Qiskit/qiskit-tutorials/blob/master/tutorials/machine_learning/04_qgans_for_loading_random_distributions.ipynb\n",
    "\n",
    "**New:**\n",
    "\n",
    "https://github.com/Qiskit/qiskit-machine-learning/blob/main/docs/tutorials/04_qgans_for_loading_random_distributions.ipynb"
   ]
  },
  {
   "cell_type": "markdown",
   "metadata": {},
   "source": [
    "# Educational algorithms\n",
    "\n",
    "All educational algorithms have been deprecated and most are now available in the textbook.\n",
    "\n",
    "## Deutsch-Josza\n",
    "\n",
    "Moved to the textbook: https://qiskit.org/textbook/ch-algorithms/deutsch-jozsa.html.\n",
    "\n",
    "## Bernstein-Vazirani\n",
    "\n",
    "Moved to the textbook: https://qiskit.org/textbook/ch-algorithms/bernstein-vazirani.html.\n",
    "\n",
    "## Simon\n",
    "\n",
    "Moved to the textbook: https://qiskit.org/textbook/ch-algorithms/simon.html.\n",
    "\n",
    "## EOH\n",
    "\n",
    "The Evolution of Hamiltonian algorithm is can now be implemented with basic tools from `qiskit.opflow`.\n",
    "\n",
    "**Previously:**"
   ]
  },
  {
   "cell_type": "code",
   "execution_count": 51,
   "metadata": {},
   "outputs": [
    {
     "data": {
      "text/plain": [
       "(-0.6536436208636113+0j)"
      ]
     },
     "execution_count": 51,
     "metadata": {},
     "output_type": "execute_result"
    }
   ],
   "source": [
    "from qiskit.aqua.algorithms import EOH\n",
    "from qiskit.aqua.operators import WeightedPauliOperator\n",
    "from qiskit.aqua.components.initial_states import Custom\n",
    "from qiskit.quantum_info import Pauli\n",
    "\n",
    "hamiltonian = WeightedPauliOperator([[1, Pauli('XX')], [1, Pauli('ZZ')], [1j, Pauli('YY')]])\n",
    "\n",
    "observable = WeightedPauliOperator([[1, Pauli('XI')]])\n",
    "\n",
    "initial_state = Custom(2, 'uniform')\n",
    "\n",
    "evo_time = 2\n",
    "num_time_slices = 10\n",
    "\n",
    "eoh = EOH(observable, initial_state, hamiltonian, evo_time=evo_time, num_time_slices=num_time_slices)\n",
    "result = eoh.run(aqua_qinstance)\n",
    "result['avg']"
   ]
  },
  {
   "cell_type": "markdown",
   "metadata": {},
   "source": [
    "**New:**"
   ]
  },
  {
   "cell_type": "code",
   "execution_count": 52,
   "metadata": {},
   "outputs": [
    {
     "name": "stdout",
     "output_type": "stream",
     "text": [
      "(-0.6536436208636165+0j)\n"
     ]
    }
   ],
   "source": [
    "import numpy as np\n",
    "from qiskit.opflow import I, X, Y, Z, PauliTrotterEvolution, StateFn\n",
    "\n",
    "hamiltonian = (X ^ X) + (Z ^ Z) + 1j * (Y ^ Y)\n",
    "\n",
    "observable = X ^ I\n",
    "\n",
    "initial_state = StateFn(np.ones(4) / 2)\n",
    "\n",
    "evo_time = 2\n",
    "num_time_slices = 10\n",
    "\n",
    "# get the evolution operator\n",
    "evolved_hamiltonian = (evo_time * hamiltonian).exp_i()\n",
    "\n",
    "evo = PauliTrotterEvolution(reps=num_time_slices)\n",
    "evo.convert(evolved_hamiltonian)\n",
    "\n",
    "# get the evolved state\n",
    "evolved_state = evolved_hamiltonian @ initial_state\n",
    "\n",
    "# evaluate the target observable at the evolved state\n",
    "print((~StateFn(observable) @ evolved_state).eval())"
   ]
  },
  {
   "cell_type": "code",
   "execution_count": null,
   "metadata": {},
   "outputs": [],
   "source": []
  }
 ],
 "metadata": {
  "kernelspec": {
   "display_name": "Python 3",
   "language": "python",
   "name": "python3"
  },
  "language_info": {
   "codemirror_mode": {
    "name": "ipython",
    "version": 3
   },
   "file_extension": ".py",
   "mimetype": "text/x-python",
   "name": "python",
   "nbconvert_exporter": "python",
   "pygments_lexer": "ipython3",
   "version": "3.8.10"
  }
 },
 "nbformat": 4,
 "nbformat_minor": 4
}
