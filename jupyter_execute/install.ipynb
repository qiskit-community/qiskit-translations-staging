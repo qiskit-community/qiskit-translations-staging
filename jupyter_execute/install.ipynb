{
 "cells": [
  {
   "cell_type": "code",
   "execution_count": 1,
   "id": "violent-basketball",
   "metadata": {
    "execution": {
     "iopub.execute_input": "2021-04-01T17:24:52.882539Z",
     "iopub.status.busy": "2021-04-01T17:24:52.881989Z",
     "iopub.status.idle": "2021-04-01T17:24:54.699040Z",
     "shell.execute_reply": "2021-04-01T17:24:54.698485Z"
    }
   },
   "outputs": [
    {
     "data": {
      "text/plain": [
       "'0.16.4'"
      ]
     },
     "execution_count": 1,
     "metadata": {},
     "output_type": "execute_result"
    }
   ],
   "source": [
    "import qiskit\n",
    "qiskit.__version__"
   ]
  },
  {
   "cell_type": "code",
   "execution_count": 2,
   "id": "loose-eclipse",
   "metadata": {
    "execution": {
     "iopub.execute_input": "2021-04-01T17:24:54.703953Z",
     "iopub.status.busy": "2021-04-01T17:24:54.703407Z",
     "iopub.status.idle": "2021-04-01T17:24:54.705991Z",
     "shell.execute_reply": "2021-04-01T17:24:54.706546Z"
    }
   },
   "outputs": [
    {
     "data": {
      "text/plain": [
       "{'qiskit-terra': '0.16.4',\n",
       " 'qiskit-aer': '0.7.6',\n",
       " 'qiskit-ignis': '0.5.2',\n",
       " 'qiskit-ibmq-provider': '0.12.2',\n",
       " 'qiskit-aqua': '0.8.2',\n",
       " 'qiskit': '0.24.1'}"
      ]
     },
     "execution_count": 2,
     "metadata": {},
     "output_type": "execute_result"
    }
   ],
   "source": [
    "qiskit.__qiskit_version__"
   ]
  }
 ],
 "metadata": {
  "kernelspec": {
   "display_name": "Python 3",
   "language": "python",
   "name": "python3"
  },
  "language_info": {
   "codemirror_mode": {
    "name": "ipython",
    "version": 3
   },
   "file_extension": ".py",
   "mimetype": "text/x-python",
   "name": "python",
   "nbconvert_exporter": "python",
   "pygments_lexer": "ipython3",
   "version": "3.8.8"
  }
 },
 "nbformat": 4,
 "nbformat_minor": 5
}