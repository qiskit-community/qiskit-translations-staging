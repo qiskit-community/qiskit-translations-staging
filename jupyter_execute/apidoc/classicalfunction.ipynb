{
 "cells": [
  {
   "cell_type": "code",
   "execution_count": 1,
   "id": "02433068",
   "metadata": {
    "execution": {
     "iopub.execute_input": "2021-10-02T15:15:44.973549Z",
     "iopub.status.busy": "2021-10-02T15:15:44.972419Z",
     "iopub.status.idle": "2021-10-02T15:15:46.002896Z",
     "shell.execute_reply": "2021-10-02T15:15:46.002358Z"
    }
   },
   "outputs": [
    {
     "data": {
      "text/html": [
       "<pre style=\"word-wrap: normal;white-space: pre;background: #fff0;line-height: 1.1;font-family: &quot;Courier New&quot;,Courier,monospace\">          \n",
       "q_0: ──o──\n",
       "       │  \n",
       "q_1: ──■──\n",
       "       │  \n",
       "q_2: ──o──\n",
       "       │  \n",
       "q_3: ──■──\n",
       "     ┌─┴─┐\n",
       "q_4: ┤ X ├\n",
       "     └───┘</pre>"
      ],
      "text/plain": [
       "          \n",
       "q_0: ──o──\n",
       "       │  \n",
       "q_1: ──■──\n",
       "       │  \n",
       "q_2: ──o──\n",
       "       │  \n",
       "q_3: ──■──\n",
       "     ┌─┴─┐\n",
       "q_4: ┤ X ├\n",
       "     └───┘"
      ]
     },
     "execution_count": 1,
     "metadata": {},
     "output_type": "execute_result"
    }
   ],
   "source": [
    "from qiskit.circuit import classical_function,  Int1\n",
    "\n",
    "@classical_function\n",
    "def grover_oracle(a: Int1, b: Int1, c: Int1, d: Int1) -> Int1:\n",
    "    return (not a and b and not c and d)\n",
    "\n",
    "quantum_circuit = grover_oracle.synth()\n",
    "quantum_circuit.draw()"
   ]
  }
 ],
 "metadata": {
  "kernelspec": {
   "display_name": "Python 3 (ipykernel)",
   "language": "python",
   "name": "python3"
  },
  "language_info": {
   "codemirror_mode": {
    "name": "ipython",
    "version": 3
   },
   "file_extension": ".py",
   "mimetype": "text/x-python",
   "name": "python",
   "nbconvert_exporter": "python",
   "pygments_lexer": "ipython3",
   "version": "3.8.12"
  }
 },
 "nbformat": 4,
 "nbformat_minor": 5
}