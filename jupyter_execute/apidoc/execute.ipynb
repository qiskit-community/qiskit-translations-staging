{
 "cells": [
  {
   "cell_type": "code",
   "execution_count": 1,
   "id": "e9e74264",
   "metadata": {
    "execution": {
     "iopub.execute_input": "2021-11-12T18:09:06.411381Z",
     "iopub.status.busy": "2021-11-12T18:09:06.410145Z",
     "iopub.status.idle": "2021-11-12T18:09:07.594770Z",
     "shell.execute_reply": "2021-11-12T18:09:07.594077Z"
    }
   },
   "outputs": [],
   "source": [
    "from qiskit import QuantumCircuit, execute, BasicAer\n",
    "\n",
    "backend = BasicAer.get_backend('qasm_simulator')\n",
    "\n",
    "qc = QuantumCircuit(5, 5)\n",
    "qc.h(0)\n",
    "qc.cx(0, range(1, 5))\n",
    "qc.measure_all()\n",
    "\n",
    "job = execute(qc, backend, shots=4321)"
   ]
  }
 ],
 "metadata": {
  "kernelspec": {
   "display_name": "Python 3 (ipykernel)",
   "language": "python",
   "name": "python3"
  },
  "language_info": {
   "codemirror_mode": {
    "name": "ipython",
    "version": 3
   },
   "file_extension": ".py",
   "mimetype": "text/x-python",
   "name": "python",
   "nbconvert_exporter": "python",
   "pygments_lexer": "ipython3",
   "version": "3.8.12"
  }
 },
 "nbformat": 4,
 "nbformat_minor": 5
}