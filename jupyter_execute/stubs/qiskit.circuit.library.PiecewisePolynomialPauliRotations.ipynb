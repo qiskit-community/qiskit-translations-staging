{
 "cells": [
  {
   "cell_type": "code",
   "execution_count": 1,
   "id": "a7e35147",
   "metadata": {
    "execution": {
     "iopub.execute_input": "2021-09-10T11:45:17.775294Z",
     "iopub.status.busy": "2021-09-10T11:45:17.774785Z",
     "iopub.status.idle": "2021-09-10T11:45:18.785815Z",
     "shell.execute_reply": "2021-09-10T11:45:18.785212Z"
    }
   },
   "outputs": [
    {
     "name": "stdout",
     "output_type": "stream",
     "text": [
      "Original circuit:\n"
     ]
    },
    {
     "name": "stdout",
     "output_type": "stream",
     "text": [
      "     ┌───────┐         \n",
      "q_0: ┤ Ry(A) ├────■────\n",
      "     └───────┘┌───┴───┐\n",
      "q_1: ─────────┤ Rx(B) ├\n",
      "              └───────┘\n",
      "Assigned in-place:\n",
      "     ┌───────┐         \n",
      "q_0: ┤ Ry(C) ├────■────\n",
      "     └───────┘┌───┴───┐\n",
      "q_1: ─────────┤ Rx(B) ├\n",
      "              └───────┘\n"
     ]
    }
   ],
   "source": [
    "from qiskit.circuit import QuantumCircuit, Parameter\n",
    "\n",
    "circuit = QuantumCircuit(2)\n",
    "params = [Parameter('A'), Parameter('B'), Parameter('C')]\n",
    "circuit.ry(params[0], 0)\n",
    "circuit.crx(params[1], 0, 1)\n",
    "\n",
    "print('Original circuit:')\n",
    "print(circuit.draw())\n",
    "\n",
    "circuit.assign_parameters({params[0]: params[2]}, inplace=True)\n",
    "\n",
    "print('Assigned in-place:')\n",
    "print(circuit.draw())"
   ]
  },
  {
   "cell_type": "code",
   "execution_count": 2,
   "id": "5286456f",
   "metadata": {
    "execution": {
     "iopub.execute_input": "2021-09-10T11:45:18.793284Z",
     "iopub.status.busy": "2021-09-10T11:45:18.792809Z",
     "iopub.status.idle": "2021-09-10T11:45:18.796317Z",
     "shell.execute_reply": "2021-09-10T11:45:18.795897Z"
    }
   },
   "outputs": [
    {
     "name": "stdout",
     "output_type": "stream",
     "text": [
      "Bound circuit:\n",
      "     ┌───────┐         \n",
      "q_0: ┤ Ry(1) ├────■────\n",
      "     └───────┘┌───┴───┐\n",
      "q_1: ─────────┤ Rx(2) ├\n",
      "              └───────┘\n",
      "The original circuit is unchanged:\n",
      "     ┌──────────┐            \n",
      "q_0: ┤ Ry(P[0]) ├─────■──────\n",
      "     └──────────┘┌────┴─────┐\n",
      "q_1: ────────────┤ Rx(P[1]) ├\n",
      "                 └──────────┘\n"
     ]
    }
   ],
   "source": [
    "from qiskit.circuit import QuantumCircuit, ParameterVector\n",
    "\n",
    "circuit = QuantumCircuit(2)\n",
    "params = ParameterVector('P', 2)\n",
    "circuit.ry(params[0], 0)\n",
    "circuit.crx(params[1], 0, 1)\n",
    "\n",
    "bound_circuit = circuit.assign_parameters({params[0]: 1, params[1]: 2})\n",
    "print('Bound circuit:')\n",
    "print(bound_circuit.draw())\n",
    "\n",
    "print('The original circuit is unchanged:')\n",
    "print(circuit.draw())"
   ]
  },
  {
   "cell_type": "code",
   "execution_count": 3,
   "id": "094da011",
   "metadata": {
    "execution": {
     "iopub.execute_input": "2021-09-10T11:45:18.800354Z",
     "iopub.status.busy": "2021-09-10T11:45:18.799885Z",
     "iopub.status.idle": "2021-09-10T11:45:19.157135Z",
     "shell.execute_reply": "2021-09-10T11:45:19.156682Z"
    }
   },
   "outputs": [
    {
     "data": {
      "image/png": "[encoded data removed]",
      "text/plain": [
       "<Figure size 206.707x144.48 with 1 Axes>"
      ]
     },
     "execution_count": 3,
     "metadata": {
      "filenames": {
       "image/png": "/home/runner/work/qiskit-translations/qiskit-translations/docs/_build/html/locale/jupyter_execute/stubs/qiskit.circuit.library.PiecewisePolynomialPauliRotations_2_0.png"
      }
     },
     "output_type": "execute_result"
    },
    {
     "data": {
      "image/png": "[encoded data removed]",
      "text/plain": [
       "<Figure size 206.707x144.48 with 1 Axes>"
      ]
     },
     "metadata": {
      "filenames": {
       "image/png": "/home/runner/work/qiskit-translations/qiskit-translations/docs/_build/html/locale/jupyter_execute/stubs/qiskit.circuit.library.PiecewisePolynomialPauliRotations_2_1.png"
      }
     },
     "output_type": "display_data"
    }
   ],
   "source": [
    "from qiskit import QuantumRegister, ClassicalRegister, QuantumCircuit\n",
    "from qiskit.tools.visualization import circuit_drawer\n",
    "q = QuantumRegister(1)\n",
    "c = ClassicalRegister(1)\n",
    "qc = QuantumCircuit(q, c)\n",
    "qc.h(q)\n",
    "qc.measure(q, c)\n",
    "qc.draw(output='mpl', style={'backgroundcolor': '#EEEEEE'})"
   ]
  },
  {
   "cell_type": "code",
   "execution_count": 4,
   "id": "3526ff4e",
   "metadata": {
    "execution": {
     "iopub.execute_input": "2021-09-10T11:45:19.163022Z",
     "iopub.status.busy": "2021-09-10T11:45:19.162532Z",
     "iopub.status.idle": "2021-09-10T11:45:19.167007Z",
     "shell.execute_reply": "2021-09-10T11:45:19.166570Z"
    }
   },
   "outputs": [
    {
     "data": {
      "text/html": [
       "<pre style=\"word-wrap: normal;white-space: pre;background: #fff0;line-height: 1.1;font-family: &quot;Courier New&quot;,Courier,monospace\">     ┌──────────────────────────────┐\n",
       "q_0: ┤ Initialize(0.70711,-0.70711) ├\n",
       "     └──────────────────────────────┘</pre>"
      ],
      "text/plain": [
       "     ┌──────────────────────────────┐\n",
       "q_0: ┤ Initialize(0.70711,-0.70711) ├\n",
       "     └──────────────────────────────┘"
      ]
     },
     "execution_count": 4,
     "metadata": {},
     "output_type": "execute_result"
    }
   ],
   "source": [
    "import numpy as np\n",
    "from qiskit import QuantumCircuit\n",
    "\n",
    "circuit = QuantumCircuit(1)\n",
    "circuit.initialize([1/np.sqrt(2), -1/np.sqrt(2)], 0)\n",
    "circuit.draw()"
   ]
  },
  {
   "cell_type": "code",
   "execution_count": 5,
   "id": "5645c35c",
   "metadata": {
    "execution": {
     "iopub.execute_input": "2021-09-10T11:45:19.171871Z",
     "iopub.status.busy": "2021-09-10T11:45:19.171397Z",
     "iopub.status.idle": "2021-09-10T11:45:19.176161Z",
     "shell.execute_reply": "2021-09-10T11:45:19.175778Z"
    }
   },
   "outputs": [
    {
     "data": {
      "text/html": [
       "<pre style=\"word-wrap: normal;white-space: pre;background: #fff0;line-height: 1.1;font-family: &quot;Courier New&quot;,Courier,monospace\">     ┌──────────────────┐\n",
       "q_0: ┤0                 ├\n",
       "     │  Initialize(0,1) │\n",
       "q_1: ┤1                 ├\n",
       "     └──────────────────┘</pre>"
      ],
      "text/plain": [
       "     ┌──────────────────┐\n",
       "q_0: ┤0                 ├\n",
       "     │  Initialize(0,1) │\n",
       "q_1: ┤1                 ├\n",
       "     └──────────────────┘"
      ]
     },
     "execution_count": 5,
     "metadata": {},
     "output_type": "execute_result"
    }
   ],
   "source": [
    "import numpy as np\n",
    "from qiskit import QuantumCircuit\n",
    "\n",
    "circuit = QuantumCircuit(2)\n",
    "circuit.initialize('01', circuit.qubits)\n",
    "circuit.draw()"
   ]
  },
  {
   "cell_type": "code",
   "execution_count": 6,
   "id": "057bd06b",
   "metadata": {
    "execution": {
     "iopub.execute_input": "2021-09-10T11:45:19.181076Z",
     "iopub.status.busy": "2021-09-10T11:45:19.180606Z",
     "iopub.status.idle": "2021-09-10T11:45:19.183886Z",
     "shell.execute_reply": "2021-09-10T11:45:19.184246Z"
    }
   },
   "outputs": [
    {
     "name": "stdout",
     "output_type": "stream",
     "text": [
      "        ┌───┐   \n",
      "q_0: ───┤ X ├───\n",
      "        └───┘   \n",
      "q_1: ─────■─────\n",
      "     ┌────┴────┐\n",
      "q_2: ┤ Ry(0.2) ├\n",
      "     └─────────┘\n"
     ]
    }
   ],
   "source": [
    "from qiskit import QuantumCircuit\n",
    "top = QuantumCircuit(1)\n",
    "top.x(0);\n",
    "bottom = QuantumCircuit(2)\n",
    "bottom.cry(0.2, 0, 1);\n",
    "tensored = bottom.tensor(top)\n",
    "print(tensored.draw())"
   ]
  }
 ],
 "metadata": {
  "kernelspec": {
   "display_name": "Python 3 (ipykernel)",
   "language": "python",
   "name": "python3"
  },
  "language_info": {
   "codemirror_mode": {
    "name": "ipython",
    "version": 3
   },
   "file_extension": ".py",
   "mimetype": "text/x-python",
   "name": "python",
   "nbconvert_exporter": "python",
   "pygments_lexer": "ipython3",
   "version": "3.8.11"
  }
 },
 "nbformat": 4,
 "nbformat_minor": 5
}