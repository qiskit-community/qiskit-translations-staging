{
 "cells": [
  {
   "cell_type": "code",
   "execution_count": 1,
   "id": "ea6fe3f8",
   "metadata": {
    "execution": {
     "iopub.execute_input": "2021-11-11T19:21:32.537532Z",
     "iopub.status.busy": "2021-11-11T19:21:32.536970Z",
     "iopub.status.idle": "2021-11-11T19:21:33.477914Z",
     "shell.execute_reply": "2021-11-11T19:21:33.478406Z"
    }
   },
   "outputs": [
    {
     "name": "stdout",
     "output_type": "stream",
     "text": [
      "StabilizerTable: ['+X', '-Z', '-I', '+Y']\n"
     ]
    }
   ],
   "source": [
    "from qiskit.quantum_info.operators import StabilizerTable\n",
    "\n",
    "current = StabilizerTable.from_labels(['+I', '-X'])\n",
    "other =  StabilizerTable.from_labels(['+X', '-Z'])\n",
    "print(current.dot(other))"
   ]
  }
 ],
 "metadata": {
  "kernelspec": {
   "display_name": "Python 3 (ipykernel)",
   "language": "python",
   "name": "python3"
  },
  "language_info": {
   "codemirror_mode": {
    "name": "ipython",
    "version": 3
   },
   "file_extension": ".py",
   "mimetype": "text/x-python",
   "name": "python",
   "nbconvert_exporter": "python",
   "pygments_lexer": "ipython3",
   "version": "3.8.12"
  }
 },
 "nbformat": 4,
 "nbformat_minor": 5
}