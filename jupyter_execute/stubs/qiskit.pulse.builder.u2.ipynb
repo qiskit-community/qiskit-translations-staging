{
 "cells": [
  {
   "cell_type": "code",
   "execution_count": 1,
   "id": "ab36b48c",
   "metadata": {
    "execution": {
     "iopub.execute_input": "2021-12-21T01:38:31.991368Z",
     "iopub.status.busy": "2021-12-21T01:38:31.990881Z",
     "iopub.status.idle": "2021-12-21T01:38:32.777207Z",
     "shell.execute_reply": "2021-12-21T01:38:32.776601Z"
    }
   },
   "outputs": [],
   "source": [
    "import math\n",
    "\n",
    "from qiskit import pulse\n",
    "from qiskit.test.mock import FakeOpenPulse2Q\n",
    "\n",
    "backend = FakeOpenPulse2Q()\n",
    "\n",
    "with pulse.build(backend) as pulse_prog:\n",
    "    pulse.u2(0, math.pi, 1)"
   ]
  }
 ],
 "metadata": {
  "kernelspec": {
   "display_name": "Python 3 (ipykernel)",
   "language": "python",
   "name": "python3"
  },
  "language_info": {
   "codemirror_mode": {
    "name": "ipython",
    "version": 3
   },
   "file_extension": ".py",
   "mimetype": "text/x-python",
   "name": "python",
   "nbconvert_exporter": "python",
   "pygments_lexer": "ipython3",
   "version": "3.8.12"
  }
 },
 "nbformat": 4,
 "nbformat_minor": 5
}