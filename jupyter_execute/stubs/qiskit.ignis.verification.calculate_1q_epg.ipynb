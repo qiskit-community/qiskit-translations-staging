{
 "cells": [
  {
   "cell_type": "code",
   "execution_count": 1,
   "id": "c6aaa4d1",
   "metadata": {
    "execution": {
     "iopub.execute_input": "2021-11-13T15:34:26.035721Z",
     "iopub.status.busy": "2021-11-13T15:34:26.034631Z",
     "iopub.status.idle": "2021-11-13T15:34:27.180823Z",
     "shell.execute_reply": "2021-11-13T15:34:27.181379Z"
    }
   },
   "outputs": [
    {
     "name": "stdout",
     "output_type": "stream",
     "text": [
      "{'u1': 0, 'u2': 0.0011278195488721805, 'u3': 0.002255639097744361}\n"
     ]
    }
   ],
   "source": [
    "import pprint\n",
    "import qiskit.ignis.verification.randomized_benchmarking as rb\n",
    "\n",
    "# assuming we ran 1Q RB experiment for qubit 0\n",
    "gpc = {0: {'cx': 0, 'u1': 0.13, 'u2': 0.31, 'u3': 0.51}}\n",
    "epc = 1.5e-3\n",
    "\n",
    "# calculate 1Q EPGs\n",
    "epgs = rb.rb_utils.calculate_1q_epg(gate_per_cliff=gpc, epc_1q=epc, qubit=0)\n",
    "pprint.pprint(epgs)"
   ]
  }
 ],
 "metadata": {
  "kernelspec": {
   "display_name": "Python 3 (ipykernel)",
   "language": "python",
   "name": "python3"
  },
  "language_info": {
   "codemirror_mode": {
    "name": "ipython",
    "version": 3
   },
   "file_extension": ".py",
   "mimetype": "text/x-python",
   "name": "python",
   "nbconvert_exporter": "python",
   "pygments_lexer": "ipython3",
   "version": "3.8.12"
  }
 },
 "nbformat": 4,
 "nbformat_minor": 5
}