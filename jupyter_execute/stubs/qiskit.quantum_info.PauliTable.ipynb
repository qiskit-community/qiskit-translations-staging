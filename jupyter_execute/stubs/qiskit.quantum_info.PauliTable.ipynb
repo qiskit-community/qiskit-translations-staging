{
 "cells": [
  {
   "cell_type": "code",
   "execution_count": 1,
   "id": "24462ecd",
   "metadata": {
    "execution": {
     "iopub.execute_input": "2021-09-10T11:50:31.358952Z",
     "iopub.status.busy": "2021-09-10T11:50:31.358491Z",
     "iopub.status.idle": "2021-09-10T11:50:32.035755Z",
     "shell.execute_reply": "2021-09-10T11:50:32.036125Z"
    }
   },
   "outputs": [
    {
     "name": "stdout",
     "output_type": "stream",
     "text": [
      "PauliTable: ['Y', 'Z', 'Z', 'Y']\n"
     ]
    }
   ],
   "source": [
    "from qiskit.quantum_info.operators import PauliTable\n",
    "\n",
    "current = PauliTable.from_labels(['I', 'X'])\n",
    "other =  PauliTable.from_labels(['Y', 'Z'])\n",
    "print(current.compose(other))"
   ]
  },
  {
   "cell_type": "code",
   "execution_count": 2,
   "id": "d46927d6",
   "metadata": {
    "execution": {
     "iopub.execute_input": "2021-09-10T11:50:32.040464Z",
     "iopub.status.busy": "2021-09-10T11:50:32.040006Z",
     "iopub.status.idle": "2021-09-10T11:50:32.043365Z",
     "shell.execute_reply": "2021-09-10T11:50:32.042743Z"
    }
   },
   "outputs": [
    {
     "name": "stdout",
     "output_type": "stream",
     "text": [
      "PauliTable: ['Y', 'Z', 'Z', 'Y']\n"
     ]
    }
   ],
   "source": [
    "from qiskit.quantum_info.operators import PauliTable\n",
    "\n",
    "current = PauliTable.from_labels(['I', 'X'])\n",
    "other =  PauliTable.from_labels(['Y', 'Z'])\n",
    "print(current.dot(other))"
   ]
  },
  {
   "cell_type": "code",
   "execution_count": 3,
   "id": "a35782ab",
   "metadata": {
    "execution": {
     "iopub.execute_input": "2021-09-10T11:50:32.048531Z",
     "iopub.status.busy": "2021-09-10T11:50:32.047290Z",
     "iopub.status.idle": "2021-09-10T11:50:32.050031Z",
     "shell.execute_reply": "2021-09-10T11:50:32.049626Z"
    }
   },
   "outputs": [
    {
     "name": "stdout",
     "output_type": "stream",
     "text": [
      "PauliTable: ['YI', 'YX', 'ZI', 'ZX']\n"
     ]
    }
   ],
   "source": [
    "from qiskit.quantum_info.operators import PauliTable\n",
    "\n",
    "current = PauliTable.from_labels(['I', 'X'])\n",
    "other =  PauliTable.from_labels(['Y', 'Z'])\n",
    "print(current.expand(other))"
   ]
  },
  {
   "cell_type": "code",
   "execution_count": 4,
   "id": "4f4db08a",
   "metadata": {
    "execution": {
     "iopub.execute_input": "2021-09-10T11:50:32.056205Z",
     "iopub.status.busy": "2021-09-10T11:50:32.054724Z",
     "iopub.status.idle": "2021-09-10T11:50:32.058516Z",
     "shell.execute_reply": "2021-09-10T11:50:32.058127Z"
    }
   },
   "outputs": [
    {
     "name": "stdout",
     "output_type": "stream",
     "text": [
      "Initial Ordering\n",
      "PauliTable: ['ZI', 'YZ', 'YI', 'XI', 'ZY', 'XX', 'ZX', 'XZ', 'II', 'YY', 'ZZ', 'IZ', 'XY', 'YX', 'IX', 'IY']\n",
      "Lexicographically sorted\n",
      "PauliTable: ['II', 'IX', 'IY', 'IZ', 'XI', 'XX', 'XY', 'XZ', 'YI', 'YX', 'YY', 'YZ', 'ZI', 'ZX', 'ZY', 'ZZ']\n",
      "Weight sorted\n",
      "PauliTable: ['II', 'IX', 'IY', 'IZ', 'XI', 'YI', 'ZI', 'XX', 'XY', 'XZ', 'YX', 'YY', 'YZ', 'ZX', 'ZY', 'ZZ']\n"
     ]
    }
   ],
   "source": [
    "from numpy.random import shuffle\n",
    "from qiskit.quantum_info.operators import PauliTable\n",
    "\n",
    "# 2-qubit labels\n",
    "labels = ['II', 'IX', 'IY', 'IZ', 'XI', 'XX', 'XY', 'XZ',\n",
    "          'YI', 'YX', 'YY', 'YZ', 'ZI', 'ZX', 'ZY', 'ZZ']\n",
    "# Shuffle Labels\n",
    "shuffle(labels)\n",
    "pt = PauliTable.from_labels(labels)\n",
    "print('Initial Ordering')\n",
    "print(pt)\n",
    "\n",
    "# Lexicographic Ordering\n",
    "srt = pt.sort()\n",
    "print('Lexicographically sorted')\n",
    "print(srt)\n",
    "\n",
    "# Weight Ordering\n",
    "srt = pt.sort(weight=True)\n",
    "print('Weight sorted')\n",
    "print(srt)"
   ]
  },
  {
   "cell_type": "code",
   "execution_count": 5,
   "id": "1d9abf65",
   "metadata": {
    "execution": {
     "iopub.execute_input": "2021-09-10T11:50:32.063518Z",
     "iopub.status.busy": "2021-09-10T11:50:32.062363Z",
     "iopub.status.idle": "2021-09-10T11:50:32.065181Z",
     "shell.execute_reply": "2021-09-10T11:50:32.064781Z"
    }
   },
   "outputs": [
    {
     "name": "stdout",
     "output_type": "stream",
     "text": [
      "PauliTable: ['IY', 'IZ', 'XY', 'XZ']\n"
     ]
    }
   ],
   "source": [
    "from qiskit.quantum_info.operators import PauliTable\n",
    "\n",
    "current = PauliTable.from_labels(['I', 'X'])\n",
    "other =  PauliTable.from_labels(['Y', 'Z'])\n",
    "print(current.tensor(other))"
   ]
  },
  {
   "cell_type": "code",
   "execution_count": 6,
   "id": "72bea2c6",
   "metadata": {
    "execution": {
     "iopub.execute_input": "2021-09-10T11:50:32.070121Z",
     "iopub.status.busy": "2021-09-10T11:50:32.069126Z",
     "iopub.status.idle": "2021-09-10T11:50:32.071652Z",
     "shell.execute_reply": "2021-09-10T11:50:32.071252Z"
    }
   },
   "outputs": [
    {
     "name": "stdout",
     "output_type": "stream",
     "text": [
      "PauliTable: ['X', 'Y', 'I', 'Z']\n"
     ]
    }
   ],
   "source": [
    "from qiskit.quantum_info.operators import PauliTable\n",
    "\n",
    "pt = PauliTable.from_labels(['X', 'Y', 'X', 'I', 'I', 'Z', 'X', 'Z'])\n",
    "unique = pt.unique()\n",
    "print(unique)"
   ]
  }
 ],
 "metadata": {
  "kernelspec": {
   "display_name": "Python 3 (ipykernel)",
   "language": "python",
   "name": "python3"
  },
  "language_info": {
   "codemirror_mode": {
    "name": "ipython",
    "version": 3
   },
   "file_extension": ".py",
   "mimetype": "text/x-python",
   "name": "python",
   "nbconvert_exporter": "python",
   "pygments_lexer": "ipython3",
   "version": "3.8.11"
  }
 },
 "nbformat": 4,
 "nbformat_minor": 5
}