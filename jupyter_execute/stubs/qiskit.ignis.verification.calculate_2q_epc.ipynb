{
 "cells": [
  {
   "cell_type": "code",
   "execution_count": 1,
   "id": "aec88720",
   "metadata": {
    "execution": {
     "iopub.execute_input": "2021-11-16T21:22:59.670837Z",
     "iopub.status.busy": "2021-11-16T21:22:59.670308Z",
     "iopub.status.idle": "2021-11-16T21:23:00.894903Z",
     "shell.execute_reply": "2021-11-16T21:23:00.895356Z"
    }
   },
   "outputs": [
    {
     "name": "stdout",
     "output_type": "stream",
     "text": [
      "Total sequence EPC: 0.055868, 2Q gate contribution: 0.051004\n"
     ]
    }
   ],
   "source": [
    "import qiskit.ignis.verification.randomized_benchmarking as rb\n",
    "\n",
    "# gate counts of your 2Q RB experiment\n",
    "gpc = {0: {'cx': 1.49, 'u1': 0.25, 'u2': 0.95, 'u3': 0.56},\n",
    "       1: {'cx': 1.49, 'u1': 0.24, 'u2': 0.98, 'u3': 0.49}}\n",
    "\n",
    "# EPGs from error model\n",
    "epgs_q0 = {'u1': 0, 'u2': 0.001, 'u3': 0.002}\n",
    "epgs_q1 = {'u1': 0, 'u2': 0.002, 'u3': 0.004}\n",
    "epg_q01 = 0.03\n",
    "\n",
    "# calculate 2Q EPC\n",
    "epc_2q = rb.rb_utils.calculate_2q_epc(\n",
    "    gate_per_cliff=gpc,\n",
    "    epg_2q=epg_q01,\n",
    "    qubit_pair=[0, 1],\n",
    "    list_epgs_1q=[epgs_q0, epgs_q1])\n",
    "\n",
    "# calculate EPC according to the definition\n",
    "fid = 1\n",
    "for qubit in (0, 1):\n",
    "    for epgs in (epgs_q0, epgs_q1):\n",
    "        for gate, val in epgs.items():\n",
    "            fid *= (1 - val) ** gpc[qubit][gate]\n",
    "fid *= (1 - epg_q01) ** 1.49\n",
    "epc = 1 - fid\n",
    "\n",
    "print('Total sequence EPC: %f, 2Q gate contribution: %f' % (epc, epc_2q))"
   ]
  }
 ],
 "metadata": {
  "kernelspec": {
   "display_name": "Python 3 (ipykernel)",
   "language": "python",
   "name": "python3"
  },
  "language_info": {
   "codemirror_mode": {
    "name": "ipython",
    "version": 3
   },
   "file_extension": ".py",
   "mimetype": "text/x-python",
   "name": "python",
   "nbconvert_exporter": "python",
   "pygments_lexer": "ipython3",
   "version": "3.8.12"
  }
 },
 "nbformat": 4,
 "nbformat_minor": 5
}