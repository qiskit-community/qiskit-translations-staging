{
 "cells": [
  {
   "cell_type": "code",
   "execution_count": 1,
   "id": "83d1e508",
   "metadata": {
    "execution": {
     "iopub.execute_input": "2022-01-05T17:24:03.893534Z",
     "iopub.status.busy": "2022-01-05T17:24:03.893004Z",
     "iopub.status.idle": "2022-01-05T17:24:04.461515Z",
     "shell.execute_reply": "2022-01-05T17:24:04.460440Z"
    }
   },
   "outputs": [],
   "source": [
    "from qiskit import pulse\n",
    "\n",
    "d0 = pulse.DriveChannel(0)\n",
    "\n",
    "with pulse.build() as pulse_prog:\n",
    "    pulse.play(pulse.Constant(10, 1.0), d0)"
   ]
  }
 ],
 "metadata": {
  "kernelspec": {
   "display_name": "Python 3 (ipykernel)",
   "language": "python",
   "name": "python3"
  },
  "language_info": {
   "codemirror_mode": {
    "name": "ipython",
    "version": 3
   },
   "file_extension": ".py",
   "mimetype": "text/x-python",
   "name": "python",
   "nbconvert_exporter": "python",
   "pygments_lexer": "ipython3",
   "version": "3.8.12"
  }
 },
 "nbformat": 4,
 "nbformat_minor": 5
}