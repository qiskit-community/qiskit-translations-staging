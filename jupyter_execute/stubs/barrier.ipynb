{
 "cells": [
  {
   "cell_type": "code",
   "execution_count": 1,
   "id": "797ebedc",
   "metadata": {
    "execution": {
     "iopub.execute_input": "2021-11-11T19:19:04.110231Z",
     "iopub.status.busy": "2021-11-11T19:19:04.109652Z",
     "iopub.status.idle": "2021-11-11T19:19:05.148413Z",
     "shell.execute_reply": "2021-11-11T19:19:05.148856Z"
    }
   },
   "outputs": [],
   "source": [
    "from qiskit import pulse\n",
    "from qiskit.test.mock import FakeOpenPulse2Q\n",
    "\n",
    "backend = FakeOpenPulse2Q()\n",
    "\n",
    "d0 = pulse.DriveChannel(0)\n",
    "d1 = pulse.DriveChannel(1)\n",
    "\n",
    "with pulse.build(backend) as barrier_pulse_prog:\n",
    "    pulse.play(pulse.Constant(10, 1.0), d0)\n",
    "    pulse.barrier(d0, d1)\n",
    "    pulse.play(pulse.Constant(10, 1.0), d1)"
   ]
  },
  {
   "cell_type": "code",
   "execution_count": 2,
   "id": "5bf4bcf3",
   "metadata": {
    "execution": {
     "iopub.execute_input": "2021-11-11T19:19:05.158723Z",
     "iopub.status.busy": "2021-11-11T19:19:05.157076Z",
     "iopub.status.idle": "2021-11-11T19:19:05.159366Z",
     "shell.execute_reply": "2021-11-11T19:19:05.159819Z"
    }
   },
   "outputs": [],
   "source": [
    "from qiskit.pulse import transforms\n",
    "\n",
    "with pulse.build(backend) as aligned_pulse_prog:\n",
    "    with pulse.align_sequential():\n",
    "        pulse.play(pulse.Constant(10, 1.0), d0)\n",
    "        pulse.play(pulse.Constant(10, 1.0), d1)\n",
    "\n",
    "barrier_pulse_prog = transforms.target_qobj_transform(barrier_pulse_prog)\n",
    "aligned_pulse_prog = transforms.target_qobj_transform(aligned_pulse_prog)\n",
    "\n",
    "assert barrier_pulse_prog == aligned_pulse_prog"
   ]
  },
  {
   "cell_type": "code",
   "execution_count": 3,
   "id": "ad45f4a7",
   "metadata": {
    "execution": {
     "iopub.execute_input": "2021-11-11T19:19:05.165605Z",
     "iopub.status.busy": "2021-11-11T19:19:05.165028Z",
     "iopub.status.idle": "2021-11-11T19:19:05.627429Z",
     "shell.execute_reply": "2021-11-11T19:19:05.626822Z"
    }
   },
   "outputs": [],
   "source": [
    "import math\n",
    "\n",
    "d0 = pulse.DriveChannel(0)\n",
    "\n",
    "with pulse.build(backend) as pulse_prog:\n",
    "    with pulse.align_right():\n",
    "        pulse.x(1)\n",
    "        # Barrier qubit 1 and d0.\n",
    "        pulse.barrier(1, d0)\n",
    "        # Due to barrier this will play before the gate on qubit 1.\n",
    "        pulse.play(pulse.Constant(10, 1.0), d0)\n",
    "        # This will end at the same time as the pulse above due to\n",
    "        # the barrier.\n",
    "        pulse.x(1)"
   ]
  }
 ],
 "metadata": {
  "kernelspec": {
   "display_name": "Python 3 (ipykernel)",
   "language": "python",
   "name": "python3"
  },
  "language_info": {
   "codemirror_mode": {
    "name": "ipython",
    "version": 3
   },
   "file_extension": ".py",
   "mimetype": "text/x-python",
   "name": "python",
   "nbconvert_exporter": "python",
   "pygments_lexer": "ipython3",
   "version": "3.8.12"
  }
 },
 "nbformat": 4,
 "nbformat_minor": 5
}