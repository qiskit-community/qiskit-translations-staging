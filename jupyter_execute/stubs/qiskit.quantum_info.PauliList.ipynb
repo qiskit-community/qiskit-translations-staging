{
 "cells": [
  {
   "cell_type": "code",
   "execution_count": 1,
   "id": "c13fbf94",
   "metadata": {
    "execution": {
     "iopub.execute_input": "2021-12-07T03:24:40.260155Z",
     "iopub.status.busy": "2021-12-07T03:24:40.259504Z",
     "iopub.status.idle": "2021-12-07T03:24:40.765537Z",
     "shell.execute_reply": "2021-12-07T03:24:40.766040Z"
    }
   },
   "outputs": [
    {
     "name": "stdout",
     "output_type": "stream",
     "text": [
      "1.  ['II', 'ZI', '-iYY']\n",
      "2.  ['iXI']\n",
      "3.  ['iXI', 'iZZ']\n",
      "4.  ['YZ', 'IX']\n"
     ]
    }
   ],
   "source": [
    "import numpy as np\n",
    "\n",
    "from qiskit.quantum_info import Pauli, PauliList\n",
    "\n",
    "# 1. init from list[str]\n",
    "pauli_list = PauliList([\"II\", \"+ZI\", \"-iYY\"])\n",
    "print(\"1. \", pauli_list)\n",
    "\n",
    "pauli1 = Pauli(\"iXI\")\n",
    "pauli2 = Pauli(\"iZZ\")\n",
    "\n",
    "# 2. init from Pauli\n",
    "print(\"2. \", PauliList(pauli1))\n",
    "\n",
    "# 3. init from list[Pauli]\n",
    "print(\"3. \", PauliList([pauli1, pauli2]))\n",
    "\n",
    "# 4. init from np.ndarray\n",
    "z = np.array([[True, True], [False, False]])\n",
    "x = np.array([[False, True], [True, False]])\n",
    "phase = np.array([0, 1])\n",
    "pauli_list = PauliList.from_symplectic(z, x)\n",
    "print(\"4. \", pauli_list)"
   ]
  },
  {
   "cell_type": "code",
   "execution_count": 2,
   "id": "d9d7850d",
   "metadata": {
    "execution": {
     "iopub.execute_input": "2021-12-07T03:24:40.771109Z",
     "iopub.status.busy": "2021-12-07T03:24:40.770545Z",
     "iopub.status.idle": "2021-12-07T03:24:40.774092Z",
     "shell.execute_reply": "2021-12-07T03:24:40.773637Z"
    }
   },
   "outputs": [
    {
     "name": "stdout",
     "output_type": "stream",
     "text": [
      "Integer:  Pauli('ZZ')\n",
      "List:  PauliList(['XX', 'IZ'])\n",
      "Slice:  PauliList(['XX', 'ZZ'])\n"
     ]
    }
   ],
   "source": [
    "pauli_list = PauliList([\"XX\", \"ZZ\", \"IZ\"])\n",
    "print(\"Integer: \", repr(pauli_list[1]))\n",
    "print(\"List: \", repr(pauli_list[[0, 2]]))\n",
    "print(\"Slice: \", repr(pauli_list[0:2]))"
   ]
  }
 ],
 "metadata": {
  "kernelspec": {
   "display_name": "Python 3 (ipykernel)",
   "language": "python",
   "name": "python3"
  },
  "language_info": {
   "codemirror_mode": {
    "name": "ipython",
    "version": 3
   },
   "file_extension": ".py",
   "mimetype": "text/x-python",
   "name": "python",
   "nbconvert_exporter": "python",
   "pygments_lexer": "ipython3",
   "version": "3.8.12"
  }
 },
 "nbformat": 4,
 "nbformat_minor": 5
}