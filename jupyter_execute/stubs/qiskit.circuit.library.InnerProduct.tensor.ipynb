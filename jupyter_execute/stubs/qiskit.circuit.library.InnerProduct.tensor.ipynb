{
 "cells": [
  {
   "cell_type": "code",
   "execution_count": 1,
   "id": "a7ee2ff2",
   "metadata": {
    "execution": {
     "iopub.execute_input": "2021-09-10T12:09:25.650890Z",
     "iopub.status.busy": "2021-09-10T12:09:25.650308Z",
     "iopub.status.idle": "2021-09-10T12:09:26.506402Z",
     "shell.execute_reply": "2021-09-10T12:09:26.505539Z"
    }
   },
   "outputs": [
    {
     "name": "stdout",
     "output_type": "stream",
     "text": [
      "        ┌───┐   \n",
      "q_0: ───┤ X ├───\n",
      "        └───┘   \n",
      "q_1: ─────■─────\n",
      "     ┌────┴────┐\n",
      "q_2: ┤ Ry(0.2) ├\n",
      "     └─────────┘\n"
     ]
    }
   ],
   "source": [
    "from qiskit import QuantumCircuit\n",
    "top = QuantumCircuit(1)\n",
    "top.x(0);\n",
    "bottom = QuantumCircuit(2)\n",
    "bottom.cry(0.2, 0, 1);\n",
    "tensored = bottom.tensor(top)\n",
    "print(tensored.draw())"
   ]
  }
 ],
 "metadata": {
  "kernelspec": {
   "display_name": "Python 3 (ipykernel)",
   "language": "python",
   "name": "python3"
  },
  "language_info": {
   "codemirror_mode": {
    "name": "ipython",
    "version": 3
   },
   "file_extension": ".py",
   "mimetype": "text/x-python",
   "name": "python",
   "nbconvert_exporter": "python",
   "pygments_lexer": "ipython3",
   "version": "3.8.11"
  }
 },
 "nbformat": 4,
 "nbformat_minor": 5
}