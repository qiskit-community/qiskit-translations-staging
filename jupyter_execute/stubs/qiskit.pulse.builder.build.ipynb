{
 "cells": [
  {
   "cell_type": "code",
   "execution_count": 1,
   "id": "c5c59708",
   "metadata": {
    "execution": {
     "iopub.execute_input": "2021-11-12T21:24:51.745362Z",
     "iopub.status.busy": "2021-11-12T21:24:51.744875Z",
     "iopub.status.idle": "2021-11-12T21:24:52.519620Z",
     "shell.execute_reply": "2021-11-12T21:24:52.518592Z"
    }
   },
   "outputs": [],
   "source": [
    "from qiskit import execute, pulse\n",
    "from qiskit.test.mock import FakeOpenPulse2Q\n",
    "\n",
    "backend = FakeOpenPulse2Q()\n",
    "\n",
    "d0 = pulse.DriveChannel(0)\n",
    "\n",
    "with pulse.build() as pulse_prog:\n",
    "    pulse.play(pulse.Constant(100, 0.5), d0)"
   ]
  }
 ],
 "metadata": {
  "kernelspec": {
   "display_name": "Python 3 (ipykernel)",
   "language": "python",
   "name": "python3"
  },
  "language_info": {
   "codemirror_mode": {
    "name": "ipython",
    "version": 3
   },
   "file_extension": ".py",
   "mimetype": "text/x-python",
   "name": "python",
   "nbconvert_exporter": "python",
   "pygments_lexer": "ipython3",
   "version": "3.8.12"
  }
 },
 "nbformat": 4,
 "nbformat_minor": 5
}