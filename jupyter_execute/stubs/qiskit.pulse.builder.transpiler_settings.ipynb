{
 "cells": [
  {
   "cell_type": "code",
   "execution_count": 1,
   "id": "0b3d0763",
   "metadata": {
    "execution": {
     "iopub.execute_input": "2021-12-21T01:38:26.207851Z",
     "iopub.status.busy": "2021-12-21T01:38:26.207390Z",
     "iopub.status.idle": "2021-12-21T01:38:26.729018Z",
     "shell.execute_reply": "2021-12-21T01:38:26.728467Z"
    }
   },
   "outputs": [
    {
     "name": "stdout",
     "output_type": "stream",
     "text": [
      "{}\n",
      "{'optimization_level': 3}\n"
     ]
    }
   ],
   "source": [
    "from qiskit import pulse\n",
    "from qiskit.test.mock import FakeOpenPulse2Q\n",
    "\n",
    "backend = FakeOpenPulse2Q()\n",
    "\n",
    "with pulse.build(backend):\n",
    "    print(pulse.active_transpiler_settings())\n",
    "    with pulse.transpiler_settings(optimization_level=3):\n",
    "        print(pulse.active_transpiler_settings())"
   ]
  }
 ],
 "metadata": {
  "kernelspec": {
   "display_name": "Python 3 (ipykernel)",
   "language": "python",
   "name": "python3"
  },
  "language_info": {
   "codemirror_mode": {
    "name": "ipython",
    "version": 3
   },
   "file_extension": ".py",
   "mimetype": "text/x-python",
   "name": "python",
   "nbconvert_exporter": "python",
   "pygments_lexer": "ipython3",
   "version": "3.8.12"
  }
 },
 "nbformat": 4,
 "nbformat_minor": 5
}