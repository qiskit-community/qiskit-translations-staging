{
 "cells": [
  {
   "cell_type": "code",
   "execution_count": 1,
   "id": "b2e4895c",
   "metadata": {
    "execution": {
     "iopub.execute_input": "2021-10-02T15:28:39.175382Z",
     "iopub.status.busy": "2021-10-02T15:28:39.174593Z",
     "iopub.status.idle": "2021-10-02T15:28:40.260474Z",
     "shell.execute_reply": "2021-10-02T15:28:40.260956Z"
    }
   },
   "outputs": [],
   "source": [
    "from qiskit import pulse\n",
    "\n",
    "with pulse.build() as pulse_prog:\n",
    "    pulse.snapshot('first', 'statevector')"
   ]
  }
 ],
 "metadata": {
  "kernelspec": {
   "display_name": "Python 3 (ipykernel)",
   "language": "python",
   "name": "python3"
  },
  "language_info": {
   "codemirror_mode": {
    "name": "ipython",
    "version": 3
   },
   "file_extension": ".py",
   "mimetype": "text/x-python",
   "name": "python",
   "nbconvert_exporter": "python",
   "pygments_lexer": "ipython3",
   "version": "3.8.12"
  }
 },
 "nbformat": 4,
 "nbformat_minor": 5
}