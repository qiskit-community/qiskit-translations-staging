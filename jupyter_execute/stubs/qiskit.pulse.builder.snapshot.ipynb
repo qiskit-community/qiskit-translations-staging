{
 "cells": [
  {
   "cell_type": "code",
   "execution_count": 1,
   "id": "acebcb7f",
   "metadata": {
    "execution": {
     "iopub.execute_input": "2021-11-12T15:47:06.374775Z",
     "iopub.status.busy": "2021-11-12T15:47:06.374191Z",
     "iopub.status.idle": "2021-11-12T15:47:07.318602Z",
     "shell.execute_reply": "2021-11-12T15:47:07.317534Z"
    }
   },
   "outputs": [],
   "source": [
    "from qiskit import pulse\n",
    "\n",
    "with pulse.build() as pulse_prog:\n",
    "    pulse.snapshot('first', 'statevector')"
   ]
  }
 ],
 "metadata": {
  "kernelspec": {
   "display_name": "Python 3 (ipykernel)",
   "language": "python",
   "name": "python3"
  },
  "language_info": {
   "codemirror_mode": {
    "name": "ipython",
    "version": 3
   },
   "file_extension": ".py",
   "mimetype": "text/x-python",
   "name": "python",
   "nbconvert_exporter": "python",
   "pygments_lexer": "ipython3",
   "version": "3.8.12"
  }
 },
 "nbformat": 4,
 "nbformat_minor": 5
}