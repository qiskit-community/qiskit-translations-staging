{
 "cells": [
  {
   "cell_type": "code",
   "execution_count": 1,
   "id": "d10ca927",
   "metadata": {
    "execution": {
     "iopub.execute_input": "2021-12-07T03:23:53.997425Z",
     "iopub.status.busy": "2021-12-07T03:23:53.996918Z",
     "iopub.status.idle": "2021-12-07T03:23:54.514679Z",
     "shell.execute_reply": "2021-12-07T03:23:54.515426Z"
    }
   },
   "outputs": [],
   "source": [
    "from qiskit import pulse\n",
    "\n",
    "with pulse.build() as pulse_prog:\n",
    "    pulse.snapshot('first', 'statevector')"
   ]
  }
 ],
 "metadata": {
  "kernelspec": {
   "display_name": "Python 3 (ipykernel)",
   "language": "python",
   "name": "python3"
  },
  "language_info": {
   "codemirror_mode": {
    "name": "ipython",
    "version": 3
   },
   "file_extension": ".py",
   "mimetype": "text/x-python",
   "name": "python",
   "nbconvert_exporter": "python",
   "pygments_lexer": "ipython3",
   "version": "3.8.12"
  }
 },
 "nbformat": 4,
 "nbformat_minor": 5
}