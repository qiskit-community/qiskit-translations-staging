{
 "cells": [
  {
   "cell_type": "code",
   "execution_count": 1,
   "id": "fca93809",
   "metadata": {
    "execution": {
     "iopub.execute_input": "2022-01-05T17:24:11.702470Z",
     "iopub.status.busy": "2022-01-05T17:24:11.701813Z",
     "iopub.status.idle": "2022-01-05T17:24:12.247574Z",
     "shell.execute_reply": "2022-01-05T17:24:12.247025Z"
    }
   },
   "outputs": [],
   "source": [
    "from qiskit import pulse\n",
    "\n",
    "with pulse.build() as pulse_prog:\n",
    "    pulse.snapshot('first', 'statevector')"
   ]
  }
 ],
 "metadata": {
  "kernelspec": {
   "display_name": "Python 3 (ipykernel)",
   "language": "python",
   "name": "python3"
  },
  "language_info": {
   "codemirror_mode": {
    "name": "ipython",
    "version": 3
   },
   "file_extension": ".py",
   "mimetype": "text/x-python",
   "name": "python",
   "nbconvert_exporter": "python",
   "pygments_lexer": "ipython3",
   "version": "3.8.12"
  }
 },
 "nbformat": 4,
 "nbformat_minor": 5
}