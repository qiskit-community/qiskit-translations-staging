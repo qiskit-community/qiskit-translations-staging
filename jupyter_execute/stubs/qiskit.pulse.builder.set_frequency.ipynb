{
 "cells": [
  {
   "cell_type": "code",
   "execution_count": 1,
   "id": "f9b3c763",
   "metadata": {
    "execution": {
     "iopub.execute_input": "2021-11-11T19:19:45.832893Z",
     "iopub.status.busy": "2021-11-11T19:19:45.832153Z",
     "iopub.status.idle": "2021-11-11T19:19:46.784036Z",
     "shell.execute_reply": "2021-11-11T19:19:46.783347Z"
    }
   },
   "outputs": [],
   "source": [
    "from qiskit import pulse\n",
    "\n",
    "d0 = pulse.DriveChannel(0)\n",
    "\n",
    "with pulse.build() as pulse_prog:\n",
    "    pulse.set_frequency(1e9, d0)"
   ]
  }
 ],
 "metadata": {
  "kernelspec": {
   "display_name": "Python 3 (ipykernel)",
   "language": "python",
   "name": "python3"
  },
  "language_info": {
   "codemirror_mode": {
    "name": "ipython",
    "version": 3
   },
   "file_extension": ".py",
   "mimetype": "text/x-python",
   "name": "python",
   "nbconvert_exporter": "python",
   "pygments_lexer": "ipython3",
   "version": "3.8.12"
  }
 },
 "nbformat": 4,
 "nbformat_minor": 5
}