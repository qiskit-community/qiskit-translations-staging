{
 "cells": [
  {
   "cell_type": "code",
   "execution_count": 1,
   "id": "d4e8c8f6",
   "metadata": {
    "execution": {
     "iopub.execute_input": "2021-11-16T21:26:17.522257Z",
     "iopub.status.busy": "2021-11-16T21:26:17.521763Z",
     "iopub.status.idle": "2021-11-16T21:26:18.442710Z",
     "shell.execute_reply": "2021-11-16T21:26:18.443162Z"
    }
   },
   "outputs": [],
   "source": [
    "from qiskit import pulse\n",
    "from qiskit.test.mock import FakeOpenPulse3Q\n",
    "\n",
    "backend = FakeOpenPulse3Q()\n",
    "\n",
    "with pulse.build(backend) as pulse_prog:\n",
    "    # Delay for 100 cycles on qubits 0, 1 and 2.\n",
    "    regs = pulse.delay_qubits(100, 0, 1, 2)"
   ]
  }
 ],
 "metadata": {
  "kernelspec": {
   "display_name": "Python 3 (ipykernel)",
   "language": "python",
   "name": "python3"
  },
  "language_info": {
   "codemirror_mode": {
    "name": "ipython",
    "version": 3
   },
   "file_extension": ".py",
   "mimetype": "text/x-python",
   "name": "python",
   "nbconvert_exporter": "python",
   "pygments_lexer": "ipython3",
   "version": "3.8.12"
  }
 },
 "nbformat": 4,
 "nbformat_minor": 5
}