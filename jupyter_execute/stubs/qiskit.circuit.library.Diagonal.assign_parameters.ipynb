{
 "cells": [
  {
   "cell_type": "code",
   "execution_count": 1,
   "id": "a61366ec",
   "metadata": {
    "execution": {
     "iopub.execute_input": "2021-09-10T12:02:25.487181Z",
     "iopub.status.busy": "2021-09-10T12:02:25.486488Z",
     "iopub.status.idle": "2021-09-10T12:02:26.867111Z",
     "shell.execute_reply": "2021-09-10T12:02:26.865922Z"
    }
   },
   "outputs": [
    {
     "name": "stdout",
     "output_type": "stream",
     "text": [
      "Original circuit:\n"
     ]
    },
    {
     "name": "stdout",
     "output_type": "stream",
     "text": [
      "     ┌───────┐         \n",
      "q_0: ┤ Ry(A) ├────■────\n",
      "     └───────┘┌───┴───┐\n",
      "q_1: ─────────┤ Rx(B) ├\n",
      "              └───────┘\n",
      "Assigned in-place:\n",
      "     ┌───────┐         \n",
      "q_0: ┤ Ry(C) ├────■────\n",
      "     └───────┘┌───┴───┐\n",
      "q_1: ─────────┤ Rx(B) ├\n",
      "              └───────┘\n"
     ]
    }
   ],
   "source": [
    "from qiskit.circuit import QuantumCircuit, Parameter\n",
    "\n",
    "circuit = QuantumCircuit(2)\n",
    "params = [Parameter('A'), Parameter('B'), Parameter('C')]\n",
    "circuit.ry(params[0], 0)\n",
    "circuit.crx(params[1], 0, 1)\n",
    "\n",
    "print('Original circuit:')\n",
    "print(circuit.draw())\n",
    "\n",
    "circuit.assign_parameters({params[0]: params[2]}, inplace=True)\n",
    "\n",
    "print('Assigned in-place:')\n",
    "print(circuit.draw())"
   ]
  },
  {
   "cell_type": "code",
   "execution_count": 2,
   "id": "96e492d3",
   "metadata": {
    "execution": {
     "iopub.execute_input": "2021-09-10T12:02:26.878769Z",
     "iopub.status.busy": "2021-09-10T12:02:26.874387Z",
     "iopub.status.idle": "2021-09-10T12:02:26.888022Z",
     "shell.execute_reply": "2021-09-10T12:02:26.886902Z"
    }
   },
   "outputs": [
    {
     "name": "stdout",
     "output_type": "stream",
     "text": [
      "Bound circuit:\n",
      "     ┌───────┐         \n",
      "q_0: ┤ Ry(1) ├────■────\n",
      "     └───────┘┌───┴───┐\n",
      "q_1: ─────────┤ Rx(2) ├\n",
      "              └───────┘\n",
      "The original circuit is unchanged:\n",
      "     ┌──────────┐            \n",
      "q_0: ┤ Ry(P[0]) ├─────■──────\n",
      "     └──────────┘┌────┴─────┐\n",
      "q_1: ────────────┤ Rx(P[1]) ├\n",
      "                 └──────────┘\n"
     ]
    }
   ],
   "source": [
    "from qiskit.circuit import QuantumCircuit, ParameterVector\n",
    "\n",
    "circuit = QuantumCircuit(2)\n",
    "params = ParameterVector('P', 2)\n",
    "circuit.ry(params[0], 0)\n",
    "circuit.crx(params[1], 0, 1)\n",
    "\n",
    "bound_circuit = circuit.assign_parameters({params[0]: 1, params[1]: 2})\n",
    "print('Bound circuit:')\n",
    "print(bound_circuit.draw())\n",
    "\n",
    "print('The original circuit is unchanged:')\n",
    "print(circuit.draw())"
   ]
  }
 ],
 "metadata": {
  "kernelspec": {
   "display_name": "Python 3 (ipykernel)",
   "language": "python",
   "name": "python3"
  },
  "language_info": {
   "codemirror_mode": {
    "name": "ipython",
    "version": 3
   },
   "file_extension": ".py",
   "mimetype": "text/x-python",
   "name": "python",
   "nbconvert_exporter": "python",
   "pygments_lexer": "ipython3",
   "version": "3.8.11"
  }
 },
 "nbformat": 4,
 "nbformat_minor": 5
}