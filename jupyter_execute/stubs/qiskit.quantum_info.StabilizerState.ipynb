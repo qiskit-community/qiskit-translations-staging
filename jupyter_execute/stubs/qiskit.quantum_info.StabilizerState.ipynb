{
 "cells": [
  {
   "cell_type": "code",
   "execution_count": 1,
   "id": "76eb322d",
   "metadata": {
    "execution": {
     "iopub.execute_input": "2021-11-16T21:28:17.606611Z",
     "iopub.status.busy": "2021-11-16T21:28:17.606087Z",
     "iopub.status.idle": "2021-11-16T21:28:18.391539Z",
     "shell.execute_reply": "2021-11-16T21:28:18.391929Z"
    }
   },
   "outputs": [
    {
     "name": "stdout",
     "output_type": "stream",
     "text": [
      "StabilizerState(StabilizerTable: ['+XX', '+ZZ'])\n",
      "{'00': 0.5, '11': 0.5}\n",
      "1\n"
     ]
    }
   ],
   "source": [
    "from qiskit import QuantumCircuit\n",
    "from qiskit.quantum_info import StabilizerState, Pauli\n",
    "\n",
    "# Bell state generation circuit\n",
    "qc = QuantumCircuit(2)\n",
    "qc.h(0)\n",
    "qc.cx(0, 1)\n",
    "stab = StabilizerState(qc)\n",
    "\n",
    "# Print the StabilizerState\n",
    "print(stab)\n",
    "\n",
    "# Calculate the StabilizerState measurement probabilities dictionary\n",
    "print (stab.probabilities_dict())\n",
    "\n",
    "# Calculate expectation value of the StabilizerState\n",
    "print (stab.expectation_value(Pauli('ZZ')))"
   ]
  }
 ],
 "metadata": {
  "kernelspec": {
   "display_name": "Python 3 (ipykernel)",
   "language": "python",
   "name": "python3"
  },
  "language_info": {
   "codemirror_mode": {
    "name": "ipython",
    "version": 3
   },
   "file_extension": ".py",
   "mimetype": "text/x-python",
   "name": "python",
   "nbconvert_exporter": "python",
   "pygments_lexer": "ipython3",
   "version": "3.8.12"
  }
 },
 "nbformat": 4,
 "nbformat_minor": 5
}