{
 "cells": [
  {
   "cell_type": "code",
   "execution_count": 1,
   "id": "85182dd4",
   "metadata": {
    "execution": {
     "iopub.execute_input": "2021-11-12T20:09:56.617567Z",
     "iopub.status.busy": "2021-11-12T20:09:56.616868Z",
     "iopub.status.idle": "2021-11-12T20:09:57.703423Z",
     "shell.execute_reply": "2021-11-12T20:09:57.702422Z"
    }
   },
   "outputs": [],
   "source": [
    "from qiskit import pulse\n",
    "from qiskit.test.mock import FakeOpenPulse2Q\n",
    "\n",
    "backend = FakeOpenPulse2Q()\n",
    "\n",
    "with pulse.build(backend) as pulse_prog:\n",
    "    # Measure all qubits and return associated registers.\n",
    "    regs = pulse.measure_all()"
   ]
  }
 ],
 "metadata": {
  "kernelspec": {
   "display_name": "Python 3 (ipykernel)",
   "language": "python",
   "name": "python3"
  },
  "language_info": {
   "codemirror_mode": {
    "name": "ipython",
    "version": 3
   },
   "file_extension": ".py",
   "mimetype": "text/x-python",
   "name": "python",
   "nbconvert_exporter": "python",
   "pygments_lexer": "ipython3",
   "version": "3.8.12"
  }
 },
 "nbformat": 4,
 "nbformat_minor": 5
}