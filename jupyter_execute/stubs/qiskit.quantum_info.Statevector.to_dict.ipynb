{
 "cells": [
  {
   "cell_type": "code",
   "execution_count": 1,
   "id": "84d85bb8",
   "metadata": {
    "execution": {
     "iopub.execute_input": "2022-01-07T21:05:55.192301Z",
     "iopub.status.busy": "2022-01-07T21:05:55.191767Z",
     "iopub.status.idle": "2022-01-07T21:05:55.771225Z",
     "shell.execute_reply": "2022-01-07T21:05:55.770501Z"
    }
   },
   "outputs": [
    {
     "name": "stdout",
     "output_type": "stream",
     "text": [
      "{'00': (0.7071067811865475+0j), '10': (-0.7071067811865475+0j)}\n"
     ]
    }
   ],
   "source": [
    "from qiskit.quantum_info import Statevector\n",
    "\n",
    "psi = Statevector.from_label('-0')\n",
    "print(psi.to_dict())"
   ]
  },
  {
   "cell_type": "code",
   "execution_count": 2,
   "id": "0efbbc4b",
   "metadata": {
    "execution": {
     "iopub.execute_input": "2022-01-07T21:05:55.774160Z",
     "iopub.status.busy": "2022-01-07T21:05:55.773605Z",
     "iopub.status.idle": "2022-01-07T21:05:55.779428Z",
     "shell.execute_reply": "2022-01-07T21:05:55.778955Z"
    }
   },
   "outputs": [
    {
     "name": "stdout",
     "output_type": "stream",
     "text": [
      "{'00': (0.7071067811865475+0j), '22': (0.7071067811865475+0j)}\n"
     ]
    }
   ],
   "source": [
    "import numpy as np\n",
    "from qiskit.quantum_info import Statevector\n",
    "\n",
    "vec = np.zeros(9)\n",
    "vec[0] = 1 / np.sqrt(2)\n",
    "vec[-1] = 1 / np.sqrt(2)\n",
    "psi = Statevector(vec, dims=(3, 3))\n",
    "print(psi.to_dict())"
   ]
  },
  {
   "cell_type": "code",
   "execution_count": 3,
   "id": "cd40c267",
   "metadata": {
    "execution": {
     "iopub.execute_input": "2022-01-07T21:05:55.785728Z",
     "iopub.status.busy": "2022-01-07T21:05:55.784442Z",
     "iopub.status.idle": "2022-01-07T21:05:55.787816Z",
     "shell.execute_reply": "2022-01-07T21:05:55.787318Z"
    }
   },
   "outputs": [
    {
     "name": "stdout",
     "output_type": "stream",
     "text": [
      "{'00': (0.7071067811865475+0j), '91': (0.7071067811865475+0j)}\n"
     ]
    }
   ],
   "source": [
    "import numpy as np\n",
    "from qiskit.quantum_info import Statevector\n",
    "\n",
    "vec = np.zeros(2 * 10)\n",
    "vec[0] = 1 / np.sqrt(2)\n",
    "vec[-1] = 1 / np.sqrt(2)\n",
    "psi = Statevector(vec, dims=(2, 10))\n",
    "print(psi.to_dict())"
   ]
  }
 ],
 "metadata": {
  "kernelspec": {
   "display_name": "Python 3 (ipykernel)",
   "language": "python",
   "name": "python3"
  },
  "language_info": {
   "codemirror_mode": {
    "name": "ipython",
    "version": 3
   },
   "file_extension": ".py",
   "mimetype": "text/x-python",
   "name": "python",
   "nbconvert_exporter": "python",
   "pygments_lexer": "ipython3",
   "version": "3.8.12"
  }
 },
 "nbformat": 4,
 "nbformat_minor": 5
}