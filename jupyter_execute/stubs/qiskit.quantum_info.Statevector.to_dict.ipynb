{
 "cells": [
  {
   "cell_type": "code",
   "execution_count": 1,
   "id": "fdcba1b8",
   "metadata": {
    "execution": {
     "iopub.execute_input": "2021-11-12T21:27:02.312180Z",
     "iopub.status.busy": "2021-11-12T21:27:02.311746Z",
     "iopub.status.idle": "2021-11-12T21:27:03.062735Z",
     "shell.execute_reply": "2021-11-12T21:27:03.063163Z"
    }
   },
   "outputs": [
    {
     "name": "stdout",
     "output_type": "stream",
     "text": [
      "{'00': (0.7071067811865475+0j), '10': (-0.7071067811865475+0j)}\n"
     ]
    }
   ],
   "source": [
    "from qiskit.quantum_info import Statevector\n",
    "\n",
    "psi = Statevector.from_label('-0')\n",
    "print(psi.to_dict())"
   ]
  },
  {
   "cell_type": "code",
   "execution_count": 2,
   "id": "d49372a1",
   "metadata": {
    "execution": {
     "iopub.execute_input": "2021-11-12T21:27:03.069731Z",
     "iopub.status.busy": "2021-11-12T21:27:03.068419Z",
     "iopub.status.idle": "2021-11-12T21:27:03.071714Z",
     "shell.execute_reply": "2021-11-12T21:27:03.071263Z"
    }
   },
   "outputs": [
    {
     "name": "stdout",
     "output_type": "stream",
     "text": [
      "{'00': (0.7071067811865475+0j), '22': (0.7071067811865475+0j)}\n"
     ]
    }
   ],
   "source": [
    "import numpy as np\n",
    "from qiskit.quantum_info import Statevector\n",
    "\n",
    "vec = np.zeros(9)\n",
    "vec[0] = 1 / np.sqrt(2)\n",
    "vec[-1] = 1 / np.sqrt(2)\n",
    "psi = Statevector(vec, dims=(3, 3))\n",
    "print(psi.to_dict())"
   ]
  },
  {
   "cell_type": "code",
   "execution_count": 3,
   "id": "04ef005c",
   "metadata": {
    "execution": {
     "iopub.execute_input": "2021-11-12T21:27:03.077775Z",
     "iopub.status.busy": "2021-11-12T21:27:03.076483Z",
     "iopub.status.idle": "2021-11-12T21:27:03.079690Z",
     "shell.execute_reply": "2021-11-12T21:27:03.079207Z"
    }
   },
   "outputs": [
    {
     "name": "stdout",
     "output_type": "stream",
     "text": [
      "{'00': (0.7071067811865475+0j), '91': (0.7071067811865475+0j)}\n"
     ]
    }
   ],
   "source": [
    "import numpy as np\n",
    "from qiskit.quantum_info import Statevector\n",
    "\n",
    "vec = np.zeros(2 * 10)\n",
    "vec[0] = 1 / np.sqrt(2)\n",
    "vec[-1] = 1 / np.sqrt(2)\n",
    "psi = Statevector(vec, dims=(2, 10))\n",
    "print(psi.to_dict())"
   ]
  }
 ],
 "metadata": {
  "kernelspec": {
   "display_name": "Python 3 (ipykernel)",
   "language": "python",
   "name": "python3"
  },
  "language_info": {
   "codemirror_mode": {
    "name": "ipython",
    "version": 3
   },
   "file_extension": ".py",
   "mimetype": "text/x-python",
   "name": "python",
   "nbconvert_exporter": "python",
   "pygments_lexer": "ipython3",
   "version": "3.8.12"
  }
 },
 "nbformat": 4,
 "nbformat_minor": 5
}