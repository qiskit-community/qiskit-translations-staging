{
 "cells": [
  {
   "cell_type": "code",
   "execution_count": 1,
   "id": "54c07c48",
   "metadata": {
    "execution": {
     "iopub.execute_input": "2021-11-16T21:28:42.862364Z",
     "iopub.status.busy": "2021-11-16T21:28:42.861470Z",
     "iopub.status.idle": "2021-11-16T21:28:43.755562Z",
     "shell.execute_reply": "2021-11-16T21:28:43.754988Z"
    }
   },
   "outputs": [
    {
     "name": "stdout",
     "output_type": "stream",
     "text": [
      "{'00': (0.7071067811865475+0j), '10': (-0.7071067811865475+0j)}\n"
     ]
    }
   ],
   "source": [
    "from qiskit.quantum_info import Statevector\n",
    "\n",
    "psi = Statevector.from_label('-0')\n",
    "print(psi.to_dict())"
   ]
  },
  {
   "cell_type": "code",
   "execution_count": 2,
   "id": "d2176ce6",
   "metadata": {
    "execution": {
     "iopub.execute_input": "2021-11-16T21:28:43.762310Z",
     "iopub.status.busy": "2021-11-16T21:28:43.761798Z",
     "iopub.status.idle": "2021-11-16T21:28:43.763634Z",
     "shell.execute_reply": "2021-11-16T21:28:43.763993Z"
    }
   },
   "outputs": [
    {
     "name": "stdout",
     "output_type": "stream",
     "text": [
      "{'00': (0.7071067811865475+0j), '22': (0.7071067811865475+0j)}\n"
     ]
    }
   ],
   "source": [
    "import numpy as np\n",
    "from qiskit.quantum_info import Statevector\n",
    "\n",
    "vec = np.zeros(9)\n",
    "vec[0] = 1 / np.sqrt(2)\n",
    "vec[-1] = 1 / np.sqrt(2)\n",
    "psi = Statevector(vec, dims=(3, 3))\n",
    "print(psi.to_dict())"
   ]
  },
  {
   "cell_type": "code",
   "execution_count": 3,
   "id": "ec802b4d",
   "metadata": {
    "execution": {
     "iopub.execute_input": "2021-11-16T21:28:43.769714Z",
     "iopub.status.busy": "2021-11-16T21:28:43.768714Z",
     "iopub.status.idle": "2021-11-16T21:28:43.771472Z",
     "shell.execute_reply": "2021-11-16T21:28:43.771087Z"
    }
   },
   "outputs": [
    {
     "name": "stdout",
     "output_type": "stream",
     "text": [
      "{'00': (0.7071067811865475+0j), '91': (0.7071067811865475+0j)}\n"
     ]
    }
   ],
   "source": [
    "import numpy as np\n",
    "from qiskit.quantum_info import Statevector\n",
    "\n",
    "vec = np.zeros(2 * 10)\n",
    "vec[0] = 1 / np.sqrt(2)\n",
    "vec[-1] = 1 / np.sqrt(2)\n",
    "psi = Statevector(vec, dims=(2, 10))\n",
    "print(psi.to_dict())"
   ]
  }
 ],
 "metadata": {
  "kernelspec": {
   "display_name": "Python 3 (ipykernel)",
   "language": "python",
   "name": "python3"
  },
  "language_info": {
   "codemirror_mode": {
    "name": "ipython",
    "version": 3
   },
   "file_extension": ".py",
   "mimetype": "text/x-python",
   "name": "python",
   "nbconvert_exporter": "python",
   "pygments_lexer": "ipython3",
   "version": "3.8.12"
  }
 },
 "nbformat": 4,
 "nbformat_minor": 5
}