{
 "cells": [
  {
   "cell_type": "code",
   "execution_count": 1,
   "id": "c230391b",
   "metadata": {
    "execution": {
     "iopub.execute_input": "2021-10-02T15:30:46.793164Z",
     "iopub.status.busy": "2021-10-02T15:30:46.792491Z",
     "iopub.status.idle": "2021-10-02T15:30:47.816338Z",
     "shell.execute_reply": "2021-10-02T15:30:47.816863Z"
    }
   },
   "outputs": [
    {
     "name": "stdout",
     "output_type": "stream",
     "text": [
      "{'00': (0.7071067811865475+0j), '10': (-0.7071067811865475+0j)}\n"
     ]
    }
   ],
   "source": [
    "from qiskit.quantum_info import Statevector\n",
    "\n",
    "psi = Statevector.from_label('-0')\n",
    "print(psi.to_dict())"
   ]
  },
  {
   "cell_type": "code",
   "execution_count": 2,
   "id": "18c6a109",
   "metadata": {
    "execution": {
     "iopub.execute_input": "2021-10-02T15:30:47.823576Z",
     "iopub.status.busy": "2021-10-02T15:30:47.822954Z",
     "iopub.status.idle": "2021-10-02T15:30:47.826672Z",
     "shell.execute_reply": "2021-10-02T15:30:47.827165Z"
    }
   },
   "outputs": [
    {
     "name": "stdout",
     "output_type": "stream",
     "text": [
      "{'00': (0.7071067811865475+0j), '22': (0.7071067811865475+0j)}\n"
     ]
    }
   ],
   "source": [
    "import numpy as np\n",
    "from qiskit.quantum_info import Statevector\n",
    "\n",
    "vec = np.zeros(9)\n",
    "vec[0] = 1 / np.sqrt(2)\n",
    "vec[-1] = 1 / np.sqrt(2)\n",
    "psi = Statevector(vec, dims=(3, 3))\n",
    "print(psi.to_dict())"
   ]
  },
  {
   "cell_type": "code",
   "execution_count": 3,
   "id": "e688df66",
   "metadata": {
    "execution": {
     "iopub.execute_input": "2021-10-02T15:30:47.835083Z",
     "iopub.status.busy": "2021-10-02T15:30:47.833861Z",
     "iopub.status.idle": "2021-10-02T15:30:47.837301Z",
     "shell.execute_reply": "2021-10-02T15:30:47.835694Z"
    }
   },
   "outputs": [
    {
     "name": "stdout",
     "output_type": "stream",
     "text": [
      "{'00': (0.7071067811865475+0j), '91': (0.7071067811865475+0j)}\n"
     ]
    }
   ],
   "source": [
    "import numpy as np\n",
    "from qiskit.quantum_info import Statevector\n",
    "\n",
    "vec = np.zeros(2 * 10)\n",
    "vec[0] = 1 / np.sqrt(2)\n",
    "vec[-1] = 1 / np.sqrt(2)\n",
    "psi = Statevector(vec, dims=(2, 10))\n",
    "print(psi.to_dict())"
   ]
  }
 ],
 "metadata": {
  "kernelspec": {
   "display_name": "Python 3 (ipykernel)",
   "language": "python",
   "name": "python3"
  },
  "language_info": {
   "codemirror_mode": {
    "name": "ipython",
    "version": 3
   },
   "file_extension": ".py",
   "mimetype": "text/x-python",
   "name": "python",
   "nbconvert_exporter": "python",
   "pygments_lexer": "ipython3",
   "version": "3.8.12"
  }
 },
 "nbformat": 4,
 "nbformat_minor": 5
}