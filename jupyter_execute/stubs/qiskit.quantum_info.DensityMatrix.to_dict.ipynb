{
 "cells": [
  {
   "cell_type": "code",
   "execution_count": 1,
   "id": "b8549038",
   "metadata": {
    "execution": {
     "iopub.execute_input": "2021-12-07T03:24:34.277548Z",
     "iopub.status.busy": "2021-12-07T03:24:34.277071Z",
     "iopub.status.idle": "2021-12-07T03:24:34.802947Z",
     "shell.execute_reply": "2021-12-07T03:24:34.803392Z"
    }
   },
   "outputs": [
    {
     "name": "stdout",
     "output_type": "stream",
     "text": [
      "{'00|00': (0.4999999999999999+0j), '10|00': (-0.4999999999999999-0j), '00|10': (-0.4999999999999999+0j), '10|10': (0.4999999999999999+0j)}\n"
     ]
    }
   ],
   "source": [
    "from qiskit.quantum_info import DensityMatrix\n",
    "\n",
    "rho = DensityMatrix.from_label('-0')\n",
    "print(rho.to_dict())"
   ]
  },
  {
   "cell_type": "code",
   "execution_count": 2,
   "id": "d349a98a",
   "metadata": {
    "execution": {
     "iopub.execute_input": "2021-12-07T03:24:34.813989Z",
     "iopub.status.busy": "2021-12-07T03:24:34.813459Z",
     "iopub.status.idle": "2021-12-07T03:24:34.822964Z",
     "shell.execute_reply": "2021-12-07T03:24:34.822499Z"
    }
   },
   "outputs": [
    {
     "name": "stdout",
     "output_type": "stream",
     "text": [
      "{'00|00': (0.25+0j), '10|10': (0.25+0j), '20|20': (0.25+0j), '22|22': (0.25+0j)}\n"
     ]
    }
   ],
   "source": [
    "import numpy as np\n",
    "from qiskit.quantum_info import DensityMatrix\n",
    "\n",
    "mat = np.zeros((9, 9))\n",
    "mat[0, 0] = 0.25\n",
    "mat[3, 3] = 0.25\n",
    "mat[6, 6] = 0.25\n",
    "mat[-1, -1] = 0.25\n",
    "rho = DensityMatrix(mat, dims=(3, 3))\n",
    "print(rho.to_dict())"
   ]
  },
  {
   "cell_type": "code",
   "execution_count": 3,
   "id": "6ebac58f",
   "metadata": {
    "execution": {
     "iopub.execute_input": "2021-12-07T03:24:34.828201Z",
     "iopub.status.busy": "2021-12-07T03:24:34.825025Z",
     "iopub.status.idle": "2021-12-07T03:24:34.830545Z",
     "shell.execute_reply": "2021-12-07T03:24:34.830911Z"
    }
   },
   "outputs": [
    {
     "name": "stdout",
     "output_type": "stream",
     "text": [
      "{'00|00': (0.5+0j), '91|91': (0.5+0j)}\n"
     ]
    }
   ],
   "source": [
    "import numpy as np\n",
    "from qiskit.quantum_info import DensityMatrix\n",
    "\n",
    "mat = np.zeros((2 * 10, 2 * 10))\n",
    "mat[0, 0] = 0.5\n",
    "mat[-1, -1] = 0.5\n",
    "rho = DensityMatrix(mat, dims=(2, 10))\n",
    "print(rho.to_dict())"
   ]
  }
 ],
 "metadata": {
  "kernelspec": {
   "display_name": "Python 3 (ipykernel)",
   "language": "python",
   "name": "python3"
  },
  "language_info": {
   "codemirror_mode": {
    "name": "ipython",
    "version": 3
   },
   "file_extension": ".py",
   "mimetype": "text/x-python",
   "name": "python",
   "nbconvert_exporter": "python",
   "pygments_lexer": "ipython3",
   "version": "3.8.12"
  }
 },
 "nbformat": 4,
 "nbformat_minor": 5
}