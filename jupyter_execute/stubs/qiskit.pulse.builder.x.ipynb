{
 "cells": [
  {
   "cell_type": "code",
   "execution_count": 1,
   "id": "beb3858a",
   "metadata": {
    "execution": {
     "iopub.execute_input": "2021-11-13T15:38:04.218015Z",
     "iopub.status.busy": "2021-11-13T15:38:04.217502Z",
     "iopub.status.idle": "2021-11-13T15:38:05.591263Z",
     "shell.execute_reply": "2021-11-13T15:38:05.590738Z"
    }
   },
   "outputs": [],
   "source": [
    "from qiskit import pulse\n",
    "from qiskit.test.mock import FakeOpenPulse2Q\n",
    "\n",
    "backend = FakeOpenPulse2Q()\n",
    "\n",
    "with pulse.build(backend) as pulse_prog:\n",
    "    pulse.x(0)"
   ]
  }
 ],
 "metadata": {
  "kernelspec": {
   "display_name": "Python 3 (ipykernel)",
   "language": "python",
   "name": "python3"
  },
  "language_info": {
   "codemirror_mode": {
    "name": "ipython",
    "version": 3
   },
   "file_extension": ".py",
   "mimetype": "text/x-python",
   "name": "python",
   "nbconvert_exporter": "python",
   "pygments_lexer": "ipython3",
   "version": "3.8.12"
  }
 },
 "nbformat": 4,
 "nbformat_minor": 5
}