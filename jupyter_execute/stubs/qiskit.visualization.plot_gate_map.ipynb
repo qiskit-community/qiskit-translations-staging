{
 "cells": [
  {
   "cell_type": "code",
   "execution_count": 1,
   "id": "969d5fb2",
   "metadata": {
    "execution": {
     "iopub.execute_input": "2021-10-02T15:31:57.370740Z",
     "iopub.status.busy": "2021-10-02T15:31:57.369504Z",
     "iopub.status.idle": "2021-10-02T15:31:58.453311Z",
     "shell.execute_reply": "2021-10-02T15:31:58.452326Z"
    }
   },
   "outputs": [],
   "source": [
    "from qiskit.test.ibmq_mock import mock_get_backend\n",
    "mock_get_backend('FakeVigo')"
   ]
  },
  {
   "cell_type": "code",
   "execution_count": 2,
   "id": "7d751b2a",
   "metadata": {
    "execution": {
     "iopub.execute_input": "2021-10-02T15:31:58.459758Z",
     "iopub.status.busy": "2021-10-02T15:31:58.458445Z",
     "iopub.status.idle": "2021-10-02T15:31:58.805083Z",
     "shell.execute_reply": "2021-10-02T15:31:58.804452Z"
    }
   },
   "outputs": [
    {
     "data": {
      "image/png": "[encoded data removed]",
      "text/plain": [
       "<Figure size 360x360 with 1 Axes>"
      ]
     },
     "execution_count": 2,
     "metadata": {
      "filenames": {
       "image/png": "/home/runner/work/qiskit-translations/qiskit-translations/docs/_build/html/locale/jupyter_execute/stubs/qiskit.visualization.plot_gate_map_1_0.png"
      }
     },
     "output_type": "execute_result"
    }
   ],
   "source": [
    "from qiskit import QuantumCircuit, execute, IBMQ\n",
    "from qiskit.visualization import plot_gate_map\n",
    "%matplotlib inline\n",
    "\n",
    "provider = IBMQ.load_account()\n",
    "accountProvider = IBMQ.get_provider(hub='ibm-q')\n",
    "backend = accountProvider.get_backend('ibmq_vigo')\n",
    "plot_gate_map(backend)"
   ]
  }
 ],
 "metadata": {
  "kernelspec": {
   "display_name": "Python 3 (ipykernel)",
   "language": "python",
   "name": "python3"
  },
  "language_info": {
   "codemirror_mode": {
    "name": "ipython",
    "version": 3
   },
   "file_extension": ".py",
   "mimetype": "text/x-python",
   "name": "python",
   "nbconvert_exporter": "python",
   "pygments_lexer": "ipython3",
   "version": "3.8.12"
  }
 },
 "nbformat": 4,
 "nbformat_minor": 5
}