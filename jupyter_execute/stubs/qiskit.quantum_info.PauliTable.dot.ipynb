{
 "cells": [
  {
   "cell_type": "code",
   "execution_count": 1,
   "id": "16ca1fc4",
   "metadata": {
    "execution": {
     "iopub.execute_input": "2021-11-12T20:11:35.304273Z",
     "iopub.status.busy": "2021-11-12T20:11:35.303630Z",
     "iopub.status.idle": "2021-11-12T20:11:36.279771Z",
     "shell.execute_reply": "2021-11-12T20:11:36.280290Z"
    }
   },
   "outputs": [
    {
     "name": "stdout",
     "output_type": "stream",
     "text": [
      "PauliTable: ['Y', 'Z', 'Z', 'Y']\n"
     ]
    }
   ],
   "source": [
    "from qiskit.quantum_info.operators import PauliTable\n",
    "\n",
    "current = PauliTable.from_labels(['I', 'X'])\n",
    "other =  PauliTable.from_labels(['Y', 'Z'])\n",
    "print(current.dot(other))"
   ]
  }
 ],
 "metadata": {
  "kernelspec": {
   "display_name": "Python 3 (ipykernel)",
   "language": "python",
   "name": "python3"
  },
  "language_info": {
   "codemirror_mode": {
    "name": "ipython",
    "version": 3
   },
   "file_extension": ".py",
   "mimetype": "text/x-python",
   "name": "python",
   "nbconvert_exporter": "python",
   "pygments_lexer": "ipython3",
   "version": "3.8.12"
  }
 },
 "nbformat": 4,
 "nbformat_minor": 5
}