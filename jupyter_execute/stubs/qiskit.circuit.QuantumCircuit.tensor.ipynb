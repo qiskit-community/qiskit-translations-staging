{
 "cells": [
  {
   "cell_type": "code",
   "execution_count": 1,
   "id": "3f18a907",
   "metadata": {
    "execution": {
     "iopub.execute_input": "2021-12-07T03:19:39.576774Z",
     "iopub.status.busy": "2021-12-07T03:19:39.576356Z",
     "iopub.status.idle": "2021-12-07T03:19:40.057857Z",
     "shell.execute_reply": "2021-12-07T03:19:40.059012Z"
    }
   },
   "outputs": [
    {
     "name": "stdout",
     "output_type": "stream",
     "text": [
      "        ┌───┐   \n",
      "q_0: ───┤ X ├───\n",
      "        └───┘   \n",
      "q_1: ─────■─────\n",
      "     ┌────┴────┐\n",
      "q_2: ┤ Ry(0.2) ├\n",
      "     └─────────┘\n"
     ]
    }
   ],
   "source": [
    "from qiskit import QuantumCircuit\n",
    "top = QuantumCircuit(1)\n",
    "top.x(0);\n",
    "bottom = QuantumCircuit(2)\n",
    "bottom.cry(0.2, 0, 1);\n",
    "tensored = bottom.tensor(top)\n",
    "print(tensored.draw())"
   ]
  }
 ],
 "metadata": {
  "kernelspec": {
   "display_name": "Python 3 (ipykernel)",
   "language": "python",
   "name": "python3"
  },
  "language_info": {
   "codemirror_mode": {
    "name": "ipython",
    "version": 3
   },
   "file_extension": ".py",
   "mimetype": "text/x-python",
   "name": "python",
   "nbconvert_exporter": "python",
   "pygments_lexer": "ipython3",
   "version": "3.8.12"
  }
 },
 "nbformat": 4,
 "nbformat_minor": 5
}