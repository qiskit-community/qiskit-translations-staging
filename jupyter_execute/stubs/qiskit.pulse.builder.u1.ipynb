{
 "cells": [
  {
   "cell_type": "code",
   "execution_count": 1,
   "id": "af4e3d55",
   "metadata": {
    "execution": {
     "iopub.execute_input": "2021-10-02T15:28:44.434349Z",
     "iopub.status.busy": "2021-10-02T15:28:44.433754Z",
     "iopub.status.idle": "2021-10-02T15:28:46.094118Z",
     "shell.execute_reply": "2021-10-02T15:28:46.093033Z"
    }
   },
   "outputs": [],
   "source": [
    "import math\n",
    "\n",
    "from qiskit import pulse\n",
    "from qiskit.test.mock import FakeOpenPulse2Q\n",
    "\n",
    "backend = FakeOpenPulse2Q()\n",
    "\n",
    "with pulse.build(backend) as pulse_prog:\n",
    "    pulse.u1(math.pi, 1)"
   ]
  }
 ],
 "metadata": {
  "kernelspec": {
   "display_name": "Python 3 (ipykernel)",
   "language": "python",
   "name": "python3"
  },
  "language_info": {
   "codemirror_mode": {
    "name": "ipython",
    "version": 3
   },
   "file_extension": ".py",
   "mimetype": "text/x-python",
   "name": "python",
   "nbconvert_exporter": "python",
   "pygments_lexer": "ipython3",
   "version": "3.8.12"
  }
 },
 "nbformat": 4,
 "nbformat_minor": 5
}