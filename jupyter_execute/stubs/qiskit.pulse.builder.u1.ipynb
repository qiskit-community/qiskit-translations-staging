{
 "cells": [
  {
   "cell_type": "code",
   "execution_count": 1,
   "id": "7a9a3fe9",
   "metadata": {
    "execution": {
     "iopub.execute_input": "2022-01-05T17:24:15.528661Z",
     "iopub.status.busy": "2022-01-05T17:24:15.528087Z",
     "iopub.status.idle": "2022-01-05T17:24:16.420023Z",
     "shell.execute_reply": "2022-01-05T17:24:16.419465Z"
    }
   },
   "outputs": [],
   "source": [
    "import math\n",
    "\n",
    "from qiskit import pulse\n",
    "from qiskit.test.mock import FakeOpenPulse2Q\n",
    "\n",
    "backend = FakeOpenPulse2Q()\n",
    "\n",
    "with pulse.build(backend) as pulse_prog:\n",
    "    pulse.u1(math.pi, 1)"
   ]
  }
 ],
 "metadata": {
  "kernelspec": {
   "display_name": "Python 3 (ipykernel)",
   "language": "python",
   "name": "python3"
  },
  "language_info": {
   "codemirror_mode": {
    "name": "ipython",
    "version": 3
   },
   "file_extension": ".py",
   "mimetype": "text/x-python",
   "name": "python",
   "nbconvert_exporter": "python",
   "pygments_lexer": "ipython3",
   "version": "3.8.12"
  }
 },
 "nbformat": 4,
 "nbformat_minor": 5
}