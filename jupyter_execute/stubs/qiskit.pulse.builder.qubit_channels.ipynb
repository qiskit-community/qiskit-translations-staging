{
 "cells": [
  {
   "cell_type": "code",
   "execution_count": 1,
   "id": "f685b291",
   "metadata": {
    "execution": {
     "iopub.execute_input": "2021-11-13T15:37:43.279999Z",
     "iopub.status.busy": "2021-11-13T15:37:43.279483Z",
     "iopub.status.idle": "2021-11-13T15:37:44.226361Z",
     "shell.execute_reply": "2021-11-13T15:37:44.226831Z"
    }
   },
   "outputs": [
    {
     "name": "stdout",
     "output_type": "stream",
     "text": [
      "{ControlChannel(1), ControlChannel(0), AcquireChannel(0), DriveChannel(0), MeasureChannel(0)}\n"
     ]
    }
   ],
   "source": [
    "from qiskit import pulse\n",
    "from qiskit.test.mock import FakeOpenPulse2Q\n",
    "\n",
    "backend = FakeOpenPulse2Q()\n",
    "\n",
    "with pulse.build(backend):\n",
    "    print(pulse.qubit_channels(0))"
   ]
  }
 ],
 "metadata": {
  "kernelspec": {
   "display_name": "Python 3 (ipykernel)",
   "language": "python",
   "name": "python3"
  },
  "language_info": {
   "codemirror_mode": {
    "name": "ipython",
    "version": 3
   },
   "file_extension": ".py",
   "mimetype": "text/x-python",
   "name": "python",
   "nbconvert_exporter": "python",
   "pygments_lexer": "ipython3",
   "version": "3.8.12"
  }
 },
 "nbformat": 4,
 "nbformat_minor": 5
}