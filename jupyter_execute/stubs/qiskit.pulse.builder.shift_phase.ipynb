{
 "cells": [
  {
   "cell_type": "code",
   "execution_count": 1,
   "id": "ce159ca5",
   "metadata": {
    "execution": {
     "iopub.execute_input": "2021-11-12T15:47:03.881829Z",
     "iopub.status.busy": "2021-11-12T15:47:03.881259Z",
     "iopub.status.idle": "2021-11-12T15:47:04.857755Z",
     "shell.execute_reply": "2021-11-12T15:47:04.857150Z"
    }
   },
   "outputs": [],
   "source": [
    "import math\n",
    "\n",
    "from qiskit import pulse\n",
    "\n",
    "d0 = pulse.DriveChannel(0)\n",
    "\n",
    "with pulse.build() as pulse_prog:\n",
    "    pulse.shift_phase(math.pi, d0)"
   ]
  }
 ],
 "metadata": {
  "kernelspec": {
   "display_name": "Python 3 (ipykernel)",
   "language": "python",
   "name": "python3"
  },
  "language_info": {
   "codemirror_mode": {
    "name": "ipython",
    "version": 3
   },
   "file_extension": ".py",
   "mimetype": "text/x-python",
   "name": "python",
   "nbconvert_exporter": "python",
   "pygments_lexer": "ipython3",
   "version": "3.8.12"
  }
 },
 "nbformat": 4,
 "nbformat_minor": 5
}