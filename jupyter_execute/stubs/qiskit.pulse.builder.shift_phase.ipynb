{
 "cells": [
  {
   "cell_type": "code",
   "execution_count": 1,
   "id": "2681040d",
   "metadata": {
    "execution": {
     "iopub.execute_input": "2021-11-15T18:24:03.225474Z",
     "iopub.status.busy": "2021-11-15T18:24:03.224874Z",
     "iopub.status.idle": "2021-11-15T18:24:04.322064Z",
     "shell.execute_reply": "2021-11-15T18:24:04.321238Z"
    }
   },
   "outputs": [],
   "source": [
    "import math\n",
    "\n",
    "from qiskit import pulse\n",
    "\n",
    "d0 = pulse.DriveChannel(0)\n",
    "\n",
    "with pulse.build() as pulse_prog:\n",
    "    pulse.shift_phase(math.pi, d0)"
   ]
  }
 ],
 "metadata": {
  "kernelspec": {
   "display_name": "Python 3 (ipykernel)",
   "language": "python",
   "name": "python3"
  },
  "language_info": {
   "codemirror_mode": {
    "name": "ipython",
    "version": 3
   },
   "file_extension": ".py",
   "mimetype": "text/x-python",
   "name": "python",
   "nbconvert_exporter": "python",
   "pygments_lexer": "ipython3",
   "version": "3.8.12"
  }
 },
 "nbformat": 4,
 "nbformat_minor": 5
}