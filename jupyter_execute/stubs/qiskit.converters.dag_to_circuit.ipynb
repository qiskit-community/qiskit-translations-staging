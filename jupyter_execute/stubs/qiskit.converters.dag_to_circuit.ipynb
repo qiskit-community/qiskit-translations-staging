{
 "cells": [
  {
   "cell_type": "code",
   "execution_count": 1,
   "id": "8cf4520b",
   "metadata": {
    "execution": {
     "iopub.execute_input": "2021-12-21T01:35:51.240099Z",
     "iopub.status.busy": "2021-12-21T01:35:51.239571Z",
     "iopub.status.idle": "2021-12-21T01:35:52.389442Z",
     "shell.execute_reply": "2021-12-21T01:35:52.389809Z"
    }
   },
   "outputs": [
    {
     "data": {
      "text/html": [
       "<pre style=\"word-wrap: normal;white-space: pre;background: #fff0;line-height: 1.1;font-family: &quot;Courier New&quot;,Courier,monospace\">     ┌───┐     ┌─┐           \n",
       "q_0: ┤ H ├──■──┤M├───────────\n",
       "     └───┘┌─┴─┐└╥┘┌─────────┐\n",
       "q_1: ─────┤ X ├─╫─┤ Rz(0.5) ├\n",
       "          └───┘ ║ └────╥────┘\n",
       "q_2: ───────────╫──────╫─────\n",
       "                ║   ┌──╨──┐  \n",
       "c: 3/═══════════╩═══╡ 0x2 ╞══\n",
       "                0   └─────┘  </pre>"
      ],
      "text/plain": [
       "     ┌───┐     ┌─┐           \n",
       "q_0: ┤ H ├──■──┤M├───────────\n",
       "     └───┘┌─┴─┐└╥┘┌─────────┐\n",
       "q_1: ─────┤ X ├─╫─┤ Rz(0.5) ├\n",
       "          └───┘ ║ └────╥────┘\n",
       "q_2: ───────────╫──────╫─────\n",
       "                ║   ┌──╨──┐  \n",
       "c: 3/═══════════╩═══╡ 0x2 ╞══\n",
       "                0   └─────┘  "
      ]
     },
     "execution_count": 1,
     "metadata": {},
     "output_type": "execute_result"
    }
   ],
   "source": [
    "from qiskit import QuantumRegister, ClassicalRegister, QuantumCircuit\n",
    "from qiskit.dagcircuit import DAGCircuit\n",
    "from qiskit.converters import circuit_to_dag\n",
    "from qiskit.circuit.library.standard_gates import CHGate, U2Gate, CXGate\n",
    "from qiskit.converters import dag_to_circuit\n",
    "%matplotlib inline\n",
    "\n",
    "q = QuantumRegister(3, 'q')\n",
    "c = ClassicalRegister(3, 'c')\n",
    "circ = QuantumCircuit(q, c)\n",
    "circ.h(q[0])\n",
    "circ.cx(q[0], q[1])\n",
    "circ.measure(q[0], c[0])\n",
    "circ.rz(0.5, q[1]).c_if(c, 2)\n",
    "dag = circuit_to_dag(circ)\n",
    "circuit = dag_to_circuit(dag)\n",
    "circuit.draw()"
   ]
  }
 ],
 "metadata": {
  "kernelspec": {
   "display_name": "Python 3 (ipykernel)",
   "language": "python",
   "name": "python3"
  },
  "language_info": {
   "codemirror_mode": {
    "name": "ipython",
    "version": 3
   },
   "file_extension": ".py",
   "mimetype": "text/x-python",
   "name": "python",
   "nbconvert_exporter": "python",
   "pygments_lexer": "ipython3",
   "version": "3.8.12"
  }
 },
 "nbformat": 4,
 "nbformat_minor": 5
}