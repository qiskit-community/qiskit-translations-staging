{
 "cells": [
  {
   "cell_type": "code",
   "execution_count": 1,
   "id": "95b12dea",
   "metadata": {
    "execution": {
     "iopub.execute_input": "2021-07-12T16:13:33.350251Z",
     "iopub.status.busy": "2021-07-12T16:13:33.347874Z",
     "iopub.status.idle": "2021-07-12T16:13:34.075547Z",
     "shell.execute_reply": "2021-07-12T16:13:34.076047Z"
    }
   },
   "outputs": [],
   "source": [
    "from qiskit import pulse\n",
    "\n",
    "d0 = pulse.DriveChannel(0)\n",
    "d1 = pulse.DriveChannel(1)\n",
    "d2 = pulse.DriveChannel(2)\n",
    "\n",
    "with pulse.build() as pulse_prog:\n",
    "    # will be ignored due to internal grouping\n",
    "    with pulse.align_left():\n",
    "        pulse.play(pulse.Constant(10, 1.0), d0)\n",
    "        with pulse.inline():\n",
    "            with pulse.align_right():\n",
    "                # this pulse will start at t=0\n",
    "                pulse.play(pulse.Constant(100, 1.0), d1)\n",
    "                # this pulse will also start at t=0\n",
    "                pulse.play(pulse.Constant(20, 1.0), d2)\n",
    "\n",
    "assert (pulse_prog.ch_start_time(d0) ==\n",
    "        pulse_prog.ch_start_time(d1) ==\n",
    "        pulse_prog.ch_start_time(d2))"
   ]
  }
 ],
 "metadata": {
  "kernelspec": {
   "display_name": "Python 3 (ipykernel)",
   "language": "python",
   "name": "python3"
  },
  "language_info": {
   "codemirror_mode": {
    "name": "ipython",
    "version": 3
   },
   "file_extension": ".py",
   "mimetype": "text/x-python",
   "name": "python",
   "nbconvert_exporter": "python",
   "pygments_lexer": "ipython3",
   "version": "3.8.10"
  }
 },
 "nbformat": 4,
 "nbformat_minor": 5
}