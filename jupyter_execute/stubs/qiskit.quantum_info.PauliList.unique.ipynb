{
 "cells": [
  {
   "cell_type": "code",
   "execution_count": 1,
   "id": "d9955ea2",
   "metadata": {
    "execution": {
     "iopub.execute_input": "2021-11-12T15:48:19.261931Z",
     "iopub.status.busy": "2021-11-12T15:48:19.261298Z",
     "iopub.status.idle": "2021-11-12T15:48:20.228584Z",
     "shell.execute_reply": "2021-11-12T15:48:20.229320Z"
    }
   },
   "outputs": [
    {
     "name": "stdout",
     "output_type": "stream",
     "text": [
      "['X', 'Y', '-X', 'I', 'Z', 'iZ']\n"
     ]
    }
   ],
   "source": [
    "from qiskit.quantum_info.operators import PauliList\n",
    "\n",
    "pt = PauliList(['X', 'Y', '-X', 'I', 'I', 'Z', 'X', 'iZ'])\n",
    "unique = pt.unique()\n",
    "print(unique)"
   ]
  }
 ],
 "metadata": {
  "kernelspec": {
   "display_name": "Python 3 (ipykernel)",
   "language": "python",
   "name": "python3"
  },
  "language_info": {
   "codemirror_mode": {
    "name": "ipython",
    "version": 3
   },
   "file_extension": ".py",
   "mimetype": "text/x-python",
   "name": "python",
   "nbconvert_exporter": "python",
   "pygments_lexer": "ipython3",
   "version": "3.8.12"
  }
 },
 "nbformat": 4,
 "nbformat_minor": 5
}