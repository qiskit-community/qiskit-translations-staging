{
 "cells": [
  {
   "cell_type": "code",
   "execution_count": 1,
   "id": "c5cde365",
   "metadata": {
    "execution": {
     "iopub.execute_input": "2022-01-05T17:23:44.146854Z",
     "iopub.status.busy": "2022-01-05T17:23:44.146282Z",
     "iopub.status.idle": "2022-01-05T17:23:44.754951Z",
     "shell.execute_reply": "2022-01-05T17:23:44.754100Z"
    }
   },
   "outputs": [],
   "source": [
    "from qiskit import pulse\n",
    "from qiskit.test.mock import FakeOpenPulse2Q\n",
    "\n",
    "backend = FakeOpenPulse2Q()\n",
    "with pulse.build(backend):\n",
    "    assert pulse.control_channels(0, 1) == [pulse.ControlChannel(0)]"
   ]
  }
 ],
 "metadata": {
  "kernelspec": {
   "display_name": "Python 3 (ipykernel)",
   "language": "python",
   "name": "python3"
  },
  "language_info": {
   "codemirror_mode": {
    "name": "ipython",
    "version": 3
   },
   "file_extension": ".py",
   "mimetype": "text/x-python",
   "name": "python",
   "nbconvert_exporter": "python",
   "pygments_lexer": "ipython3",
   "version": "3.8.12"
  }
 },
 "nbformat": 4,
 "nbformat_minor": 5
}