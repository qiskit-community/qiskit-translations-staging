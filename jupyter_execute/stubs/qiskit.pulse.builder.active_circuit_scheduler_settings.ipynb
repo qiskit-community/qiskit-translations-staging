{
 "cells": [
  {
   "cell_type": "code",
   "execution_count": 1,
   "id": "0a01c486",
   "metadata": {
    "execution": {
     "iopub.execute_input": "2021-10-02T15:27:32.018402Z",
     "iopub.status.busy": "2021-10-02T15:27:32.017391Z",
     "iopub.status.idle": "2021-10-02T15:27:33.129031Z",
     "shell.execute_reply": "2021-10-02T15:27:33.129613Z"
    }
   },
   "outputs": [
    {
     "name": "stdout",
     "output_type": "stream",
     "text": [
      "{'method': 'alap'}\n"
     ]
    }
   ],
   "source": [
    "from qiskit import pulse\n",
    "from qiskit.test.mock import FakeOpenPulse2Q\n",
    "\n",
    "backend = FakeOpenPulse2Q()\n",
    "\n",
    "circuit_scheduler_settings = {'method': 'alap'}\n",
    "\n",
    "with pulse.build(\n",
    "        backend,\n",
    "        default_circuit_scheduler_settings=circuit_scheduler_settings):\n",
    "    print(pulse.active_circuit_scheduler_settings())"
   ]
  }
 ],
 "metadata": {
  "kernelspec": {
   "display_name": "Python 3 (ipykernel)",
   "language": "python",
   "name": "python3"
  },
  "language_info": {
   "codemirror_mode": {
    "name": "ipython",
    "version": 3
   },
   "file_extension": ".py",
   "mimetype": "text/x-python",
   "name": "python",
   "nbconvert_exporter": "python",
   "pygments_lexer": "ipython3",
   "version": "3.8.12"
  }
 },
 "nbformat": 4,
 "nbformat_minor": 5
}