{
 "cells": [
  {
   "cell_type": "code",
   "execution_count": 1,
   "id": "91a63ffc",
   "metadata": {
    "execution": {
     "iopub.execute_input": "2022-01-05T17:17:05.005124Z",
     "iopub.status.busy": "2022-01-05T17:17:05.004547Z",
     "iopub.status.idle": "2022-01-05T17:17:05.583727Z",
     "shell.execute_reply": "2022-01-05T17:17:05.584196Z"
    }
   },
   "outputs": [],
   "source": [
    "from qiskit import *"
   ]
  },
  {
   "cell_type": "code",
   "execution_count": 2,
   "id": "f0b0a973",
   "metadata": {
    "execution": {
     "iopub.execute_input": "2022-01-05T17:17:05.592527Z",
     "iopub.status.busy": "2022-01-05T17:17:05.591916Z",
     "iopub.status.idle": "2022-01-05T17:17:05.603319Z",
     "shell.execute_reply": "2022-01-05T17:17:05.603760Z"
    }
   },
   "outputs": [
    {
     "data": {
      "text/plain": [
       "<qiskit.circuit.instructionset.InstructionSet at 0x7f53b08fcb40>"
      ]
     },
     "execution_count": 2,
     "metadata": {},
     "output_type": "execute_result"
    }
   ],
   "source": [
    "qr = QuantumRegister(3, 'q')\n",
    "cr = ClassicalRegister(2, 'zx_meas')\n",
    "qc = QuantumCircuit(qr,cr)\n",
    "qc.reset(range(3))\n",
    "qc.barrier()\n",
    "qc.h(1)\n",
    "qc.cx([1,0],[2,1])\n",
    "qc.h(0)\n",
    "qc.barrier()\n",
    "qc.measure([0,1], [0,1])\n",
    "qc.barrier()\n",
    "qc.z(2).c_if(cr, 1)\n",
    "qc.x(2).c_if(cr, 2)"
   ]
  }
 ],
 "metadata": {
  "kernelspec": {
   "display_name": "Python 3 (ipykernel)",
   "language": "python",
   "name": "python3"
  },
  "language_info": {
   "codemirror_mode": {
    "name": "ipython",
    "version": 3
   },
   "file_extension": ".py",
   "mimetype": "text/x-python",
   "name": "python",
   "nbconvert_exporter": "python",
   "pygments_lexer": "ipython3",
   "version": "3.8.12"
  }
 },
 "nbformat": 4,
 "nbformat_minor": 5
}