{
 "cells": [
  {
   "cell_type": "code",
   "execution_count": 1,
   "id": "9ca72676",
   "metadata": {
    "execution": {
     "iopub.execute_input": "2021-12-07T03:17:09.909923Z",
     "iopub.status.busy": "2021-12-07T03:17:09.909452Z",
     "iopub.status.idle": "2021-12-07T03:17:10.403997Z",
     "shell.execute_reply": "2021-12-07T03:17:10.402943Z"
    }
   },
   "outputs": [],
   "source": [
    "from qiskit import *"
   ]
  },
  {
   "cell_type": "code",
   "execution_count": 2,
   "id": "397dc86c",
   "metadata": {
    "execution": {
     "iopub.execute_input": "2021-12-07T03:17:10.415897Z",
     "iopub.status.busy": "2021-12-07T03:17:10.415383Z",
     "iopub.status.idle": "2021-12-07T03:17:10.420397Z",
     "shell.execute_reply": "2021-12-07T03:17:10.420750Z"
    }
   },
   "outputs": [
    {
     "data": {
      "text/plain": [
       "<qiskit.circuit.instructionset.InstructionSet at 0x7fdd7c211e40>"
      ]
     },
     "execution_count": 2,
     "metadata": {},
     "output_type": "execute_result"
    }
   ],
   "source": [
    "qr = QuantumRegister(3, 'q')\n",
    "cr = ClassicalRegister(2, 'zx_meas')\n",
    "qc = QuantumCircuit(qr,cr)\n",
    "qc.reset(range(3))\n",
    "qc.barrier()\n",
    "qc.h(1)\n",
    "qc.cx([1,0],[2,1])\n",
    "qc.h(0)\n",
    "qc.barrier()\n",
    "qc.measure([0,1], [0,1])\n",
    "qc.barrier()\n",
    "qc.z(2).c_if(cr, 1)\n",
    "qc.x(2).c_if(cr, 2)"
   ]
  }
 ],
 "metadata": {
  "kernelspec": {
   "display_name": "Python 3 (ipykernel)",
   "language": "python",
   "name": "python3"
  },
  "language_info": {
   "codemirror_mode": {
    "name": "ipython",
    "version": 3
   },
   "file_extension": ".py",
   "mimetype": "text/x-python",
   "name": "python",
   "nbconvert_exporter": "python",
   "pygments_lexer": "ipython3",
   "version": "3.8.12"
  }
 },
 "nbformat": 4,
 "nbformat_minor": 5
}