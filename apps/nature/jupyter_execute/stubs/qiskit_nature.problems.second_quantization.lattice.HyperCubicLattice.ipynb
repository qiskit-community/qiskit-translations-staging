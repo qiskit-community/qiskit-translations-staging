{
 "cells": [
  {
   "cell_type": "code",
   "execution_count": 1,
   "id": "3de8d995",
   "metadata": {
    "execution": {
     "iopub.execute_input": "2022-02-23T17:45:30.179529Z",
     "iopub.status.busy": "2022-02-23T17:45:30.179161Z",
     "iopub.status.idle": "2022-02-23T17:45:31.896444Z",
     "shell.execute_reply": "2022-02-23T17:45:31.895594Z"
    }
   },
   "outputs": [],
   "source": [
    "from qiskit_nature.problems.second_quantization.lattice import (\n",
    "    BoundaryCondition,\n",
    "    HyperCubicLattice,\n",
    "    )\n",
    "\n",
    "lattice = HyperCubicLattice(\n",
    "    size = (3, 4, 5),\n",
    "    edge_parameter = (1.0, -2.0, 3.0),\n",
    "    onsite_parameter = 2.0,\n",
    "    boundary_condition = (BoundaryCondition.OPEN, BoundaryCondition.OPEN, BoundaryCondition.OPEN)\n",
    "    )"
   ]
  }
 ],
 "metadata": {
  "kernelspec": {
   "display_name": "Python 3 (ipykernel)",
   "language": "python",
   "name": "python3"
  },
  "language_info": {
   "codemirror_mode": {
    "name": "ipython",
    "version": 3
   },
   "file_extension": ".py",
   "mimetype": "text/x-python",
   "name": "python",
   "nbconvert_exporter": "python",
   "pygments_lexer": "ipython3",
   "version": "3.8.12"
  }
 },
 "nbformat": 4,
 "nbformat_minor": 5
}