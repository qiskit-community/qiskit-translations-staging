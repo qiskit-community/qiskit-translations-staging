{
 "cells": [
  {
   "cell_type": "code",
   "execution_count": 1,
   "id": "90722d39",
   "metadata": {
    "execution": {
     "iopub.execute_input": "2022-07-08T05:31:23.280053Z",
     "iopub.status.busy": "2022-07-08T05:31:23.279476Z",
     "iopub.status.idle": "2022-07-08T05:31:25.000635Z",
     "shell.execute_reply": "2022-07-08T05:31:24.999695Z"
    }
   },
   "outputs": [],
   "source": [
    "from qiskit_nature.problems.second_quantization.lattice import (\n",
    "    BoundaryCondition,\n",
    "    HyperCubicLattice,\n",
    "    )\n",
    "\n",
    "lattice = HyperCubicLattice(\n",
    "    size = (3, 4, 5),\n",
    "    edge_parameter = (1.0, -2.0, 3.0),\n",
    "    onsite_parameter = 2.0,\n",
    "    boundary_condition = (BoundaryCondition.OPEN, BoundaryCondition.OPEN, BoundaryCondition.OPEN)\n",
    "    )"
   ]
  }
 ],
 "metadata": {
  "kernelspec": {
   "display_name": "Python 3 (ipykernel)",
   "language": "python",
   "name": "python3"
  },
  "language_info": {
   "codemirror_mode": {
    "name": "ipython",
    "version": 3
   },
   "file_extension": ".py",
   "mimetype": "text/x-python",
   "name": "python",
   "nbconvert_exporter": "python",
   "pygments_lexer": "ipython3",
   "version": "3.8.13"
  }
 },
 "nbformat": 4,
 "nbformat_minor": 5
}