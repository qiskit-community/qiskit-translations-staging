{
 "cells": [
  {
   "cell_type": "code",
   "execution_count": 1,
   "id": "e1f5a769",
   "metadata": {
    "execution": {
     "iopub.execute_input": "2022-06-21T17:02:33.073970Z",
     "iopub.status.busy": "2022-06-21T17:02:33.073690Z",
     "iopub.status.idle": "2022-06-21T17:02:33.640612Z",
     "shell.execute_reply": "2022-06-21T17:02:33.638601Z"
    }
   },
   "outputs": [
    {
     "name": "stdout",
     "output_type": "stream",
     "text": [
      "truncated str output\n",
      "Fermionic Operator\n",
      "register length=1, number terms=25\n",
      "  (1+0j)\n",
      "+ (1+0j)\n",
      "+ (1+0j)\n",
      "+ (1+0j)\n",
      "+ (1+0j)\n",
      "+ (1+0j)\n",
      "+ (1+0j)\n",
      "+ (1+0j)\n",
      "+ (1+0j)\n",
      "+ (1+0j)\n",
      "+ (1+0j)\n",
      "+ (1+0j)\n",
      "+ (1+0j)\n",
      "+ (1+0j)\n",
      "+ (1+0j)\n",
      "+ (1+0j)\n",
      "+ (1+0j)\n",
      "+ (1+0j)\n",
      "+ (1+0j)\n",
      "+ (1+0j)\n",
      "+ (1+0j)\n",
      "+ (1+0j ...\n",
      "not truncated str output\n",
      "Fermionic Operator\n",
      "register length=1, number terms=25\n",
      "  (1+0j)\n",
      "+ (1+0j)\n",
      "+ (1+0j)\n",
      "+ (1+0j)\n",
      "+ (1+0j)\n",
      "+ (1+0j)\n",
      "+ (1+0j)\n",
      "+ (1+0j)\n",
      "+ (1+0j)\n",
      "+ (1+0j)\n",
      "+ (1+0j)\n",
      "+ (1+0j)\n",
      "+ (1+0j)\n",
      "+ (1+0j)\n",
      "+ (1+0j)\n",
      "+ (1+0j)\n",
      "+ (1+0j)\n",
      "+ (1+0j)\n",
      "+ (1+0j)\n",
      "+ (1+0j)\n",
      "+ (1+0j)\n",
      "+ (1+0j)\n",
      "+ (1+0j)\n",
      "+ (1+0j)\n",
      "+ (1+0j)\n"
     ]
    }
   ],
   "source": [
    "from qiskit_nature.operators.second_quantization import FermionicOp\n",
    "\n",
    "print(\"truncated str output\")\n",
    "print(sum(FermionicOp(\"I\", display_format=\"sparse\") for _ in range(25)))\n",
    "\n",
    "FermionicOp.set_truncation(0)\n",
    "print(\"not truncated str output\")\n",
    "print(sum(FermionicOp(\"I\", display_format=\"sparse\") for _ in range(25)))"
   ]
  },
  {
   "cell_type": "code",
   "execution_count": 2,
   "id": "07ee7d0d",
   "metadata": {
    "execution": {
     "iopub.execute_input": "2022-06-21T17:02:33.643970Z",
     "iopub.status.busy": "2022-06-21T17:02:33.643476Z",
     "iopub.status.idle": "2022-06-21T17:02:33.654070Z",
     "shell.execute_reply": "2022-06-21T17:02:33.653520Z"
    }
   },
   "outputs": [
    {
     "data": {
      "text/plain": [
       "FermionicOp([('I+', (0.5+0j)), ('+I', (1+0j))], register_length=2, display_format='dense')"
      ]
     },
     "execution_count": 2,
     "metadata": {},
     "output_type": "execute_result"
    }
   ],
   "source": [
    "0.5 * FermionicOp(\"I+\", display_format=\"dense\") + FermionicOp(\"+I\", display_format=\"dense\")"
   ]
  },
  {
   "cell_type": "code",
   "execution_count": 3,
   "id": "c03ceb74",
   "metadata": {
    "execution": {
     "iopub.execute_input": "2022-06-21T17:02:33.657080Z",
     "iopub.status.busy": "2022-06-21T17:02:33.656647Z",
     "iopub.status.idle": "2022-06-21T17:02:33.661466Z",
     "shell.execute_reply": "2022-06-21T17:02:33.660797Z"
    }
   },
   "outputs": [
    {
     "data": {
      "text/plain": [
       "FermionicOp([('+_0', (0.25+0j)), ('-_1', (0.25+0j)), ('+_2 -_2', (0.25+0j))], register_length=3, display_format='sparse')"
      ]
     },
     "execution_count": 3,
     "metadata": {},
     "output_type": "execute_result"
    }
   ],
   "source": [
    "0.25 * sum(FermionicOp(label, display_format=\"sparse\") for label in ['+_0', '-_1', 'N_2'])"
   ]
  },
  {
   "cell_type": "code",
   "execution_count": 4,
   "id": "a71ba5de",
   "metadata": {
    "execution": {
     "iopub.execute_input": "2022-06-21T17:02:33.665110Z",
     "iopub.status.busy": "2022-06-21T17:02:33.664550Z",
     "iopub.status.idle": "2022-06-21T17:02:33.668448Z",
     "shell.execute_reply": "2022-06-21T17:02:33.667733Z"
    }
   },
   "outputs": [
    {
     "name": "stdout",
     "output_type": "stream",
     "text": [
      "(1+0j) * (+E)\n"
     ]
    }
   ],
   "source": [
    "print(FermionicOp(\"+-\", display_format=\"dense\") @ FermionicOp(\"E+\", display_format=\"dense\"))"
   ]
  },
  {
   "cell_type": "code",
   "execution_count": 5,
   "id": "547ebebe",
   "metadata": {
    "execution": {
     "iopub.execute_input": "2022-06-21T17:02:33.671635Z",
     "iopub.status.busy": "2022-06-21T17:02:33.671092Z",
     "iopub.status.idle": "2022-06-21T17:02:33.675413Z",
     "shell.execute_reply": "2022-06-21T17:02:33.674745Z"
    }
   },
   "outputs": [
    {
     "data": {
      "text/plain": [
       "FermionicOp([('-', (1+0j))], register_length=1, display_format='dense')"
      ]
     },
     "execution_count": 5,
     "metadata": {},
     "output_type": "execute_result"
    }
   ],
   "source": [
    "~FermionicOp(\"+\", display_format=\"dense\")"
   ]
  }
 ],
 "metadata": {
  "kernelspec": {
   "display_name": "Python 3 (ipykernel)",
   "language": "python",
   "name": "python3"
  },
  "language_info": {
   "codemirror_mode": {
    "name": "ipython",
    "version": 3
   },
   "file_extension": ".py",
   "mimetype": "text/x-python",
   "name": "python",
   "nbconvert_exporter": "python",
   "pygments_lexer": "ipython3",
   "version": "3.8.12"
  }
 },
 "nbformat": 4,
 "nbformat_minor": 5
}