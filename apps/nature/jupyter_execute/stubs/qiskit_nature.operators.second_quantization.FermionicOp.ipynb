{
 "cells": [
  {
   "cell_type": "code",
   "execution_count": 1,
   "id": "4110eed1",
   "metadata": {
    "execution": {
     "iopub.execute_input": "2022-04-23T23:24:37.951240Z",
     "iopub.status.busy": "2022-04-23T23:24:37.950850Z",
     "iopub.status.idle": "2022-04-23T23:24:38.504864Z",
     "shell.execute_reply": "2022-04-23T23:24:38.502536Z"
    }
   },
   "outputs": [
    {
     "name": "stdout",
     "output_type": "stream",
     "text": [
      "truncated str output\n",
      "Fermionic Operator\n",
      "register length=1, number terms=25\n",
      "  (1+0j)\n",
      "+ (1+0j)\n",
      "+ (1+0j)\n",
      "+ (1+0j)\n",
      "+ (1+0j)\n",
      "+ (1+0j)\n",
      "+ (1+0j)\n",
      "+ (1+0j)\n",
      "+ (1+0j)\n",
      "+ (1+0j)\n",
      "+ (1+0j)\n",
      "+ (1+0j)\n",
      "+ (1+0j)\n",
      "+ (1+0j)\n",
      "+ (1+0j)\n",
      "+ (1+0j)\n",
      "+ (1+0j)\n",
      "+ (1+0j)\n",
      "+ (1+0j)\n",
      "+ (1+0j)\n",
      "+ (1+0j)\n",
      "+ (1+0j ...\n",
      "not truncated str output\n",
      "Fermionic Operator\n",
      "register length=1, number terms=25\n",
      "  (1+0j)\n",
      "+ (1+0j)\n",
      "+ (1+0j)\n",
      "+ (1+0j)\n",
      "+ (1+0j)\n",
      "+ (1+0j)\n",
      "+ (1+0j)\n",
      "+ (1+0j)\n",
      "+ (1+0j)\n",
      "+ (1+0j)\n",
      "+ (1+0j)\n",
      "+ (1+0j)\n",
      "+ (1+0j)\n",
      "+ (1+0j)\n",
      "+ (1+0j)\n",
      "+ (1+0j)\n",
      "+ (1+0j)\n",
      "+ (1+0j)\n",
      "+ (1+0j)\n",
      "+ (1+0j)\n",
      "+ (1+0j)\n",
      "+ (1+0j)\n",
      "+ (1+0j)\n",
      "+ (1+0j)\n",
      "+ (1+0j)\n"
     ]
    }
   ],
   "source": [
    "from qiskit_nature.operators.second_quantization import FermionicOp\n",
    "\n",
    "print(\"truncated str output\")\n",
    "print(sum(FermionicOp(\"I\", display_format=\"sparse\") for _ in range(25)))\n",
    "\n",
    "FermionicOp.set_truncation(0)\n",
    "print(\"not truncated str output\")\n",
    "print(sum(FermionicOp(\"I\", display_format=\"sparse\") for _ in range(25)))"
   ]
  },
  {
   "cell_type": "code",
   "execution_count": 2,
   "id": "c2a5f052",
   "metadata": {
    "execution": {
     "iopub.execute_input": "2022-04-23T23:24:38.507956Z",
     "iopub.status.busy": "2022-04-23T23:24:38.507653Z",
     "iopub.status.idle": "2022-04-23T23:24:38.517024Z",
     "shell.execute_reply": "2022-04-23T23:24:38.516479Z"
    }
   },
   "outputs": [
    {
     "data": {
      "text/plain": [
       "FermionicOp([('I+', (0.5+0j)), ('+I', (1+0j))], register_length=2, display_format='dense')"
      ]
     },
     "execution_count": 2,
     "metadata": {},
     "output_type": "execute_result"
    }
   ],
   "source": [
    "0.5 * FermionicOp(\"I+\", display_format=\"dense\") + FermionicOp(\"+I\", display_format=\"dense\")"
   ]
  },
  {
   "cell_type": "code",
   "execution_count": 3,
   "id": "ac0247fb",
   "metadata": {
    "execution": {
     "iopub.execute_input": "2022-04-23T23:24:38.520019Z",
     "iopub.status.busy": "2022-04-23T23:24:38.519603Z",
     "iopub.status.idle": "2022-04-23T23:24:38.523990Z",
     "shell.execute_reply": "2022-04-23T23:24:38.523447Z"
    }
   },
   "outputs": [
    {
     "data": {
      "text/plain": [
       "FermionicOp([('+_0', (0.25+0j)), ('-_1', (0.25+0j)), ('+_2 -_2', (0.25+0j))], register_length=3, display_format='sparse')"
      ]
     },
     "execution_count": 3,
     "metadata": {},
     "output_type": "execute_result"
    }
   ],
   "source": [
    "0.25 * sum(FermionicOp(label, display_format=\"sparse\") for label in ['+_0', '-_1', 'N_2'])"
   ]
  },
  {
   "cell_type": "code",
   "execution_count": 4,
   "id": "98505568",
   "metadata": {
    "execution": {
     "iopub.execute_input": "2022-04-23T23:24:38.527104Z",
     "iopub.status.busy": "2022-04-23T23:24:38.526678Z",
     "iopub.status.idle": "2022-04-23T23:24:38.530045Z",
     "shell.execute_reply": "2022-04-23T23:24:38.529513Z"
    }
   },
   "outputs": [
    {
     "name": "stdout",
     "output_type": "stream",
     "text": [
      "(1+0j) * (+E)\n"
     ]
    }
   ],
   "source": [
    "print(FermionicOp(\"+-\", display_format=\"dense\") @ FermionicOp(\"E+\", display_format=\"dense\"))"
   ]
  },
  {
   "cell_type": "code",
   "execution_count": 5,
   "id": "66b9ca79",
   "metadata": {
    "execution": {
     "iopub.execute_input": "2022-04-23T23:24:38.533283Z",
     "iopub.status.busy": "2022-04-23T23:24:38.532876Z",
     "iopub.status.idle": "2022-04-23T23:24:38.536882Z",
     "shell.execute_reply": "2022-04-23T23:24:38.536332Z"
    }
   },
   "outputs": [
    {
     "data": {
      "text/plain": [
       "FermionicOp([('-', (1+0j))], register_length=1, display_format='dense')"
      ]
     },
     "execution_count": 5,
     "metadata": {},
     "output_type": "execute_result"
    }
   ],
   "source": [
    "~FermionicOp(\"+\", display_format=\"dense\")"
   ]
  }
 ],
 "metadata": {
  "kernelspec": {
   "display_name": "Python 3 (ipykernel)",
   "language": "python",
   "name": "python3"
  },
  "language_info": {
   "codemirror_mode": {
    "name": "ipython",
    "version": 3
   },
   "file_extension": ".py",
   "mimetype": "text/x-python",
   "name": "python",
   "nbconvert_exporter": "python",
   "pygments_lexer": "ipython3",
   "version": "3.8.12"
  }
 },
 "nbformat": 4,
 "nbformat_minor": 5
}