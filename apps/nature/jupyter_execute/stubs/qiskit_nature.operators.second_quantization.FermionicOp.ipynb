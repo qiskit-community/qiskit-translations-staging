{
 "cells": [
  {
   "cell_type": "code",
   "execution_count": 1,
   "id": "76397638",
   "metadata": {
    "execution": {
     "iopub.execute_input": "2022-07-05T15:11:28.197555Z",
     "iopub.status.busy": "2022-07-05T15:11:28.197238Z",
     "iopub.status.idle": "2022-07-05T15:11:28.814821Z",
     "shell.execute_reply": "2022-07-05T15:11:28.813189Z"
    }
   },
   "outputs": [
    {
     "name": "stdout",
     "output_type": "stream",
     "text": [
      "truncated str output\n",
      "Fermionic Operator\n",
      "register length=1, number terms=25\n",
      "  (1+0j)\n",
      "+ (1+0j)\n",
      "+ (1+0j)\n",
      "+ (1+0j)\n",
      "+ (1+0j)\n",
      "+ (1+0j)\n",
      "+ (1+0j)\n",
      "+ (1+0j)\n",
      "+ (1+0j)\n",
      "+ (1+0j)\n",
      "+ (1+0j)\n",
      "+ (1+0j)\n",
      "+ (1+0j)\n",
      "+ (1+0j)\n",
      "+ (1+0j)\n",
      "+ (1+0j)\n",
      "+ (1+0j)\n",
      "+ (1+0j)\n",
      "+ (1+0j)\n",
      "+ (1+0j)\n",
      "+ (1+0j)\n",
      "+ (1+0j ...\n",
      "not truncated str output\n",
      "Fermionic Operator\n",
      "register length=1, number terms=25\n",
      "  (1+0j)\n",
      "+ (1+0j)\n",
      "+ (1+0j)\n",
      "+ (1+0j)\n",
      "+ (1+0j)\n",
      "+ (1+0j)\n",
      "+ (1+0j)\n",
      "+ (1+0j)\n",
      "+ (1+0j)\n",
      "+ (1+0j)\n",
      "+ (1+0j)\n",
      "+ (1+0j)\n",
      "+ (1+0j)\n",
      "+ (1+0j)\n",
      "+ (1+0j)\n",
      "+ (1+0j)\n",
      "+ (1+0j)\n",
      "+ (1+0j)\n",
      "+ (1+0j)\n",
      "+ (1+0j)\n",
      "+ (1+0j)\n",
      "+ (1+0j)\n",
      "+ (1+0j)\n",
      "+ (1+0j)\n",
      "+ (1+0j)\n"
     ]
    }
   ],
   "source": [
    "from qiskit_nature.operators.second_quantization import FermionicOp\n",
    "\n",
    "print(\"truncated str output\")\n",
    "print(sum(FermionicOp(\"I\", display_format=\"sparse\") for _ in range(25)))\n",
    "\n",
    "FermionicOp.set_truncation(0)\n",
    "print(\"not truncated str output\")\n",
    "print(sum(FermionicOp(\"I\", display_format=\"sparse\") for _ in range(25)))"
   ]
  },
  {
   "cell_type": "code",
   "execution_count": 2,
   "id": "0afdf8a4",
   "metadata": {
    "execution": {
     "iopub.execute_input": "2022-07-05T15:11:28.818109Z",
     "iopub.status.busy": "2022-07-05T15:11:28.817630Z",
     "iopub.status.idle": "2022-07-05T15:11:28.826703Z",
     "shell.execute_reply": "2022-07-05T15:11:28.826192Z"
    }
   },
   "outputs": [
    {
     "data": {
      "text/plain": [
       "FermionicOp([('I+', (0.5+0j)), ('+I', (1+0j))], register_length=2, display_format='dense')"
      ]
     },
     "execution_count": 2,
     "metadata": {},
     "output_type": "execute_result"
    }
   ],
   "source": [
    "0.5 * FermionicOp(\"I+\", display_format=\"dense\") + FermionicOp(\"+I\", display_format=\"dense\")"
   ]
  },
  {
   "cell_type": "code",
   "execution_count": 3,
   "id": "00e46f6d",
   "metadata": {
    "execution": {
     "iopub.execute_input": "2022-07-05T15:11:28.831029Z",
     "iopub.status.busy": "2022-07-05T15:11:28.830647Z",
     "iopub.status.idle": "2022-07-05T15:11:28.835461Z",
     "shell.execute_reply": "2022-07-05T15:11:28.834736Z"
    }
   },
   "outputs": [
    {
     "data": {
      "text/plain": [
       "FermionicOp([('+_0', (0.25+0j)), ('-_1', (0.25+0j)), ('+_2 -_2', (0.25+0j))], register_length=3, display_format='sparse')"
      ]
     },
     "execution_count": 3,
     "metadata": {},
     "output_type": "execute_result"
    }
   ],
   "source": [
    "0.25 * sum(FermionicOp(label, display_format=\"sparse\") for label in ['+_0', '-_1', 'N_2'])"
   ]
  },
  {
   "cell_type": "code",
   "execution_count": 4,
   "id": "b6a3cf7f",
   "metadata": {
    "execution": {
     "iopub.execute_input": "2022-07-05T15:11:28.838375Z",
     "iopub.status.busy": "2022-07-05T15:11:28.837845Z",
     "iopub.status.idle": "2022-07-05T15:11:28.841919Z",
     "shell.execute_reply": "2022-07-05T15:11:28.841219Z"
    }
   },
   "outputs": [
    {
     "name": "stdout",
     "output_type": "stream",
     "text": [
      "(1+0j) * (+E)\n"
     ]
    }
   ],
   "source": [
    "print(FermionicOp(\"+-\", display_format=\"dense\") @ FermionicOp(\"E+\", display_format=\"dense\"))"
   ]
  },
  {
   "cell_type": "code",
   "execution_count": 5,
   "id": "b96d23bd",
   "metadata": {
    "execution": {
     "iopub.execute_input": "2022-07-05T15:11:28.845543Z",
     "iopub.status.busy": "2022-07-05T15:11:28.845029Z",
     "iopub.status.idle": "2022-07-05T15:11:28.850150Z",
     "shell.execute_reply": "2022-07-05T15:11:28.849453Z"
    }
   },
   "outputs": [
    {
     "data": {
      "text/plain": [
       "FermionicOp([('-', (1+0j))], register_length=1, display_format='dense')"
      ]
     },
     "execution_count": 5,
     "metadata": {},
     "output_type": "execute_result"
    }
   ],
   "source": [
    "~FermionicOp(\"+\", display_format=\"dense\")"
   ]
  }
 ],
 "metadata": {
  "kernelspec": {
   "display_name": "Python 3 (ipykernel)",
   "language": "python",
   "name": "python3"
  },
  "language_info": {
   "codemirror_mode": {
    "name": "ipython",
    "version": 3
   },
   "file_extension": ".py",
   "mimetype": "text/x-python",
   "name": "python",
   "nbconvert_exporter": "python",
   "pygments_lexer": "ipython3",
   "version": "3.8.13"
  }
 },
 "nbformat": 4,
 "nbformat_minor": 5
}