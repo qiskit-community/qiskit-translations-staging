{
 "cells": [
  {
   "cell_type": "code",
   "execution_count": 1,
   "id": "43c32973",
   "metadata": {
    "execution": {
     "iopub.execute_input": "2022-04-28T20:42:24.311490Z",
     "iopub.status.busy": "2022-04-28T20:42:24.311097Z",
     "iopub.status.idle": "2022-04-28T20:42:24.956123Z",
     "shell.execute_reply": "2022-04-28T20:42:24.955287Z"
    }
   },
   "outputs": [],
   "source": [
    "from qiskit_nature.operators.second_quantization import SpinOp\n",
    "\n",
    "x = SpinOp(\"X\", spin=3/2)\n",
    "y = SpinOp(\"Y\", spin=3/2)\n",
    "z = SpinOp(\"Z\", spin=3/2)"
   ]
  },
  {
   "cell_type": "code",
   "execution_count": 2,
   "id": "2a46f883",
   "metadata": {
    "execution": {
     "iopub.execute_input": "2022-04-28T20:42:24.959384Z",
     "iopub.status.busy": "2022-04-28T20:42:24.959119Z",
     "iopub.status.idle": "2022-04-28T20:42:24.972958Z",
     "shell.execute_reply": "2022-04-28T20:42:24.972134Z"
    }
   },
   "outputs": [
    {
     "data": {
      "text/plain": [
       "SpinOp([('X_0 X_1', (-1+0j)), ('Y_0 Y_1', (-1+0j)), ('Z_0 Z_1', (-1+0j)), ('Z_0', (-0.3+0j)), ('Z_1', (-0.3+0j))], spin=1, register_length=2)"
      ]
     },
     "execution_count": 2,
     "metadata": {},
     "output_type": "execute_result"
    }
   ],
   "source": [
    "SpinOp(\n",
    "    [\n",
    "        (\"XX\", -1),\n",
    "        (\"YY\", -1),\n",
    "        (\"ZZ\", -1),\n",
    "        (\"ZI\", -0.3),\n",
    "        (\"IZ\", -0.3),\n",
    "    ],\n",
    "    spin=1\n",
    ")"
   ]
  },
  {
   "cell_type": "code",
   "execution_count": 3,
   "id": "4868d45b",
   "metadata": {
    "execution": {
     "iopub.execute_input": "2022-04-28T20:42:24.975748Z",
     "iopub.status.busy": "2022-04-28T20:42:24.975565Z",
     "iopub.status.idle": "2022-04-28T20:42:24.982537Z",
     "shell.execute_reply": "2022-04-28T20:42:24.981563Z"
    }
   },
   "outputs": [
    {
     "data": {
      "text/plain": [
       "SpinOp([('X_0', (1+0j)), ('Y_0', 1j)], spin=3/2, register_length=1)"
      ]
     },
     "execution_count": 3,
     "metadata": {},
     "output_type": "execute_result"
    }
   ],
   "source": [
    "x + 1j * y"
   ]
  },
  {
   "cell_type": "code",
   "execution_count": 4,
   "id": "d852faae",
   "metadata": {
    "execution": {
     "iopub.execute_input": "2022-04-28T20:42:24.985322Z",
     "iopub.status.busy": "2022-04-28T20:42:24.985140Z",
     "iopub.status.idle": "2022-04-28T20:42:24.991519Z",
     "shell.execute_reply": "2022-04-28T20:42:24.990823Z"
    }
   },
   "outputs": [
    {
     "data": {
      "text/plain": [
       "SpinOp(('Z_0', -1j), spin=3/2, register_length=1)"
      ]
     },
     "execution_count": 4,
     "metadata": {},
     "output_type": "execute_result"
    }
   ],
   "source": [
    "~(1j * z)"
   ]
  }
 ],
 "metadata": {
  "kernelspec": {
   "display_name": "Python 3 (ipykernel)",
   "language": "python",
   "name": "python3"
  },
  "language_info": {
   "codemirror_mode": {
    "name": "ipython",
    "version": 3
   },
   "file_extension": ".py",
   "mimetype": "text/x-python",
   "name": "python",
   "nbconvert_exporter": "python",
   "pygments_lexer": "ipython3",
   "version": "3.8.12"
  }
 },
 "nbformat": 4,
 "nbformat_minor": 5
}