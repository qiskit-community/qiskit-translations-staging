{
 "cells": [
  {
   "cell_type": "code",
   "execution_count": 1,
   "id": "9f804fc3",
   "metadata": {
    "execution": {
     "iopub.execute_input": "2022-04-25T21:37:28.062793Z",
     "iopub.status.busy": "2022-04-25T21:37:28.062396Z",
     "iopub.status.idle": "2022-04-25T21:37:28.656037Z",
     "shell.execute_reply": "2022-04-25T21:37:28.655045Z"
    }
   },
   "outputs": [],
   "source": [
    "from qiskit_nature.operators.second_quantization import SpinOp\n",
    "\n",
    "x = SpinOp(\"X\", spin=3/2)\n",
    "y = SpinOp(\"Y\", spin=3/2)\n",
    "z = SpinOp(\"Z\", spin=3/2)"
   ]
  },
  {
   "cell_type": "code",
   "execution_count": 2,
   "id": "ea951187",
   "metadata": {
    "execution": {
     "iopub.execute_input": "2022-04-25T21:37:28.659316Z",
     "iopub.status.busy": "2022-04-25T21:37:28.659093Z",
     "iopub.status.idle": "2022-04-25T21:37:28.670505Z",
     "shell.execute_reply": "2022-04-25T21:37:28.669856Z"
    }
   },
   "outputs": [
    {
     "data": {
      "text/plain": [
       "SpinOp([('X_0 X_1', (-1+0j)), ('Y_0 Y_1', (-1+0j)), ('Z_0 Z_1', (-1+0j)), ('Z_0', (-0.3+0j)), ('Z_1', (-0.3+0j))], spin=1, register_length=2)"
      ]
     },
     "execution_count": 2,
     "metadata": {},
     "output_type": "execute_result"
    }
   ],
   "source": [
    "SpinOp(\n",
    "    [\n",
    "        (\"XX\", -1),\n",
    "        (\"YY\", -1),\n",
    "        (\"ZZ\", -1),\n",
    "        (\"ZI\", -0.3),\n",
    "        (\"IZ\", -0.3),\n",
    "    ],\n",
    "    spin=1\n",
    ")"
   ]
  },
  {
   "cell_type": "code",
   "execution_count": 3,
   "id": "2ef9ea76",
   "metadata": {
    "execution": {
     "iopub.execute_input": "2022-04-25T21:37:28.672907Z",
     "iopub.status.busy": "2022-04-25T21:37:28.672742Z",
     "iopub.status.idle": "2022-04-25T21:37:28.677381Z",
     "shell.execute_reply": "2022-04-25T21:37:28.676786Z"
    }
   },
   "outputs": [
    {
     "data": {
      "text/plain": [
       "SpinOp([('X_0', (1+0j)), ('Y_0', 1j)], spin=3/2, register_length=1)"
      ]
     },
     "execution_count": 3,
     "metadata": {},
     "output_type": "execute_result"
    }
   ],
   "source": [
    "x + 1j * y"
   ]
  },
  {
   "cell_type": "code",
   "execution_count": 4,
   "id": "2fa334c0",
   "metadata": {
    "execution": {
     "iopub.execute_input": "2022-04-25T21:37:28.680258Z",
     "iopub.status.busy": "2022-04-25T21:37:28.680093Z",
     "iopub.status.idle": "2022-04-25T21:37:28.684272Z",
     "shell.execute_reply": "2022-04-25T21:37:28.683693Z"
    }
   },
   "outputs": [
    {
     "data": {
      "text/plain": [
       "SpinOp(('Z_0', -1j), spin=3/2, register_length=1)"
      ]
     },
     "execution_count": 4,
     "metadata": {},
     "output_type": "execute_result"
    }
   ],
   "source": [
    "~(1j * z)"
   ]
  }
 ],
 "metadata": {
  "kernelspec": {
   "display_name": "Python 3 (ipykernel)",
   "language": "python",
   "name": "python3"
  },
  "language_info": {
   "codemirror_mode": {
    "name": "ipython",
    "version": 3
   },
   "file_extension": ".py",
   "mimetype": "text/x-python",
   "name": "python",
   "nbconvert_exporter": "python",
   "pygments_lexer": "ipython3",
   "version": "3.8.12"
  }
 },
 "nbformat": 4,
 "nbformat_minor": 5
}