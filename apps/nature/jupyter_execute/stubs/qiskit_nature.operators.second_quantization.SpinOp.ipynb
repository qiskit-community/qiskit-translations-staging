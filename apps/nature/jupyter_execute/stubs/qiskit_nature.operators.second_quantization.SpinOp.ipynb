{
 "cells": [
  {
   "cell_type": "code",
   "execution_count": 1,
   "id": "e4b9307e",
   "metadata": {
    "execution": {
     "iopub.execute_input": "2022-07-12T00:38:04.532918Z",
     "iopub.status.busy": "2022-07-12T00:38:04.532275Z",
     "iopub.status.idle": "2022-07-12T00:38:05.215059Z",
     "shell.execute_reply": "2022-07-12T00:38:05.214133Z"
    }
   },
   "outputs": [],
   "source": [
    "from qiskit_nature.operators.second_quantization import SpinOp\n",
    "\n",
    "x = SpinOp(\"X\", spin=3/2)\n",
    "y = SpinOp(\"Y\", spin=3/2)\n",
    "z = SpinOp(\"Z\", spin=3/2)"
   ]
  },
  {
   "cell_type": "code",
   "execution_count": 2,
   "id": "79bfa144",
   "metadata": {
    "execution": {
     "iopub.execute_input": "2022-07-12T00:38:05.219246Z",
     "iopub.status.busy": "2022-07-12T00:38:05.218886Z",
     "iopub.status.idle": "2022-07-12T00:38:05.234223Z",
     "shell.execute_reply": "2022-07-12T00:38:05.233201Z"
    }
   },
   "outputs": [
    {
     "data": {
      "text/plain": [
       "SpinOp([('X_0 X_1', (-1+0j)), ('Y_0 Y_1', (-1+0j)), ('Z_0 Z_1', (-1+0j)), ('Z_0', (-0.3+0j)), ('Z_1', (-0.3+0j))], spin=1, register_length=2)"
      ]
     },
     "execution_count": 2,
     "metadata": {},
     "output_type": "execute_result"
    }
   ],
   "source": [
    "SpinOp(\n",
    "    [\n",
    "        (\"XX\", -1),\n",
    "        (\"YY\", -1),\n",
    "        (\"ZZ\", -1),\n",
    "        (\"ZI\", -0.3),\n",
    "        (\"IZ\", -0.3),\n",
    "    ],\n",
    "    spin=1\n",
    ")"
   ]
  },
  {
   "cell_type": "code",
   "execution_count": 3,
   "id": "234a3ef0",
   "metadata": {
    "execution": {
     "iopub.execute_input": "2022-07-12T00:38:05.237851Z",
     "iopub.status.busy": "2022-07-12T00:38:05.237418Z",
     "iopub.status.idle": "2022-07-12T00:38:05.245944Z",
     "shell.execute_reply": "2022-07-12T00:38:05.245176Z"
    }
   },
   "outputs": [
    {
     "data": {
      "text/plain": [
       "SpinOp([('X_0', (1+0j)), ('Y_0', 1j)], spin=3/2, register_length=1)"
      ]
     },
     "execution_count": 3,
     "metadata": {},
     "output_type": "execute_result"
    }
   ],
   "source": [
    "x + 1j * y"
   ]
  },
  {
   "cell_type": "code",
   "execution_count": 4,
   "id": "9d0909e0",
   "metadata": {
    "execution": {
     "iopub.execute_input": "2022-07-12T00:38:05.249335Z",
     "iopub.status.busy": "2022-07-12T00:38:05.248968Z",
     "iopub.status.idle": "2022-07-12T00:38:05.254252Z",
     "shell.execute_reply": "2022-07-12T00:38:05.253467Z"
    }
   },
   "outputs": [
    {
     "data": {
      "text/plain": [
       "SpinOp(('Z_0', -1j), spin=3/2, register_length=1)"
      ]
     },
     "execution_count": 4,
     "metadata": {},
     "output_type": "execute_result"
    }
   ],
   "source": [
    "~(1j * z)"
   ]
  }
 ],
 "metadata": {
  "kernelspec": {
   "display_name": "Python 3 (ipykernel)",
   "language": "python",
   "name": "python3"
  },
  "language_info": {
   "codemirror_mode": {
    "name": "ipython",
    "version": 3
   },
   "file_extension": ".py",
   "mimetype": "text/x-python",
   "name": "python",
   "nbconvert_exporter": "python",
   "pygments_lexer": "ipython3",
   "version": "3.8.13"
  }
 },
 "nbformat": 4,
 "nbformat_minor": 5
}