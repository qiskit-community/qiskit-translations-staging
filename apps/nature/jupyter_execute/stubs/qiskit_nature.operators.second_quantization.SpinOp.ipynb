{
 "cells": [
  {
   "cell_type": "code",
   "execution_count": 1,
   "id": "99e6efc5",
   "metadata": {
    "execution": {
     "iopub.execute_input": "2022-03-05T03:33:01.877262Z",
     "iopub.status.busy": "2022-03-05T03:33:01.876796Z",
     "iopub.status.idle": "2022-03-05T03:33:02.634089Z",
     "shell.execute_reply": "2022-03-05T03:33:02.633272Z"
    }
   },
   "outputs": [],
   "source": [
    "from qiskit_nature.operators.second_quantization import SpinOp\n",
    "\n",
    "x = SpinOp(\"X\", spin=3/2)\n",
    "y = SpinOp(\"Y\", spin=3/2)\n",
    "z = SpinOp(\"Z\", spin=3/2)"
   ]
  },
  {
   "cell_type": "code",
   "execution_count": 2,
   "id": "8a4d9460",
   "metadata": {
    "execution": {
     "iopub.execute_input": "2022-03-05T03:33:02.638817Z",
     "iopub.status.busy": "2022-03-05T03:33:02.638452Z",
     "iopub.status.idle": "2022-03-05T03:33:02.649839Z",
     "shell.execute_reply": "2022-03-05T03:33:02.649215Z"
    }
   },
   "outputs": [
    {
     "data": {
      "text/plain": [
       "SpinOp([('X_0 X_1', (-1+0j)), ('Y_0 Y_1', (-1+0j)), ('Z_0 Z_1', (-1+0j)), ('Z_0', (-0.3+0j)), ('Z_1', (-0.3+0j))], spin=1, register_length=2)"
      ]
     },
     "execution_count": 2,
     "metadata": {},
     "output_type": "execute_result"
    }
   ],
   "source": [
    "SpinOp(\n",
    "    [\n",
    "        (\"XX\", -1),\n",
    "        (\"YY\", -1),\n",
    "        (\"ZZ\", -1),\n",
    "        (\"ZI\", -0.3),\n",
    "        (\"IZ\", -0.3),\n",
    "    ],\n",
    "    spin=1\n",
    ")"
   ]
  },
  {
   "cell_type": "code",
   "execution_count": 3,
   "id": "b5c44d75",
   "metadata": {
    "execution": {
     "iopub.execute_input": "2022-03-05T03:33:02.654137Z",
     "iopub.status.busy": "2022-03-05T03:33:02.653801Z",
     "iopub.status.idle": "2022-03-05T03:33:02.658416Z",
     "shell.execute_reply": "2022-03-05T03:33:02.657832Z"
    }
   },
   "outputs": [
    {
     "data": {
      "text/plain": [
       "SpinOp([('X_0', (1+0j)), ('Y_0', 1j)], spin=3/2, register_length=1)"
      ]
     },
     "execution_count": 3,
     "metadata": {},
     "output_type": "execute_result"
    }
   ],
   "source": [
    "x + 1j * y"
   ]
  },
  {
   "cell_type": "code",
   "execution_count": 4,
   "id": "057e1425",
   "metadata": {
    "execution": {
     "iopub.execute_input": "2022-03-05T03:33:02.662366Z",
     "iopub.status.busy": "2022-03-05T03:33:02.662035Z",
     "iopub.status.idle": "2022-03-05T03:33:02.666461Z",
     "shell.execute_reply": "2022-03-05T03:33:02.665864Z"
    }
   },
   "outputs": [
    {
     "data": {
      "text/plain": [
       "SpinOp(('Z_0', -1j), spin=3/2, register_length=1)"
      ]
     },
     "execution_count": 4,
     "metadata": {},
     "output_type": "execute_result"
    }
   ],
   "source": [
    "~(1j * z)"
   ]
  }
 ],
 "metadata": {
  "kernelspec": {
   "display_name": "Python 3 (ipykernel)",
   "language": "python",
   "name": "python3"
  },
  "language_info": {
   "codemirror_mode": {
    "name": "ipython",
    "version": 3
   },
   "file_extension": ".py",
   "mimetype": "text/x-python",
   "name": "python",
   "nbconvert_exporter": "python",
   "pygments_lexer": "ipython3",
   "version": "3.8.12"
  }
 },
 "nbformat": 4,
 "nbformat_minor": 5
}