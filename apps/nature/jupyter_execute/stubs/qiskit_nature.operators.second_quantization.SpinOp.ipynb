{
 "cells": [
  {
   "cell_type": "code",
   "execution_count": 1,
   "id": "69c15b9a",
   "metadata": {
    "execution": {
     "iopub.execute_input": "2022-07-05T15:11:30.860369Z",
     "iopub.status.busy": "2022-07-05T15:11:30.860052Z",
     "iopub.status.idle": "2022-07-05T15:11:31.527169Z",
     "shell.execute_reply": "2022-07-05T15:11:31.526381Z"
    }
   },
   "outputs": [],
   "source": [
    "from qiskit_nature.operators.second_quantization import SpinOp\n",
    "\n",
    "x = SpinOp(\"X\", spin=3/2)\n",
    "y = SpinOp(\"Y\", spin=3/2)\n",
    "z = SpinOp(\"Z\", spin=3/2)"
   ]
  },
  {
   "cell_type": "code",
   "execution_count": 2,
   "id": "132dc4a0",
   "metadata": {
    "execution": {
     "iopub.execute_input": "2022-07-05T15:11:31.531179Z",
     "iopub.status.busy": "2022-07-05T15:11:31.530678Z",
     "iopub.status.idle": "2022-07-05T15:11:31.543617Z",
     "shell.execute_reply": "2022-07-05T15:11:31.542958Z"
    }
   },
   "outputs": [
    {
     "data": {
      "text/plain": [
       "SpinOp([('X_0 X_1', (-1+0j)), ('Y_0 Y_1', (-1+0j)), ('Z_0 Z_1', (-1+0j)), ('Z_0', (-0.3+0j)), ('Z_1', (-0.3+0j))], spin=1, register_length=2)"
      ]
     },
     "execution_count": 2,
     "metadata": {},
     "output_type": "execute_result"
    }
   ],
   "source": [
    "SpinOp(\n",
    "    [\n",
    "        (\"XX\", -1),\n",
    "        (\"YY\", -1),\n",
    "        (\"ZZ\", -1),\n",
    "        (\"ZI\", -0.3),\n",
    "        (\"IZ\", -0.3),\n",
    "    ],\n",
    "    spin=1\n",
    ")"
   ]
  },
  {
   "cell_type": "code",
   "execution_count": 3,
   "id": "d3a31b39",
   "metadata": {
    "execution": {
     "iopub.execute_input": "2022-07-05T15:11:31.546745Z",
     "iopub.status.busy": "2022-07-05T15:11:31.546174Z",
     "iopub.status.idle": "2022-07-05T15:11:31.552553Z",
     "shell.execute_reply": "2022-07-05T15:11:31.551916Z"
    }
   },
   "outputs": [
    {
     "data": {
      "text/plain": [
       "SpinOp([('X_0', (1+0j)), ('Y_0', 1j)], spin=3/2, register_length=1)"
      ]
     },
     "execution_count": 3,
     "metadata": {},
     "output_type": "execute_result"
    }
   ],
   "source": [
    "x + 1j * y"
   ]
  },
  {
   "cell_type": "code",
   "execution_count": 4,
   "id": "f98d973d",
   "metadata": {
    "execution": {
     "iopub.execute_input": "2022-07-05T15:11:31.555875Z",
     "iopub.status.busy": "2022-07-05T15:11:31.555283Z",
     "iopub.status.idle": "2022-07-05T15:11:31.560191Z",
     "shell.execute_reply": "2022-07-05T15:11:31.559468Z"
    }
   },
   "outputs": [
    {
     "data": {
      "text/plain": [
       "SpinOp(('Z_0', -1j), spin=3/2, register_length=1)"
      ]
     },
     "execution_count": 4,
     "metadata": {},
     "output_type": "execute_result"
    }
   ],
   "source": [
    "~(1j * z)"
   ]
  }
 ],
 "metadata": {
  "kernelspec": {
   "display_name": "Python 3 (ipykernel)",
   "language": "python",
   "name": "python3"
  },
  "language_info": {
   "codemirror_mode": {
    "name": "ipython",
    "version": 3
   },
   "file_extension": ".py",
   "mimetype": "text/x-python",
   "name": "python",
   "nbconvert_exporter": "python",
   "pygments_lexer": "ipython3",
   "version": "3.8.13"
  }
 },
 "nbformat": 4,
 "nbformat_minor": 5
}