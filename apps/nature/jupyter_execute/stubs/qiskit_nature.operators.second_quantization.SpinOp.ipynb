{
 "cells": [
  {
   "cell_type": "code",
   "execution_count": 1,
   "id": "839d5b9a",
   "metadata": {
    "execution": {
     "iopub.execute_input": "2022-04-30T15:33:43.487047Z",
     "iopub.status.busy": "2022-04-30T15:33:43.486790Z",
     "iopub.status.idle": "2022-04-30T15:33:44.211443Z",
     "shell.execute_reply": "2022-04-30T15:33:44.210627Z"
    }
   },
   "outputs": [],
   "source": [
    "from qiskit_nature.operators.second_quantization import SpinOp\n",
    "\n",
    "x = SpinOp(\"X\", spin=3/2)\n",
    "y = SpinOp(\"Y\", spin=3/2)\n",
    "z = SpinOp(\"Z\", spin=3/2)"
   ]
  },
  {
   "cell_type": "code",
   "execution_count": 2,
   "id": "3afa9822",
   "metadata": {
    "execution": {
     "iopub.execute_input": "2022-04-30T15:33:44.215277Z",
     "iopub.status.busy": "2022-04-30T15:33:44.215060Z",
     "iopub.status.idle": "2022-04-30T15:33:44.229480Z",
     "shell.execute_reply": "2022-04-30T15:33:44.228775Z"
    }
   },
   "outputs": [
    {
     "data": {
      "text/plain": [
       "SpinOp([('X_0 X_1', (-1+0j)), ('Y_0 Y_1', (-1+0j)), ('Z_0 Z_1', (-1+0j)), ('Z_0', (-0.3+0j)), ('Z_1', (-0.3+0j))], spin=1, register_length=2)"
      ]
     },
     "execution_count": 2,
     "metadata": {},
     "output_type": "execute_result"
    }
   ],
   "source": [
    "SpinOp(\n",
    "    [\n",
    "        (\"XX\", -1),\n",
    "        (\"YY\", -1),\n",
    "        (\"ZZ\", -1),\n",
    "        (\"ZI\", -0.3),\n",
    "        (\"IZ\", -0.3),\n",
    "    ],\n",
    "    spin=1\n",
    ")"
   ]
  },
  {
   "cell_type": "code",
   "execution_count": 3,
   "id": "c0c40838",
   "metadata": {
    "execution": {
     "iopub.execute_input": "2022-04-30T15:33:44.232515Z",
     "iopub.status.busy": "2022-04-30T15:33:44.232298Z",
     "iopub.status.idle": "2022-04-30T15:33:44.237593Z",
     "shell.execute_reply": "2022-04-30T15:33:44.236872Z"
    }
   },
   "outputs": [
    {
     "data": {
      "text/plain": [
       "SpinOp([('X_0', (1+0j)), ('Y_0', 1j)], spin=3/2, register_length=1)"
      ]
     },
     "execution_count": 3,
     "metadata": {},
     "output_type": "execute_result"
    }
   ],
   "source": [
    "x + 1j * y"
   ]
  },
  {
   "cell_type": "code",
   "execution_count": 4,
   "id": "e999f292",
   "metadata": {
    "execution": {
     "iopub.execute_input": "2022-04-30T15:33:44.241334Z",
     "iopub.status.busy": "2022-04-30T15:33:44.241116Z",
     "iopub.status.idle": "2022-04-30T15:33:44.246120Z",
     "shell.execute_reply": "2022-04-30T15:33:44.245444Z"
    }
   },
   "outputs": [
    {
     "data": {
      "text/plain": [
       "SpinOp(('Z_0', -1j), spin=3/2, register_length=1)"
      ]
     },
     "execution_count": 4,
     "metadata": {},
     "output_type": "execute_result"
    }
   ],
   "source": [
    "~(1j * z)"
   ]
  }
 ],
 "metadata": {
  "kernelspec": {
   "display_name": "Python 3 (ipykernel)",
   "language": "python",
   "name": "python3"
  },
  "language_info": {
   "codemirror_mode": {
    "name": "ipython",
    "version": 3
   },
   "file_extension": ".py",
   "mimetype": "text/x-python",
   "name": "python",
   "nbconvert_exporter": "python",
   "pygments_lexer": "ipython3",
   "version": "3.8.12"
  }
 },
 "nbformat": 4,
 "nbformat_minor": 5
}