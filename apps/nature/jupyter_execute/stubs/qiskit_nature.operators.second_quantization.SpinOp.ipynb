{
 "cells": [
  {
   "cell_type": "code",
   "execution_count": 1,
   "id": "20357d99",
   "metadata": {
    "execution": {
     "iopub.execute_input": "2022-04-05T16:50:19.960770Z",
     "iopub.status.busy": "2022-04-05T16:50:19.959264Z",
     "iopub.status.idle": "2022-04-05T16:50:20.507182Z",
     "shell.execute_reply": "2022-04-05T16:50:20.506611Z"
    }
   },
   "outputs": [],
   "source": [
    "from qiskit_nature.operators.second_quantization import SpinOp\n",
    "\n",
    "x = SpinOp(\"X\", spin=3/2)\n",
    "y = SpinOp(\"Y\", spin=3/2)\n",
    "z = SpinOp(\"Z\", spin=3/2)"
   ]
  },
  {
   "cell_type": "code",
   "execution_count": 2,
   "id": "22c7afd5",
   "metadata": {
    "execution": {
     "iopub.execute_input": "2022-04-05T16:50:20.510739Z",
     "iopub.status.busy": "2022-04-05T16:50:20.510362Z",
     "iopub.status.idle": "2022-04-05T16:50:20.520481Z",
     "shell.execute_reply": "2022-04-05T16:50:20.519960Z"
    }
   },
   "outputs": [
    {
     "data": {
      "text/plain": [
       "SpinOp([('X_0 X_1', (-1+0j)), ('Y_0 Y_1', (-1+0j)), ('Z_0 Z_1', (-1+0j)), ('Z_0', (-0.3+0j)), ('Z_1', (-0.3+0j))], spin=1, register_length=2)"
      ]
     },
     "execution_count": 2,
     "metadata": {},
     "output_type": "execute_result"
    }
   ],
   "source": [
    "SpinOp(\n",
    "    [\n",
    "        (\"XX\", -1),\n",
    "        (\"YY\", -1),\n",
    "        (\"ZZ\", -1),\n",
    "        (\"ZI\", -0.3),\n",
    "        (\"IZ\", -0.3),\n",
    "    ],\n",
    "    spin=1\n",
    ")"
   ]
  },
  {
   "cell_type": "code",
   "execution_count": 3,
   "id": "592c6d9f",
   "metadata": {
    "execution": {
     "iopub.execute_input": "2022-04-05T16:50:20.523622Z",
     "iopub.status.busy": "2022-04-05T16:50:20.523211Z",
     "iopub.status.idle": "2022-04-05T16:50:20.527257Z",
     "shell.execute_reply": "2022-04-05T16:50:20.526742Z"
    }
   },
   "outputs": [
    {
     "data": {
      "text/plain": [
       "SpinOp([('X_0', (1+0j)), ('Y_0', 1j)], spin=3/2, register_length=1)"
      ]
     },
     "execution_count": 3,
     "metadata": {},
     "output_type": "execute_result"
    }
   ],
   "source": [
    "x + 1j * y"
   ]
  },
  {
   "cell_type": "code",
   "execution_count": 4,
   "id": "abf5d955",
   "metadata": {
    "execution": {
     "iopub.execute_input": "2022-04-05T16:50:20.530498Z",
     "iopub.status.busy": "2022-04-05T16:50:20.530072Z",
     "iopub.status.idle": "2022-04-05T16:50:20.533982Z",
     "shell.execute_reply": "2022-04-05T16:50:20.533454Z"
    }
   },
   "outputs": [
    {
     "data": {
      "text/plain": [
       "SpinOp(('Z_0', -1j), spin=3/2, register_length=1)"
      ]
     },
     "execution_count": 4,
     "metadata": {},
     "output_type": "execute_result"
    }
   ],
   "source": [
    "~(1j * z)"
   ]
  }
 ],
 "metadata": {
  "kernelspec": {
   "display_name": "Python 3 (ipykernel)",
   "language": "python",
   "name": "python3"
  },
  "language_info": {
   "codemirror_mode": {
    "name": "ipython",
    "version": 3
   },
   "file_extension": ".py",
   "mimetype": "text/x-python",
   "name": "python",
   "nbconvert_exporter": "python",
   "pygments_lexer": "ipython3",
   "version": "3.8.12"
  }
 },
 "nbformat": 4,
 "nbformat_minor": 5
}