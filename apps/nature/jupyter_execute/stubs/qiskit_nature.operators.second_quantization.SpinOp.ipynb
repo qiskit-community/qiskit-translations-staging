{
 "cells": [
  {
   "cell_type": "code",
   "execution_count": 1,
   "id": "66dfcf7a",
   "metadata": {
    "execution": {
     "iopub.execute_input": "2022-04-04T14:43:21.912850Z",
     "iopub.status.busy": "2022-04-04T14:43:21.912424Z",
     "iopub.status.idle": "2022-04-04T14:43:22.476003Z",
     "shell.execute_reply": "2022-04-04T14:43:22.475377Z"
    }
   },
   "outputs": [],
   "source": [
    "from qiskit_nature.operators.second_quantization import SpinOp\n",
    "\n",
    "x = SpinOp(\"X\", spin=3/2)\n",
    "y = SpinOp(\"Y\", spin=3/2)\n",
    "z = SpinOp(\"Z\", spin=3/2)"
   ]
  },
  {
   "cell_type": "code",
   "execution_count": 2,
   "id": "b9c57547",
   "metadata": {
    "execution": {
     "iopub.execute_input": "2022-04-04T14:43:22.479385Z",
     "iopub.status.busy": "2022-04-04T14:43:22.479027Z",
     "iopub.status.idle": "2022-04-04T14:43:22.489994Z",
     "shell.execute_reply": "2022-04-04T14:43:22.489481Z"
    }
   },
   "outputs": [
    {
     "data": {
      "text/plain": [
       "SpinOp([('X_0 X_1', (-1+0j)), ('Y_0 Y_1', (-1+0j)), ('Z_0 Z_1', (-1+0j)), ('Z_0', (-0.3+0j)), ('Z_1', (-0.3+0j))], spin=1, register_length=2)"
      ]
     },
     "execution_count": 2,
     "metadata": {},
     "output_type": "execute_result"
    }
   ],
   "source": [
    "SpinOp(\n",
    "    [\n",
    "        (\"XX\", -1),\n",
    "        (\"YY\", -1),\n",
    "        (\"ZZ\", -1),\n",
    "        (\"ZI\", -0.3),\n",
    "        (\"IZ\", -0.3),\n",
    "    ],\n",
    "    spin=1\n",
    ")"
   ]
  },
  {
   "cell_type": "code",
   "execution_count": 3,
   "id": "df7888ff",
   "metadata": {
    "execution": {
     "iopub.execute_input": "2022-04-04T14:43:22.492691Z",
     "iopub.status.busy": "2022-04-04T14:43:22.492236Z",
     "iopub.status.idle": "2022-04-04T14:43:22.496610Z",
     "shell.execute_reply": "2022-04-04T14:43:22.496051Z"
    }
   },
   "outputs": [
    {
     "data": {
      "text/plain": [
       "SpinOp([('X_0', (1+0j)), ('Y_0', 1j)], spin=3/2, register_length=1)"
      ]
     },
     "execution_count": 3,
     "metadata": {},
     "output_type": "execute_result"
    }
   ],
   "source": [
    "x + 1j * y"
   ]
  },
  {
   "cell_type": "code",
   "execution_count": 4,
   "id": "24b5e3fd",
   "metadata": {
    "execution": {
     "iopub.execute_input": "2022-04-04T14:43:22.499874Z",
     "iopub.status.busy": "2022-04-04T14:43:22.499591Z",
     "iopub.status.idle": "2022-04-04T14:43:22.505110Z",
     "shell.execute_reply": "2022-04-04T14:43:22.504561Z"
    }
   },
   "outputs": [
    {
     "data": {
      "text/plain": [
       "SpinOp(('Z_0', -1j), spin=3/2, register_length=1)"
      ]
     },
     "execution_count": 4,
     "metadata": {},
     "output_type": "execute_result"
    }
   ],
   "source": [
    "~(1j * z)"
   ]
  }
 ],
 "metadata": {
  "kernelspec": {
   "display_name": "Python 3 (ipykernel)",
   "language": "python",
   "name": "python3"
  },
  "language_info": {
   "codemirror_mode": {
    "name": "ipython",
    "version": 3
   },
   "file_extension": ".py",
   "mimetype": "text/x-python",
   "name": "python",
   "nbconvert_exporter": "python",
   "pygments_lexer": "ipython3",
   "version": "3.8.12"
  }
 },
 "nbformat": 4,
 "nbformat_minor": 5
}