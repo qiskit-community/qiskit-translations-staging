{
 "cells": [
  {
   "cell_type": "code",
   "execution_count": 1,
   "id": "f60e2196",
   "metadata": {
    "execution": {
     "iopub.execute_input": "2022-03-09T17:39:39.294595Z",
     "iopub.status.busy": "2022-03-09T17:39:39.294344Z",
     "iopub.status.idle": "2022-03-09T17:39:40.104130Z",
     "shell.execute_reply": "2022-03-09T17:39:40.103457Z"
    }
   },
   "outputs": [],
   "source": [
    "from qiskit_nature.operators.second_quantization import SpinOp\n",
    "\n",
    "x = SpinOp(\"X\", spin=3/2)\n",
    "y = SpinOp(\"Y\", spin=3/2)\n",
    "z = SpinOp(\"Z\", spin=3/2)"
   ]
  },
  {
   "cell_type": "code",
   "execution_count": 2,
   "id": "d561ecc9",
   "metadata": {
    "execution": {
     "iopub.execute_input": "2022-03-09T17:39:40.108133Z",
     "iopub.status.busy": "2022-03-09T17:39:40.107668Z",
     "iopub.status.idle": "2022-03-09T17:39:40.119187Z",
     "shell.execute_reply": "2022-03-09T17:39:40.118530Z"
    }
   },
   "outputs": [
    {
     "data": {
      "text/plain": [
       "SpinOp([('X_0 X_1', (-1+0j)), ('Y_0 Y_1', (-1+0j)), ('Z_0 Z_1', (-1+0j)), ('Z_0', (-0.3+0j)), ('Z_1', (-0.3+0j))], spin=1, register_length=2)"
      ]
     },
     "execution_count": 2,
     "metadata": {},
     "output_type": "execute_result"
    }
   ],
   "source": [
    "SpinOp(\n",
    "    [\n",
    "        (\"XX\", -1),\n",
    "        (\"YY\", -1),\n",
    "        (\"ZZ\", -1),\n",
    "        (\"ZI\", -0.3),\n",
    "        (\"IZ\", -0.3),\n",
    "    ],\n",
    "    spin=1\n",
    ")"
   ]
  },
  {
   "cell_type": "code",
   "execution_count": 3,
   "id": "c9b06564",
   "metadata": {
    "execution": {
     "iopub.execute_input": "2022-03-09T17:39:40.122851Z",
     "iopub.status.busy": "2022-03-09T17:39:40.122339Z",
     "iopub.status.idle": "2022-03-09T17:39:40.127390Z",
     "shell.execute_reply": "2022-03-09T17:39:40.126789Z"
    }
   },
   "outputs": [
    {
     "data": {
      "text/plain": [
       "SpinOp([('X_0', (1+0j)), ('Y_0', 1j)], spin=3/2, register_length=1)"
      ]
     },
     "execution_count": 3,
     "metadata": {},
     "output_type": "execute_result"
    }
   ],
   "source": [
    "x + 1j * y"
   ]
  },
  {
   "cell_type": "code",
   "execution_count": 4,
   "id": "2bdd51ef",
   "metadata": {
    "execution": {
     "iopub.execute_input": "2022-03-09T17:39:40.131294Z",
     "iopub.status.busy": "2022-03-09T17:39:40.130710Z",
     "iopub.status.idle": "2022-03-09T17:39:40.135524Z",
     "shell.execute_reply": "2022-03-09T17:39:40.134743Z"
    }
   },
   "outputs": [
    {
     "data": {
      "text/plain": [
       "SpinOp(('Z_0', -1j), spin=3/2, register_length=1)"
      ]
     },
     "execution_count": 4,
     "metadata": {},
     "output_type": "execute_result"
    }
   ],
   "source": [
    "~(1j * z)"
   ]
  }
 ],
 "metadata": {
  "kernelspec": {
   "display_name": "Python 3 (ipykernel)",
   "language": "python",
   "name": "python3"
  },
  "language_info": {
   "codemirror_mode": {
    "name": "ipython",
    "version": 3
   },
   "file_extension": ".py",
   "mimetype": "text/x-python",
   "name": "python",
   "nbconvert_exporter": "python",
   "pygments_lexer": "ipython3",
   "version": "3.8.12"
  }
 },
 "nbformat": 4,
 "nbformat_minor": 5
}