{
 "cells": [
  {
   "cell_type": "code",
   "execution_count": 1,
   "id": "c3df9cf0",
   "metadata": {
    "execution": {
     "iopub.execute_input": "2022-07-01T17:28:03.551935Z",
     "iopub.status.busy": "2022-07-01T17:28:03.551327Z",
     "iopub.status.idle": "2022-07-01T17:28:04.186167Z",
     "shell.execute_reply": "2022-07-01T17:28:04.185078Z"
    }
   },
   "outputs": [],
   "source": [
    "from qiskit_nature.operators.second_quantization import SpinOp\n",
    "\n",
    "x = SpinOp(\"X\", spin=3/2)\n",
    "y = SpinOp(\"Y\", spin=3/2)\n",
    "z = SpinOp(\"Z\", spin=3/2)"
   ]
  },
  {
   "cell_type": "code",
   "execution_count": 2,
   "id": "801972c7",
   "metadata": {
    "execution": {
     "iopub.execute_input": "2022-07-01T17:28:04.190624Z",
     "iopub.status.busy": "2022-07-01T17:28:04.190101Z",
     "iopub.status.idle": "2022-07-01T17:28:04.203448Z",
     "shell.execute_reply": "2022-07-01T17:28:04.202703Z"
    }
   },
   "outputs": [
    {
     "data": {
      "text/plain": [
       "SpinOp([('X_0 X_1', (-1+0j)), ('Y_0 Y_1', (-1+0j)), ('Z_0 Z_1', (-1+0j)), ('Z_0', (-0.3+0j)), ('Z_1', (-0.3+0j))], spin=1, register_length=2)"
      ]
     },
     "execution_count": 2,
     "metadata": {},
     "output_type": "execute_result"
    }
   ],
   "source": [
    "SpinOp(\n",
    "    [\n",
    "        (\"XX\", -1),\n",
    "        (\"YY\", -1),\n",
    "        (\"ZZ\", -1),\n",
    "        (\"ZI\", -0.3),\n",
    "        (\"IZ\", -0.3),\n",
    "    ],\n",
    "    spin=1\n",
    ")"
   ]
  },
  {
   "cell_type": "code",
   "execution_count": 3,
   "id": "3b7063bd",
   "metadata": {
    "execution": {
     "iopub.execute_input": "2022-07-01T17:28:04.206387Z",
     "iopub.status.busy": "2022-07-01T17:28:04.205963Z",
     "iopub.status.idle": "2022-07-01T17:28:04.212534Z",
     "shell.execute_reply": "2022-07-01T17:28:04.211959Z"
    }
   },
   "outputs": [
    {
     "data": {
      "text/plain": [
       "SpinOp([('X_0', (1+0j)), ('Y_0', 1j)], spin=3/2, register_length=1)"
      ]
     },
     "execution_count": 3,
     "metadata": {},
     "output_type": "execute_result"
    }
   ],
   "source": [
    "x + 1j * y"
   ]
  },
  {
   "cell_type": "code",
   "execution_count": 4,
   "id": "fa6fb30a",
   "metadata": {
    "execution": {
     "iopub.execute_input": "2022-07-01T17:28:04.215469Z",
     "iopub.status.busy": "2022-07-01T17:28:04.214919Z",
     "iopub.status.idle": "2022-07-01T17:28:04.221061Z",
     "shell.execute_reply": "2022-07-01T17:28:04.220214Z"
    }
   },
   "outputs": [
    {
     "data": {
      "text/plain": [
       "SpinOp(('Z_0', -1j), spin=3/2, register_length=1)"
      ]
     },
     "execution_count": 4,
     "metadata": {},
     "output_type": "execute_result"
    }
   ],
   "source": [
    "~(1j * z)"
   ]
  }
 ],
 "metadata": {
  "kernelspec": {
   "display_name": "Python 3 (ipykernel)",
   "language": "python",
   "name": "python3"
  },
  "language_info": {
   "codemirror_mode": {
    "name": "ipython",
    "version": 3
   },
   "file_extension": ".py",
   "mimetype": "text/x-python",
   "name": "python",
   "nbconvert_exporter": "python",
   "pygments_lexer": "ipython3",
   "version": "3.8.13"
  }
 },
 "nbformat": 4,
 "nbformat_minor": 5
}