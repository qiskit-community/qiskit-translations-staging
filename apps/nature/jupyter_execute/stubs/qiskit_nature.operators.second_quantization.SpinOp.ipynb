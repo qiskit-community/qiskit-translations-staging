{
 "cells": [
  {
   "cell_type": "code",
   "execution_count": 1,
   "id": "e57d200e",
   "metadata": {
    "execution": {
     "iopub.execute_input": "2022-03-18T14:23:53.349177Z",
     "iopub.status.busy": "2022-03-18T14:23:53.348916Z",
     "iopub.status.idle": "2022-03-18T14:23:54.158628Z",
     "shell.execute_reply": "2022-03-18T14:23:54.157879Z"
    }
   },
   "outputs": [],
   "source": [
    "from qiskit_nature.operators.second_quantization import SpinOp\n",
    "\n",
    "x = SpinOp(\"X\", spin=3/2)\n",
    "y = SpinOp(\"Y\", spin=3/2)\n",
    "z = SpinOp(\"Z\", spin=3/2)"
   ]
  },
  {
   "cell_type": "code",
   "execution_count": 2,
   "id": "ae2191fd",
   "metadata": {
    "execution": {
     "iopub.execute_input": "2022-03-18T14:23:54.162505Z",
     "iopub.status.busy": "2022-03-18T14:23:54.162296Z",
     "iopub.status.idle": "2022-03-18T14:23:54.179120Z",
     "shell.execute_reply": "2022-03-18T14:23:54.178554Z"
    }
   },
   "outputs": [
    {
     "data": {
      "text/plain": [
       "SpinOp([('X_0 X_1', (-1+0j)), ('Y_0 Y_1', (-1+0j)), ('Z_0 Z_1', (-1+0j)), ('Z_0', (-0.3+0j)), ('Z_1', (-0.3+0j))], spin=1, register_length=2)"
      ]
     },
     "execution_count": 2,
     "metadata": {},
     "output_type": "execute_result"
    }
   ],
   "source": [
    "SpinOp(\n",
    "    [\n",
    "        (\"XX\", -1),\n",
    "        (\"YY\", -1),\n",
    "        (\"ZZ\", -1),\n",
    "        (\"ZI\", -0.3),\n",
    "        (\"IZ\", -0.3),\n",
    "    ],\n",
    "    spin=1\n",
    ")"
   ]
  },
  {
   "cell_type": "code",
   "execution_count": 3,
   "id": "ec30ef44",
   "metadata": {
    "execution": {
     "iopub.execute_input": "2022-03-18T14:23:54.182365Z",
     "iopub.status.busy": "2022-03-18T14:23:54.182161Z",
     "iopub.status.idle": "2022-03-18T14:23:54.187652Z",
     "shell.execute_reply": "2022-03-18T14:23:54.186926Z"
    }
   },
   "outputs": [
    {
     "data": {
      "text/plain": [
       "SpinOp([('X_0', (1+0j)), ('Y_0', 1j)], spin=3/2, register_length=1)"
      ]
     },
     "execution_count": 3,
     "metadata": {},
     "output_type": "execute_result"
    }
   ],
   "source": [
    "x + 1j * y"
   ]
  },
  {
   "cell_type": "code",
   "execution_count": 4,
   "id": "8cd56e35",
   "metadata": {
    "execution": {
     "iopub.execute_input": "2022-03-18T14:23:54.191136Z",
     "iopub.status.busy": "2022-03-18T14:23:54.190914Z",
     "iopub.status.idle": "2022-03-18T14:23:54.195519Z",
     "shell.execute_reply": "2022-03-18T14:23:54.194808Z"
    }
   },
   "outputs": [
    {
     "data": {
      "text/plain": [
       "SpinOp(('Z_0', -1j), spin=3/2, register_length=1)"
      ]
     },
     "execution_count": 4,
     "metadata": {},
     "output_type": "execute_result"
    }
   ],
   "source": [
    "~(1j * z)"
   ]
  }
 ],
 "metadata": {
  "kernelspec": {
   "display_name": "Python 3 (ipykernel)",
   "language": "python",
   "name": "python3"
  },
  "language_info": {
   "codemirror_mode": {
    "name": "ipython",
    "version": 3
   },
   "file_extension": ".py",
   "mimetype": "text/x-python",
   "name": "python",
   "nbconvert_exporter": "python",
   "pygments_lexer": "ipython3",
   "version": "3.8.12"
  }
 },
 "nbformat": 4,
 "nbformat_minor": 5
}