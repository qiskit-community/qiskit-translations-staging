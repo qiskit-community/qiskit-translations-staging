{
 "cells": [
  {
   "cell_type": "code",
   "execution_count": 1,
   "id": "a247f063",
   "metadata": {
    "execution": {
     "iopub.execute_input": "2022-02-09T02:57:40.557307Z",
     "iopub.status.busy": "2022-02-09T02:57:40.556776Z",
     "iopub.status.idle": "2022-02-09T02:57:41.162861Z",
     "shell.execute_reply": "2022-02-09T02:57:41.161864Z"
    }
   },
   "outputs": [],
   "source": [
    "from qiskit_nature.operators.second_quantization import SpinOp\n",
    "\n",
    "x = SpinOp(\"X\", spin=3/2)\n",
    "y = SpinOp(\"Y\", spin=3/2)\n",
    "z = SpinOp(\"Z\", spin=3/2)"
   ]
  },
  {
   "cell_type": "code",
   "execution_count": 2,
   "id": "058cbbbf",
   "metadata": {
    "execution": {
     "iopub.execute_input": "2022-02-09T02:57:41.172378Z",
     "iopub.status.busy": "2022-02-09T02:57:41.171901Z",
     "iopub.status.idle": "2022-02-09T02:57:41.174211Z",
     "shell.execute_reply": "2022-02-09T02:57:41.174597Z"
    }
   },
   "outputs": [
    {
     "data": {
      "text/plain": [
       "SpinOp([('X_0 X_1', (-1+0j)), ('Y_0 Y_1', (-1+0j)), ('Z_0 Z_1', (-1+0j)), ('Z_0', (-0.3+0j)), ('Z_1', (-0.3+0j))], spin=1, register_length=2)"
      ]
     },
     "execution_count": 2,
     "metadata": {},
     "output_type": "execute_result"
    }
   ],
   "source": [
    "SpinOp(\n",
    "    [\n",
    "        (\"XX\", -1),\n",
    "        (\"YY\", -1),\n",
    "        (\"ZZ\", -1),\n",
    "        (\"ZI\", -0.3),\n",
    "        (\"IZ\", -0.3),\n",
    "    ],\n",
    "    spin=1\n",
    ")"
   ]
  },
  {
   "cell_type": "code",
   "execution_count": 3,
   "id": "0ff9c081",
   "metadata": {
    "execution": {
     "iopub.execute_input": "2022-02-09T02:57:41.178706Z",
     "iopub.status.busy": "2022-02-09T02:57:41.178220Z",
     "iopub.status.idle": "2022-02-09T02:57:41.179966Z",
     "shell.execute_reply": "2022-02-09T02:57:41.180306Z"
    }
   },
   "outputs": [
    {
     "data": {
      "text/plain": [
       "SpinOp([('X_0', (1+0j)), ('Y_0', 1j)], spin=3/2, register_length=1)"
      ]
     },
     "execution_count": 3,
     "metadata": {},
     "output_type": "execute_result"
    }
   ],
   "source": [
    "x + 1j * y"
   ]
  },
  {
   "cell_type": "code",
   "execution_count": 4,
   "id": "6a557cbd",
   "metadata": {
    "execution": {
     "iopub.execute_input": "2022-02-09T02:57:41.184522Z",
     "iopub.status.busy": "2022-02-09T02:57:41.184085Z",
     "iopub.status.idle": "2022-02-09T02:57:41.186300Z",
     "shell.execute_reply": "2022-02-09T02:57:41.186674Z"
    }
   },
   "outputs": [
    {
     "data": {
      "text/plain": [
       "SpinOp(('Z_0', -1j), spin=3/2, register_length=1)"
      ]
     },
     "execution_count": 4,
     "metadata": {},
     "output_type": "execute_result"
    }
   ],
   "source": [
    "~(1j * z)"
   ]
  }
 ],
 "metadata": {
  "kernelspec": {
   "display_name": "Python 3 (ipykernel)",
   "language": "python",
   "name": "python3"
  },
  "language_info": {
   "codemirror_mode": {
    "name": "ipython",
    "version": 3
   },
   "file_extension": ".py",
   "mimetype": "text/x-python",
   "name": "python",
   "nbconvert_exporter": "python",
   "pygments_lexer": "ipython3",
   "version": "3.8.12"
  }
 },
 "nbformat": 4,
 "nbformat_minor": 5
}