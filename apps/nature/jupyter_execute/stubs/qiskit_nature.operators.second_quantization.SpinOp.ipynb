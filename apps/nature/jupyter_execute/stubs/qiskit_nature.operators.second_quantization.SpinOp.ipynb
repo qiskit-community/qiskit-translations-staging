{
 "cells": [
  {
   "cell_type": "code",
   "execution_count": 1,
   "id": "7dc04933",
   "metadata": {
    "execution": {
     "iopub.execute_input": "2022-04-26T22:53:50.414172Z",
     "iopub.status.busy": "2022-04-26T22:53:50.413826Z",
     "iopub.status.idle": "2022-04-26T22:53:51.102251Z",
     "shell.execute_reply": "2022-04-26T22:53:51.101345Z"
    }
   },
   "outputs": [],
   "source": [
    "from qiskit_nature.operators.second_quantization import SpinOp\n",
    "\n",
    "x = SpinOp(\"X\", spin=3/2)\n",
    "y = SpinOp(\"Y\", spin=3/2)\n",
    "z = SpinOp(\"Z\", spin=3/2)"
   ]
  },
  {
   "cell_type": "code",
   "execution_count": 2,
   "id": "259e5fed",
   "metadata": {
    "execution": {
     "iopub.execute_input": "2022-04-26T22:53:51.106308Z",
     "iopub.status.busy": "2022-04-26T22:53:51.106043Z",
     "iopub.status.idle": "2022-04-26T22:53:51.119838Z",
     "shell.execute_reply": "2022-04-26T22:53:51.119124Z"
    }
   },
   "outputs": [
    {
     "data": {
      "text/plain": [
       "SpinOp([('X_0 X_1', (-1+0j)), ('Y_0 Y_1', (-1+0j)), ('Z_0 Z_1', (-1+0j)), ('Z_0', (-0.3+0j)), ('Z_1', (-0.3+0j))], spin=1, register_length=2)"
      ]
     },
     "execution_count": 2,
     "metadata": {},
     "output_type": "execute_result"
    }
   ],
   "source": [
    "SpinOp(\n",
    "    [\n",
    "        (\"XX\", -1),\n",
    "        (\"YY\", -1),\n",
    "        (\"ZZ\", -1),\n",
    "        (\"ZI\", -0.3),\n",
    "        (\"IZ\", -0.3),\n",
    "    ],\n",
    "    spin=1\n",
    ")"
   ]
  },
  {
   "cell_type": "code",
   "execution_count": 3,
   "id": "a0f736ef",
   "metadata": {
    "execution": {
     "iopub.execute_input": "2022-04-26T22:53:51.123445Z",
     "iopub.status.busy": "2022-04-26T22:53:51.123236Z",
     "iopub.status.idle": "2022-04-26T22:53:51.128419Z",
     "shell.execute_reply": "2022-04-26T22:53:51.127457Z"
    }
   },
   "outputs": [
    {
     "data": {
      "text/plain": [
       "SpinOp([('X_0', (1+0j)), ('Y_0', 1j)], spin=3/2, register_length=1)"
      ]
     },
     "execution_count": 3,
     "metadata": {},
     "output_type": "execute_result"
    }
   ],
   "source": [
    "x + 1j * y"
   ]
  },
  {
   "cell_type": "code",
   "execution_count": 4,
   "id": "a459ff22",
   "metadata": {
    "execution": {
     "iopub.execute_input": "2022-04-26T22:53:51.132696Z",
     "iopub.status.busy": "2022-04-26T22:53:51.132489Z",
     "iopub.status.idle": "2022-04-26T22:53:51.137330Z",
     "shell.execute_reply": "2022-04-26T22:53:51.136621Z"
    }
   },
   "outputs": [
    {
     "data": {
      "text/plain": [
       "SpinOp(('Z_0', -1j), spin=3/2, register_length=1)"
      ]
     },
     "execution_count": 4,
     "metadata": {},
     "output_type": "execute_result"
    }
   ],
   "source": [
    "~(1j * z)"
   ]
  }
 ],
 "metadata": {
  "kernelspec": {
   "display_name": "Python 3 (ipykernel)",
   "language": "python",
   "name": "python3"
  },
  "language_info": {
   "codemirror_mode": {
    "name": "ipython",
    "version": 3
   },
   "file_extension": ".py",
   "mimetype": "text/x-python",
   "name": "python",
   "nbconvert_exporter": "python",
   "pygments_lexer": "ipython3",
   "version": "3.8.12"
  }
 },
 "nbformat": 4,
 "nbformat_minor": 5
}