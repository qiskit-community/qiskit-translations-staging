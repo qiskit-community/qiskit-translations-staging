{
 "cells": [
  {
   "cell_type": "code",
   "execution_count": 1,
   "id": "26f97886",
   "metadata": {
    "execution": {
     "iopub.execute_input": "2022-03-07T17:02:32.105354Z",
     "iopub.status.busy": "2022-03-07T17:02:32.105080Z",
     "iopub.status.idle": "2022-03-07T17:02:32.979768Z",
     "shell.execute_reply": "2022-03-07T17:02:32.978945Z"
    }
   },
   "outputs": [],
   "source": [
    "from qiskit_nature.operators.second_quantization import SpinOp\n",
    "\n",
    "x = SpinOp(\"X\", spin=3/2)\n",
    "y = SpinOp(\"Y\", spin=3/2)\n",
    "z = SpinOp(\"Z\", spin=3/2)"
   ]
  },
  {
   "cell_type": "code",
   "execution_count": 2,
   "id": "eb02e754",
   "metadata": {
    "execution": {
     "iopub.execute_input": "2022-03-07T17:02:32.983649Z",
     "iopub.status.busy": "2022-03-07T17:02:32.983432Z",
     "iopub.status.idle": "2022-03-07T17:02:32.995768Z",
     "shell.execute_reply": "2022-03-07T17:02:32.995195Z"
    }
   },
   "outputs": [
    {
     "data": {
      "text/plain": [
       "SpinOp([('X_0 X_1', (-1+0j)), ('Y_0 Y_1', (-1+0j)), ('Z_0 Z_1', (-1+0j)), ('Z_0', (-0.3+0j)), ('Z_1', (-0.3+0j))], spin=1, register_length=2)"
      ]
     },
     "execution_count": 2,
     "metadata": {},
     "output_type": "execute_result"
    }
   ],
   "source": [
    "SpinOp(\n",
    "    [\n",
    "        (\"XX\", -1),\n",
    "        (\"YY\", -1),\n",
    "        (\"ZZ\", -1),\n",
    "        (\"ZI\", -0.3),\n",
    "        (\"IZ\", -0.3),\n",
    "    ],\n",
    "    spin=1\n",
    ")"
   ]
  },
  {
   "cell_type": "code",
   "execution_count": 3,
   "id": "30b472e4",
   "metadata": {
    "execution": {
     "iopub.execute_input": "2022-03-07T17:02:32.999011Z",
     "iopub.status.busy": "2022-03-07T17:02:32.998653Z",
     "iopub.status.idle": "2022-03-07T17:02:33.004327Z",
     "shell.execute_reply": "2022-03-07T17:02:33.003543Z"
    }
   },
   "outputs": [
    {
     "data": {
      "text/plain": [
       "SpinOp([('X_0', (1+0j)), ('Y_0', 1j)], spin=3/2, register_length=1)"
      ]
     },
     "execution_count": 3,
     "metadata": {},
     "output_type": "execute_result"
    }
   ],
   "source": [
    "x + 1j * y"
   ]
  },
  {
   "cell_type": "code",
   "execution_count": 4,
   "id": "2e5c61b9",
   "metadata": {
    "execution": {
     "iopub.execute_input": "2022-03-07T17:02:33.008592Z",
     "iopub.status.busy": "2022-03-07T17:02:33.008313Z",
     "iopub.status.idle": "2022-03-07T17:02:33.014051Z",
     "shell.execute_reply": "2022-03-07T17:02:33.013088Z"
    }
   },
   "outputs": [
    {
     "data": {
      "text/plain": [
       "SpinOp(('Z_0', -1j), spin=3/2, register_length=1)"
      ]
     },
     "execution_count": 4,
     "metadata": {},
     "output_type": "execute_result"
    }
   ],
   "source": [
    "~(1j * z)"
   ]
  }
 ],
 "metadata": {
  "kernelspec": {
   "display_name": "Python 3 (ipykernel)",
   "language": "python",
   "name": "python3"
  },
  "language_info": {
   "codemirror_mode": {
    "name": "ipython",
    "version": 3
   },
   "file_extension": ".py",
   "mimetype": "text/x-python",
   "name": "python",
   "nbconvert_exporter": "python",
   "pygments_lexer": "ipython3",
   "version": "3.8.12"
  }
 },
 "nbformat": 4,
 "nbformat_minor": 5
}