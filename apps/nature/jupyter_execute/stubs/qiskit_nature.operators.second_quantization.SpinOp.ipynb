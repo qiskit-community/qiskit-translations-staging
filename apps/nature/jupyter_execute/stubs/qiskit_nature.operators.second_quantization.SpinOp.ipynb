{
 "cells": [
  {
   "cell_type": "code",
   "execution_count": 1,
   "id": "fc3cdc13",
   "metadata": {
    "execution": {
     "iopub.execute_input": "2022-02-11T14:18:20.493048Z",
     "iopub.status.busy": "2022-02-11T14:18:20.492563Z",
     "iopub.status.idle": "2022-02-11T14:18:21.142261Z",
     "shell.execute_reply": "2022-02-11T14:18:21.141664Z"
    }
   },
   "outputs": [],
   "source": [
    "from qiskit_nature.operators.second_quantization import SpinOp\n",
    "\n",
    "x = SpinOp(\"X\", spin=3/2)\n",
    "y = SpinOp(\"Y\", spin=3/2)\n",
    "z = SpinOp(\"Z\", spin=3/2)"
   ]
  },
  {
   "cell_type": "code",
   "execution_count": 2,
   "id": "3a84468f",
   "metadata": {
    "execution": {
     "iopub.execute_input": "2022-02-11T14:18:21.152012Z",
     "iopub.status.busy": "2022-02-11T14:18:21.149583Z",
     "iopub.status.idle": "2022-02-11T14:18:21.162739Z",
     "shell.execute_reply": "2022-02-11T14:18:21.162341Z"
    }
   },
   "outputs": [
    {
     "data": {
      "text/plain": [
       "SpinOp([('X_0 X_1', (-1+0j)), ('Y_0 Y_1', (-1+0j)), ('Z_0 Z_1', (-1+0j)), ('Z_0', (-0.3+0j)), ('Z_1', (-0.3+0j))], spin=1, register_length=2)"
      ]
     },
     "execution_count": 2,
     "metadata": {},
     "output_type": "execute_result"
    }
   ],
   "source": [
    "SpinOp(\n",
    "    [\n",
    "        (\"XX\", -1),\n",
    "        (\"YY\", -1),\n",
    "        (\"ZZ\", -1),\n",
    "        (\"ZI\", -0.3),\n",
    "        (\"IZ\", -0.3),\n",
    "    ],\n",
    "    spin=1\n",
    ")"
   ]
  },
  {
   "cell_type": "code",
   "execution_count": 3,
   "id": "d12e8e7b",
   "metadata": {
    "execution": {
     "iopub.execute_input": "2022-02-11T14:18:21.167013Z",
     "iopub.status.busy": "2022-02-11T14:18:21.166530Z",
     "iopub.status.idle": "2022-02-11T14:18:21.168244Z",
     "shell.execute_reply": "2022-02-11T14:18:21.168612Z"
    }
   },
   "outputs": [
    {
     "data": {
      "text/plain": [
       "SpinOp([('X_0', (1+0j)), ('Y_0', 1j)], spin=3/2, register_length=1)"
      ]
     },
     "execution_count": 3,
     "metadata": {},
     "output_type": "execute_result"
    }
   ],
   "source": [
    "x + 1j * y"
   ]
  },
  {
   "cell_type": "code",
   "execution_count": 4,
   "id": "f4a025b9",
   "metadata": {
    "execution": {
     "iopub.execute_input": "2022-02-11T14:18:21.174499Z",
     "iopub.status.busy": "2022-02-11T14:18:21.173628Z",
     "iopub.status.idle": "2022-02-11T14:18:21.176042Z",
     "shell.execute_reply": "2022-02-11T14:18:21.174940Z"
    }
   },
   "outputs": [
    {
     "data": {
      "text/plain": [
       "SpinOp(('Z_0', -1j), spin=3/2, register_length=1)"
      ]
     },
     "execution_count": 4,
     "metadata": {},
     "output_type": "execute_result"
    }
   ],
   "source": [
    "~(1j * z)"
   ]
  }
 ],
 "metadata": {
  "kernelspec": {
   "display_name": "Python 3 (ipykernel)",
   "language": "python",
   "name": "python3"
  },
  "language_info": {
   "codemirror_mode": {
    "name": "ipython",
    "version": 3
   },
   "file_extension": ".py",
   "mimetype": "text/x-python",
   "name": "python",
   "nbconvert_exporter": "python",
   "pygments_lexer": "ipython3",
   "version": "3.8.12"
  }
 },
 "nbformat": 4,
 "nbformat_minor": 5
}