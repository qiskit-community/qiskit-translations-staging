{
 "cells": [
  {
   "cell_type": "code",
   "execution_count": 1,
   "id": "c1c3372f",
   "metadata": {
    "execution": {
     "iopub.execute_input": "2022-06-01T22:47:37.987346Z",
     "iopub.status.busy": "2022-06-01T22:47:37.987035Z",
     "iopub.status.idle": "2022-06-01T22:47:38.623731Z",
     "shell.execute_reply": "2022-06-01T22:47:38.622807Z"
    }
   },
   "outputs": [],
   "source": [
    "from qiskit_nature.operators.second_quantization import SpinOp\n",
    "\n",
    "x = SpinOp(\"X\", spin=3/2)\n",
    "y = SpinOp(\"Y\", spin=3/2)\n",
    "z = SpinOp(\"Z\", spin=3/2)"
   ]
  },
  {
   "cell_type": "code",
   "execution_count": 2,
   "id": "3dd04701",
   "metadata": {
    "execution": {
     "iopub.execute_input": "2022-06-01T22:47:38.628775Z",
     "iopub.status.busy": "2022-06-01T22:47:38.628417Z",
     "iopub.status.idle": "2022-06-01T22:47:38.643290Z",
     "shell.execute_reply": "2022-06-01T22:47:38.642229Z"
    }
   },
   "outputs": [
    {
     "data": {
      "text/plain": [
       "SpinOp([('X_0 X_1', (-1+0j)), ('Y_0 Y_1', (-1+0j)), ('Z_0 Z_1', (-1+0j)), ('Z_0', (-0.3+0j)), ('Z_1', (-0.3+0j))], spin=1, register_length=2)"
      ]
     },
     "execution_count": 2,
     "metadata": {},
     "output_type": "execute_result"
    }
   ],
   "source": [
    "SpinOp(\n",
    "    [\n",
    "        (\"XX\", -1),\n",
    "        (\"YY\", -1),\n",
    "        (\"ZZ\", -1),\n",
    "        (\"ZI\", -0.3),\n",
    "        (\"IZ\", -0.3),\n",
    "    ],\n",
    "    spin=1\n",
    ")"
   ]
  },
  {
   "cell_type": "code",
   "execution_count": 3,
   "id": "fb2e2fce",
   "metadata": {
    "execution": {
     "iopub.execute_input": "2022-06-01T22:47:38.646676Z",
     "iopub.status.busy": "2022-06-01T22:47:38.646385Z",
     "iopub.status.idle": "2022-06-01T22:47:38.654097Z",
     "shell.execute_reply": "2022-06-01T22:47:38.653095Z"
    }
   },
   "outputs": [
    {
     "data": {
      "text/plain": [
       "SpinOp([('X_0', (1+0j)), ('Y_0', 1j)], spin=3/2, register_length=1)"
      ]
     },
     "execution_count": 3,
     "metadata": {},
     "output_type": "execute_result"
    }
   ],
   "source": [
    "x + 1j * y"
   ]
  },
  {
   "cell_type": "code",
   "execution_count": 4,
   "id": "5ce6e007",
   "metadata": {
    "execution": {
     "iopub.execute_input": "2022-06-01T22:47:38.657275Z",
     "iopub.status.busy": "2022-06-01T22:47:38.657008Z",
     "iopub.status.idle": "2022-06-01T22:47:38.665776Z",
     "shell.execute_reply": "2022-06-01T22:47:38.664996Z"
    }
   },
   "outputs": [
    {
     "data": {
      "text/plain": [
       "SpinOp(('Z_0', -1j), spin=3/2, register_length=1)"
      ]
     },
     "execution_count": 4,
     "metadata": {},
     "output_type": "execute_result"
    }
   ],
   "source": [
    "~(1j * z)"
   ]
  }
 ],
 "metadata": {
  "kernelspec": {
   "display_name": "Python 3 (ipykernel)",
   "language": "python",
   "name": "python3"
  },
  "language_info": {
   "codemirror_mode": {
    "name": "ipython",
    "version": 3
   },
   "file_extension": ".py",
   "mimetype": "text/x-python",
   "name": "python",
   "nbconvert_exporter": "python",
   "pygments_lexer": "ipython3",
   "version": "3.8.12"
  }
 },
 "nbformat": 4,
 "nbformat_minor": 5
}