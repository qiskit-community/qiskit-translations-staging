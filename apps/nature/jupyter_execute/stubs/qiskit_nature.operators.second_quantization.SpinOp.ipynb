{
 "cells": [
  {
   "cell_type": "code",
   "execution_count": 1,
   "id": "a5749eb6",
   "metadata": {
    "execution": {
     "iopub.execute_input": "2022-03-31T12:45:29.026215Z",
     "iopub.status.busy": "2022-03-31T12:45:29.025963Z",
     "iopub.status.idle": "2022-03-31T12:45:29.804051Z",
     "shell.execute_reply": "2022-03-31T12:45:29.803331Z"
    }
   },
   "outputs": [],
   "source": [
    "from qiskit_nature.operators.second_quantization import SpinOp\n",
    "\n",
    "x = SpinOp(\"X\", spin=3/2)\n",
    "y = SpinOp(\"Y\", spin=3/2)\n",
    "z = SpinOp(\"Z\", spin=3/2)"
   ]
  },
  {
   "cell_type": "code",
   "execution_count": 2,
   "id": "bcb48e20",
   "metadata": {
    "execution": {
     "iopub.execute_input": "2022-03-31T12:45:29.808590Z",
     "iopub.status.busy": "2022-03-31T12:45:29.808187Z",
     "iopub.status.idle": "2022-03-31T12:45:29.825810Z",
     "shell.execute_reply": "2022-03-31T12:45:29.825214Z"
    }
   },
   "outputs": [
    {
     "data": {
      "text/plain": [
       "SpinOp([('X_0 X_1', (-1+0j)), ('Y_0 Y_1', (-1+0j)), ('Z_0 Z_1', (-1+0j)), ('Z_0', (-0.3+0j)), ('Z_1', (-0.3+0j))], spin=1, register_length=2)"
      ]
     },
     "execution_count": 2,
     "metadata": {},
     "output_type": "execute_result"
    }
   ],
   "source": [
    "SpinOp(\n",
    "    [\n",
    "        (\"XX\", -1),\n",
    "        (\"YY\", -1),\n",
    "        (\"ZZ\", -1),\n",
    "        (\"ZI\", -0.3),\n",
    "        (\"IZ\", -0.3),\n",
    "    ],\n",
    "    spin=1\n",
    ")"
   ]
  },
  {
   "cell_type": "code",
   "execution_count": 3,
   "id": "8d5f9fc6",
   "metadata": {
    "execution": {
     "iopub.execute_input": "2022-03-31T12:45:29.829500Z",
     "iopub.status.busy": "2022-03-31T12:45:29.828982Z",
     "iopub.status.idle": "2022-03-31T12:45:29.835546Z",
     "shell.execute_reply": "2022-03-31T12:45:29.834964Z"
    }
   },
   "outputs": [
    {
     "data": {
      "text/plain": [
       "SpinOp([('X_0', (1+0j)), ('Y_0', 1j)], spin=3/2, register_length=1)"
      ]
     },
     "execution_count": 3,
     "metadata": {},
     "output_type": "execute_result"
    }
   ],
   "source": [
    "x + 1j * y"
   ]
  },
  {
   "cell_type": "code",
   "execution_count": 4,
   "id": "a4cb9367",
   "metadata": {
    "execution": {
     "iopub.execute_input": "2022-03-31T12:45:29.838716Z",
     "iopub.status.busy": "2022-03-31T12:45:29.838192Z",
     "iopub.status.idle": "2022-03-31T12:45:29.844521Z",
     "shell.execute_reply": "2022-03-31T12:45:29.843973Z"
    }
   },
   "outputs": [
    {
     "data": {
      "text/plain": [
       "SpinOp(('Z_0', -1j), spin=3/2, register_length=1)"
      ]
     },
     "execution_count": 4,
     "metadata": {},
     "output_type": "execute_result"
    }
   ],
   "source": [
    "~(1j * z)"
   ]
  }
 ],
 "metadata": {
  "kernelspec": {
   "display_name": "Python 3 (ipykernel)",
   "language": "python",
   "name": "python3"
  },
  "language_info": {
   "codemirror_mode": {
    "name": "ipython",
    "version": 3
   },
   "file_extension": ".py",
   "mimetype": "text/x-python",
   "name": "python",
   "nbconvert_exporter": "python",
   "pygments_lexer": "ipython3",
   "version": "3.8.12"
  }
 },
 "nbformat": 4,
 "nbformat_minor": 5
}