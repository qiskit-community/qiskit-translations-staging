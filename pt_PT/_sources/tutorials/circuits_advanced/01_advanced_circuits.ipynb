{
 "cells": [
  {
   "cell_type": "markdown",
   "metadata": {},
   "source": [
    "# Advanced Circuits"
   ]
  },
  {
   "cell_type": "code",
   "execution_count": 1,
   "metadata": {},
   "outputs": [],
   "source": [
    "import numpy as np\n",
    "from qiskit import *"
   ]
  },
  {
   "cell_type": "markdown",
   "metadata": {
    "ExecuteTime": {
     "end_time": "2019-04-24T04:16:16.208643Z",
     "start_time": "2019-04-24T04:16:16.205855Z"
    }
   },
   "source": [
    "## Opaque gates"
   ]
  },
  {
   "cell_type": "code",
   "execution_count": 2,
   "metadata": {
    "ExecuteTime": {
     "end_time": "2019-08-21T09:00:47.692387Z",
     "start_time": "2019-08-21T09:00:47.689669Z"
    }
   },
   "outputs": [],
   "source": [
    "from qiskit.circuit import Gate\n",
    "\n",
    "my_gate = Gate(name='my_gate', num_qubits=2, params=[])"
   ]
  },
  {
   "cell_type": "code",
   "execution_count": 3,
   "metadata": {
    "ExecuteTime": {
     "end_time": "2019-08-22T14:45:17.137276Z",
     "start_time": "2019-08-22T14:45:17.129509Z"
    }
   },
   "outputs": [
    {
     "data": {
      "text/html": [
       "<pre style=\"word-wrap: normal;white-space: pre;background: #fff0;line-height: 1.1;font-family: &quot;Courier New&quot;,Courier,monospace\">     ┌──────────┐            \n",
       "q_0: ┤0         ├────────────\n",
       "     │  my_gate │┌──────────┐\n",
       "q_1: ┤1         ├┤0         ├\n",
       "     └──────────┘│  my_gate │\n",
       "q_2: ────────────┤1         ├\n",
       "                 └──────────┘</pre>"
      ],
      "text/plain": [
       "     ┌──────────┐            \n",
       "q_0: ┤0         ├────────────\n",
       "     │  my_gate │┌──────────┐\n",
       "q_1: ┤1         ├┤0         ├\n",
       "     └──────────┘│  my_gate │\n",
       "q_2: ────────────┤1         ├\n",
       "                 └──────────┘"
      ]
     },
     "execution_count": 3,
     "metadata": {},
     "output_type": "execute_result"
    }
   ],
   "source": [
    "qr = QuantumRegister(3, 'q')\n",
    "circ = QuantumCircuit(qr)\n",
    "circ.append(my_gate, [qr[0], qr[1]])\n",
    "circ.append(my_gate, [qr[1], qr[2]])\n",
    "\n",
    "circ.draw()"
   ]
  },
  {
   "cell_type": "markdown",
   "metadata": {},
   "source": [
    "## Composite Gates"
   ]
  },
  {
   "cell_type": "code",
   "execution_count": 4,
   "metadata": {
    "ExecuteTime": {
     "end_time": "2019-08-22T14:45:17.152693Z",
     "start_time": "2019-08-22T14:45:17.139151Z"
    }
   },
   "outputs": [
    {
     "data": {
      "text/html": [
       "<pre style=\"word-wrap: normal;white-space: pre;background: #fff0;line-height: 1.1;font-family: &quot;Courier New&quot;,Courier,monospace\">     ┌───┐                       \n",
       "q_0: ┤ H ├──■────────────────────\n",
       "     └───┘┌─┴─┐     ┌───────────┐\n",
       "q_1: ─────┤ X ├──■──┤0          ├\n",
       "          └───┘┌─┴─┐│  sub_circ │\n",
       "q_2: ──────────┤ X ├┤1          ├\n",
       "               └───┘└───────────┘</pre>"
      ],
      "text/plain": [
       "     ┌───┐                       \n",
       "q_0: ┤ H ├──■────────────────────\n",
       "     └───┘┌─┴─┐     ┌───────────┐\n",
       "q_1: ─────┤ X ├──■──┤0          ├\n",
       "          └───┘┌─┴─┐│  sub_circ │\n",
       "q_2: ──────────┤ X ├┤1          ├\n",
       "               └───┘└───────────┘"
      ]
     },
     "execution_count": 4,
     "metadata": {},
     "output_type": "execute_result"
    }
   ],
   "source": [
    "# Build a sub-circuit\n",
    "sub_q = QuantumRegister(2)\n",
    "sub_circ = QuantumCircuit(sub_q, name='sub_circ')\n",
    "sub_circ.h(sub_q[0])\n",
    "sub_circ.crz(1, sub_q[0], sub_q[1])\n",
    "sub_circ.barrier()\n",
    "sub_circ.id(sub_q[1])\n",
    "sub_circ.u3(1, 2, -2, sub_q[0])\n",
    "\n",
    "# Convert to a gate and stick it into an arbitrary place in the bigger circuit\n",
    "sub_inst = sub_circ.to_instruction()\n",
    "\n",
    "qr = QuantumRegister(3, 'q')\n",
    "circ = QuantumCircuit(qr)\n",
    "circ.h(qr[0])\n",
    "circ.cx(qr[0], qr[1])\n",
    "circ.cx(qr[1], qr[2])\n",
    "circ.append(sub_inst, [qr[1], qr[2]])\n",
    "\n",
    "circ.draw()"
   ]
  },
  {
   "cell_type": "markdown",
   "metadata": {},
   "source": [
    "Circuits are not immediately decomposed upon conversion `to_instruction` to allow circuit design at higher levels of abstraction.\n",
    "When desired, or before compilation, sub-circuits will be decomposed via the `decompose` method."
   ]
  },
  {
   "cell_type": "code",
   "execution_count": 5,
   "metadata": {
    "ExecuteTime": {
     "end_time": "2019-08-22T14:45:17.178354Z",
     "start_time": "2019-08-22T14:45:17.154448Z"
    }
   },
   "outputs": [
    {
     "data": {
      "text/html": [
       "<pre style=\"word-wrap: normal;white-space: pre;background: #fff0;line-height: 1.1;font-family: &quot;Courier New&quot;,Courier,monospace\">     ┌──────────┐                                         \n",
       "q_0: ┤ U2(0,pi) ├──■──────────────────────────────────────\n",
       "     └──────────┘┌─┴─┐     ┌───┐          ░ ┌────────────┐\n",
       "q_1: ────────────┤ X ├──■──┤ H ├────■─────░─┤ U3(1,2,-2) ├\n",
       "                 └───┘┌─┴─┐└───┘┌───┴───┐ ░ └───┬───┬────┘\n",
       "q_2: ─────────────────┤ X ├─────┤ RZ(1) ├─░─────┤ I ├─────\n",
       "                      └───┘     └───────┘ ░     └───┘     </pre>"
      ],
      "text/plain": [
       "     ┌──────────┐                                         \n",
       "q_0: ┤ U2(0,pi) ├──■──────────────────────────────────────\n",
       "     └──────────┘┌─┴─┐     ┌───┐          ░ ┌────────────┐\n",
       "q_1: ────────────┤ X ├──■──┤ H ├────■─────░─┤ U3(1,2,-2) ├\n",
       "                 └───┘┌─┴─┐└───┘┌───┴───┐ ░ └───┬───┬────┘\n",
       "q_2: ─────────────────┤ X ├─────┤ RZ(1) ├─░─────┤ I ├─────\n",
       "                      └───┘     └───────┘ ░     └───┘     "
      ]
     },
     "execution_count": 5,
     "metadata": {},
     "output_type": "execute_result"
    }
   ],
   "source": [
    "decomposed_circ = circ.decompose() # Does not modify original circuit\n",
    "decomposed_circ.draw()"
   ]
  },
  {
   "cell_type": "markdown",
   "metadata": {},
   "source": [
    "## Parameterized circuits"
   ]
  },
  {
   "cell_type": "code",
   "execution_count": 6,
   "metadata": {
    "ExecuteTime": {
     "end_time": "2019-08-22T14:45:17.201634Z",
     "start_time": "2019-08-22T14:45:17.180844Z"
    },
    "tags": [
     "nbsphinx-thumbnail"
    ]
   },
   "outputs": [
    {
     "data": {
      "image/png": "[encoded data removed]",
      "text/plain": [
       "<Figure size 1020.99x385.28 with 1 Axes>"
      ]
     },
     "execution_count": 6,
     "metadata": {},
     "output_type": "execute_result"
    }
   ],
   "source": [
    "from qiskit.circuit import Parameter\n",
    "\n",
    "theta = Parameter('θ')\n",
    "\n",
    "n = 5\n",
    "\n",
    "qc = QuantumCircuit(5, 1)\n",
    "\n",
    "qc.h(0)\n",
    "for i in range(n-1):\n",
    "    qc.cx(i, i+1)\n",
    "\n",
    "qc.barrier()\n",
    "qc.rz(theta, range(5))\n",
    "qc.barrier()\n",
    "\n",
    "for i in reversed(range(n-1)):\n",
    "    qc.cx(i, i+1)\n",
    "qc.h(0)\n",
    "qc.measure(0, 0)\n",
    "\n",
    "qc.draw('mpl')"
   ]
  },
  {
   "cell_type": "markdown",
   "metadata": {
    "ExecuteTime": {
     "end_time": "2019-05-07T13:51:25.524355Z",
     "start_time": "2019-05-07T13:51:25.518233Z"
    }
   },
   "source": [
    "We can inspect the circuit's parameters"
   ]
  },
  {
   "cell_type": "code",
   "execution_count": 7,
   "metadata": {
    "ExecuteTime": {
     "end_time": "2019-08-22T14:45:17.206387Z",
     "start_time": "2019-08-22T14:45:17.203148Z"
    }
   },
   "outputs": [
    {
     "name": "stdout",
     "output_type": "stream",
     "text": [
      "{Parameter(θ)}\n"
     ]
    }
   ],
   "source": [
    "print(qc.parameters)"
   ]
  },
  {
   "cell_type": "markdown",
   "metadata": {},
   "source": [
    "### Binding parameters to values"
   ]
  },
  {
   "cell_type": "markdown",
   "metadata": {},
   "source": [
    "All circuit parameters must be bound before sending the circuit to a backend. This can be done in one of two ways:\n",
    "- The `bind_parameters` method accepts a dictionary mapping `Parameter`s to values, and returns a new circuit with each parameter replaced by its corresponding value. Partial binding is supported, in which case the returned circuit will be parameterized by any `Parameter`s that were not mapped to a value."
   ]
  },
  {
   "cell_type": "code",
   "execution_count": 8,
   "metadata": {
    "ExecuteTime": {
     "end_time": "2019-08-22T14:45:17.572833Z",
     "start_time": "2019-08-22T14:45:17.209134Z"
    }
   },
   "outputs": [
    {
     "data": {
      "text/html": [
       "<pre style=\"word-wrap: normal;white-space: pre;background: #fff0;line-height: 1.1;font-family: &quot;Courier New&quot;,Courier,monospace\">     ┌───┐                     ░ ┌─────────┐ ░                     ┌───┐┌─┐\n",
       "q_0: ┤ H ├──■──────────────────░─┤ RZ(2pi) ├─░──────────────────■──┤ H ├┤M├\n",
       "     └───┘┌─┴─┐                ░ ├─────────┤ ░                ┌─┴─┐└───┘└╥┘\n",
       "q_1: ─────┤ X ├──■─────────────░─┤ RZ(2pi) ├─░─────────────■──┤ X ├──────╫─\n",
       "          └───┘┌─┴─┐           ░ ├─────────┤ ░           ┌─┴─┐└───┘      ║ \n",
       "q_2: ──────────┤ X ├──■────────░─┤ RZ(2pi) ├─░────────■──┤ X ├───────────╫─\n",
       "               └───┘┌─┴─┐      ░ ├─────────┤ ░      ┌─┴─┐└───┘           ║ \n",
       "q_3: ───────────────┤ X ├──■───░─┤ RZ(2pi) ├─░───■──┤ X ├────────────────╫─\n",
       "                    └───┘┌─┴─┐ ░ ├─────────┤ ░ ┌─┴─┐└───┘                ║ \n",
       "q_4: ────────────────────┤ X ├─░─┤ RZ(2pi) ├─░─┤ X ├─────────────────────╫─\n",
       "                         └───┘ ░ └─────────┘ ░ └───┘                     ║ \n",
       "c_0: ════════════════════════════════════════════════════════════════════╩═\n",
       "                                                                           </pre>"
      ],
      "text/plain": [
       "     ┌───┐                     ░ ┌─────────┐ ░                     ┌───┐┌─┐\n",
       "q_0: ┤ H ├──■──────────────────░─┤ RZ(2pi) ├─░──────────────────■──┤ H ├┤M├\n",
       "     └───┘┌─┴─┐                ░ ├─────────┤ ░                ┌─┴─┐└───┘└╥┘\n",
       "q_1: ─────┤ X ├──■─────────────░─┤ RZ(2pi) ├─░─────────────■──┤ X ├──────╫─\n",
       "          └───┘┌─┴─┐           ░ ├─────────┤ ░           ┌─┴─┐└───┘      ║ \n",
       "q_2: ──────────┤ X ├──■────────░─┤ RZ(2pi) ├─░────────■──┤ X ├───────────╫─\n",
       "               └───┘┌─┴─┐      ░ ├─────────┤ ░      ┌─┴─┐└───┘           ║ \n",
       "q_3: ───────────────┤ X ├──■───░─┤ RZ(2pi) ├─░───■──┤ X ├────────────────╫─\n",
       "                    └───┘┌─┴─┐ ░ ├─────────┤ ░ ┌─┴─┐└───┘                ║ \n",
       "q_4: ────────────────────┤ X ├─░─┤ RZ(2pi) ├─░─┤ X ├─────────────────────╫─\n",
       "                         └───┘ ░ └─────────┘ ░ └───┘                     ║ \n",
       "c_0: ════════════════════════════════════════════════════════════════════╩═\n",
       "                                                                           "
      ]
     },
     "execution_count": 8,
     "metadata": {},
     "output_type": "execute_result"
    }
   ],
   "source": [
    "import numpy as np\n",
    "\n",
    "theta_range = np.linspace(0, 2 * np.pi, 128)\n",
    "\n",
    "circuits = [qc.bind_parameters({theta: theta_val})\n",
    "            for theta_val in theta_range]\n",
    "\n",
    "circuits[-1].draw()"
   ]
  },
  {
   "cell_type": "markdown",
   "metadata": {},
   "source": [
    "- `qiskit.execute` now accepts a `parameter_binds` keyword argument which, when specified as a list of dictionaries mapping `Parameter`s to values, will bind and execute a circuit on the backend for every mapping dictionary in the list."
   ]
  },
  {
   "cell_type": "code",
   "execution_count": 9,
   "metadata": {
    "ExecuteTime": {
     "end_time": "2019-08-21T09:00:53.482684Z",
     "start_time": "2019-08-21T09:00:52.013988Z"
    }
   },
   "outputs": [],
   "source": [
    "job = execute(qc,\n",
    "              backend=BasicAer.get_backend('qasm_simulator'),\n",
    "              parameter_binds=[{theta: theta_val} for theta_val in theta_range])\n",
    "\n",
    "counts = job.result().get_counts()\n"
   ]
  },
  {
   "cell_type": "markdown",
   "metadata": {},
   "source": [
    "In the example circuit, we apply a global $R_z(\\theta)$ rotation on a five-qubit entangled state, and so expect to see oscillation in qubit-0 at $5\\theta$."
   ]
  },
  {
   "cell_type": "code",
   "execution_count": 10,
   "metadata": {
    "ExecuteTime": {
     "end_time": "2019-08-22T14:45:19.578574Z",
     "start_time": "2019-08-22T14:45:19.166876Z"
    }
   },
   "outputs": [
    {
     "data": {
      "text/plain": [
       "<matplotlib.legend.Legend at 0x11dce80a0>"
      ]
     },
     "execution_count": 10,
     "metadata": {},
     "output_type": "execute_result"
    },
    {
     "data": {
      "image/png": "[encoded data removed]",
      "text/plain": [
       "<Figure size 576x432 with 1 Axes>"
      ]
     },
     "metadata": {
      "needs_background": "light"
     },
     "output_type": "display_data"
    }
   ],
   "source": [
    "import matplotlib.pyplot as plt\n",
    "fig = plt.figure(figsize=(8,6))\n",
    "ax = fig.add_subplot(111)\n",
    "\n",
    "ax.plot(theta_range, list(map(lambda c: c.get('0', 0), counts)), '.-', label='0')\n",
    "ax.plot(theta_range, list(map(lambda c: c.get('1', 0), counts)), '.-', label='1') \n",
    "\n",
    "ax.set_xticks([i * np.pi / 2 for i in range(5)])\n",
    "ax.set_xticklabels(['0', r'$\\frac{\\pi}{2}$', r'$\\pi$', r'$\\frac{3\\pi}{2}$', r'$2\\pi$'], fontsize=14)\n",
    "ax.set_xlabel('θ', fontsize=14)\n",
    "ax.set_ylabel('Counts', fontsize=14)\n",
    "ax.legend(fontsize=14)"
   ]
  },
  {
   "cell_type": "markdown",
   "metadata": {
    "ExecuteTime": {
     "end_time": "2019-04-24T14:50:01.020312Z",
     "start_time": "2019-04-24T14:49:58.618Z"
    }
   },
   "source": [
    "### Reducing compilation cost"
   ]
  },
  {
   "cell_type": "markdown",
   "metadata": {},
   "source": [
    "Compiling over a parameterized circuit prior to binding can, in some cases, significantly reduce compilation time as compared to compiling over a set of bound circuits."
   ]
  },
  {
   "cell_type": "code",
   "execution_count": 11,
   "metadata": {
    "ExecuteTime": {
     "end_time": "2019-08-22T14:45:41.843339Z",
     "start_time": "2019-08-22T14:45:19.579877Z"
    }
   },
   "outputs": [
    {
     "name": "stdout",
     "output_type": "stream",
     "text": [
      "Time compiling over set of bound circuits:  8.771650075912476\n"
     ]
    }
   ],
   "source": [
    "import time\n",
    "from itertools import combinations\n",
    "from qiskit.compiler import assemble\n",
    "from qiskit.test.mock import FakeVigo\n",
    "\n",
    "start = time.time()\n",
    "qcs = []\n",
    "\n",
    "theta_range = np.linspace(0, 2*np.pi, 32)\n",
    "\n",
    "for n in theta_range:\n",
    "    qc = QuantumCircuit(5)\n",
    "\n",
    "    for k in range(8):\n",
    "        for i,j in combinations(range(5), 2):\n",
    "            qc.cx(i,j)\n",
    "        qc.rz(n, range(5))\n",
    "        for i,j in combinations(range(5), 2):\n",
    "            qc.cx(i,j)\n",
    "\n",
    "    qcs.append(qc)\n",
    "    \n",
    "compiled_circuits = transpile(qcs, backend=FakeVigo())\n",
    "qobj = assemble(compiled_circuits, backend=FakeVigo())\n",
    "\n",
    "end = time.time()\n",
    "print('Time compiling over set of bound circuits: ', end-start)"
   ]
  },
  {
   "cell_type": "code",
   "execution_count": 12,
   "metadata": {
    "ExecuteTime": {
     "end_time": "2019-08-22T14:45:46.361352Z",
     "start_time": "2019-08-22T14:45:41.846044Z"
    }
   },
   "outputs": [
    {
     "name": "stdout",
     "output_type": "stream",
     "text": [
      "Time compiling over parameterized circuit, then binding:  0.8169369697570801\n"
     ]
    }
   ],
   "source": [
    "start = time.time()\n",
    "qc = QuantumCircuit(5)\n",
    "theta = Parameter('theta')\n",
    "\n",
    "for k in range(8):\n",
    "    for i,j in combinations(range(5), 2):\n",
    "        qc.cx(i,j)\n",
    "    qc.rz(theta, range(5))\n",
    "    for i,j in combinations(range(5), 2):\n",
    "        qc.cx(i,j)\n",
    "\n",
    "transpiled_qc = transpile(qc, backend=FakeVigo())\n",
    "qobj = assemble([transpiled_qc.bind_parameters({theta: n})\n",
    "                 for n in theta_range], backend=FakeVigo())\n",
    "end = time.time()\n",
    "print('Time compiling over parameterized circuit, then binding: ', end-start)"
   ]
  },
  {
   "cell_type": "markdown",
   "metadata": {},
   "source": [
    "### Composition"
   ]
  },
  {
   "cell_type": "markdown",
   "metadata": {},
   "source": [
    "Parameterized circuits can be composed like standard `QuantumCircuit`s.\n",
    "Generally, when composing two parameterized circuits, the resulting circuit will be parameterized by the union of the parameters of the input circuits."
   ]
  },
  {
   "cell_type": "markdown",
   "metadata": {
    "ExecuteTime": {
     "end_time": "2019-05-08T15:07:47.268889Z",
     "start_time": "2019-05-08T15:07:47.262971Z"
    }
   },
   "source": [
    "However, parameter names must be unique within a given circuit.\n",
    "When attempting to add a parameter whose name is already present in the target circuit:\n",
    " - if the source and target share the same `Parameter` instance, the parameters will be assumed to be the same and combined\n",
    " - if the source and target have different `Parameter` instances, an error will be raised\n"
   ]
  },
  {
   "cell_type": "code",
   "execution_count": 13,
   "metadata": {
    "ExecuteTime": {
     "end_time": "2019-08-22T14:45:46.372951Z",
     "start_time": "2019-08-22T14:45:46.362798Z"
    }
   },
   "outputs": [
    {
     "name": "stdout",
     "output_type": "stream",
     "text": [
      "     ┌────────────┐┌────────────┐\n",
      "q_0: ┤0           ├┤0           ├\n",
      "     │  sc_1(phi) ││  sc_2(phi) │\n",
      "q_1: ┤1           ├┤1           ├\n",
      "     ├────────────┤└────────────┘\n",
      "q_2: ┤0           ├──────────────\n",
      "     │  sc_2(phi) │              \n",
      "q_3: ┤1           ├──────────────\n",
      "     └────────────┘              \n"
     ]
    }
   ],
   "source": [
    "phi = Parameter('phi')\n",
    "\n",
    "sub_circ1 = QuantumCircuit(2, name='sc_1')\n",
    "sub_circ1.rz(phi, 0)\n",
    "sub_circ1.rx(phi, 1)\n",
    "\n",
    "sub_circ2 = QuantumCircuit(2, name='sc_2')\n",
    "sub_circ2.rx(phi, 0)\n",
    "sub_circ2.rz(phi, 1)\n",
    "\n",
    "qc = QuantumCircuit(4)\n",
    "qr = qc.qregs[0]\n",
    "\n",
    "qc.append(sub_circ1.to_instruction(), [qr[0], qr[1]])\n",
    "qc.append(sub_circ2.to_instruction(), [qr[0], qr[1]])\n",
    "\n",
    "qc.append(sub_circ2.to_instruction(), [qr[2], qr[3]])\n",
    "\n",
    "print(qc.draw())\n",
    "\n",
    "# The following raises an error: \"QiskitError: 'Name conflict on adding parameter: phi'\"\n",
    "# phi2 = Parameter('phi')\n",
    "# qc.u3(0.1, phi2, 0.3, 0)"
   ]
  },
  {
   "cell_type": "markdown",
   "metadata": {},
   "source": [
    "To insert a subcircuit under a different parameterization, the `to_instruction` method accepts an optional argument (`parameter_map`) which, when present, will generate instructions with the source parameter replaced by a new parameter."
   ]
  },
  {
   "cell_type": "code",
   "execution_count": 14,
   "metadata": {
    "ExecuteTime": {
     "end_time": "2019-08-22T14:45:46.401332Z",
     "start_time": "2019-08-22T14:45:46.375034Z"
    }
   },
   "outputs": [
    {
     "name": "stdout",
     "output_type": "stream",
     "text": [
      "      ┌────────────────┐\n",
      "q1_0: ┤0               ├\n",
      "      │                │\n",
      "q1_1: ┤1 oracle(theta) ├\n",
      "      │                │\n",
      "q1_2: ┤2               ├\n",
      "      └┬──────────────┬┘\n",
      "q1_3: ─┤0             ├─\n",
      "       │              │ \n",
      "q1_4: ─┤1 oracle(phi) ├─\n",
      "       │              │ \n",
      "q1_5: ─┤2             ├─\n",
      "      ┌┴──────────────┴┐\n",
      "q1_6: ┤0               ├\n",
      "      │                │\n",
      "q1_7: ┤1 oracle(gamma) ├\n",
      "      │                │\n",
      "q1_8: ┤2               ├\n",
      "      └────────────────┘\n",
      "      ┌───────────┐                                    \n",
      "q1_0: ┤ RZ(theta) ├──■─────────────────────────────────\n",
      "      └───────────┘┌─┴─┐┌───────────┐                  \n",
      "q1_1: ─────────────┤ X ├┤ RZ(theta) ├──■───────────────\n",
      "                   └───┘└───────────┘┌─┴─┐┌───────────┐\n",
      "q1_2: ───────────────────────────────┤ X ├┤ RZ(theta) ├\n",
      "       ┌─────────┐                   └───┘└───────────┘\n",
      "q1_3: ─┤ RZ(phi) ├───■─────────────────────────────────\n",
      "       └─────────┘ ┌─┴─┐ ┌─────────┐                   \n",
      "q1_4: ─────────────┤ X ├─┤ RZ(phi) ├───■───────────────\n",
      "                   └───┘ └─────────┘ ┌─┴─┐ ┌─────────┐ \n",
      "q1_5: ───────────────────────────────┤ X ├─┤ RZ(phi) ├─\n",
      "      ┌───────────┐                  └───┘ └─────────┘ \n",
      "q1_6: ┤ RZ(gamma) ├──■─────────────────────────────────\n",
      "      └───────────┘┌─┴─┐┌───────────┐                  \n",
      "q1_7: ─────────────┤ X ├┤ RZ(gamma) ├──■───────────────\n",
      "                   └───┘└───────────┘┌─┴─┐┌───────────┐\n",
      "q1_8: ───────────────────────────────┤ X ├┤ RZ(gamma) ├\n",
      "                                     └───┘└───────────┘\n"
     ]
    }
   ],
   "source": [
    "p = Parameter('p')\n",
    "qc = QuantumCircuit(3, name='oracle')\n",
    "qc.rz(p, 0)\n",
    "qc.cx(0, 1)\n",
    "qc.rz(p, 1)\n",
    "qc.cx(1, 2)\n",
    "qc.rz(p, 2)\n",
    "\n",
    "theta = Parameter('theta')\n",
    "phi = Parameter('phi')\n",
    "gamma = Parameter('gamma')\n",
    "\n",
    "qr = QuantumRegister(9)\n",
    "larger_qc = QuantumCircuit(qr)\n",
    "larger_qc.append(qc.to_instruction({p: theta}), qr[0:3])\n",
    "larger_qc.append(qc.to_instruction({p: phi}), qr[3:6])\n",
    "larger_qc.append(qc.to_instruction({p: gamma}), qr[6:9])\n",
    "print(larger_qc.draw())\n",
    "\n",
    "print(larger_qc.decompose().draw())"
   ]
  },
  {
   "cell_type": "code",
   "execution_count": 15,
   "metadata": {
    "ExecuteTime": {
     "end_time": "2019-08-22T14:45:46.489770Z",
     "start_time": "2019-08-22T14:45:46.403279Z"
    }
   },
   "outputs": [
    {
     "data": {
      "text/html": [
       "<h3>Version Information</h3><table><tr><th>Qiskit Software</th><th>Version</th></tr><tr><td>Qiskit</td><td>None</td></tr><tr><td>Terra</td><td>0.15.0</td></tr><tr><td>Aer</td><td>0.5.1</td></tr><tr><td>Ignis</td><td>None</td></tr><tr><td>Aqua</td><td>None</td></tr><tr><td>IBM Q Provider</td><td>0.7.0</td></tr><tr><th>System information</th></tr><tr><td>Python</td><td>3.8.2 (default, Mar 26 2020, 10:43:30) \n",
       "[Clang 4.0.1 (tags/RELEASE_401/final)]</td></tr><tr><td>OS</td><td>Darwin</td></tr><tr><td>CPUs</td><td>4</td></tr><tr><td>Memory (Gb)</td><td>16.0</td></tr><tr><td colspan='2'>Fri May 08 08:42:21 2020 EDT</td></tr></table>"
      ],
      "text/plain": [
       "<IPython.core.display.HTML object>"
      ]
     },
     "metadata": {},
     "output_type": "display_data"
    },
    {
     "data": {
      "text/html": [
       "<div style='width: 100%; background-color:#d5d9e0;padding-left: 10px; padding-bottom: 10px; padding-right: 10px; padding-top: 5px'><h3>This code is a part of Qiskit</h3><p>&copy; Copyright IBM 2017, 2020.</p><p>This code is licensed under the Apache License, Version 2.0. You may<br>obtain a copy of this license in the LICENSE.txt file in the root directory<br> of this source tree or at http://www.apache.org/licenses/LICENSE-2.0.<p>Any modifications or derivative works of this code must retain this<br>copyright notice, and modified files need to carry a notice indicating<br>that they have been altered from the originals.</p></div>"
      ],
      "text/plain": [
       "<IPython.core.display.HTML object>"
      ]
     },
     "metadata": {},
     "output_type": "display_data"
    }
   ],
   "source": [
    "import qiskit.tools.jupyter\n",
    "%qiskit_version_table\n",
    "%qiskit_copyright"
   ]
  },
  {
   "cell_type": "code",
   "execution_count": null,
   "metadata": {},
   "outputs": [],
   "source": []
  }
 ],
 "metadata": {
  "celltoolbar": "Tags",
  "kernelspec": {
   "display_name": "Python 3",
   "language": "python",
   "name": "python3"
  },
  "language_info": {
   "codemirror_mode": {
    "name": "ipython",
    "version": 3
   },
   "file_extension": ".py",
   "mimetype": "text/x-python",
   "name": "python",
   "nbconvert_exporter": "python",
   "pygments_lexer": "ipython3",
   "version": "3.8.2"
  },
  "nteract": {
   "version": "0.22.4"
  },
  "varInspector": {
   "cols": {
    "lenName": 16,
    "lenType": 16,
    "lenVar": 40
   },
   "kernels_config": {
    "python": {
     "delete_cmd_postfix": "",
     "delete_cmd_prefix": "del ",
     "library": "var_list.py",
     "varRefreshCmd": "print(var_dic_list())"
    },
    "r": {
     "delete_cmd_postfix": ") ",
     "delete_cmd_prefix": "rm(",
     "library": "var_list.r",
     "varRefreshCmd": "cat(var_dic_list()) "
    }
   },
   "types_to_exclude": [
    "module",
    "function",
    "builtin_function_or_method",
    "instance",
    "_Feature"
   ],
   "window_display": false
  }
 },
 "nbformat": 4,
 "nbformat_minor": 2
}
