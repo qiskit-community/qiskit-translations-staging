{
 "cells": [
  {
   "cell_type": "markdown",
   "metadata": {
    "id": "E6dR4R3sxfut"
   },
   "source": [
    "# Building Pulse Instructions\n",
    "\n",
    "Pulse programs, which are called `Schedule`s, describe instruction sequences for the control electronics.\n",
    "\n",
    "On this page, we will cover in depth these `Instruction`s available through Qiskit Pulse:\n",
    "\n",
    " - [`Delay(duration: int, channel)`](#delay)\n",
    " - [`Play(pulse, channel)`](#play)\n",
    " - [`SetFrequency(frequency, channel)`](#frequency)\n",
    " - [`ShiftPhase(phase, channel)`](#phase)\n",
    " - [`Acquire(duration, channel, mem_slot, reg_slot)`](#acquire)\n",
    "\n",
    "Each instruction type has its own set of operands. As you can see above, they each include at least one `Channel` to specify where the instruction will be applied.\n",
    "\n",
    "**Channels** are labels for signal lines from the control hardware to the quantum chip.\n",
    "\n",
    " - `DriveChannel`s are typically used for _driving_ single qubit rotations,\n",
    " - `ControlChannel`s are typically used for multi-qubit gates or additional drive lines for tunable qubits, \n",
    " - `MeasureChannel`s are specific to transmitting pulses which stimulate readout, and\n",
    " - `AcquireChannel`s are used to trigger digitizers which collect readout signals.\n",
    " \n",
    "`DriveChannel`s, `ControlChannel`s, and `MeasureChannel`s are all `PulseChannel`s; this means that they support _transmitting_ pulses, whereas the `AcquireChannel` is a receive channel only and cannot play waveforms.\n",
    "\n",
    "For the following examples, we will create one `DriveChannel` instance for each `Instruction` that accepts a `PulseChannel`. Channels take one integer `index` argument. Except for `ControlChannel`s, the index maps trivially to the qubit label."
   ]
  },
  {
   "cell_type": "code",
   "execution_count": 1,
   "metadata": {
    "id": "0A5oW7W-xfvJ"
   },
   "outputs": [],
   "source": [
    "from qiskit.pulse import DriveChannel\n",
    "\n",
    "channel = DriveChannel(0)"
   ]
  },
  {
   "cell_type": "markdown",
   "metadata": {
    "id": "xZPWPOTHxfvN"
   },
   "source": [
    "<a id='delay'></a>\n",
    "## `Delay`\n",
    "\n",
    "One of the simplest instructions we can build is `Delay`. This is a blocking instruction that tells the control electronics to output no signal on the given channel for the duration specified. It is useful for controlling the timing of other instructions.\n",
    "\n",
    "The duration here and elsewhere is in terms of the backend's cycle time (1 / sample rate), `dt`.\n",
    "\n",
    "To build a `Delay` instruction, we pass the duration and channel:"
   ]
  },
  {
   "cell_type": "code",
   "execution_count": 2,
   "metadata": {
    "id": "mlkkhiFFxfvO"
   },
   "outputs": [],
   "source": [
    "from qiskit.pulse import Delay\n",
    "\n",
    "delay_5dt = Delay(5, channel)"
   ]
  },
  {
   "cell_type": "markdown",
   "metadata": {
    "id": "i5Je0HrfxfvP"
   },
   "source": [
    "where `channel` can be any kind of channel, including `AcquireChannel`.\n",
    "\n",
    "That's all there is to it. This instruction, `delay_5dt`, is ready to be included in a `Schedule`. Any instruction appended after `delay_5dt` on the same channel will execute five timesteps later than it would have without this delay.\n",
    "\n",
    "<a id='play'></a>\n",
    "## `Play`\n",
    "\n",
    "The `Play` instruction is responsible for executing _pulses_. It's straightforward to build one:\n",
    "\n",
    "```\n",
    "play = Play(pulse, channel)\n",
    "```\n",
    "\n",
    "Let's clarify what the `pulse` argument is and explore a few different ways to build one.\n",
    "\n",
    "### Pulses\n",
    "\n",
    "A `Pulse` specifies an arbitrary pulse _envelope_. The modulation frequency and phase of the output waveform are controlled by the `SetFrequency` and `ShiftPhase` instructions, which we will cover next.\n",
    "\n",
    "The image below may provide some intuition for why they are specified separately. Think of the pulses which describe their envelopes as input to an arbitrary waveform generator (AWG), a common lab instrument -- this is depicted in the left image. Notice the limited sample rate discritizes the signal. The signal produced by the AWG may be mixed with a continuous sine wave generator. The frequency of its output is controlled by instructions to the sine wave generator; see the middle image. Finally, the signal sent to the qubit is demonstrated by the right side of the image below.\n",
    "\n",
    "**Note**: The hardware may be implemented in other ways, but if we keep the instructions separate, we avoid losing explicit information, such as the value of the modulation frequency.\n",
    "\n",
    "![alt text](pulse_modulation.png \"Pulse modulation image\")\n",
    "\n",
    "There are many methods available to us for building up pulses. Our `library` within Qiskit Pulse contains helpful methods for building `Pulse`s. Let's take for example a simple Gaussian pulse -- a pulse with its envelope described by a sampled Gaussian function. We arbitrarily choose an amplitude of 1, standard deviation $\\sigma$ of 10, and 128 sample points.\n",
    "\n",
    "**Note**: The maximum amplitude allowed is `1.0`. Most systems also have additional constraints on the minimum and maximum number of samples allowed in a pulse. These additional constraints, if available, would be provided through the `BackendConfiguration` which is described [here](09_gathering_system_information.ipynb#Configuration)."
   ]
  },
  {
   "cell_type": "code",
   "execution_count": 3,
   "metadata": {
    "id": "JPFZhDRcxfvS"
   },
   "outputs": [],
   "source": [
    "from qiskit.pulse import library\n",
    "\n",
    "amp = 1\n",
    "sigma = 10\n",
    "num_samples = 128"
   ]
  },
  {
   "cell_type": "markdown",
   "metadata": {
    "id": "rmorAjw1xfvT"
   },
   "source": [
    "#### Parametric pulses\n",
    "Let's build our Gaussian pulse using the `Gaussian` parametric pulse. A parametric pulse sends the name of the function and its parameters to the backend, rather than every individual sample. Using parametric pulses makes the jobs you send to the backend much smaller. IBM Quantum backends limit the maximum job size that they accept, so parametric pulses may allow you to run larger programs.\n",
    "\n",
    "Other parametric pulses in the `library` include `GaussianSquare`, `Drag`, and `ConstantPulse`.\n",
    "\n",
    "\n",
    "**Note**: The backend is responsible for deciding exactly how to sample the parametric pulses. It is possible to draw parametric pulses, but the samples displayed are not guaranteed to be the same as those executed on the backend."
   ]
  },
  {
   "cell_type": "code",
   "execution_count": 4,
   "metadata": {
    "id": "CVtheok2xfvU"
   },
   "outputs": [
    {
     "data": {
      "image/png": "[encoded data removed]",
      "text/plain": [
       "<Figure size 504x360 with 1 Axes>"
      ]
     },
     "execution_count": 4,
     "metadata": {},
     "output_type": "execute_result"
    }
   ],
   "source": [
    "from qiskit.pulse import Gaussian\n",
    "\n",
    "pulse = Gaussian(num_samples, amp, sigma, name=\"Parametric Gaus\")\n",
    "pulse.draw()"
   ]
  },
  {
   "cell_type": "markdown",
   "metadata": {
    "id": "4wFHQSzBxfvY"
   },
   "source": [
    "**Pulse waveforms described by samples**\n",
    "\n",
    "It is also possible to specify the waveform as an array of samples. We pass the samples to a `Waveform`."
   ]
  },
  {
   "cell_type": "code",
   "execution_count": 5,
   "metadata": {
    "id": "p6kMbWPxxfva",
    "outputId": "01984d5e-606f-4bc6-affe-ac10f3979c59"
   },
   "outputs": [
    {
     "data": {
      "image/png": "[encoded data removed]",
      "text/plain": [
       "<Figure size 504x360 with 1 Axes>"
      ]
     },
     "execution_count": 5,
     "metadata": {},
     "output_type": "execute_result"
    }
   ],
   "source": [
    "import numpy as np\n",
    "\n",
    "times = np.arange(num_samples)\n",
    "gaussian_samples = np.exp(-1/2 *((times - num_samples / 2) ** 2 / sigma**2))\n",
    "\n",
    "pulse = library.Waveform(gaussian_samples, name=\"WF Gaus\")\n",
    "pulse.draw()"
   ]
  },
  {
   "cell_type": "markdown",
   "metadata": {
    "id": "JZwLMtnnxfvd"
   },
   "source": [
    "**Pulse library functions**\n",
    "\n",
    "Our own pulse library has sampling methods to build a `Waveform` from common functions."
   ]
  },
  {
   "cell_type": "code",
   "execution_count": 6,
   "metadata": {
    "id": "jNfSSggVxfve",
    "outputId": "0ea1d24d-f628-4087-ab6b-90cdb4ce4c9c"
   },
   "outputs": [
    {
     "data": {
      "image/png": "[encoded data removed]",
      "text/plain": [
       "<Figure size 504x360 with 1 Axes>"
      ]
     },
     "execution_count": 6,
     "metadata": {},
     "output_type": "execute_result"
    }
   ],
   "source": [
    "pulse = library.gaussian(duration=num_samples, amp=amp, sigma=sigma, name=\"Lib Gaus\")\n",
    "pulse.draw()"
   ]
  },
  {
   "cell_type": "markdown",
   "metadata": {
    "id": "94JB6UTixfvg"
   },
   "source": [
    "#### External libraries\n",
    "\n",
    "Alternatively, you can make use of an external library."
   ]
  },
  {
   "cell_type": "code",
   "execution_count": 7,
   "metadata": {
    "id": "11madLlUxfvh",
    "outputId": "da9d238e-100e-4523-cb7d-a96f03b5095f"
   },
   "outputs": [
    {
     "data": {
      "image/png": "[encoded data removed]",
      "text/plain": [
       "<Figure size 504x360 with 1 Axes>"
      ]
     },
     "execution_count": 7,
     "metadata": {},
     "output_type": "execute_result"
    }
   ],
   "source": [
    "from scipy import signal\n",
    "\n",
    "sampled_gaussian_envelope = signal.gaussian(num_samples, sigma)\n",
    "pulse = library.Waveform(sampled_gaussian_envelope, name=\"Scipy Gaus\")\n",
    "pulse.draw()"
   ]
  },
  {
   "cell_type": "markdown",
   "metadata": {
    "id": "_K2m9Y16xfvi"
   },
   "source": [
    "Regardless of which method you use to specify your `pulse`, `Play` is instantiated the same way:"
   ]
  },
  {
   "cell_type": "code",
   "execution_count": 8,
   "metadata": {
    "id": "Q2K4LmFOxfvj"
   },
   "outputs": [],
   "source": [
    "from qiskit.pulse import Play\n",
    "\n",
    "\n",
    "play_gaus = Play(pulse, channel)"
   ]
  },
  {
   "cell_type": "markdown",
   "metadata": {
    "id": "QfsQEi0Txfvk"
   },
   "source": [
    "The `Play` instruction gets its duration from its `Pulse`: the duration of a parametrized pulse is an explicit argument, and the duration of a `Waveform` is the number of input samples.\n",
    "\n",
    "<a id='frequency'></a>\n",
    "## `SetFrequency`\n",
    "\n",
    "As explained previously, the output pulse waveform envelope is also modulated by a frequency and phase. Each channel has a [default frequency listed in the `backend.defaults()`](09_gathering_system_information.ipynb#Defaults).\n",
    "\n",
    "The frequency of a channel can be updated at any time within a `Schedule` by the `SetFrequency` instruction. It takes a float `frequency` and a `PulseChannel` `channel` as input. All pulses on a channel following a `SetFrequency` instruction will be modulated by the given frequency until another `SetFrequency` instruction is encountered or until the program ends.\n",
    "\n",
    "The instruction has an implicit duration of `0`. \n",
    "\n",
    "**Note**: The frequencies that can be requested are limited by the total bandwidth and the instantaneous bandwidth of each hardware channel. In the future, these will be reported by the `backend`."
   ]
  },
  {
   "cell_type": "code",
   "execution_count": 9,
   "metadata": {
    "id": "w8AoCJuvxfvl"
   },
   "outputs": [],
   "source": [
    "from qiskit.pulse import SetFrequency\n",
    "\n",
    "set_freq = SetFrequency(4.5e9, channel)"
   ]
  },
  {
   "cell_type": "markdown",
   "metadata": {
    "id": "mJ4p-Pv6xfvm"
   },
   "source": [
    "<a id='phase'></a>\n",
    "## `ShiftPhase`\n",
    "\n",
    "The `ShiftPhase` instruction will increase the phase of the frequency modulation by `phase`. Like `SetFrequency`, this phase shift will affect all following instructions on the same channel until the program ends. To undo the affect of a `ShiftPhase`, the negative `phase` can be passed to a new instruction.\n",
    "\n",
    "Like `SetFrequency`, the instruction has an implicit duration of `0`."
   ]
  },
  {
   "cell_type": "code",
   "execution_count": 10,
   "metadata": {
    "id": "byyH0JUHxfvn"
   },
   "outputs": [],
   "source": [
    "from qiskit.pulse import ShiftPhase\n",
    "\n",
    "phase_pi = ShiftPhase(np.pi, channel)"
   ]
  },
  {
   "cell_type": "markdown",
   "metadata": {
    "id": "0ZqSsVbdxfvo"
   },
   "source": [
    "## `Acquire`\n",
    "The `Acquire` instruction triggers data acquisition for readout. It takes a duration, an `AcquireChannel` which maps to the qubit being measured, and a `MemorySlot` or a `RegisterSlot`. The `MemorySlot` is classical memory where the readout result will be stored. The `RegisterSlot` maps to a register in the control electronics which stores the readout result for fast feedback.\n",
    "\n",
    "`Acquire` instructions can also take custom `Discriminator`s and `Kernel`s as keyword arguments. Read more about building measurements [here](08_adding_measurements.ipynb)."
   ]
  },
  {
   "cell_type": "code",
   "execution_count": 11,
   "metadata": {
    "id": "AC8LW4Exxfvp"
   },
   "outputs": [],
   "source": [
    "from qiskit.pulse import Acquire, AcquireChannel, MemorySlot\n",
    "\n",
    "acquire = Acquire(1200, AcquireChannel(0), MemorySlot(0))"
   ]
  },
  {
   "cell_type": "markdown",
   "metadata": {
    "id": "Hwg8g7eAxfvp"
   },
   "source": [
    "Now that we know how to build instructions, let's learn how to compose them into `Schedule`s on the [next page](07_building_pulse_schedules.ipynb)!"
   ]
  },
  {
   "cell_type": "code",
   "execution_count": 12,
   "metadata": {
    "id": "E8WyzjYyxfvr",
    "outputId": "1e722f5b-2301-44c7-ded8-1a03c117231c"
   },
   "outputs": [
    {
     "data": {
      "text/html": [
       "<h3>Version Information</h3><table><tr><th>Qiskit Software</th><th>Version</th></tr><tr><td>Qiskit</td><td>0.23.1</td></tr><tr><td>Terra</td><td>0.16.1</td></tr><tr><td>Aer</td><td>0.7.1</td></tr><tr><td>Ignis</td><td>0.5.1</td></tr><tr><td>Aqua</td><td>0.8.1</td></tr><tr><td>IBM Q Provider</td><td>0.11.1</td></tr><tr><th>System information</th></tr><tr><td>Python</td><td>3.7.8 | packaged by conda-forge | (default, Jul 31 2020, 02:25:08) \n",
       "[GCC 7.5.0]</td></tr><tr><td>OS</td><td>Linux</td></tr><tr><td>CPUs</td><td>8</td></tr><tr><td>Memory (Gb)</td><td>31.40900421142578</td></tr><tr><td colspan='2'>Thu Jan 07 17:09:41 2021 UTC</td></tr></table>"
      ],
      "text/plain": [
       "<IPython.core.display.HTML object>"
      ]
     },
     "metadata": {},
     "output_type": "display_data"
    },
    {
     "data": {
      "text/html": [
       "<div style='width: 100%; background-color:#d5d9e0;padding-left: 10px; padding-bottom: 10px; padding-right: 10px; padding-top: 5px'><h3>This code is a part of Qiskit</h3><p>&copy; Copyright IBM 2017, 2021.</p><p>This code is licensed under the Apache License, Version 2.0. You may<br>obtain a copy of this license in the LICENSE.txt file in the root directory<br> of this source tree or at http://www.apache.org/licenses/LICENSE-2.0.<p>Any modifications or derivative works of this code must retain this<br>copyright notice, and modified files need to carry a notice indicating<br>that they have been altered from the originals.</p></div>"
      ],
      "text/plain": [
       "<IPython.core.display.HTML object>"
      ]
     },
     "metadata": {},
     "output_type": "display_data"
    }
   ],
   "source": [
    "import qiskit.tools.jupyter\n",
    "%qiskit_version_table\n",
    "%qiskit_copyright"
   ]
  },
  {
   "cell_type": "code",
   "execution_count": null,
   "metadata": {
    "id": "riWGF8Vfxfvs"
   },
   "outputs": [],
   "source": []
  },
  {
   "cell_type": "code",
   "execution_count": null,
   "metadata": {},
   "outputs": [],
   "source": []
  }
 ],
 "metadata": {
  "colab": {
   "name": "06_building_pulse_instructions.ipynb",
   "provenance": []
  },
  "kernelspec": {
   "display_name": "Python 3",
   "language": "python",
   "name": "python3"
  },
  "language_info": {
   "codemirror_mode": {
    "name": "ipython",
    "version": 3
   },
   "file_extension": ".py",
   "mimetype": "text/x-python",
   "name": "python",
   "nbconvert_exporter": "python",
   "pygments_lexer": "ipython3",
   "version": "3.7.8"
  }
 },
 "nbformat": 4,
 "nbformat_minor": 1
}
