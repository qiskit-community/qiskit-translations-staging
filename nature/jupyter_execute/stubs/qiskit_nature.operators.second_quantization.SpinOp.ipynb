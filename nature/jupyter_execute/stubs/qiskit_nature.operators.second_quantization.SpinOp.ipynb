{
 "cells": [
  {
   "cell_type": "code",
   "execution_count": 1,
   "id": "b20aeefd",
   "metadata": {
    "execution": {
     "iopub.execute_input": "2021-11-15T18:22:16.762015Z",
     "iopub.status.busy": "2021-11-15T18:22:16.761456Z",
     "iopub.status.idle": "2021-11-15T18:22:17.679413Z",
     "shell.execute_reply": "2021-11-15T18:22:17.678770Z"
    }
   },
   "outputs": [],
   "source": [
    "from qiskit_nature.operators.second_quantization import SpinOp\n",
    "\n",
    "x = SpinOp(\"X\", spin=3/2)\n",
    "y = SpinOp(\"Y\", spin=3/2)\n",
    "z = SpinOp(\"Z\", spin=3/2)"
   ]
  },
  {
   "cell_type": "code",
   "execution_count": 2,
   "id": "d0045f58",
   "metadata": {
    "execution": {
     "iopub.execute_input": "2021-11-15T18:22:17.690426Z",
     "iopub.status.busy": "2021-11-15T18:22:17.687025Z",
     "iopub.status.idle": "2021-11-15T18:22:17.696805Z",
     "shell.execute_reply": "2021-11-15T18:22:17.696295Z"
    }
   },
   "outputs": [
    {
     "data": {
      "text/plain": [
       "SpinOp([('X_0 X_1', (-1+0j)), ('Y_0 Y_1', (-1+0j)), ('Z_0 Z_1', (-1+0j)), ('Z_0', (-0.3+0j)), ('Z_1', (-0.3+0j))], spin=1, register_length=2)"
      ]
     },
     "execution_count": 2,
     "metadata": {},
     "output_type": "execute_result"
    }
   ],
   "source": [
    "SpinOp(\n",
    "    [\n",
    "        (\"XX\", -1),\n",
    "        (\"YY\", -1),\n",
    "        (\"ZZ\", -1),\n",
    "        (\"ZI\", -0.3),\n",
    "        (\"IZ\", -0.3),\n",
    "    ],\n",
    "    spin=1\n",
    ")"
   ]
  },
  {
   "cell_type": "code",
   "execution_count": 3,
   "id": "6fb1f5ec",
   "metadata": {
    "execution": {
     "iopub.execute_input": "2021-11-15T18:22:17.701461Z",
     "iopub.status.busy": "2021-11-15T18:22:17.700911Z",
     "iopub.status.idle": "2021-11-15T18:22:17.706336Z",
     "shell.execute_reply": "2021-11-15T18:22:17.705865Z"
    }
   },
   "outputs": [
    {
     "data": {
      "text/plain": [
       "SpinOp([('X_0', (1+0j)), ('Y_0', 1j)], spin=3/2, register_length=1)"
      ]
     },
     "execution_count": 3,
     "metadata": {},
     "output_type": "execute_result"
    }
   ],
   "source": [
    "x + 1j * y"
   ]
  },
  {
   "cell_type": "code",
   "execution_count": 4,
   "id": "5cace5aa",
   "metadata": {
    "execution": {
     "iopub.execute_input": "2021-11-15T18:22:17.714282Z",
     "iopub.status.busy": "2021-11-15T18:22:17.712972Z",
     "iopub.status.idle": "2021-11-15T18:22:17.716561Z",
     "shell.execute_reply": "2021-11-15T18:22:17.716062Z"
    }
   },
   "outputs": [
    {
     "data": {
      "text/plain": [
       "SpinOp(('Z_0', -1j), spin=3/2, register_length=1)"
      ]
     },
     "execution_count": 4,
     "metadata": {},
     "output_type": "execute_result"
    }
   ],
   "source": [
    "~(1j * z)"
   ]
  }
 ],
 "metadata": {
  "kernelspec": {
   "display_name": "Python 3 (ipykernel)",
   "language": "python",
   "name": "python3"
  },
  "language_info": {
   "codemirror_mode": {
    "name": "ipython",
    "version": 3
   },
   "file_extension": ".py",
   "mimetype": "text/x-python",
   "name": "python",
   "nbconvert_exporter": "python",
   "pygments_lexer": "ipython3",
   "version": "3.8.12"
  }
 },
 "nbformat": 4,
 "nbformat_minor": 5
}