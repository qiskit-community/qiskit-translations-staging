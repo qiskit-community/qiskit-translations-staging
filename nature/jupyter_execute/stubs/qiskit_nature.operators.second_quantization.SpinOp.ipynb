{
 "cells": [
  {
   "cell_type": "code",
   "execution_count": 1,
   "id": "b9bd4b84",
   "metadata": {
    "execution": {
     "iopub.execute_input": "2021-12-03T16:47:31.672769Z",
     "iopub.status.busy": "2021-12-03T16:47:31.672279Z",
     "iopub.status.idle": "2021-12-03T16:47:32.424370Z",
     "shell.execute_reply": "2021-12-03T16:47:32.423684Z"
    }
   },
   "outputs": [],
   "source": [
    "from qiskit_nature.operators.second_quantization import SpinOp\n",
    "\n",
    "x = SpinOp(\"X\", spin=3/2)\n",
    "y = SpinOp(\"Y\", spin=3/2)\n",
    "z = SpinOp(\"Z\", spin=3/2)"
   ]
  },
  {
   "cell_type": "code",
   "execution_count": 2,
   "id": "9c49ae94",
   "metadata": {
    "execution": {
     "iopub.execute_input": "2021-12-03T16:47:32.432307Z",
     "iopub.status.busy": "2021-12-03T16:47:32.431788Z",
     "iopub.status.idle": "2021-12-03T16:47:32.436518Z",
     "shell.execute_reply": "2021-12-03T16:47:32.436914Z"
    }
   },
   "outputs": [
    {
     "data": {
      "text/plain": [
       "SpinOp([('X_0 X_1', (-1+0j)), ('Y_0 Y_1', (-1+0j)), ('Z_0 Z_1', (-1+0j)), ('Z_0', (-0.3+0j)), ('Z_1', (-0.3+0j))], spin=1, register_length=2)"
      ]
     },
     "execution_count": 2,
     "metadata": {},
     "output_type": "execute_result"
    }
   ],
   "source": [
    "SpinOp(\n",
    "    [\n",
    "        (\"XX\", -1),\n",
    "        (\"YY\", -1),\n",
    "        (\"ZZ\", -1),\n",
    "        (\"ZI\", -0.3),\n",
    "        (\"IZ\", -0.3),\n",
    "    ],\n",
    "    spin=1\n",
    ")"
   ]
  },
  {
   "cell_type": "code",
   "execution_count": 3,
   "id": "152b1020",
   "metadata": {
    "execution": {
     "iopub.execute_input": "2021-12-03T16:47:32.441799Z",
     "iopub.status.busy": "2021-12-03T16:47:32.440963Z",
     "iopub.status.idle": "2021-12-03T16:47:32.444007Z",
     "shell.execute_reply": "2021-12-03T16:47:32.443567Z"
    }
   },
   "outputs": [
    {
     "data": {
      "text/plain": [
       "SpinOp([('X_0', (1+0j)), ('Y_0', 1j)], spin=3/2, register_length=1)"
      ]
     },
     "execution_count": 3,
     "metadata": {},
     "output_type": "execute_result"
    }
   ],
   "source": [
    "x + 1j * y"
   ]
  },
  {
   "cell_type": "code",
   "execution_count": 4,
   "id": "07ea7bc0",
   "metadata": {
    "execution": {
     "iopub.execute_input": "2021-12-03T16:47:32.450014Z",
     "iopub.status.busy": "2021-12-03T16:47:32.448326Z",
     "iopub.status.idle": "2021-12-03T16:47:32.451865Z",
     "shell.execute_reply": "2021-12-03T16:47:32.450473Z"
    }
   },
   "outputs": [
    {
     "data": {
      "text/plain": [
       "SpinOp(('Z_0', -1j), spin=3/2, register_length=1)"
      ]
     },
     "execution_count": 4,
     "metadata": {},
     "output_type": "execute_result"
    }
   ],
   "source": [
    "~(1j * z)"
   ]
  }
 ],
 "metadata": {
  "kernelspec": {
   "display_name": "Python 3 (ipykernel)",
   "language": "python",
   "name": "python3"
  },
  "language_info": {
   "codemirror_mode": {
    "name": "ipython",
    "version": 3
   },
   "file_extension": ".py",
   "mimetype": "text/x-python",
   "name": "python",
   "nbconvert_exporter": "python",
   "pygments_lexer": "ipython3",
   "version": "3.8.12"
  }
 },
 "nbformat": 4,
 "nbformat_minor": 5
}