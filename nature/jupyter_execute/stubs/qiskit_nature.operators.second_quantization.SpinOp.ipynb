{
 "cells": [
  {
   "cell_type": "code",
   "execution_count": 1,
   "id": "2535d121",
   "metadata": {
    "execution": {
     "iopub.execute_input": "2021-12-02T14:54:11.159247Z",
     "iopub.status.busy": "2021-12-02T14:54:11.158702Z",
     "iopub.status.idle": "2021-12-02T14:54:11.865749Z",
     "shell.execute_reply": "2021-12-02T14:54:11.865135Z"
    }
   },
   "outputs": [],
   "source": [
    "from qiskit_nature.operators.second_quantization import SpinOp\n",
    "\n",
    "x = SpinOp(\"X\", spin=3/2)\n",
    "y = SpinOp(\"Y\", spin=3/2)\n",
    "z = SpinOp(\"Z\", spin=3/2)"
   ]
  },
  {
   "cell_type": "code",
   "execution_count": 2,
   "id": "6ee94af8",
   "metadata": {
    "execution": {
     "iopub.execute_input": "2021-12-02T14:54:11.876118Z",
     "iopub.status.busy": "2021-12-02T14:54:11.875079Z",
     "iopub.status.idle": "2021-12-02T14:54:11.878466Z",
     "shell.execute_reply": "2021-12-02T14:54:11.878034Z"
    }
   },
   "outputs": [
    {
     "data": {
      "text/plain": [
       "SpinOp([('X_0 X_1', (-1+0j)), ('Y_0 Y_1', (-1+0j)), ('Z_0 Z_1', (-1+0j)), ('Z_0', (-0.3+0j)), ('Z_1', (-0.3+0j))], spin=1, register_length=2)"
      ]
     },
     "execution_count": 2,
     "metadata": {},
     "output_type": "execute_result"
    }
   ],
   "source": [
    "SpinOp(\n",
    "    [\n",
    "        (\"XX\", -1),\n",
    "        (\"YY\", -1),\n",
    "        (\"ZZ\", -1),\n",
    "        (\"ZI\", -0.3),\n",
    "        (\"IZ\", -0.3),\n",
    "    ],\n",
    "    spin=1\n",
    ")"
   ]
  },
  {
   "cell_type": "code",
   "execution_count": 3,
   "id": "40af0a9a",
   "metadata": {
    "execution": {
     "iopub.execute_input": "2021-12-02T14:54:11.883203Z",
     "iopub.status.busy": "2021-12-02T14:54:11.882345Z",
     "iopub.status.idle": "2021-12-02T14:54:11.885511Z",
     "shell.execute_reply": "2021-12-02T14:54:11.885081Z"
    }
   },
   "outputs": [
    {
     "data": {
      "text/plain": [
       "SpinOp([('X_0', (1+0j)), ('Y_0', 1j)], spin=3/2, register_length=1)"
      ]
     },
     "execution_count": 3,
     "metadata": {},
     "output_type": "execute_result"
    }
   ],
   "source": [
    "x + 1j * y"
   ]
  },
  {
   "cell_type": "code",
   "execution_count": 4,
   "id": "bb716f3a",
   "metadata": {
    "execution": {
     "iopub.execute_input": "2021-12-02T14:54:11.890265Z",
     "iopub.status.busy": "2021-12-02T14:54:11.889438Z",
     "iopub.status.idle": "2021-12-02T14:54:11.892561Z",
     "shell.execute_reply": "2021-12-02T14:54:11.892133Z"
    }
   },
   "outputs": [
    {
     "data": {
      "text/plain": [
       "SpinOp(('Z_0', -1j), spin=3/2, register_length=1)"
      ]
     },
     "execution_count": 4,
     "metadata": {},
     "output_type": "execute_result"
    }
   ],
   "source": [
    "~(1j * z)"
   ]
  }
 ],
 "metadata": {
  "kernelspec": {
   "display_name": "Python 3 (ipykernel)",
   "language": "python",
   "name": "python3"
  },
  "language_info": {
   "codemirror_mode": {
    "name": "ipython",
    "version": 3
   },
   "file_extension": ".py",
   "mimetype": "text/x-python",
   "name": "python",
   "nbconvert_exporter": "python",
   "pygments_lexer": "ipython3",
   "version": "3.8.12"
  }
 },
 "nbformat": 4,
 "nbformat_minor": 5
}