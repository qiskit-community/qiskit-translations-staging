{
 "cells": [
  {
   "cell_type": "code",
   "execution_count": 1,
   "id": "d2fe0a42",
   "metadata": {
    "execution": {
     "iopub.execute_input": "2021-11-12T19:25:00.184750Z",
     "iopub.status.busy": "2021-11-12T19:25:00.184079Z",
     "iopub.status.idle": "2021-11-12T19:25:01.169239Z",
     "shell.execute_reply": "2021-11-12T19:25:01.168596Z"
    }
   },
   "outputs": [],
   "source": [
    "from qiskit_nature.operators.second_quantization import SpinOp\n",
    "\n",
    "x = SpinOp(\"X\", spin=3/2)\n",
    "y = SpinOp(\"Y\", spin=3/2)\n",
    "z = SpinOp(\"Z\", spin=3/2)"
   ]
  },
  {
   "cell_type": "code",
   "execution_count": 2,
   "id": "8c080c9a",
   "metadata": {
    "execution": {
     "iopub.execute_input": "2021-11-12T19:25:01.181648Z",
     "iopub.status.busy": "2021-11-12T19:25:01.177225Z",
     "iopub.status.idle": "2021-11-12T19:25:01.184892Z",
     "shell.execute_reply": "2021-11-12T19:25:01.185416Z"
    }
   },
   "outputs": [
    {
     "data": {
      "text/plain": [
       "SpinOp([('X_0 X_1', (-1+0j)), ('Y_0 Y_1', (-1+0j)), ('Z_0 Z_1', (-1+0j)), ('Z_0', (-0.3+0j)), ('Z_1', (-0.3+0j))], spin=1, register_length=2)"
      ]
     },
     "execution_count": 2,
     "metadata": {},
     "output_type": "execute_result"
    }
   ],
   "source": [
    "SpinOp(\n",
    "    [\n",
    "        (\"XX\", -1),\n",
    "        (\"YY\", -1),\n",
    "        (\"ZZ\", -1),\n",
    "        (\"ZI\", -0.3),\n",
    "        (\"IZ\", -0.3),\n",
    "    ],\n",
    "    spin=1\n",
    ")"
   ]
  },
  {
   "cell_type": "code",
   "execution_count": 3,
   "id": "5b5775fd",
   "metadata": {
    "execution": {
     "iopub.execute_input": "2021-11-12T19:25:01.191022Z",
     "iopub.status.busy": "2021-11-12T19:25:01.190307Z",
     "iopub.status.idle": "2021-11-12T19:25:01.192930Z",
     "shell.execute_reply": "2021-11-12T19:25:01.193486Z"
    }
   },
   "outputs": [
    {
     "data": {
      "text/plain": [
       "SpinOp([('X_0', (1+0j)), ('Y_0', 1j)], spin=3/2, register_length=1)"
      ]
     },
     "execution_count": 3,
     "metadata": {},
     "output_type": "execute_result"
    }
   ],
   "source": [
    "x + 1j * y"
   ]
  },
  {
   "cell_type": "code",
   "execution_count": 4,
   "id": "357ba657",
   "metadata": {
    "execution": {
     "iopub.execute_input": "2021-11-12T19:25:01.199183Z",
     "iopub.status.busy": "2021-11-12T19:25:01.195737Z",
     "iopub.status.idle": "2021-11-12T19:25:01.202096Z",
     "shell.execute_reply": "2021-11-12T19:25:01.202690Z"
    }
   },
   "outputs": [
    {
     "data": {
      "text/plain": [
       "SpinOp(('Z_0', -1j), spin=3/2, register_length=1)"
      ]
     },
     "execution_count": 4,
     "metadata": {},
     "output_type": "execute_result"
    }
   ],
   "source": [
    "~(1j * z)"
   ]
  }
 ],
 "metadata": {
  "kernelspec": {
   "display_name": "Python 3 (ipykernel)",
   "language": "python",
   "name": "python3"
  },
  "language_info": {
   "codemirror_mode": {
    "name": "ipython",
    "version": 3
   },
   "file_extension": ".py",
   "mimetype": "text/x-python",
   "name": "python",
   "nbconvert_exporter": "python",
   "pygments_lexer": "ipython3",
   "version": "3.8.12"
  }
 },
 "nbformat": 4,
 "nbformat_minor": 5
}