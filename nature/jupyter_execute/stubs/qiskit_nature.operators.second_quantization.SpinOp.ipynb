{
 "cells": [
  {
   "cell_type": "code",
   "execution_count": 1,
   "id": "648b2a7f",
   "metadata": {
    "execution": {
     "iopub.execute_input": "2021-11-16T21:27:35.723498Z",
     "iopub.status.busy": "2021-11-16T21:27:35.723028Z",
     "iopub.status.idle": "2021-11-16T21:27:36.434187Z",
     "shell.execute_reply": "2021-11-16T21:27:36.433221Z"
    }
   },
   "outputs": [],
   "source": [
    "from qiskit_nature.operators.second_quantization import SpinOp\n",
    "\n",
    "x = SpinOp(\"X\", spin=3/2)\n",
    "y = SpinOp(\"Y\", spin=3/2)\n",
    "z = SpinOp(\"Z\", spin=3/2)"
   ]
  },
  {
   "cell_type": "code",
   "execution_count": 2,
   "id": "58cd5d2f",
   "metadata": {
    "execution": {
     "iopub.execute_input": "2021-11-16T21:27:36.443076Z",
     "iopub.status.busy": "2021-11-16T21:27:36.442563Z",
     "iopub.status.idle": "2021-11-16T21:27:36.447412Z",
     "shell.execute_reply": "2021-11-16T21:27:36.447048Z"
    }
   },
   "outputs": [
    {
     "data": {
      "text/plain": [
       "SpinOp([('X_0 X_1', (-1+0j)), ('Y_0 Y_1', (-1+0j)), ('Z_0 Z_1', (-1+0j)), ('Z_0', (-0.3+0j)), ('Z_1', (-0.3+0j))], spin=1, register_length=2)"
      ]
     },
     "execution_count": 2,
     "metadata": {},
     "output_type": "execute_result"
    }
   ],
   "source": [
    "SpinOp(\n",
    "    [\n",
    "        (\"XX\", -1),\n",
    "        (\"YY\", -1),\n",
    "        (\"ZZ\", -1),\n",
    "        (\"ZI\", -0.3),\n",
    "        (\"IZ\", -0.3),\n",
    "    ],\n",
    "    spin=1\n",
    ")"
   ]
  },
  {
   "cell_type": "code",
   "execution_count": 3,
   "id": "f7b22e25",
   "metadata": {
    "execution": {
     "iopub.execute_input": "2021-11-16T21:27:36.450905Z",
     "iopub.status.busy": "2021-11-16T21:27:36.450494Z",
     "iopub.status.idle": "2021-11-16T21:27:36.454916Z",
     "shell.execute_reply": "2021-11-16T21:27:36.454527Z"
    }
   },
   "outputs": [
    {
     "data": {
      "text/plain": [
       "SpinOp([('X_0', (1+0j)), ('Y_0', 1j)], spin=3/2, register_length=1)"
      ]
     },
     "execution_count": 3,
     "metadata": {},
     "output_type": "execute_result"
    }
   ],
   "source": [
    "x + 1j * y"
   ]
  },
  {
   "cell_type": "code",
   "execution_count": 4,
   "id": "4f8ff149",
   "metadata": {
    "execution": {
     "iopub.execute_input": "2021-11-16T21:27:36.458483Z",
     "iopub.status.busy": "2021-11-16T21:27:36.458057Z",
     "iopub.status.idle": "2021-11-16T21:27:36.459933Z",
     "shell.execute_reply": "2021-11-16T21:27:36.460265Z"
    }
   },
   "outputs": [
    {
     "data": {
      "text/plain": [
       "SpinOp(('Z_0', -1j), spin=3/2, register_length=1)"
      ]
     },
     "execution_count": 4,
     "metadata": {},
     "output_type": "execute_result"
    }
   ],
   "source": [
    "~(1j * z)"
   ]
  }
 ],
 "metadata": {
  "kernelspec": {
   "display_name": "Python 3 (ipykernel)",
   "language": "python",
   "name": "python3"
  },
  "language_info": {
   "codemirror_mode": {
    "name": "ipython",
    "version": 3
   },
   "file_extension": ".py",
   "mimetype": "text/x-python",
   "name": "python",
   "nbconvert_exporter": "python",
   "pygments_lexer": "ipython3",
   "version": "3.8.12"
  }
 },
 "nbformat": 4,
 "nbformat_minor": 5
}