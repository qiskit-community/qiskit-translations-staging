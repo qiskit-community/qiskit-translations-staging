{
 "cells": [
  {
   "cell_type": "code",
   "execution_count": 1,
   "id": "e7cd6473",
   "metadata": {
    "execution": {
     "iopub.execute_input": "2022-01-05T16:49:58.435303Z",
     "iopub.status.busy": "2022-01-05T16:49:58.434841Z",
     "iopub.status.idle": "2022-01-05T16:49:59.061271Z",
     "shell.execute_reply": "2022-01-05T16:49:59.060649Z"
    }
   },
   "outputs": [],
   "source": [
    "from qiskit_nature.operators.second_quantization import SpinOp\n",
    "\n",
    "x = SpinOp(\"X\", spin=3/2)\n",
    "y = SpinOp(\"Y\", spin=3/2)\n",
    "z = SpinOp(\"Z\", spin=3/2)"
   ]
  },
  {
   "cell_type": "code",
   "execution_count": 2,
   "id": "4f5fb75e",
   "metadata": {
    "execution": {
     "iopub.execute_input": "2022-01-05T16:49:59.070967Z",
     "iopub.status.busy": "2022-01-05T16:49:59.070481Z",
     "iopub.status.idle": "2022-01-05T16:49:59.075846Z",
     "shell.execute_reply": "2022-01-05T16:49:59.075431Z"
    }
   },
   "outputs": [
    {
     "data": {
      "text/plain": [
       "SpinOp([('X_0 X_1', (-1+0j)), ('Y_0 Y_1', (-1+0j)), ('Z_0 Z_1', (-1+0j)), ('Z_0', (-0.3+0j)), ('Z_1', (-0.3+0j))], spin=1, register_length=2)"
      ]
     },
     "execution_count": 2,
     "metadata": {},
     "output_type": "execute_result"
    }
   ],
   "source": [
    "SpinOp(\n",
    "    [\n",
    "        (\"XX\", -1),\n",
    "        (\"YY\", -1),\n",
    "        (\"ZZ\", -1),\n",
    "        (\"ZI\", -0.3),\n",
    "        (\"IZ\", -0.3),\n",
    "    ],\n",
    "    spin=1\n",
    ")"
   ]
  },
  {
   "cell_type": "code",
   "execution_count": 3,
   "id": "26a13e03",
   "metadata": {
    "execution": {
     "iopub.execute_input": "2022-01-05T16:49:59.079931Z",
     "iopub.status.busy": "2022-01-05T16:49:59.078988Z",
     "iopub.status.idle": "2022-01-05T16:49:59.081864Z",
     "shell.execute_reply": "2022-01-05T16:49:59.082245Z"
    }
   },
   "outputs": [
    {
     "data": {
      "text/plain": [
       "SpinOp([('X_0', (1+0j)), ('Y_0', 1j)], spin=3/2, register_length=1)"
      ]
     },
     "execution_count": 3,
     "metadata": {},
     "output_type": "execute_result"
    }
   ],
   "source": [
    "x + 1j * y"
   ]
  },
  {
   "cell_type": "code",
   "execution_count": 4,
   "id": "0abe4f6d",
   "metadata": {
    "execution": {
     "iopub.execute_input": "2022-01-05T16:49:59.086486Z",
     "iopub.status.busy": "2022-01-05T16:49:59.085986Z",
     "iopub.status.idle": "2022-01-05T16:49:59.088242Z",
     "shell.execute_reply": "2022-01-05T16:49:59.088618Z"
    }
   },
   "outputs": [
    {
     "data": {
      "text/plain": [
       "SpinOp(('Z_0', -1j), spin=3/2, register_length=1)"
      ]
     },
     "execution_count": 4,
     "metadata": {},
     "output_type": "execute_result"
    }
   ],
   "source": [
    "~(1j * z)"
   ]
  }
 ],
 "metadata": {
  "kernelspec": {
   "display_name": "Python 3 (ipykernel)",
   "language": "python",
   "name": "python3"
  },
  "language_info": {
   "codemirror_mode": {
    "name": "ipython",
    "version": 3
   },
   "file_extension": ".py",
   "mimetype": "text/x-python",
   "name": "python",
   "nbconvert_exporter": "python",
   "pygments_lexer": "ipython3",
   "version": "3.8.12"
  }
 },
 "nbformat": 4,
 "nbformat_minor": 5
}