{
 "cells": [
  {
   "cell_type": "code",
   "execution_count": 1,
   "id": "b48aa831",
   "metadata": {
    "execution": {
     "iopub.execute_input": "2022-01-25T15:08:31.874185Z",
     "iopub.status.busy": "2022-01-25T15:08:31.873698Z",
     "iopub.status.idle": "2022-01-25T15:08:32.496057Z",
     "shell.execute_reply": "2022-01-25T15:08:32.495075Z"
    }
   },
   "outputs": [],
   "source": [
    "from qiskit_nature.operators.second_quantization import SpinOp\n",
    "\n",
    "x = SpinOp(\"X\", spin=3/2)\n",
    "y = SpinOp(\"Y\", spin=3/2)\n",
    "z = SpinOp(\"Z\", spin=3/2)"
   ]
  },
  {
   "cell_type": "code",
   "execution_count": 2,
   "id": "e00d559e",
   "metadata": {
    "execution": {
     "iopub.execute_input": "2022-01-25T15:08:32.505798Z",
     "iopub.status.busy": "2022-01-25T15:08:32.503402Z",
     "iopub.status.idle": "2022-01-25T15:08:32.508382Z",
     "shell.execute_reply": "2022-01-25T15:08:32.507981Z"
    }
   },
   "outputs": [
    {
     "data": {
      "text/plain": [
       "SpinOp([('X_0 X_1', (-1+0j)), ('Y_0 Y_1', (-1+0j)), ('Z_0 Z_1', (-1+0j)), ('Z_0', (-0.3+0j)), ('Z_1', (-0.3+0j))], spin=1, register_length=2)"
      ]
     },
     "execution_count": 2,
     "metadata": {},
     "output_type": "execute_result"
    }
   ],
   "source": [
    "SpinOp(\n",
    "    [\n",
    "        (\"XX\", -1),\n",
    "        (\"YY\", -1),\n",
    "        (\"ZZ\", -1),\n",
    "        (\"ZI\", -0.3),\n",
    "        (\"IZ\", -0.3),\n",
    "    ],\n",
    "    spin=1\n",
    ")"
   ]
  },
  {
   "cell_type": "code",
   "execution_count": 3,
   "id": "2036f55d",
   "metadata": {
    "execution": {
     "iopub.execute_input": "2022-01-25T15:08:32.512176Z",
     "iopub.status.busy": "2022-01-25T15:08:32.511719Z",
     "iopub.status.idle": "2022-01-25T15:08:32.513946Z",
     "shell.execute_reply": "2022-01-25T15:08:32.514320Z"
    }
   },
   "outputs": [
    {
     "data": {
      "text/plain": [
       "SpinOp([('X_0', (1+0j)), ('Y_0', 1j)], spin=3/2, register_length=1)"
      ]
     },
     "execution_count": 3,
     "metadata": {},
     "output_type": "execute_result"
    }
   ],
   "source": [
    "x + 1j * y"
   ]
  },
  {
   "cell_type": "code",
   "execution_count": 4,
   "id": "947f8d91",
   "metadata": {
    "execution": {
     "iopub.execute_input": "2022-01-25T15:08:32.518920Z",
     "iopub.status.busy": "2022-01-25T15:08:32.518104Z",
     "iopub.status.idle": "2022-01-25T15:08:32.520896Z",
     "shell.execute_reply": "2022-01-25T15:08:32.520487Z"
    }
   },
   "outputs": [
    {
     "data": {
      "text/plain": [
       "SpinOp(('Z_0', -1j), spin=3/2, register_length=1)"
      ]
     },
     "execution_count": 4,
     "metadata": {},
     "output_type": "execute_result"
    }
   ],
   "source": [
    "~(1j * z)"
   ]
  }
 ],
 "metadata": {
  "kernelspec": {
   "display_name": "Python 3 (ipykernel)",
   "language": "python",
   "name": "python3"
  },
  "language_info": {
   "codemirror_mode": {
    "name": "ipython",
    "version": 3
   },
   "file_extension": ".py",
   "mimetype": "text/x-python",
   "name": "python",
   "nbconvert_exporter": "python",
   "pygments_lexer": "ipython3",
   "version": "3.8.12"
  }
 },
 "nbformat": 4,
 "nbformat_minor": 5
}