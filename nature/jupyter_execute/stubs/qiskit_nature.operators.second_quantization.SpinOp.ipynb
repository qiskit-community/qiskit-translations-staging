{
 "cells": [
  {
   "cell_type": "code",
   "execution_count": 1,
   "id": "f847f95b",
   "metadata": {
    "execution": {
     "iopub.execute_input": "2022-01-07T20:31:40.077680Z",
     "iopub.status.busy": "2022-01-07T20:31:40.077176Z",
     "iopub.status.idle": "2022-01-07T20:31:40.657314Z",
     "shell.execute_reply": "2022-01-07T20:31:40.656716Z"
    }
   },
   "outputs": [],
   "source": [
    "from qiskit_nature.operators.second_quantization import SpinOp\n",
    "\n",
    "x = SpinOp(\"X\", spin=3/2)\n",
    "y = SpinOp(\"Y\", spin=3/2)\n",
    "z = SpinOp(\"Z\", spin=3/2)"
   ]
  },
  {
   "cell_type": "code",
   "execution_count": 2,
   "id": "eb2a5b8e",
   "metadata": {
    "execution": {
     "iopub.execute_input": "2022-01-07T20:31:40.666190Z",
     "iopub.status.busy": "2022-01-07T20:31:40.665712Z",
     "iopub.status.idle": "2022-01-07T20:31:40.667741Z",
     "shell.execute_reply": "2022-01-07T20:31:40.668129Z"
    }
   },
   "outputs": [
    {
     "data": {
      "text/plain": [
       "SpinOp([('X_0 X_1', (-1+0j)), ('Y_0 Y_1', (-1+0j)), ('Z_0 Z_1', (-1+0j)), ('Z_0', (-0.3+0j)), ('Z_1', (-0.3+0j))], spin=1, register_length=2)"
      ]
     },
     "execution_count": 2,
     "metadata": {},
     "output_type": "execute_result"
    }
   ],
   "source": [
    "SpinOp(\n",
    "    [\n",
    "        (\"XX\", -1),\n",
    "        (\"YY\", -1),\n",
    "        (\"ZZ\", -1),\n",
    "        (\"ZI\", -0.3),\n",
    "        (\"IZ\", -0.3),\n",
    "    ],\n",
    "    spin=1\n",
    ")"
   ]
  },
  {
   "cell_type": "code",
   "execution_count": 3,
   "id": "907781ed",
   "metadata": {
    "execution": {
     "iopub.execute_input": "2022-01-07T20:31:40.672844Z",
     "iopub.status.busy": "2022-01-07T20:31:40.672029Z",
     "iopub.status.idle": "2022-01-07T20:31:40.674824Z",
     "shell.execute_reply": "2022-01-07T20:31:40.674417Z"
    }
   },
   "outputs": [
    {
     "data": {
      "text/plain": [
       "SpinOp([('X_0', (1+0j)), ('Y_0', 1j)], spin=3/2, register_length=1)"
      ]
     },
     "execution_count": 3,
     "metadata": {},
     "output_type": "execute_result"
    }
   ],
   "source": [
    "x + 1j * y"
   ]
  },
  {
   "cell_type": "code",
   "execution_count": 4,
   "id": "2c336a0f",
   "metadata": {
    "execution": {
     "iopub.execute_input": "2022-01-07T20:31:40.679179Z",
     "iopub.status.busy": "2022-01-07T20:31:40.678374Z",
     "iopub.status.idle": "2022-01-07T20:31:40.681056Z",
     "shell.execute_reply": "2022-01-07T20:31:40.680665Z"
    }
   },
   "outputs": [
    {
     "data": {
      "text/plain": [
       "SpinOp(('Z_0', -1j), spin=3/2, register_length=1)"
      ]
     },
     "execution_count": 4,
     "metadata": {},
     "output_type": "execute_result"
    }
   ],
   "source": [
    "~(1j * z)"
   ]
  }
 ],
 "metadata": {
  "kernelspec": {
   "display_name": "Python 3 (ipykernel)",
   "language": "python",
   "name": "python3"
  },
  "language_info": {
   "codemirror_mode": {
    "name": "ipython",
    "version": 3
   },
   "file_extension": ".py",
   "mimetype": "text/x-python",
   "name": "python",
   "nbconvert_exporter": "python",
   "pygments_lexer": "ipython3",
   "version": "3.8.12"
  }
 },
 "nbformat": 4,
 "nbformat_minor": 5
}