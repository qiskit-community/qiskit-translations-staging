{
 "cells": [
  {
   "cell_type": "code",
   "execution_count": 1,
   "id": "26bef4a6",
   "metadata": {
    "execution": {
     "iopub.execute_input": "2021-11-13T14:52:49.988221Z",
     "iopub.status.busy": "2021-11-13T14:52:49.987800Z",
     "iopub.status.idle": "2021-11-13T14:52:50.832106Z",
     "shell.execute_reply": "2021-11-13T14:52:50.831504Z"
    }
   },
   "outputs": [],
   "source": [
    "from qiskit_nature.operators.second_quantization import SpinOp\n",
    "\n",
    "x = SpinOp(\"X\", spin=3/2)\n",
    "y = SpinOp(\"Y\", spin=3/2)\n",
    "z = SpinOp(\"Z\", spin=3/2)"
   ]
  },
  {
   "cell_type": "code",
   "execution_count": 2,
   "id": "15d4c957",
   "metadata": {
    "execution": {
     "iopub.execute_input": "2021-11-13T14:52:50.844132Z",
     "iopub.status.busy": "2021-11-13T14:52:50.842855Z",
     "iopub.status.idle": "2021-11-13T14:52:50.846613Z",
     "shell.execute_reply": "2021-11-13T14:52:50.846164Z"
    }
   },
   "outputs": [
    {
     "data": {
      "text/plain": [
       "SpinOp([('X_0 X_1', (-1+0j)), ('Y_0 Y_1', (-1+0j)), ('Z_0 Z_1', (-1+0j)), ('Z_0', (-0.3+0j)), ('Z_1', (-0.3+0j))], spin=1, register_length=2)"
      ]
     },
     "execution_count": 2,
     "metadata": {},
     "output_type": "execute_result"
    }
   ],
   "source": [
    "SpinOp(\n",
    "    [\n",
    "        (\"XX\", -1),\n",
    "        (\"YY\", -1),\n",
    "        (\"ZZ\", -1),\n",
    "        (\"ZI\", -0.3),\n",
    "        (\"IZ\", -0.3),\n",
    "    ],\n",
    "    spin=1\n",
    ")"
   ]
  },
  {
   "cell_type": "code",
   "execution_count": 3,
   "id": "5efc29d8",
   "metadata": {
    "execution": {
     "iopub.execute_input": "2021-11-13T14:52:50.851093Z",
     "iopub.status.busy": "2021-11-13T14:52:50.848701Z",
     "iopub.status.idle": "2021-11-13T14:52:50.853275Z",
     "shell.execute_reply": "2021-11-13T14:52:50.853667Z"
    }
   },
   "outputs": [
    {
     "data": {
      "text/plain": [
       "SpinOp([('X_0', (1+0j)), ('Y_0', 1j)], spin=3/2, register_length=1)"
      ]
     },
     "execution_count": 3,
     "metadata": {},
     "output_type": "execute_result"
    }
   ],
   "source": [
    "x + 1j * y"
   ]
  },
  {
   "cell_type": "code",
   "execution_count": 4,
   "id": "56df0912",
   "metadata": {
    "execution": {
     "iopub.execute_input": "2021-11-13T14:52:50.858650Z",
     "iopub.status.busy": "2021-11-13T14:52:50.857842Z",
     "iopub.status.idle": "2021-11-13T14:52:50.860903Z",
     "shell.execute_reply": "2021-11-13T14:52:50.860464Z"
    }
   },
   "outputs": [
    {
     "data": {
      "text/plain": [
       "SpinOp(('Z_0', -1j), spin=3/2, register_length=1)"
      ]
     },
     "execution_count": 4,
     "metadata": {},
     "output_type": "execute_result"
    }
   ],
   "source": [
    "~(1j * z)"
   ]
  }
 ],
 "metadata": {
  "kernelspec": {
   "display_name": "Python 3 (ipykernel)",
   "language": "python",
   "name": "python3"
  },
  "language_info": {
   "codemirror_mode": {
    "name": "ipython",
    "version": 3
   },
   "file_extension": ".py",
   "mimetype": "text/x-python",
   "name": "python",
   "nbconvert_exporter": "python",
   "pygments_lexer": "ipython3",
   "version": "3.8.12"
  }
 },
 "nbformat": 4,
 "nbformat_minor": 5
}