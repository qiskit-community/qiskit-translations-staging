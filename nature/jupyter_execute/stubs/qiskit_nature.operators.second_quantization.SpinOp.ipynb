{
 "cells": [
  {
   "cell_type": "code",
   "execution_count": 1,
   "id": "225f4da8",
   "metadata": {
    "execution": {
     "iopub.execute_input": "2021-11-12T21:29:28.526758Z",
     "iopub.status.busy": "2021-11-12T21:29:28.526279Z",
     "iopub.status.idle": "2021-11-12T21:29:29.323705Z",
     "shell.execute_reply": "2021-11-12T21:29:29.322624Z"
    }
   },
   "outputs": [],
   "source": [
    "from qiskit_nature.operators.second_quantization import SpinOp\n",
    "\n",
    "x = SpinOp(\"X\", spin=3/2)\n",
    "y = SpinOp(\"Y\", spin=3/2)\n",
    "z = SpinOp(\"Z\", spin=3/2)"
   ]
  },
  {
   "cell_type": "code",
   "execution_count": 2,
   "id": "a6fcd852",
   "metadata": {
    "execution": {
     "iopub.execute_input": "2021-11-12T21:29:29.334088Z",
     "iopub.status.busy": "2021-11-12T21:29:29.333582Z",
     "iopub.status.idle": "2021-11-12T21:29:29.338940Z",
     "shell.execute_reply": "2021-11-12T21:29:29.338521Z"
    }
   },
   "outputs": [
    {
     "data": {
      "text/plain": [
       "SpinOp([('X_0 X_1', (-1+0j)), ('Y_0 Y_1', (-1+0j)), ('Z_0 Z_1', (-1+0j)), ('Z_0', (-0.3+0j)), ('Z_1', (-0.3+0j))], spin=1, register_length=2)"
      ]
     },
     "execution_count": 2,
     "metadata": {},
     "output_type": "execute_result"
    }
   ],
   "source": [
    "SpinOp(\n",
    "    [\n",
    "        (\"XX\", -1),\n",
    "        (\"YY\", -1),\n",
    "        (\"ZZ\", -1),\n",
    "        (\"ZI\", -0.3),\n",
    "        (\"IZ\", -0.3),\n",
    "    ],\n",
    "    spin=1\n",
    ")"
   ]
  },
  {
   "cell_type": "code",
   "execution_count": 3,
   "id": "144e98e4",
   "metadata": {
    "execution": {
     "iopub.execute_input": "2021-11-12T21:29:29.344089Z",
     "iopub.status.busy": "2021-11-12T21:29:29.343232Z",
     "iopub.status.idle": "2021-11-12T21:29:29.346432Z",
     "shell.execute_reply": "2021-11-12T21:29:29.346018Z"
    }
   },
   "outputs": [
    {
     "data": {
      "text/plain": [
       "SpinOp([('X_0', (1+0j)), ('Y_0', 1j)], spin=3/2, register_length=1)"
      ]
     },
     "execution_count": 3,
     "metadata": {},
     "output_type": "execute_result"
    }
   ],
   "source": [
    "x + 1j * y"
   ]
  },
  {
   "cell_type": "code",
   "execution_count": 4,
   "id": "e4825b85",
   "metadata": {
    "execution": {
     "iopub.execute_input": "2021-11-12T21:29:29.351953Z",
     "iopub.status.busy": "2021-11-12T21:29:29.351101Z",
     "iopub.status.idle": "2021-11-12T21:29:29.354246Z",
     "shell.execute_reply": "2021-11-12T21:29:29.353843Z"
    }
   },
   "outputs": [
    {
     "data": {
      "text/plain": [
       "SpinOp(('Z_0', -1j), spin=3/2, register_length=1)"
      ]
     },
     "execution_count": 4,
     "metadata": {},
     "output_type": "execute_result"
    }
   ],
   "source": [
    "~(1j * z)"
   ]
  }
 ],
 "metadata": {
  "kernelspec": {
   "display_name": "Python 3 (ipykernel)",
   "language": "python",
   "name": "python3"
  },
  "language_info": {
   "codemirror_mode": {
    "name": "ipython",
    "version": 3
   },
   "file_extension": ".py",
   "mimetype": "text/x-python",
   "name": "python",
   "nbconvert_exporter": "python",
   "pygments_lexer": "ipython3",
   "version": "3.8.12"
  }
 },
 "nbformat": 4,
 "nbformat_minor": 5
}