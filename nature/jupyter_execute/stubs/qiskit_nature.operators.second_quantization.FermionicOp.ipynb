{
 "cells": [
  {
   "cell_type": "code",
   "execution_count": 1,
   "id": "bf3a1bbc",
   "metadata": {
    "execution": {
     "iopub.execute_input": "2021-12-20T14:10:55.070112Z",
     "iopub.status.busy": "2021-12-20T14:10:55.069041Z",
     "iopub.status.idle": "2021-12-20T14:10:55.660657Z",
     "shell.execute_reply": "2021-12-20T14:10:55.660100Z"
    }
   },
   "outputs": [
    {
     "name": "stdout",
     "output_type": "stream",
     "text": [
      "truncated str output\n",
      "Fermionic Operator\n",
      "register length=1, number terms=25\n",
      "  (1+0j)\n",
      "+ (1+0j)\n",
      "+ (1+0j)\n",
      "+ (1+0j)\n",
      "+ (1+0j)\n",
      "+ (1+0j)\n",
      "+ (1+0j)\n",
      "+ (1+0j)\n",
      "+ (1+0j)\n",
      "+ (1+0j)\n",
      "+ (1+0j)\n",
      "+ (1+0j)\n",
      "+ (1+0j)\n",
      "+ (1+0j)\n",
      "+ (1+0j)\n",
      "+ (1+0j)\n",
      "+ (1+0j)\n",
      "+ (1+0j)\n",
      "+ (1+0j)\n",
      "+ (1+0j)\n",
      "+ (1+0j)\n",
      "+ (1+0j ...\n",
      "not truncated str output\n",
      "Fermionic Operator\n",
      "register length=1, number terms=25\n",
      "  (1+0j)\n",
      "+ (1+0j)\n",
      "+ (1+0j)\n",
      "+ (1+0j)\n",
      "+ (1+0j)\n",
      "+ (1+0j)\n",
      "+ (1+0j)\n",
      "+ (1+0j)\n",
      "+ (1+0j)\n",
      "+ (1+0j)\n",
      "+ (1+0j)\n",
      "+ (1+0j)\n",
      "+ (1+0j)\n",
      "+ (1+0j)\n",
      "+ (1+0j)\n",
      "+ (1+0j)\n",
      "+ (1+0j)\n",
      "+ (1+0j)\n",
      "+ (1+0j)\n",
      "+ (1+0j)\n",
      "+ (1+0j)\n",
      "+ (1+0j)\n",
      "+ (1+0j)\n",
      "+ (1+0j)\n",
      "+ (1+0j)\n"
     ]
    }
   ],
   "source": [
    "from qiskit_nature.operators.second_quantization import FermionicOp\n",
    "\n",
    "print(\"truncated str output\")\n",
    "print(sum(FermionicOp(\"I\", display_format=\"sparse\") for _ in range(25)))\n",
    "\n",
    "FermionicOp.set_truncation(0)\n",
    "print(\"not truncated str output\")\n",
    "print(sum(FermionicOp(\"I\", display_format=\"sparse\") for _ in range(25)))"
   ]
  },
  {
   "cell_type": "code",
   "execution_count": 2,
   "id": "9ee6e531",
   "metadata": {
    "execution": {
     "iopub.execute_input": "2021-12-20T14:10:55.669914Z",
     "iopub.status.busy": "2021-12-20T14:10:55.669439Z",
     "iopub.status.idle": "2021-12-20T14:10:55.673474Z",
     "shell.execute_reply": "2021-12-20T14:10:55.673856Z"
    }
   },
   "outputs": [
    {
     "data": {
      "text/plain": [
       "FermionicOp([('I+', (0.5+0j)), ('+I', (1+0j))], register_length=2, display_format='dense')"
      ]
     },
     "execution_count": 2,
     "metadata": {},
     "output_type": "execute_result"
    }
   ],
   "source": [
    "0.5 * FermionicOp(\"I+\", display_format=\"dense\") + FermionicOp(\"+I\", display_format=\"dense\")"
   ]
  },
  {
   "cell_type": "code",
   "execution_count": 3,
   "id": "6b9c0973",
   "metadata": {
    "execution": {
     "iopub.execute_input": "2021-12-20T14:10:55.678812Z",
     "iopub.status.busy": "2021-12-20T14:10:55.678109Z",
     "iopub.status.idle": "2021-12-20T14:10:55.680615Z",
     "shell.execute_reply": "2021-12-20T14:10:55.680992Z"
    }
   },
   "outputs": [
    {
     "data": {
      "text/plain": [
       "FermionicOp([('+_0', (0.25+0j)), ('-_1', (0.25+0j)), ('+_2 -_2', (0.25+0j))], register_length=3, display_format='sparse')"
      ]
     },
     "execution_count": 3,
     "metadata": {},
     "output_type": "execute_result"
    }
   ],
   "source": [
    "0.25 * sum(FermionicOp(label, display_format=\"sparse\") for label in ['+_0', '-_1', 'N_2'])"
   ]
  },
  {
   "cell_type": "code",
   "execution_count": 4,
   "id": "42cb83fe",
   "metadata": {
    "execution": {
     "iopub.execute_input": "2021-12-20T14:10:55.685723Z",
     "iopub.status.busy": "2021-12-20T14:10:55.684552Z",
     "iopub.status.idle": "2021-12-20T14:10:55.687325Z",
     "shell.execute_reply": "2021-12-20T14:10:55.686915Z"
    }
   },
   "outputs": [
    {
     "name": "stdout",
     "output_type": "stream",
     "text": [
      "(1+0j) * (+E)\n"
     ]
    }
   ],
   "source": [
    "print(FermionicOp(\"+-\", display_format=\"dense\") @ FermionicOp(\"E+\", display_format=\"dense\"))"
   ]
  },
  {
   "cell_type": "code",
   "execution_count": 5,
   "id": "d6ef3002",
   "metadata": {
    "execution": {
     "iopub.execute_input": "2021-12-20T14:10:55.690985Z",
     "iopub.status.busy": "2021-12-20T14:10:55.689004Z",
     "iopub.status.idle": "2021-12-20T14:10:55.692824Z",
     "shell.execute_reply": "2021-12-20T14:10:55.693204Z"
    }
   },
   "outputs": [
    {
     "data": {
      "text/plain": [
       "FermionicOp([('-', (1+0j))], register_length=1, display_format='dense')"
      ]
     },
     "execution_count": 5,
     "metadata": {},
     "output_type": "execute_result"
    }
   ],
   "source": [
    "~FermionicOp(\"+\", display_format=\"dense\")"
   ]
  }
 ],
 "metadata": {
  "kernelspec": {
   "display_name": "Python 3 (ipykernel)",
   "language": "python",
   "name": "python3"
  },
  "language_info": {
   "codemirror_mode": {
    "name": "ipython",
    "version": 3
   },
   "file_extension": ".py",
   "mimetype": "text/x-python",
   "name": "python",
   "nbconvert_exporter": "python",
   "pygments_lexer": "ipython3",
   "version": "3.8.12"
  }
 },
 "nbformat": 4,
 "nbformat_minor": 5
}