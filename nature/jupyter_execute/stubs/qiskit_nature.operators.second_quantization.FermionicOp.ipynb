{
 "cells": [
  {
   "cell_type": "code",
   "execution_count": 1,
   "id": "88b8fae9",
   "metadata": {
    "execution": {
     "iopub.execute_input": "2021-11-12T21:29:25.594445Z",
     "iopub.status.busy": "2021-11-12T21:29:25.593486Z",
     "iopub.status.idle": "2021-11-12T21:29:26.383675Z",
     "shell.execute_reply": "2021-11-12T21:29:26.383076Z"
    }
   },
   "outputs": [
    {
     "name": "stdout",
     "output_type": "stream",
     "text": [
      "truncated str output\n",
      "Fermionic Operator\n",
      "register length=1, number terms=25\n",
      "  (1+0j)\n",
      "+ (1+0j)\n",
      "+ (1+0j)\n",
      "+ (1+0j)\n",
      "+ (1+0j)\n",
      "+ (1+0j)\n",
      "+ (1+0j)\n",
      "+ (1+0j)\n",
      "+ (1+0j)\n",
      "+ (1+0j)\n",
      "+ (1+0j)\n",
      "+ (1+0j)\n",
      "+ (1+0j)\n",
      "+ (1+0j)\n",
      "+ (1+0j)\n",
      "+ (1+0j)\n",
      "+ (1+0j)\n",
      "+ (1+0j)\n",
      "+ (1+0j)\n",
      "+ (1+0j)\n",
      "+ (1+0j)\n",
      "+ (1+0j ...\n",
      "not truncated str output\n",
      "Fermionic Operator\n",
      "register length=1, number terms=25\n",
      "  (1+0j)\n",
      "+ (1+0j)\n",
      "+ (1+0j)\n",
      "+ (1+0j)\n",
      "+ (1+0j)\n",
      "+ (1+0j)\n",
      "+ (1+0j)\n",
      "+ (1+0j)\n",
      "+ (1+0j)\n",
      "+ (1+0j)\n",
      "+ (1+0j)\n",
      "+ (1+0j)\n",
      "+ (1+0j)\n",
      "+ (1+0j)\n",
      "+ (1+0j)\n",
      "+ (1+0j)\n",
      "+ (1+0j)\n",
      "+ (1+0j)\n",
      "+ (1+0j)\n",
      "+ (1+0j)\n",
      "+ (1+0j)\n",
      "+ (1+0j)\n",
      "+ (1+0j)\n",
      "+ (1+0j)\n",
      "+ (1+0j)\n"
     ]
    }
   ],
   "source": [
    "from qiskit_nature.operators.second_quantization import FermionicOp\n",
    "\n",
    "print(\"truncated str output\")\n",
    "print(sum(FermionicOp(\"I\", display_format=\"sparse\") for _ in range(25)))\n",
    "\n",
    "FermionicOp.set_truncation(0)\n",
    "print(\"not truncated str output\")\n",
    "print(sum(FermionicOp(\"I\", display_format=\"sparse\") for _ in range(25)))"
   ]
  },
  {
   "cell_type": "code",
   "execution_count": 2,
   "id": "0bbbce53",
   "metadata": {
    "execution": {
     "iopub.execute_input": "2021-11-12T21:29:26.393317Z",
     "iopub.status.busy": "2021-11-12T21:29:26.392817Z",
     "iopub.status.idle": "2021-11-12T21:29:26.396581Z",
     "shell.execute_reply": "2021-11-12T21:29:26.396964Z"
    }
   },
   "outputs": [
    {
     "data": {
      "text/plain": [
       "FermionicOp([('I+', (0.5+0j)), ('+I', (1+0j))], register_length=2, display_format='dense')"
      ]
     },
     "execution_count": 2,
     "metadata": {},
     "output_type": "execute_result"
    }
   ],
   "source": [
    "0.5 * FermionicOp(\"I+\", display_format=\"dense\") + FermionicOp(\"+I\", display_format=\"dense\")"
   ]
  },
  {
   "cell_type": "code",
   "execution_count": 3,
   "id": "506ebe50",
   "metadata": {
    "execution": {
     "iopub.execute_input": "2021-11-12T21:29:26.401751Z",
     "iopub.status.busy": "2021-11-12T21:29:26.401265Z",
     "iopub.status.idle": "2021-11-12T21:29:26.404239Z",
     "shell.execute_reply": "2021-11-12T21:29:26.404620Z"
    }
   },
   "outputs": [
    {
     "data": {
      "text/plain": [
       "FermionicOp([('+_0', (0.25+0j)), ('-_1', (0.25+0j)), ('+_2 -_2', (0.25+0j))], register_length=3, display_format='sparse')"
      ]
     },
     "execution_count": 3,
     "metadata": {},
     "output_type": "execute_result"
    }
   ],
   "source": [
    "0.25 * sum(FermionicOp(label, display_format=\"sparse\") for label in ['+_0', '-_1', 'N_2'])"
   ]
  },
  {
   "cell_type": "code",
   "execution_count": 4,
   "id": "53f5aef8",
   "metadata": {
    "execution": {
     "iopub.execute_input": "2021-11-12T21:29:26.409268Z",
     "iopub.status.busy": "2021-11-12T21:29:26.408208Z",
     "iopub.status.idle": "2021-11-12T21:29:26.411040Z",
     "shell.execute_reply": "2021-11-12T21:29:26.410635Z"
    }
   },
   "outputs": [
    {
     "name": "stdout",
     "output_type": "stream",
     "text": [
      "(1+0j) * (+E)\n"
     ]
    }
   ],
   "source": [
    "print(FermionicOp(\"+-\", display_format=\"dense\") @ FermionicOp(\"E+\", display_format=\"dense\"))"
   ]
  },
  {
   "cell_type": "code",
   "execution_count": 5,
   "id": "ce7eb627",
   "metadata": {
    "execution": {
     "iopub.execute_input": "2021-11-12T21:29:26.415312Z",
     "iopub.status.busy": "2021-11-12T21:29:26.414830Z",
     "iopub.status.idle": "2021-11-12T21:29:26.417554Z",
     "shell.execute_reply": "2021-11-12T21:29:26.417928Z"
    }
   },
   "outputs": [
    {
     "data": {
      "text/plain": [
       "FermionicOp([('-', (1+0j))], register_length=1, display_format='dense')"
      ]
     },
     "execution_count": 5,
     "metadata": {},
     "output_type": "execute_result"
    }
   ],
   "source": [
    "~FermionicOp(\"+\", display_format=\"dense\")"
   ]
  }
 ],
 "metadata": {
  "kernelspec": {
   "display_name": "Python 3 (ipykernel)",
   "language": "python",
   "name": "python3"
  },
  "language_info": {
   "codemirror_mode": {
    "name": "ipython",
    "version": 3
   },
   "file_extension": ".py",
   "mimetype": "text/x-python",
   "name": "python",
   "nbconvert_exporter": "python",
   "pygments_lexer": "ipython3",
   "version": "3.8.12"
  }
 },
 "nbformat": 4,
 "nbformat_minor": 5
}