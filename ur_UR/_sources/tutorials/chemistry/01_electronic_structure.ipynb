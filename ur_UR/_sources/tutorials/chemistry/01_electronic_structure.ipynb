{
 "cells": [
  {
   "cell_type": "markdown",
   "metadata": {},
   "source": [
    "# Electronic structure"
   ]
  },
  {
   "cell_type": "markdown",
   "metadata": {},
   "source": [
    "## Introduction \n",
    "\n",
    "The molecular Hamiltonian is \n",
    "\n",
    "$$\n",
    "\\mathcal{H} = - \\sum_I \\frac{\\nabla_{R_I}^2}{M_I} - \\sum_i \\frac{\\nabla_{r_i}^2}{m_e} - \\sum_I\\sum_i  \\frac{Z_I e^2}{|R_I-r_i|} + \\sum_i \\sum_{j>i} \\frac{e^2}{|r_i-r_j|} + \\sum_I\\sum_{J>I} \\frac{Z_I Z_J e^2}{|R_I-R_J|}\n",
    "$$\n",
    "\n",
    "Because the nuclei are much heavier than the electrons they do not move on the same time scale and therefore, the behavior of nuclei and electrons can be decoupled. This is the Born-Oppenheimer approximation.\n",
    "\n",
    "Therefore, one can first tackle the electronic problem with nuclear coordinate entering only as parameters. The energy levels of the electrons in the molecule can be found by solving the non-relativistic time independent Schroedinger equation,\n",
    "\n",
    "$$\n",
    "\\mathcal{H}_{\\text{el}} |\\Psi_{n}\\rangle = E_{n} |\\Psi_{n}\\rangle\n",
    "$$\n",
    "\n",
    "where \n",
    "\n",
    "$$\n",
    "\\mathcal{H}_{\\text{el}} = - \\sum_i \\frac{\\nabla_{r_i}^2}{m_e} - \\sum_I\\sum_i  \\frac{Z_I e^2}{|R_I-r_i|} + \\sum_i \\sum_{j>i} \\frac{e^2}{|r_i-r_j|}.\n",
    "$$\n",
    "\n",
    "In particular the ground state energy is given by:\n",
    "$$\n",
    "E_0 = \\frac{\\langle \\Psi_0 | H_{\\text{el}} | \\Psi_0 \\rangle}{\\langle \\Psi_0 | \\Psi_0 \\rangle}\n",
    "$$\n",
    "where $\\Psi_0$ is the ground state of the system. \n",
    "\n",
    "However, the dimensionality of this problem grows exponentially with the number of degrees of freedom. To tackle this issue we would like to prepare $\\Psi_0$ on a quantum computer and measure the Hamiltonian expectation value (or $E_0$) directly. \n",
    "\n",
    "So how do we do that concretely? \n"
   ]
  },
  {
   "cell_type": "markdown",
   "metadata": {},
   "source": [
    "## The Hartree-Fock initial state \n",
    "\n",
    "A good starting point for solving this problem is the Hartree-Fock (HF) method. This method approximates a N-body problem into N one-body problems where each electron evolves in the mean-field of the others. Classically solving the HF equations is efficient and leads to the exact exchange energy but does not include any electron correlation. Therefore, it is usually a good starting point to start adding correlation. \n",
    "\n",
    "The Hamiltonian can then be re-expressed in the basis of the solutions of the HF method, also called Molecular Orbitals (MOs):\n",
    "\n",
    "$$\n",
    "\\hat{H}_{elec}=\\sum_{pq} h_{pq} \\hat{a}^{\\dagger}_p \\hat{a}_q + \n",
    "\\frac{1}{2} \\sum_{pqrs} h_{pqrs}  \\hat{a}^{\\dagger}_p \\hat{a}^{\\dagger}_q \\hat{a}_r  \\hat{a}_s\n",
    "$$\n",
    "with the 1-body integrals\n",
    "$$\n",
    "h_{pq} = \\int \\phi^*_p(r) \\left( -\\frac{1}{2} \\nabla^2 - \\sum_{I} \\frac{Z_I}{R_I- r} \\right)   \\phi_q(r)\n",
    "$$\n",
    "and 2-body integrals\n",
    "$$\n",
    "h_{pqrs} = \\int \\frac{\\phi^*_p(r_1)  \\phi^*_q(r_2) \\phi_r(r_2)  \\phi_s(r_1)}{|r_1-r_2|}.\n",
    "$$\n",
    "\n",
    "The MOs ($\\phi_u$) can be occupied or virtual (unoccupied). One MO can contain 2 electrons. However, in what follows we actually work with Spin Orbitals which are associated with a spin up ($\\alpha$) of spin down ($\\beta$) electron. Thus Spin Orbitals can contain one electron or be unoccupied. \n",
    "\n",
    "We now show how to concretely realise these steps with Qiskit."
   ]
  },
  {
   "cell_type": "markdown",
   "metadata": {},
   "source": [
    "Qiskit is interfaced with different classical codes which are able to find the HF solutions. Interfacing between Qiskit and the following codes is already available:\n",
    "* Gaussian\n",
    "* Psi4\n",
    "* PyQuante\n",
    "* PySCF\n",
    "\n",
    "In the following we set up a PySCF driver, for the hydrogen molecule at equilibrium bond length (0.735 angstrom) in the singlet state and with no charge. "
   ]
  },
  {
   "cell_type": "code",
   "execution_count": 4,
   "metadata": {},
   "outputs": [],
   "source": [
    "from qiskit.chemistry.drivers import PySCFDriver, UnitsType, Molecule\n",
    "molecule = Molecule(geometry=[['H', [0., 0., 0.]],\n",
    "                              ['H', [0., 0., 0.735]]],\n",
    "                     charge=0, multiplicity=1)\n",
    "driver = PySCFDriver(molecule = molecule, unit=UnitsType.ANGSTROM, basis='sto3g')"
   ]
  },
  {
   "cell_type": "markdown",
   "metadata": {},
   "source": [
    "For further information about the drivers see https://qiskit.org/documentation/apidoc/qiskit.chemistry.drivers.html"
   ]
  },
  {
   "cell_type": "markdown",
   "metadata": {},
   "source": [
    "## The mapping from fermions to qubits \n",
    "\n",
    "<img src=\"aux_files/jw_mapping.png\" width=\"500\">\n",
    "\n",
    "The Hamiltonian given in the previous section is expressed in terms of fermionic operators. To encode the problem into the state of a quantum computer, these operators must be mapped to spin operators (indeed the qubits follow spin statistics). \n",
    "\n",
    "There exist different mapping types with different properties. Qiskit already supports the following mappings:\n",
    "* The Jordan-Wigner 'jordan_wigner' mapping (über das paulische äquivalenzverbot. In The Collected Works of Eugene Paul Wigner (pp. 109-129). Springer, Berlin, Heidelberg (1993)).\n",
    "* The Parity 'parity' (The Journal of chemical physics, 137(22), 224109 (2012))\n",
    "* The Bravyi-Kitaev 'bravyi_kitaev' (Annals of Physics, 298(1), 210-226 (2002))\n",
    "* The Bravyi-Kitaev Super Fast 'bksf' (Annals of Physics, 298(1), 210-226 (2002))\n",
    "\n",
    "The Jordan-Wigner mapping is particularly interesting as it maps each Spin Orbital to a qubit (as shown on the Figure above). \n",
    "\n",
    "Here we set up an object which contains all the information about any transformation of the fermionic Hamiltonian to the qubits Hamiltonian. In this example we simply ask for the Jordan-Wigner mapping. "
   ]
  },
  {
   "cell_type": "code",
   "execution_count": 3,
   "metadata": {},
   "outputs": [],
   "source": [
    "from qiskit.chemistry.transformations import (FermionicTransformation, \n",
    "                                              FermionicTransformationType, \n",
    "                                              FermionicQubitMappingType)\n",
    "\n",
    "fermionic_transformation = FermionicTransformation(\n",
    "            transformation=FermionicTransformationType.FULL,\n",
    "            qubit_mapping=FermionicQubitMappingType.JORDAN_WIGNER,\n",
    "            two_qubit_reduction=False,\n",
    "            freeze_core=False)"
   ]
  },
  {
   "cell_type": "markdown",
   "metadata": {},
   "source": [
    "If we now transform this Hamiltonian for the given driver defined above we get our qubit operator:"
   ]
  },
  {
   "cell_type": "code",
   "execution_count": 4,
   "metadata": {},
   "outputs": [
    {
     "name": "stdout",
     "output_type": "stream",
     "text": [
      "SummedOp([\n",
      "  -0.8105479805373266 * IIII,\n",
      "  0.17218393261915552 * IIIZ,\n",
      "  -0.22575349222402472 * IIZI,\n",
      "  0.1721839326191556 * IZII,\n",
      "  -0.22575349222402466 * ZIII,\n",
      "  0.1209126326177663 * IIZZ,\n",
      "  0.16892753870087912 * IZIZ,\n",
      "  0.045232799946057854 * XXYY,\n",
      "  0.045232799946057854 * YYYY,\n",
      "  0.045232799946057854 * XXXX,\n",
      "  0.045232799946057854 * YYXX,\n",
      "  0.16614543256382414 * ZIIZ,\n",
      "  0.16614543256382414 * IZZI,\n",
      "  0.17464343068300453 * ZIZI,\n",
      "  0.1209126326177663 * ZZII\n",
      "])\n",
      "{'num_particles': [1, 1], 'num_orbitals': 4, 'two_qubit_reduction': False, 'z2_symmetries': <qiskit.aqua.operators.legacy.weighted_pauli_operator.Z2Symmetries object at 0x123f6d940>}\n"
     ]
    }
   ],
   "source": [
    "qubit_op, _ = fermionic_transformation.transform(driver)\n",
    "print(qubit_op)\n",
    "print(fermionic_transformation.molecule_info)"
   ]
  },
  {
   "cell_type": "markdown",
   "metadata": {},
   "source": [
    "In the minimal (STO-3G) basis set 4 qubits are required. We could even lower the qubit count by using the Parity mapping which allows to get rid of to qubits by symmetry considerations. "
   ]
  },
  {
   "cell_type": "code",
   "execution_count": 5,
   "metadata": {},
   "outputs": [
    {
     "name": "stdout",
     "output_type": "stream",
     "text": [
      "SummedOp([\n",
      "  -1.052373245772859 * II,\n",
      "  0.39793742484318007 * IZ,\n",
      "  -0.39793742484318007 * ZI,\n",
      "  -0.01128010425623538 * ZZ,\n",
      "  0.18093119978423136 * XX\n",
      "])\n"
     ]
    }
   ],
   "source": [
    "fermionic_transformation_2 = FermionicTransformation(\n",
    "            transformation=FermionicTransformationType.FULL,\n",
    "            qubit_mapping=FermionicQubitMappingType.PARITY,\n",
    "            two_qubit_reduction=True,\n",
    "            freeze_core=False)\n",
    "qubit_op_2, _ = fermionic_transformation_2.transform(driver)\n",
    "print(qubit_op_2)"
   ]
  },
  {
   "cell_type": "markdown",
   "metadata": {},
   "source": [
    "This time only 2 qubits are needed. \n",
    "\n",
    "Another possibility is to use the Particle-Hole transformation (Physical Review A, 98(2), 022322 (2018)). This shifts the vacuum state to a state lying in the N-particle Fock space. In this representation the HF (reference) state has a null energy and the optimization procedure is more faster. "
   ]
  },
  {
   "cell_type": "code",
   "execution_count": 6,
   "metadata": {},
   "outputs": [
    {
     "name": "stdout",
     "output_type": "stream",
     "text": [
      "SummedOp([\n",
      "  1.0264200106656571 * IIII,\n",
      "  0.17218393261915554 * IIIZ,\n",
      "  -0.22575349222402463 * IIZI,\n",
      "  0.17218393261915554 * IZII,\n",
      "  -0.22575349222402458 * ZIII,\n",
      "  0.16892753870087912 * IZIZ,\n",
      "  0.045232799946057854 * YYYY,\n",
      "  0.045232799946057854 * XXYY,\n",
      "  0.045232799946057854 * YYXX,\n",
      "  0.045232799946057854 * XXXX,\n",
      "  0.1209126326177663 * IIZZ,\n",
      "  0.16614543256382414 * IZZI,\n",
      "  0.16614543256382414 * ZIIZ,\n",
      "  0.17464343068300453 * ZIZI,\n",
      "  0.1209126326177663 * ZZII\n",
      "])\n"
     ]
    }
   ],
   "source": [
    "fermionic_transformation_3 = FermionicTransformation(\n",
    "            transformation=FermionicTransformationType.PARTICLE_HOLE,\n",
    "            qubit_mapping=FermionicQubitMappingType.JORDAN_WIGNER,\n",
    "            two_qubit_reduction=False,\n",
    "            freeze_core=False)\n",
    "qubit_op_3, _ = fermionic_transformation_3.transform(driver)\n",
    "print(qubit_op_3)"
   ]
  },
  {
   "cell_type": "markdown",
   "metadata": {},
   "source": [
    "The list of available mappings and transformations are"
   ]
  },
  {
   "cell_type": "code",
   "execution_count": 7,
   "metadata": {},
   "outputs": [
    {
     "name": "stdout",
     "output_type": "stream",
     "text": [
      "*Transformations\n",
      "FermionicTransformationType.FULL\n",
      "FermionicTransformationType.PARTICLE_HOLE\n",
      "\n",
      "*Mappings\n",
      "FermionicQubitMappingType.JORDAN_WIGNER\n",
      "FermionicQubitMappingType.PARITY\n",
      "FermionicQubitMappingType.BRAVYI_KITAEV\n"
     ]
    }
   ],
   "source": [
    "print('*Transformations')\n",
    "for fer_transform in FermionicTransformationType:\n",
    "    print(fer_transform)\n",
    "\n",
    "print('\\n*Mappings')\n",
    "for fer_mapping in FermionicQubitMappingType:\n",
    "    print(fer_mapping)"
   ]
  },
  {
   "cell_type": "markdown",
   "metadata": {},
   "source": [
    "Now that the Hamiltonian is ready, it can be used in a quantum algorithm to find information about the electronic structure of the corresponding molecule. Check out our tutorials on Ground State Calculation and Excited States Calculation to learn more about how to do that in Qiskit!"
   ]
  },
  {
   "cell_type": "code",
   "execution_count": 1,
   "metadata": {},
   "outputs": [
    {
     "data": {
      "text/html": [
       "<h3>Version Information</h3><table><tr><th>Qiskit Software</th><th>Version</th></tr><tr><td>Qiskit</td><td>0.23.0</td></tr><tr><td>Terra</td><td>0.16.0</td></tr><tr><td>Aer</td><td>0.7.0</td></tr><tr><td>Ignis</td><td>0.5.0</td></tr><tr><td>Aqua</td><td>0.8.0</td></tr><tr><td>IBM Q Provider</td><td>0.11.0</td></tr><tr><th>System information</th></tr><tr><td>Python</td><td>3.6.9 |Anaconda, Inc.| (default, Jul 30 2019, 13:42:17) \n",
       "[GCC 4.2.1 Compatible Clang 4.0.1 (tags/RELEASE_401/final)]</td></tr><tr><td>OS</td><td>Darwin</td></tr><tr><td>CPUs</td><td>2</td></tr><tr><td>Memory (Gb)</td><td>16.0</td></tr><tr><td colspan='2'>Tue Oct 20 18:02:17 2020 CEST</td></tr></table>"
      ],
      "text/plain": [
       "<IPython.core.display.HTML object>"
      ]
     },
     "metadata": {},
     "output_type": "display_data"
    },
    {
     "data": {
      "text/html": [
       "<div style='width: 100%; background-color:#d5d9e0;padding-left: 10px; padding-bottom: 10px; padding-right: 10px; padding-top: 5px'><h3>This code is a part of Qiskit</h3><p>&copy; Copyright IBM 2017, 2020.</p><p>This code is licensed under the Apache License, Version 2.0. You may<br>obtain a copy of this license in the LICENSE.txt file in the root directory<br> of this source tree or at http://www.apache.org/licenses/LICENSE-2.0.<p>Any modifications or derivative works of this code must retain this<br>copyright notice, and modified files need to carry a notice indicating<br>that they have been altered from the originals.</p></div>"
      ],
      "text/plain": [
       "<IPython.core.display.HTML object>"
      ]
     },
     "metadata": {},
     "output_type": "display_data"
    }
   ],
   "source": [
    "import qiskit.tools.jupyter\n",
    "%qiskit_version_table\n",
    "%qiskit_copyright"
   ]
  },
  {
   "cell_type": "code",
   "execution_count": null,
   "metadata": {},
   "outputs": [],
   "source": []
  }
 ],
 "metadata": {
  "kernelspec": {
   "display_name": "Python 3",
   "language": "python",
   "name": "python3"
  },
  "language_info": {
   "codemirror_mode": {
    "name": "ipython",
    "version": 3
   },
   "file_extension": ".py",
   "mimetype": "text/x-python",
   "name": "python",
   "nbconvert_exporter": "python",
   "pygments_lexer": "ipython3",
   "version": "3.6.10"
  }
 },
 "nbformat": 4,
 "nbformat_minor": 4
}
