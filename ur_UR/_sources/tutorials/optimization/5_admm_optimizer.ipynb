{
 "cells": [
  {
   "cell_type": "markdown",
   "metadata": {},
   "source": [
    "# ADMM Optimizer"
   ]
  },
  {
   "cell_type": "markdown",
   "metadata": {},
   "source": [
    "## Introduction"
   ]
  },
  {
   "cell_type": "markdown",
   "metadata": {},
   "source": [
    "The ADMM Optimizer can solve classes of mixed-binary constrained optimization problems, hereafter (MBCO), which often appear in logistic, finance, and operation research. In particular, the ADMM Optimizer here designed can tackle the following optimization problem $(P)$:\n",
    "\n",
    "$$\n",
    "\\min_{x \\in \\mathcal{X},u\\in\\mathcal{U} \\subseteq \\mathbb{R}^l } \\quad q(x) + \\varphi(u),\n",
    "$$\n",
    "\n",
    "subject to the constraints:\n",
    "\n",
    "$$\n",
    "\\mathrm{s.t.:~} \\quad G x = b, \\quad  g(x) \\leq 0, \\quad \\ell(x, u) \\leq 0, \n",
    "$$\n",
    "\n",
    "with the corresponding functional assumptions.\n",
    "\n",
    "1. Function $q: \\mathbb{R}^n \\to \\mathbb{R}$ is quadratic, i.e., $q(x) = x^{\\intercal} Q x + a^{\\intercal} x$ for a given symmetric squared matrix $Q \\in \\mathbb{R}^n \\times \\mathbb{R}^n, Q = Q^{\\intercal}$, and vector $a \\in \\mathbb{R}^n$;\n",
    "2. The set $\\mathcal{X} = \\{0,1\\}^n = \\{x_{(i)} (1-x_{(i)}) = 0, \\forall i\\}$ enforces the binary constraints;\n",
    "3. Matrix $G\\in\\mathbb{R}^n \\times \\mathbb{R}^{n'}$, vector $b \\in \\mathbb{R}^{n'}$, and function $g: \\mathbb{R}^n \\to \\mathbb{R}$ is convex;\n",
    "4. Function $\\varphi: \\mathbb{R}^l \\to \\mathbb{R}$ is convex and $\\mathcal{U}$ is a convex set;\n",
    "5. Function $\\ell: \\mathbb{R}^n\\times  \\mathbb{R}^l \\to \\mathbb{R}$ is *jointly* convex in $x, u$."
   ]
  },
  {
   "cell_type": "markdown",
   "metadata": {},
   "source": [
    "In order to solve MBO problems, [1] proposed heuristics for $(P)$ based on the Alternating Direction Method of Multipliers (ADMM) [2]. ADMM is an operator splitting algorithm with a long history in convex optimization, and it is known to have residual, objective and dual variable convergence properties, provided that convexity assumptions are holding.\n",
    "\n",
    "The method of [1] (referred to as 3-ADMM-H) leverages the ADMM operator-splitting procedure to devise a decomposition for certain classes of MBOs into:\n",
    "- a QUBO subproblem to be solved by on the quantum device via variational algorithms, such as VQE or QAOA;\n",
    "- continuous convex constrained subproblem, which can be efficiently solved with classical optimization solvers.\n",
    "\n",
    "The algorithm 3-ADMM-H works as follows:\n",
    "\n",
    "0. Initialization phase (set the parameters and the QUBO and convex solvers);\n",
    "1. For each ADMM iterations ($k = 1, 2, \\ldots, $) until termination:\n",
    "    - Solve a properly defined QUBO subproblem (with a classical or quantum solver);\n",
    "    - Solve properly defined convex problems (with a classical solver);\n",
    "    - Update the dual variables.\n",
    "2. Return optimizers and cost.\n",
    "\n",
    "    \n",
    "A comprehensive discussion on the conditions for convergence, feasibility and optimality of the algorithm can be found in [1]. A variant with 2 ADMM blocks, namely a QUBO subproblem, and a continuous convex constrained subproblem, is also introduced in [1].\n",
    "\n",
    "## References\n",
    "\n",
    "[1] [C. Gambella and A. Simonetto, *Multi-block ADMM  heuristics  for  mixed-binary  optimization, on  classical  and  quantum  computers,*  arXiv  preprint arXiv:2001.02069  (2020).](https://arxiv.org/abs/2001.02069)\n",
    "\n",
    "[2] [S. Boyd, N. Parikh, E. Chu, B. Peleato, and J. Eckstein, *Distributed  optimization  and statistical learning via the alternating direction method of  multipliers,*  Foundations  and  Trends in  Machine learning, 3, 1–122 (2011).](https://web.stanford.edu/~boyd/papers/pdf/admm_distr_stats.pdf)"
   ]
  },
  {
   "cell_type": "markdown",
   "metadata": {},
   "source": [
    "## Initialization\n",
    "First of all we load all the packages that we need."
   ]
  },
  {
   "cell_type": "code",
   "execution_count": 1,
   "metadata": {},
   "outputs": [],
   "source": [
    "import time\n",
    "from typing import List, Optional, Any\n",
    "import numpy as np\n",
    "import matplotlib.pyplot as plt \n",
    "\n",
    "from docplex.mp.model import Model\n",
    "\n",
    "from qiskit import BasicAer\n",
    "from qiskit.aqua.algorithms import QAOA, NumPyMinimumEigensolver\n",
    "from qiskit.optimization.algorithms import CobylaOptimizer, MinimumEigenOptimizer\n",
    "from qiskit.optimization.problems import QuadraticProgram\n",
    "from qiskit.optimization.algorithms.admm_optimizer import ADMMParameters, ADMMOptimizer\n",
    "\n",
    "# If CPLEX is installed, you can uncomment this line to import the CplexOptimizer.\n",
    "# CPLEX can be used in this tutorial to solve the convex continuous problem, \n",
    "# but also as a reference to solve the QUBO, or even the full problem.\n",
    "# \n",
    "# from qiskit.optimization.algorithms import CplexOptimizer"
   ]
  },
  {
   "cell_type": "markdown",
   "metadata": {},
   "source": [
    "We first initialize all the algorithms we plan to use later in this tutorial.\n",
    "\n",
    "To solve the QUBO problems we can choose between \n",
    "- `MinimumEigenOptimizer` using different `MinimumEigensolver`, such as `VQE`, `QAOA` or `NumpyMinimumEigensolver` (classical)\n",
    "- `GroverOptimizer`\n",
    "- `CplexOptimizer` (classical, if CPLEX is installed)\n",
    "\n",
    "and to solve the convex continuous problems we can choose between the following classical solvers:\n",
    "- `CplexOptimizer` (if CPLEX is installed)\n",
    "- `CobylaOptimizer`\n",
    "\n",
    "In case CPLEX is not available, the `CobylaOptimizer` (for convex continuous problems) and the `MinimumEigenOptimizer` using the `NumpyMinimumEigensolver` (for QUBOs) can be used as classical alternatives to CPLEX for testing, validation, and benchmarking."
   ]
  },
  {
   "cell_type": "code",
   "execution_count": 2,
   "metadata": {},
   "outputs": [],
   "source": [
    "# define COBYLA optimizer to handle convex continuous problems.\n",
    "cobyla = CobylaOptimizer()\n",
    "\n",
    "# define QAOA via the minimum eigen optimizer\n",
    "qaoa = MinimumEigenOptimizer(QAOA(quantum_instance=BasicAer.get_backend('statevector_simulator')))\n",
    "\n",
    "# exact QUBO solver as classical benchmark\n",
    "exact = MinimumEigenOptimizer(NumPyMinimumEigensolver()) # to solve QUBOs\n",
    "\n",
    "# in case CPLEX is installed it can also be used for the convex problems, the QUBO, \n",
    "# or as a benchmark for the full problem.\n",
    "#\n",
    "# cplex = CplexOptimizer()"
   ]
  },
  {
   "cell_type": "markdown",
   "metadata": {},
   "source": [
    "## Example\n",
    "\n",
    "We test 3-ADMM-H algorithm on a simple Mixed-Binary Quadratic Problem with equality and inequality constraints (Example 6 reported in [1]). We first construct a docplex problem and then load it into a `QuadraticProgram`."
   ]
  },
  {
   "cell_type": "code",
   "execution_count": 3,
   "metadata": {
    "tags": []
   },
   "outputs": [
    {
     "name": "stdout",
     "output_type": "stream",
     "text": [
      "\\ This file has been generated by DOcplex\n",
      "\\ ENCODING=ISO-8859-1\n",
      "\\Problem name: ex6\n",
      "\n",
      "Minimize\n",
      " obj: v + w + t - 20 u + [ 10 u^2 ]/2 + 20\n",
      "Subject To\n",
      " cons1: v + 2 w + t + u <= 3\n",
      " cons2: v + w + t >= 1\n",
      " cons3: v + w = 1\n",
      "\n",
      "Bounds\n",
      " 0 <= v <= 1\n",
      " 0 <= w <= 1\n",
      " 0 <= t <= 1\n",
      "\n",
      "Binaries\n",
      " v w t\n",
      "End\n",
      "\n"
     ]
    }
   ],
   "source": [
    "# construct model using docplex\n",
    "mdl = Model('ex6')\n",
    "\n",
    "v = mdl.binary_var(name='v')\n",
    "w = mdl.binary_var(name='w')\n",
    "t = mdl.binary_var(name='t')\n",
    "u = mdl.continuous_var(name='u')\n",
    "\n",
    "mdl.minimize(v + w + t + 5 * (u-2)**2)\n",
    "mdl.add_constraint(v + 2 * w + t + u <= 3, \"cons1\")\n",
    "mdl.add_constraint(v + w + t >= 1, \"cons2\")\n",
    "mdl.add_constraint(v + w == 1, \"cons3\")\n",
    "\n",
    "# load quadratic program from docplex model\n",
    "qp = QuadraticProgram()\n",
    "qp.from_docplex(mdl)\n",
    "print(qp.export_as_lp_string())"
   ]
  },
  {
   "cell_type": "markdown",
   "metadata": {},
   "source": [
    "## Classical Solution\n",
    "\n",
    "3-ADMM-H needs a QUBO optimizer to solve the QUBO subproblem, and a continuous optimizer to solve the continuous convex constrained subproblem. We first solve the problem classically: we use the `MinimumEigenOptimizer` with the `NumPyMinimumEigenSolver` as a classical and exact QUBO solver and we use the `CobylaOptimizer` as a continuous convex solver. 3-ADMM-H supports any other suitable solver available in Qiskit. For instance, VQE, QAOA, and GroverOptimizer can be invoked as quantum solvers, as demonstrated later.\n",
    "If CPLEX is installed, the `CplexOptimizer` can also be used as both, a QUBO and convex solver."
   ]
  },
  {
   "cell_type": "markdown",
   "metadata": {},
   "source": [
    "### Parameters\n",
    "The 3-ADMM-H are wrapped in class `ADMMParameters`. Customized parameter values can be set as arguments of the class. In this example, parameters $\\rho, \\beta$ are initialized to $1001$ and $1000$, respectively. The penalization `factor_c` of equality constraints $Gx = b$ is set to $900$. The tolerance `tol` for primal residual convergence is set to `1.e-6`. \n",
    "In this case, the 3-block implementation is guaranteed to converge for Theorem 4 of [1], because the inequality constraint with the continuous variable is always active. The 2-block implementation can be run by setting `three_block=False`, and practically converges to a feasible not optimal solution. \n"
   ]
  },
  {
   "cell_type": "code",
   "execution_count": 4,
   "metadata": {
    "tags": []
   },
   "outputs": [],
   "source": [
    "admm_params = ADMMParameters(\n",
    "                            rho_initial=1001, \n",
    "                            beta=1000, \n",
    "                            factor_c=900,\n",
    "                            maxiter=100,\n",
    "                            three_block=True, tol=1.e-6\n",
    "                        )"
   ]
  },
  {
   "cell_type": "markdown",
   "metadata": {},
   "source": [
    "### Calling 3-ADMM-H algorithm\n",
    "To invoke the 3-ADMM-H algorithm, an instance of the `ADMMOptimizer` class needs to be created. This takes ADMM-specific parameters and the subproblem optimizers separately into the constructor. The solution returned is an instance of `OptimizationResult` class."
   ]
  },
  {
   "cell_type": "code",
   "execution_count": 5,
   "metadata": {},
   "outputs": [],
   "source": [
    "# define QUBO optimizer\n",
    "qubo_optimizer = exact\n",
    "# qubo_optimizer = cplex  # uncomment to use CPLEX instead\n",
    "\n",
    "# define classical optimizer\n",
    "convex_optimizer = cobyla\n",
    "# convex_optimizer = cplex  # uncomment to use CPLEX instead\n",
    "\n",
    "# initialize ADMM with classical QUBO and convex optimizer\n",
    "admm = ADMMOptimizer(params=admm_params, \n",
    "                     qubo_optimizer=qubo_optimizer,\n",
    "                     continuous_optimizer=convex_optimizer)"
   ]
  },
  {
   "cell_type": "code",
   "execution_count": 6,
   "metadata": {},
   "outputs": [],
   "source": [
    "# run ADMM to solve problem\n",
    "result = admm.solve(qp)"
   ]
  },
  {
   "cell_type": "markdown",
   "metadata": {},
   "source": [
    "### Classical Solver Result\n",
    "The 3-ADMM-H solution can be then printed and visualized. The `x` attribute of the solution contains respectively, the\n",
    "values of the binary decision variables and the values of the continuous decision variables. The `fval` is the objective\n",
    "value of the solution."
   ]
  },
  {
   "cell_type": "code",
   "execution_count": 7,
   "metadata": {
    "tags": []
   },
   "outputs": [
    {
     "name": "stdout",
     "output_type": "stream",
     "text": [
      "x=[1. 0. 0. 2.]\n",
      "fval=1.00\n"
     ]
    }
   ],
   "source": [
    "print(\"x={}\".format(result.x))\n",
    "print(\"fval={:.2f}\".format(result.fval))"
   ]
  },
  {
   "cell_type": "markdown",
   "metadata": {},
   "source": [
    "Solution statistics can be accessed in the `state` field and visualized. We here display the convergence of 3-ADMM-H, in terms of primal residuals."
   ]
  },
  {
   "cell_type": "code",
   "execution_count": 8,
   "metadata": {},
   "outputs": [
    {
     "data": {
      "image/png": "[encoded data removed]",
      "text/plain": [
       "<Figure size 432x288 with 1 Axes>"
      ]
     },
     "metadata": {
      "needs_background": "light"
     },
     "output_type": "display_data"
    }
   ],
   "source": [
    "plt.plot(result.state.residuals)\n",
    "plt.xlabel(\"Iterations\")\n",
    "plt.ylabel(\"Residuals\")\n",
    "plt.show()"
   ]
  },
  {
   "cell_type": "markdown",
   "metadata": {},
   "source": [
    "## Quantum Solution\n",
    "We now solve the same optimization problem with QAOA as QUBO optimizer, running on simulated quantum device. \n",
    "First, one need to select the classical optimizer of the eigensolver QAOA. Then, the simulation backend is set. Finally, \n",
    "the eigensolver is wrapped into the `MinimumEigenOptimizer` class. A new instance of `ADMMOptimizer` is populated with QAOA as QUBO optimizer."
   ]
  },
  {
   "cell_type": "code",
   "execution_count": 9,
   "metadata": {},
   "outputs": [],
   "source": [
    "# define QUBO optimizer\n",
    "qubo_optimizer = qaoa \n",
    "\n",
    "# define classical optimizer\n",
    "convex_optimizer = cobyla\n",
    "# convex_optimizer = cplex  # uncomment to use CPLEX instead\n",
    "\n",
    "# initialize ADMM with quantum QUBO optimizer and classical convex optimizer\n",
    "admm_q = ADMMOptimizer(params=admm_params, \n",
    "                       qubo_optimizer=qubo_optimizer,\n",
    "                       continuous_optimizer=convex_optimizer)"
   ]
  },
  {
   "cell_type": "code",
   "execution_count": 10,
   "metadata": {},
   "outputs": [],
   "source": [
    "# run ADMM to solve problem\n",
    "result_q = admm_q.solve(qp)"
   ]
  },
  {
   "cell_type": "markdown",
   "metadata": {},
   "source": [
    "### Quantum Solver Results\n",
    "Here we present the results obtained from the quantum solver. As in the example above `x` stands for the solution, the `fval` is for objective value."
   ]
  },
  {
   "cell_type": "code",
   "execution_count": 11,
   "metadata": {
    "tags": []
   },
   "outputs": [
    {
     "name": "stdout",
     "output_type": "stream",
     "text": [
      "x=[1. 0. 0. 2.]\n",
      "fval=1.00\n"
     ]
    }
   ],
   "source": [
    "print(\"x={}\".format(result_q.x))\n",
    "print(\"fval={:.2f}\".format(result_q.fval))"
   ]
  },
  {
   "cell_type": "code",
   "execution_count": 12,
   "metadata": {},
   "outputs": [
    {
     "data": {
      "image/png": "[encoded data removed]",
      "text/plain": [
       "<Figure size 432x288 with 1 Axes>"
      ]
     },
     "metadata": {
      "needs_background": "light"
     },
     "output_type": "display_data"
    }
   ],
   "source": [
    "plt.clf()\n",
    "plt.plot(result_q.state.residuals)\n",
    "plt.xlabel(\"Iterations\")\n",
    "plt.ylabel(\"Residuals\")\n",
    "plt.show()"
   ]
  },
  {
   "cell_type": "code",
   "execution_count": 13,
   "metadata": {},
   "outputs": [
    {
     "data": {
      "text/html": [
       "<h3>Version Information</h3><table><tr><th>Qiskit Software</th><th>Version</th></tr><tr><td>Qiskit</td><td>None</td></tr><tr><td>Terra</td><td>0.15.1</td></tr><tr><td>Aer</td><td>0.6.1</td></tr><tr><td>Ignis</td><td>0.4.0</td></tr><tr><td>Aqua</td><td>0.7.5</td></tr><tr><td>IBM Q Provider</td><td>0.8.0</td></tr><tr><th>System information</th></tr><tr><td>Python</td><td>3.7.4 (default, Aug 13 2019, 15:17:50) \n",
       "[Clang 4.0.1 (tags/RELEASE_401/final)]</td></tr><tr><td>OS</td><td>Darwin</td></tr><tr><td>CPUs</td><td>2</td></tr><tr><td>Memory (Gb)</td><td>12.0</td></tr><tr><td colspan='2'>Fri Aug 28 09:24:00 2020 EDT</td></tr></table>"
      ],
      "text/plain": [
       "<IPython.core.display.HTML object>"
      ]
     },
     "metadata": {},
     "output_type": "display_data"
    },
    {
     "data": {
      "text/html": [
       "<div style='width: 100%; background-color:#d5d9e0;padding-left: 10px; padding-bottom: 10px; padding-right: 10px; padding-top: 5px'><h3>This code is a part of Qiskit</h3><p>&copy; Copyright IBM 2017, 2020.</p><p>This code is licensed under the Apache License, Version 2.0. You may<br>obtain a copy of this license in the LICENSE.txt file in the root directory<br> of this source tree or at http://www.apache.org/licenses/LICENSE-2.0.<p>Any modifications or derivative works of this code must retain this<br>copyright notice, and modified files need to carry a notice indicating<br>that they have been altered from the originals.</p></div>"
      ],
      "text/plain": [
       "<IPython.core.display.HTML object>"
      ]
     },
     "metadata": {},
     "output_type": "display_data"
    }
   ],
   "source": [
    "import qiskit.tools.jupyter\n",
    "%qiskit_version_table\n",
    "%qiskit_copyright"
   ]
  },
  {
   "cell_type": "code",
   "execution_count": null,
   "metadata": {},
   "outputs": [],
   "source": []
  }
 ],
 "metadata": {
  "kernelspec": {
   "display_name": "Python 3",
   "language": "python",
   "name": "python3"
  },
  "language_info": {
   "codemirror_mode": {
    "name": "ipython",
    "version": 3
   },
   "file_extension": ".py",
   "mimetype": "text/x-python",
   "name": "python",
   "nbconvert_exporter": "python",
   "pygments_lexer": "ipython3",
   "version": "3.7.4"
  },
  "varInspector": {
   "cols": {
    "lenName": 16,
    "lenType": 16,
    "lenVar": 40
   },
   "kernels_config": {
    "python": {
     "delete_cmd_postfix": "",
     "delete_cmd_prefix": "del ",
     "library": "var_list.py",
     "varRefreshCmd": "print(var_dic_list())"
    },
    "r": {
     "delete_cmd_postfix": ") ",
     "delete_cmd_prefix": "rm(",
     "library": "var_list.r",
     "varRefreshCmd": "cat(var_dic_list()) "
    }
   },
   "types_to_exclude": [
    "module",
    "function",
    "builtin_function_or_method",
    "instance",
    "_Feature"
   ],
   "window_display": false
  }
 },
 "nbformat": 4,
 "nbformat_minor": 2
}
