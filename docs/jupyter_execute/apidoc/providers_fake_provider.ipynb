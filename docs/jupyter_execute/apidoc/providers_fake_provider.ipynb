{
 "cells": [
  {
   "cell_type": "code",
   "execution_count": 1,
   "id": "576704e6",
   "metadata": {
    "execution": {
     "iopub.execute_input": "2022-07-01T17:56:20.309350Z",
     "iopub.status.busy": "2022-07-01T17:56:20.308917Z",
     "iopub.status.idle": "2022-07-01T17:56:20.821547Z",
     "shell.execute_reply": "2022-07-01T17:56:20.820918Z"
    }
   },
   "outputs": [
    {
     "data": {
      "text/html": [
       "<pre style=\"word-wrap: normal;white-space: pre;background: #fff0;line-height: 1.1;font-family: &quot;Courier New&quot;,Courier,monospace\">        ┌───┐           ░ ┌─┐      \n",
       "   q_0: ┤ H ├──■────■───░─┤M├──────\n",
       "        └───┘┌─┴─┐  │   ░ └╥┘┌─┐   \n",
       "   q_1: ─────┤ X ├──┼───░──╫─┤M├───\n",
       "             └───┘┌─┴─┐ ░  ║ └╥┘┌─┐\n",
       "   q_2: ──────────┤ X ├─░──╫──╫─┤M├\n",
       "                  └───┘ ░  ║  ║ └╥┘\n",
       "meas: 3/═══════════════════╩══╩══╩═\n",
       "                           0  1  2 </pre>"
      ],
      "text/plain": [
       "        ┌───┐           ░ ┌─┐      \n",
       "   q_0: ┤ H ├──■────■───░─┤M├──────\n",
       "        └───┘┌─┴─┐  │   ░ └╥┘┌─┐   \n",
       "   q_1: ─────┤ X ├──┼───░──╫─┤M├───\n",
       "             └───┘┌─┴─┐ ░  ║ └╥┘┌─┐\n",
       "   q_2: ──────────┤ X ├─░──╫──╫─┤M├\n",
       "                  └───┘ ░  ║  ║ └╥┘\n",
       "meas: 3/═══════════════════╩══╩══╩═\n",
       "                           0  1  2 "
      ]
     },
     "execution_count": 1,
     "metadata": {},
     "output_type": "execute_result"
    }
   ],
   "source": [
    "from qiskit import QuantumCircuit\n",
    "from qiskit.providers.fake_provider import FakeManilaV2\n",
    "\n",
    "# Get a fake backend from the fake provider\n",
    "backend = FakeManilaV2()\n",
    "\n",
    "# Create a simple circuit\n",
    "circuit = QuantumCircuit(3)\n",
    "circuit.h(0)\n",
    "circuit.cx(0,1)\n",
    "circuit.cx(0,2)\n",
    "circuit.measure_all()\n",
    "circuit.draw()"
   ]
  },
  {
   "cell_type": "code",
   "execution_count": 2,
   "id": "b13f3a72",
   "metadata": {
    "execution": {
     "iopub.execute_input": "2022-07-01T17:56:20.824607Z",
     "iopub.status.busy": "2022-07-01T17:56:20.824298Z",
     "iopub.status.idle": "2022-07-01T17:56:21.304846Z",
     "shell.execute_reply": "2022-07-01T17:56:21.304222Z"
    }
   },
   "outputs": [
    {
     "data": {
      "text/html": [
       "<pre style=\"word-wrap: normal;white-space: pre;background: #fff0;line-height: 1.1;font-family: &quot;Courier New&quot;,Courier,monospace\">global phase: π/4\n",
       "\n",
       "ancilla_0 -> 0 ──────────────────────────────────────────────────\n",
       "\n",
       "ancilla_1 -> 1 ──────────────────────────────────────────────────\n",
       "                                           ┌───┐      ░    ┌─┐   \n",
       "      q_1 -> 2 ────────────────────────────┤ X ├──────░────┤M├───\n",
       "               ┌─────────┐┌────┐┌─────────┐└─┬─┘      ░ ┌─┐└╥┘   \n",
       "      q_0 -> 3 ┤ Rz(π/2) ├┤ √X ├┤ Rz(π/2) ├──■────■───░─┤M├─╫────\n",
       "               └─────────┘└────┘└─────────┘     ┌─┴─┐ ░ └╥┘ ║ ┌─┐\n",
       "      q_2 -> 4 ─────────────────────────────────┤ X ├─░──╫──╫─┤M├\n",
       "                                                └───┘ ░  ║  ║ └╥┘\n",
       "       meas: 3/══════════════════════════════════════════╩══╩══╩═\n",
       "                                                         0  1  2 </pre>"
      ],
      "text/plain": [
       "global phase: π/4\n",
       "                                                                 \n",
       "ancilla_0 -> 0 ──────────────────────────────────────────────────\n",
       "                                                                 \n",
       "ancilla_1 -> 1 ──────────────────────────────────────────────────\n",
       "                                           ┌───┐      ░    ┌─┐   \n",
       "      q_1 -> 2 ────────────────────────────┤ X ├──────░────┤M├───\n",
       "               ┌─────────┐┌────┐┌─────────┐└─┬─┘      ░ ┌─┐└╥┘   \n",
       "      q_0 -> 3 ┤ Rz(π/2) ├┤ √X ├┤ Rz(π/2) ├──■────■───░─┤M├─╫────\n",
       "               └─────────┘└────┘└─────────┘     ┌─┴─┐ ░ └╥┘ ║ ┌─┐\n",
       "      q_2 -> 4 ─────────────────────────────────┤ X ├─░──╫──╫─┤M├\n",
       "                                                └───┘ ░  ║  ║ └╥┘\n",
       "       meas: 3/══════════════════════════════════════════╩══╩══╩═\n",
       "                                                         0  1  2 "
      ]
     },
     "execution_count": 2,
     "metadata": {},
     "output_type": "execute_result"
    }
   ],
   "source": [
    "from qiskit import transpile\n",
    "\n",
    "# Transpile the ideal circuit to a circuit that can be directly executed by the backend\n",
    "transpiled_circuit = transpile(circuit, backend)\n",
    "transpiled_circuit.draw()"
   ]
  },
  {
   "cell_type": "code",
   "execution_count": 3,
   "id": "f3e6eb0d",
   "metadata": {
    "execution": {
     "iopub.execute_input": "2022-07-01T17:56:21.308154Z",
     "iopub.status.busy": "2022-07-01T17:56:21.307584Z",
     "iopub.status.idle": "2022-07-01T17:56:22.203459Z",
     "shell.execute_reply": "2022-07-01T17:56:22.202803Z"
    }
   },
   "outputs": [
    {
     "data": {
      "image/png": "[encoded data removed]",
      "text/plain": [
       "<Figure size 504x360 with 1 Axes>"
      ]
     },
     "execution_count": 3,
     "metadata": {
      "filenames": {
       "image/png": "/home/runner/work/qiskit-translations/qiskit-translations/docs/_build/html/locale/jupyter_execute/apidoc/providers_fake_provider_2_0.png"
      }
     },
     "output_type": "execute_result"
    }
   ],
   "source": [
    "from qiskit.tools.visualization import plot_histogram\n",
    "\n",
    "# Run the transpiled circuit using the simulated fake backend\n",
    "job = backend.run(transpiled_circuit)\n",
    "counts = job.result().get_counts()\n",
    "plot_histogram(counts)"
   ]
  }
 ],
 "metadata": {
  "kernelspec": {
   "display_name": "Python 3 (ipykernel)",
   "language": "python",
   "name": "python3"
  },
  "language_info": {
   "codemirror_mode": {
    "name": "ipython",
    "version": 3
   },
   "file_extension": ".py",
   "mimetype": "text/x-python",
   "name": "python",
   "nbconvert_exporter": "python",
   "pygments_lexer": "ipython3",
   "version": "3.8.13"
  }
 },
 "nbformat": 4,
 "nbformat_minor": 5
}