{
 "cells": [
  {
   "cell_type": "code",
   "execution_count": 1,
   "id": "f95888a9",
   "metadata": {
    "execution": {
     "iopub.execute_input": "2022-06-01T23:12:56.149389Z",
     "iopub.status.busy": "2022-06-01T23:12:56.149078Z",
     "iopub.status.idle": "2022-06-01T23:12:56.448395Z",
     "shell.execute_reply": "2022-06-01T23:12:56.447573Z"
    }
   },
   "outputs": [],
   "source": [
    "from qiskit import BasicAer\n",
    "\n",
    "backend = BasicAer.get_backend('qasm_simulator')"
   ]
  }
 ],
 "metadata": {
  "kernelspec": {
   "display_name": "Python 3 (ipykernel)",
   "language": "python",
   "name": "python3"
  },
  "language_info": {
   "codemirror_mode": {
    "name": "ipython",
    "version": 3
   },
   "file_extension": ".py",
   "mimetype": "text/x-python",
   "name": "python",
   "nbconvert_exporter": "python",
   "pygments_lexer": "ipython3",
   "version": "3.8.12"
  }
 },
 "nbformat": 4,
 "nbformat_minor": 5
}