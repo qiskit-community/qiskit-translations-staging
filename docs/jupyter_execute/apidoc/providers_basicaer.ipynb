{
 "cells": [
  {
   "cell_type": "code",
   "execution_count": 1,
   "id": "541a7568",
   "metadata": {
    "execution": {
     "iopub.execute_input": "2022-04-04T15:08:43.939090Z",
     "iopub.status.busy": "2022-04-04T15:08:43.938831Z",
     "iopub.status.idle": "2022-04-04T15:08:44.236563Z",
     "shell.execute_reply": "2022-04-04T15:08:44.235793Z"
    }
   },
   "outputs": [],
   "source": [
    "from qiskit import BasicAer\n",
    "\n",
    "backend = BasicAer.get_backend('qasm_simulator')"
   ]
  }
 ],
 "metadata": {
  "kernelspec": {
   "display_name": "Python 3 (ipykernel)",
   "language": "python",
   "name": "python3"
  },
  "language_info": {
   "codemirror_mode": {
    "name": "ipython",
    "version": 3
   },
   "file_extension": ".py",
   "mimetype": "text/x-python",
   "name": "python",
   "nbconvert_exporter": "python",
   "pygments_lexer": "ipython3",
   "version": "3.8.12"
  }
 },
 "nbformat": 4,
 "nbformat_minor": 5
}