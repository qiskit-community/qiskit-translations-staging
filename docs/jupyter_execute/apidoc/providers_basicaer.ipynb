{
 "cells": [
  {
   "cell_type": "code",
   "execution_count": 1,
   "id": "9d1b3338",
   "metadata": {
    "execution": {
     "iopub.execute_input": "2022-05-20T19:53:40.758829Z",
     "iopub.status.busy": "2022-05-20T19:53:40.758560Z",
     "iopub.status.idle": "2022-05-20T19:53:41.024080Z",
     "shell.execute_reply": "2022-05-20T19:53:41.023336Z"
    }
   },
   "outputs": [],
   "source": [
    "from qiskit import BasicAer\n",
    "\n",
    "backend = BasicAer.get_backend('qasm_simulator')"
   ]
  }
 ],
 "metadata": {
  "kernelspec": {
   "display_name": "Python 3 (ipykernel)",
   "language": "python",
   "name": "python3"
  },
  "language_info": {
   "codemirror_mode": {
    "name": "ipython",
    "version": 3
   },
   "file_extension": ".py",
   "mimetype": "text/x-python",
   "name": "python",
   "nbconvert_exporter": "python",
   "pygments_lexer": "ipython3",
   "version": "3.8.12"
  }
 },
 "nbformat": 4,
 "nbformat_minor": 5
}