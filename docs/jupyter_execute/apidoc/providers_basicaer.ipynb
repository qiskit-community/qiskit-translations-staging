{
 "cells": [
  {
   "cell_type": "code",
   "execution_count": 1,
   "id": "f682a8f2",
   "metadata": {
    "execution": {
     "iopub.execute_input": "2022-02-11T14:48:28.272910Z",
     "iopub.status.busy": "2022-02-11T14:48:28.272426Z",
     "iopub.status.idle": "2022-02-11T14:48:28.728448Z",
     "shell.execute_reply": "2022-02-11T14:48:28.727474Z"
    }
   },
   "outputs": [],
   "source": [
    "from qiskit import BasicAer\n",
    "\n",
    "backend = BasicAer.get_backend('qasm_simulator')"
   ]
  }
 ],
 "metadata": {
  "kernelspec": {
   "display_name": "Python 3 (ipykernel)",
   "language": "python",
   "name": "python3"
  },
  "language_info": {
   "codemirror_mode": {
    "name": "ipython",
    "version": 3
   },
   "file_extension": ".py",
   "mimetype": "text/x-python",
   "name": "python",
   "nbconvert_exporter": "python",
   "pygments_lexer": "ipython3",
   "version": "3.8.12"
  }
 },
 "nbformat": 4,
 "nbformat_minor": 5
}