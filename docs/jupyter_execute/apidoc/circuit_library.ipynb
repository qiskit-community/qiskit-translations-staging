{
 "cells": [
  {
   "cell_type": "code",
   "execution_count": 1,
   "id": "c43615de",
   "metadata": {
    "execution": {
     "iopub.execute_input": "2022-07-01T17:56:10.443752Z",
     "iopub.status.busy": "2022-07-01T17:56:10.443335Z",
     "iopub.status.idle": "2022-07-01T17:56:11.597662Z",
     "shell.execute_reply": "2022-07-01T17:56:11.597115Z"
    }
   },
   "outputs": [
    {
     "data": {
      "image/png": "[encoded data removed]",
      "text/plain": [
       "<Figure size 146.797x325.08 with 1 Axes>"
      ]
     },
     "execution_count": 1,
     "metadata": {
      "filenames": {
       "image/png": "/home/runner/work/qiskit-translations/qiskit-translations/docs/_build/html/locale/jupyter_execute/apidoc/circuit_library_0_0.png"
      }
     },
     "output_type": "execute_result"
    }
   ],
   "source": [
    "from qiskit.circuit.library import MCXGate\n",
    "gate = MCXGate(4)\n",
    "\n",
    "from qiskit import QuantumCircuit\n",
    "circuit = QuantumCircuit(5)\n",
    "circuit.append(gate, [0, 1, 4, 2, 3])\n",
    "circuit.draw('mpl')"
   ]
  },
  {
   "cell_type": "code",
   "execution_count": 2,
   "id": "68e9a902",
   "metadata": {
    "execution": {
     "iopub.execute_input": "2022-07-01T17:56:11.600776Z",
     "iopub.status.busy": "2022-07-01T17:56:11.600349Z",
     "iopub.status.idle": "2022-07-01T17:56:11.631885Z",
     "shell.execute_reply": "2022-07-01T17:56:11.631296Z"
    }
   },
   "outputs": [
    {
     "name": "stdout",
     "output_type": "stream",
     "text": [
      "[[0.+0.j 1.+0.j]\n",
      " [1.+0.j 0.+0.j]]\n",
      "[[0.5+0.5j 0.5-0.5j]\n",
      " [0.5-0.5j 0.5+0.5j]]\n",
      "[[1.+0.j 0.+0.j 0.+0.j 0.+0.j]\n",
      " [0.+0.j 0.+0.j 0.+0.j 1.+0.j]\n",
      " [0.+0.j 0.+0.j 1.+0.j 0.+0.j]\n",
      " [0.+0.j 1.+0.j 0.+0.j 0.+0.j]]\n"
     ]
    }
   ],
   "source": [
    "from qiskit.circuit.library import XGate\n",
    "gate = XGate()\n",
    "print(gate.to_matrix())             # X gate\n",
    "print(gate.power(1/2).to_matrix())  # √X gate\n",
    "print(gate.control(1).to_matrix())  # CX (controlled X) gate"
   ]
  },
  {
   "cell_type": "code",
   "execution_count": 3,
   "id": "297d5e5e",
   "metadata": {
    "execution": {
     "iopub.execute_input": "2022-07-01T17:56:11.634743Z",
     "iopub.status.busy": "2022-07-01T17:56:11.634333Z",
     "iopub.status.idle": "2022-07-01T17:56:11.639405Z",
     "shell.execute_reply": "2022-07-01T17:56:11.638904Z"
    }
   },
   "outputs": [
    {
     "name": "stdout",
     "output_type": "stream",
     "text": [
      "1\n",
      "2\n"
     ]
    }
   ],
   "source": [
    "from qiskit.circuit.library import Diagonal\n",
    "\n",
    "diagonal = Diagonal([1, 1])\n",
    "print(diagonal.num_qubits)\n",
    "\n",
    "diagonal = Diagonal([1, 1, 1, 1])\n",
    "print(diagonal.num_qubits)"
   ]
  },
  {
   "cell_type": "code",
   "execution_count": 4,
   "id": "00e3f8f5",
   "metadata": {
    "execution": {
     "iopub.execute_input": "2022-07-01T17:56:11.641796Z",
     "iopub.status.busy": "2022-07-01T17:56:11.641444Z",
     "iopub.status.idle": "2022-07-01T17:56:11.648789Z",
     "shell.execute_reply": "2022-07-01T17:56:11.648286Z"
    }
   },
   "outputs": [
    {
     "data": {
      "text/plain": [
       "True"
      ]
     },
     "execution_count": 4,
     "metadata": {},
     "output_type": "execute_result"
    }
   ],
   "source": [
    "from qiskit.circuit.library.templates import template_nct_4b_1\n",
    "from qiskit.quantum_info import Operator\n",
    "import numpy as np\n",
    "\n",
    "template = template_nct_4b_1()\n",
    "\n",
    "identity = np.identity(2 ** len(template.qubits), dtype=complex)\n",
    "data = Operator(template).data\n",
    "np.allclose(data, identity)  # True, template_nct_4b_1 is the identity"
   ]
  }
 ],
 "metadata": {
  "kernelspec": {
   "display_name": "Python 3 (ipykernel)",
   "language": "python",
   "name": "python3"
  },
  "language_info": {
   "codemirror_mode": {
    "name": "ipython",
    "version": 3
   },
   "file_extension": ".py",
   "mimetype": "text/x-python",
   "name": "python",
   "nbconvert_exporter": "python",
   "pygments_lexer": "ipython3",
   "version": "3.8.13"
  }
 },
 "nbformat": 4,
 "nbformat_minor": 5
}