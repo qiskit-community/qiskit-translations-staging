{
 "cells": [
  {
   "cell_type": "code",
   "execution_count": 1,
   "id": "848e13c5",
   "metadata": {
    "execution": {
     "iopub.execute_input": "2022-07-01T17:58:51.672636Z",
     "iopub.status.busy": "2022-07-01T17:58:51.672350Z",
     "iopub.status.idle": "2022-07-01T17:58:52.428819Z",
     "shell.execute_reply": "2022-07-01T17:58:52.428165Z"
    }
   },
   "outputs": [],
   "source": [
    "from qiskit.opflow import X, Z, Zero\n",
    "from qiskit.algorithms import EvolutionProblem, TrotterQRTE\n",
    "from qiskit import BasicAer\n",
    "from qiskit.utils import QuantumInstance\n",
    "\n",
    "operator = X + Z\n",
    "initial_state = Zero\n",
    "time = 1\n",
    "evolution_problem = EvolutionProblem(operator, 1, initial_state)\n",
    "# LieTrotter with 1 rep\n",
    "backend = BasicAer.get_backend(\"statevector_simulator\")\n",
    "quantum_instance = QuantumInstance(backend=backend)\n",
    "trotter_qrte = TrotterQRTE(quantum_instance=quantum_instance)\n",
    "evolved_state = trotter_qrte.evolve(evolution_problem).evolved_state"
   ]
  }
 ],
 "metadata": {
  "kernelspec": {
   "display_name": "Python 3 (ipykernel)",
   "language": "python",
   "name": "python3"
  },
  "language_info": {
   "codemirror_mode": {
    "name": "ipython",
    "version": 3
   },
   "file_extension": ".py",
   "mimetype": "text/x-python",
   "name": "python",
   "nbconvert_exporter": "python",
   "pygments_lexer": "ipython3",
   "version": "3.8.13"
  }
 },
 "nbformat": 4,
 "nbformat_minor": 5
}