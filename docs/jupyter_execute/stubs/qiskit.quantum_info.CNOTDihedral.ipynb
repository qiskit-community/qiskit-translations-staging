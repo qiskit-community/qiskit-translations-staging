{
 "cells": [
  {
   "cell_type": "code",
   "execution_count": 1,
   "id": "5cb50b17",
   "metadata": {
    "execution": {
     "iopub.execute_input": "2022-06-07T17:15:23.635048Z",
     "iopub.status.busy": "2022-06-07T17:15:23.634365Z",
     "iopub.status.idle": "2022-06-07T17:15:23.919823Z",
     "shell.execute_reply": "2022-06-07T17:15:23.916387Z"
    }
   },
   "outputs": [
    {
     "name": "stdout",
     "output_type": "stream",
     "text": [
      "phase polynomial = \n",
      "0 + 3*x_0 + 3*x_1 + 2*x_0*x_1\n",
      "affine function = \n",
      " (x_0,x_0 + x_1,x_2 + 1)\n",
      "\n"
     ]
    }
   ],
   "source": [
    "from qiskit import QuantumCircuit\n",
    "from qiskit.quantum_info import CNOTDihedral\n",
    "\n",
    "circ = QuantumCircuit(3)\n",
    "circ.cx(0, 1)\n",
    "circ.x(2)\n",
    "circ.t(1)\n",
    "circ.t(1)\n",
    "circ.t(1)\n",
    "elem = CNOTDihedral(circ)\n",
    "\n",
    "# Print the CNOTDihedral element\n",
    "print(elem)"
   ]
  }
 ],
 "metadata": {
  "kernelspec": {
   "display_name": "Python 3 (ipykernel)",
   "language": "python",
   "name": "python3"
  },
  "language_info": {
   "codemirror_mode": {
    "name": "ipython",
    "version": 3
   },
   "file_extension": ".py",
   "mimetype": "text/x-python",
   "name": "python",
   "nbconvert_exporter": "python",
   "pygments_lexer": "ipython3",
   "version": "3.8.12"
  }
 },
 "nbformat": 4,
 "nbformat_minor": 5
}