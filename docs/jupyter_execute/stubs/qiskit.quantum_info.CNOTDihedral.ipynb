{
 "cells": [
  {
   "cell_type": "code",
   "execution_count": 1,
   "id": "c44cb2f8",
   "metadata": {
    "execution": {
     "iopub.execute_input": "2022-02-03T13:53:11.054619Z",
     "iopub.status.busy": "2022-02-03T13:53:11.053775Z",
     "iopub.status.idle": "2022-02-03T13:53:11.631607Z",
     "shell.execute_reply": "2022-02-03T13:53:11.630309Z"
    }
   },
   "outputs": [
    {
     "name": "stdout",
     "output_type": "stream",
     "text": [
      "phase polynomial = \n",
      "0 + 3*x_0 + 3*x_1 + 2*x_0*x_1\n",
      "affine function = \n",
      " (x_0,x_0 + x_1,x_2 + 1)\n",
      "\n"
     ]
    }
   ],
   "source": [
    "from qiskit import QuantumCircuit\n",
    "from qiskit.quantum_info import CNOTDihedral\n",
    "\n",
    "circ = QuantumCircuit(3)\n",
    "circ.cx(0, 1)\n",
    "circ.x(2)\n",
    "circ.t(1)\n",
    "circ.t(1)\n",
    "circ.t(1)\n",
    "elem = CNOTDihedral(circ)\n",
    "\n",
    "# Print the CNOTDihedral element\n",
    "print(elem)"
   ]
  }
 ],
 "metadata": {
  "kernelspec": {
   "display_name": "Python 3 (ipykernel)",
   "language": "python",
   "name": "python3"
  },
  "language_info": {
   "codemirror_mode": {
    "name": "ipython",
    "version": 3
   },
   "file_extension": ".py",
   "mimetype": "text/x-python",
   "name": "python",
   "nbconvert_exporter": "python",
   "pygments_lexer": "ipython3",
   "version": "3.8.12"
  }
 },
 "nbformat": 4,
 "nbformat_minor": 5
}