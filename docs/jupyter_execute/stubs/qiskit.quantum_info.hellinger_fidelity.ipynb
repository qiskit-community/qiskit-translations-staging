{
 "cells": [
  {
   "cell_type": "code",
   "execution_count": 1,
   "id": "23da4077",
   "metadata": {
    "execution": {
     "iopub.execute_input": "2022-02-11T14:56:35.178559Z",
     "iopub.status.busy": "2022-02-11T14:56:35.178037Z",
     "iopub.status.idle": "2022-02-11T14:56:35.974742Z",
     "shell.execute_reply": "2022-02-11T14:56:35.975109Z"
    }
   },
   "outputs": [
    {
     "data": {
      "text/plain": [
       "0.9999961850698886"
      ]
     },
     "execution_count": 1,
     "metadata": {},
     "output_type": "execute_result"
    }
   ],
   "source": [
    "from qiskit import QuantumCircuit, execute, BasicAer\n",
    "from qiskit.quantum_info.analysis import hellinger_fidelity\n",
    "\n",
    "qc = QuantumCircuit(5, 5)\n",
    "qc.h(2)\n",
    "qc.cx(2, 1)\n",
    "qc.cx(2, 3)\n",
    "qc.cx(3, 4)\n",
    "qc.cx(1, 0)\n",
    "qc.measure(range(5), range(5))\n",
    "\n",
    "sim = BasicAer.get_backend('qasm_simulator')\n",
    "res1 = execute(qc, sim).result()\n",
    "res2 = execute(qc, sim).result()\n",
    "\n",
    "hellinger_fidelity(res1.get_counts(), res2.get_counts())"
   ]
  }
 ],
 "metadata": {
  "kernelspec": {
   "display_name": "Python 3 (ipykernel)",
   "language": "python",
   "name": "python3"
  },
  "language_info": {
   "codemirror_mode": {
    "name": "ipython",
    "version": 3
   },
   "file_extension": ".py",
   "mimetype": "text/x-python",
   "name": "python",
   "nbconvert_exporter": "python",
   "pygments_lexer": "ipython3",
   "version": "3.8.12"
  }
 },
 "nbformat": 4,
 "nbformat_minor": 5
}