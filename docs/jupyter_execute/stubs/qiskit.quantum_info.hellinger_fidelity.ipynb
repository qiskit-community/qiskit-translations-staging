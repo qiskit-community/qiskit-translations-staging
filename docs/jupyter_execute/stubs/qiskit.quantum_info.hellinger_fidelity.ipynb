{
 "cells": [
  {
   "cell_type": "code",
   "execution_count": 1,
   "id": "c068f50b",
   "metadata": {
    "execution": {
     "iopub.execute_input": "2022-06-21T17:24:46.787273Z",
     "iopub.status.busy": "2022-06-21T17:24:46.787007Z",
     "iopub.status.idle": "2022-06-21T17:24:47.137502Z",
     "shell.execute_reply": "2022-06-21T17:24:47.136919Z"
    }
   },
   "outputs": [
    {
     "data": {
      "text/plain": [
       "0.9979807207157557"
      ]
     },
     "execution_count": 1,
     "metadata": {},
     "output_type": "execute_result"
    }
   ],
   "source": [
    "from qiskit import QuantumCircuit, execute, BasicAer\n",
    "from qiskit.quantum_info.analysis import hellinger_fidelity\n",
    "\n",
    "qc = QuantumCircuit(5, 5)\n",
    "qc.h(2)\n",
    "qc.cx(2, 1)\n",
    "qc.cx(2, 3)\n",
    "qc.cx(3, 4)\n",
    "qc.cx(1, 0)\n",
    "qc.measure(range(5), range(5))\n",
    "\n",
    "sim = BasicAer.get_backend('qasm_simulator')\n",
    "res1 = execute(qc, sim).result()\n",
    "res2 = execute(qc, sim).result()\n",
    "\n",
    "hellinger_fidelity(res1.get_counts(), res2.get_counts())"
   ]
  }
 ],
 "metadata": {
  "kernelspec": {
   "display_name": "Python 3 (ipykernel)",
   "language": "python",
   "name": "python3"
  },
  "language_info": {
   "codemirror_mode": {
    "name": "ipython",
    "version": 3
   },
   "file_extension": ".py",
   "mimetype": "text/x-python",
   "name": "python",
   "nbconvert_exporter": "python",
   "pygments_lexer": "ipython3",
   "version": "3.8.12"
  }
 },
 "nbformat": 4,
 "nbformat_minor": 5
}