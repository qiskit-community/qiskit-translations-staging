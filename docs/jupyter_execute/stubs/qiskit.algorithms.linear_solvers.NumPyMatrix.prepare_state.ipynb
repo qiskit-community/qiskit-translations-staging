{
 "cells": [
  {
   "cell_type": "code",
   "execution_count": 1,
   "id": "99947c45",
   "metadata": {
    "execution": {
     "iopub.execute_input": "2022-06-21T17:17:56.717525Z",
     "iopub.status.busy": "2022-06-21T17:17:56.717135Z",
     "iopub.status.idle": "2022-06-21T17:17:56.998396Z",
     "shell.execute_reply": "2022-06-21T17:17:56.997734Z"
    }
   },
   "outputs": [
    {
     "data": {
      "text/html": [
       "<pre style=\"word-wrap: normal;white-space: pre;background: #fff0;line-height: 1.1;font-family: &quot;Courier New&quot;,Courier,monospace\">   ┌─────────────────────────────────────┐\n",
       "q: ┤ State Preparation(0.70711,-0.70711) ├\n",
       "   └─────────────────────────────────────┘</pre>"
      ],
      "text/plain": [
       "   ┌─────────────────────────────────────┐\n",
       "q: ┤ State Preparation(0.70711,-0.70711) ├\n",
       "   └─────────────────────────────────────┘"
      ]
     },
     "execution_count": 1,
     "metadata": {},
     "output_type": "execute_result"
    }
   ],
   "source": [
    "import numpy as np\n",
    "from qiskit import QuantumCircuit\n",
    "\n",
    "circuit = QuantumCircuit(1)\n",
    "circuit.prepare_state([1/np.sqrt(2), -1/np.sqrt(2)], 0)\n",
    "circuit.draw()"
   ]
  },
  {
   "cell_type": "code",
   "execution_count": 2,
   "id": "5794ddfa",
   "metadata": {
    "execution": {
     "iopub.execute_input": "2022-06-21T17:17:57.001403Z",
     "iopub.status.busy": "2022-06-21T17:17:57.000970Z",
     "iopub.status.idle": "2022-06-21T17:17:57.007966Z",
     "shell.execute_reply": "2022-06-21T17:17:57.007286Z"
    }
   },
   "outputs": [
    {
     "data": {
      "text/html": [
       "<pre style=\"word-wrap: normal;white-space: pre;background: #fff0;line-height: 1.1;font-family: &quot;Courier New&quot;,Courier,monospace\">     ┌─────────────────────────┐\n",
       "q_0: ┤0                        ├\n",
       "     │  State Preparation(0,1) │\n",
       "q_1: ┤1                        ├\n",
       "     └─────────────────────────┘</pre>"
      ],
      "text/plain": [
       "     ┌─────────────────────────┐\n",
       "q_0: ┤0                        ├\n",
       "     │  State Preparation(0,1) │\n",
       "q_1: ┤1                        ├\n",
       "     └─────────────────────────┘"
      ]
     },
     "execution_count": 2,
     "metadata": {},
     "output_type": "execute_result"
    }
   ],
   "source": [
    "import numpy as np\n",
    "from qiskit import QuantumCircuit\n",
    "\n",
    "circuit = QuantumCircuit(2)\n",
    "circuit.prepare_state('01', circuit.qubits)\n",
    "circuit.draw()"
   ]
  }
 ],
 "metadata": {
  "kernelspec": {
   "display_name": "Python 3 (ipykernel)",
   "language": "python",
   "name": "python3"
  },
  "language_info": {
   "codemirror_mode": {
    "name": "ipython",
    "version": 3
   },
   "file_extension": ".py",
   "mimetype": "text/x-python",
   "name": "python",
   "nbconvert_exporter": "python",
   "pygments_lexer": "ipython3",
   "version": "3.8.12"
  }
 },
 "nbformat": 4,
 "nbformat_minor": 5
}