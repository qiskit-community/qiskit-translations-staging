{
 "cells": [
  {
   "cell_type": "code",
   "execution_count": 1,
   "id": "f40411ce",
   "metadata": {
    "execution": {
     "iopub.execute_input": "2022-03-05T03:20:33.239495Z",
     "iopub.status.busy": "2022-03-05T03:20:33.239288Z",
     "iopub.status.idle": "2022-03-05T03:20:34.035014Z",
     "shell.execute_reply": "2022-03-05T03:20:34.033795Z"
    }
   },
   "outputs": [
    {
     "data": {
      "text/html": [
       "<pre style=\"word-wrap: normal;white-space: pre;background: #fff0;line-height: 1.1;font-family: &quot;Courier New&quot;,Courier,monospace\">        ┌──────────┐ ░ ┌─┐\n",
       "     q: ┤ Rx(3.14) ├─░─┤M├\n",
       "        └──────────┘ ░ └╥┘\n",
       "meas: 1/════════════════╩═\n",
       "                        0 </pre>"
      ],
      "text/plain": [
       "        ┌──────────┐ ░ ┌─┐\n",
       "     q: ┤ Rx(3.14) ├─░─┤M├\n",
       "        └──────────┘ ░ └╥┘\n",
       "meas: 1/════════════════╩═\n",
       "                        0 "
      ]
     },
     "execution_count": 1,
     "metadata": {},
     "output_type": "execute_result"
    }
   ],
   "source": [
    "from qiskit.circuit import QuantumCircuit, Parameter\n",
    "\n",
    "# create the parameter\n",
    "phi = Parameter('phi')\n",
    "qc = QuantumCircuit(1)\n",
    "\n",
    "# parameterize the rotation\n",
    "qc.rx(phi, 0)\n",
    "qc.draw()\n",
    "\n",
    "# bind the parameters after circuit to create a bound circuit\n",
    "bc = qc.bind_parameters({phi: 3.14})\n",
    "bc.measure_all()\n",
    "bc.draw()"
   ]
  }
 ],
 "metadata": {
  "kernelspec": {
   "display_name": "Python 3 (ipykernel)",
   "language": "python",
   "name": "python3"
  },
  "language_info": {
   "codemirror_mode": {
    "name": "ipython",
    "version": 3
   },
   "file_extension": ".py",
   "mimetype": "text/x-python",
   "name": "python",
   "nbconvert_exporter": "python",
   "pygments_lexer": "ipython3",
   "version": "3.8.12"
  }
 },
 "nbformat": 4,
 "nbformat_minor": 5
}