{
 "cells": [
  {
   "cell_type": "code",
   "execution_count": 1,
   "id": "20c91261",
   "metadata": {
    "execution": {
     "iopub.execute_input": "2022-05-20T19:56:33.574135Z",
     "iopub.status.busy": "2022-05-20T19:56:33.573860Z",
     "iopub.status.idle": "2022-05-20T19:56:34.284714Z",
     "shell.execute_reply": "2022-05-20T19:56:34.283899Z"
    }
   },
   "outputs": [],
   "source": [
    "import numpy as np\n",
    "from qiskit import QuantumCircuit\n",
    "from qiskit.algorithms.linear_solvers.observables.matrix_functional import             MatrixFunctional\n",
    "from qiskit.transpiler.passes import RemoveResetInZeroState\n",
    "from qiskit.opflow import StateFn\n",
    "\n",
    "tpass = RemoveResetInZeroState()\n",
    "\n",
    "vector = [1.0, -2.1, 3.2, -4.3]\n",
    "observable = MatrixFunctional(1, -1 / 3)\n",
    "\n",
    "init_state = vector / np.linalg.norm(vector)\n",
    "num_qubits = int(np.log2(len(vector)))\n",
    "\n",
    "# Get observable circuits\n",
    "obs_circuits = observable.observable_circuit(num_qubits)\n",
    "qcs = []\n",
    "for obs_circ in obs_circuits:\n",
    "    qc = QuantumCircuit(num_qubits)\n",
    "    qc.isometry(init_state, list(range(num_qubits)), None)\n",
    "    qc.append(obs_circ, list(range(num_qubits)))\n",
    "    qcs.append(tpass(qc.decompose()))\n",
    "\n",
    "# Get observables\n",
    "observable_ops = observable.observable(num_qubits)\n",
    "state_vecs = []\n",
    "# First is the norm\n",
    "state_vecs.append((~StateFn(observable_ops[0]) @ StateFn(qcs[0])).eval())\n",
    "for i in range(1, len(observable_ops), 2):\n",
    "    state_vecs += [(~StateFn(observable_ops[i]) @ StateFn(qcs[i])).eval(),\n",
    "                   (~StateFn(observable_ops[i + 1]) @ StateFn(qcs[i + 1])).eval()]\n",
    "\n",
    "# Obtain result\n",
    "result = observable.post_processing(state_vecs, num_qubits)\n",
    "\n",
    "# Obtain analytical evaluation\n",
    "exact = observable.evaluate_classically(init_state)"
   ]
  }
 ],
 "metadata": {
  "kernelspec": {
   "display_name": "Python 3 (ipykernel)",
   "language": "python",
   "name": "python3"
  },
  "language_info": {
   "codemirror_mode": {
    "name": "ipython",
    "version": 3
   },
   "file_extension": ".py",
   "mimetype": "text/x-python",
   "name": "python",
   "nbconvert_exporter": "python",
   "pygments_lexer": "ipython3",
   "version": "3.8.12"
  }
 },
 "nbformat": 4,
 "nbformat_minor": 5
}