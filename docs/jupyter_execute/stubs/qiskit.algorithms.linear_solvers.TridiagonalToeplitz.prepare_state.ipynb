{
 "cells": [
  {
   "cell_type": "code",
   "execution_count": 1,
   "id": "8a10eebb",
   "metadata": {
    "execution": {
     "iopub.execute_input": "2022-07-12T16:54:34.558658Z",
     "iopub.status.busy": "2022-07-12T16:54:34.558159Z",
     "iopub.status.idle": "2022-07-12T16:54:34.903714Z",
     "shell.execute_reply": "2022-07-12T16:54:34.902994Z"
    }
   },
   "outputs": [
    {
     "data": {
      "text/html": [
       "<pre style=\"word-wrap: normal;white-space: pre;background: #fff0;line-height: 1.1;font-family: &quot;Courier New&quot;,Courier,monospace\">   ┌─────────────────────────────────────┐\n",
       "q: ┤ State Preparation(0.70711,-0.70711) ├\n",
       "   └─────────────────────────────────────┘</pre>"
      ],
      "text/plain": [
       "   ┌─────────────────────────────────────┐\n",
       "q: ┤ State Preparation(0.70711,-0.70711) ├\n",
       "   └─────────────────────────────────────┘"
      ]
     },
     "execution_count": 1,
     "metadata": {},
     "output_type": "execute_result"
    }
   ],
   "source": [
    "import numpy as np\n",
    "from qiskit import QuantumCircuit\n",
    "\n",
    "circuit = QuantumCircuit(1)\n",
    "circuit.prepare_state([1/np.sqrt(2), -1/np.sqrt(2)], 0)\n",
    "circuit.draw()"
   ]
  },
  {
   "cell_type": "code",
   "execution_count": 2,
   "id": "c6bbce03",
   "metadata": {
    "execution": {
     "iopub.execute_input": "2022-07-12T16:54:34.907461Z",
     "iopub.status.busy": "2022-07-12T16:54:34.906793Z",
     "iopub.status.idle": "2022-07-12T16:54:34.914954Z",
     "shell.execute_reply": "2022-07-12T16:54:34.914187Z"
    }
   },
   "outputs": [
    {
     "data": {
      "text/html": [
       "<pre style=\"word-wrap: normal;white-space: pre;background: #fff0;line-height: 1.1;font-family: &quot;Courier New&quot;,Courier,monospace\">     ┌─────────────────────────┐\n",
       "q_0: ┤0                        ├\n",
       "     │  State Preparation(0,1) │\n",
       "q_1: ┤1                        ├\n",
       "     └─────────────────────────┘</pre>"
      ],
      "text/plain": [
       "     ┌─────────────────────────┐\n",
       "q_0: ┤0                        ├\n",
       "     │  State Preparation(0,1) │\n",
       "q_1: ┤1                        ├\n",
       "     └─────────────────────────┘"
      ]
     },
     "execution_count": 2,
     "metadata": {},
     "output_type": "execute_result"
    }
   ],
   "source": [
    "import numpy as np\n",
    "from qiskit import QuantumCircuit\n",
    "\n",
    "circuit = QuantumCircuit(2)\n",
    "circuit.prepare_state('01', circuit.qubits)\n",
    "circuit.draw()"
   ]
  }
 ],
 "metadata": {
  "kernelspec": {
   "display_name": "Python 3 (ipykernel)",
   "language": "python",
   "name": "python3"
  },
  "language_info": {
   "codemirror_mode": {
    "name": "ipython",
    "version": 3
   },
   "file_extension": ".py",
   "mimetype": "text/x-python",
   "name": "python",
   "nbconvert_exporter": "python",
   "pygments_lexer": "ipython3",
   "version": "3.8.13"
  }
 },
 "nbformat": 4,
 "nbformat_minor": 5
}