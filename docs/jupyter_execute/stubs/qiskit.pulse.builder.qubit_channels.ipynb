{
 "cells": [
  {
   "cell_type": "code",
   "execution_count": 1,
   "id": "c094606d",
   "metadata": {
    "execution": {
     "iopub.execute_input": "2022-03-07T18:57:53.739098Z",
     "iopub.status.busy": "2022-03-07T18:57:53.738756Z",
     "iopub.status.idle": "2022-03-07T18:57:54.274253Z",
     "shell.execute_reply": "2022-03-07T18:57:54.273023Z"
    }
   },
   "outputs": [
    {
     "name": "stdout",
     "output_type": "stream",
     "text": [
      "{DriveChannel(0), ControlChannel(0), AcquireChannel(0), MeasureChannel(0), ControlChannel(1)}\n"
     ]
    }
   ],
   "source": [
    "from qiskit import pulse\n",
    "from qiskit.test.mock import FakeOpenPulse2Q\n",
    "\n",
    "backend = FakeOpenPulse2Q()\n",
    "\n",
    "with pulse.build(backend):\n",
    "    print(pulse.qubit_channels(0))"
   ]
  }
 ],
 "metadata": {
  "kernelspec": {
   "display_name": "Python 3 (ipykernel)",
   "language": "python",
   "name": "python3"
  },
  "language_info": {
   "codemirror_mode": {
    "name": "ipython",
    "version": 3
   },
   "file_extension": ".py",
   "mimetype": "text/x-python",
   "name": "python",
   "nbconvert_exporter": "python",
   "pygments_lexer": "ipython3",
   "version": "3.8.12"
  }
 },
 "nbformat": 4,
 "nbformat_minor": 5
}