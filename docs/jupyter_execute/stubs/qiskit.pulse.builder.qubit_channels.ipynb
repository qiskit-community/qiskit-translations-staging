{
 "cells": [
  {
   "cell_type": "code",
   "execution_count": 1,
   "id": "05fae050",
   "metadata": {
    "execution": {
     "iopub.execute_input": "2022-06-21T17:23:07.903087Z",
     "iopub.status.busy": "2022-06-21T17:23:07.902816Z",
     "iopub.status.idle": "2022-06-21T17:23:08.360943Z",
     "shell.execute_reply": "2022-06-21T17:23:08.360368Z"
    }
   },
   "outputs": [
    {
     "name": "stdout",
     "output_type": "stream",
     "text": [
      "{ControlChannel(0), AcquireChannel(0), DriveChannel(0), ControlChannel(1), MeasureChannel(0)}\n"
     ]
    }
   ],
   "source": [
    "from qiskit import pulse\n",
    "from qiskit.test.mock import FakeOpenPulse2Q\n",
    "\n",
    "backend = FakeOpenPulse2Q()\n",
    "\n",
    "with pulse.build(backend):\n",
    "    print(pulse.qubit_channels(0))"
   ]
  }
 ],
 "metadata": {
  "kernelspec": {
   "display_name": "Python 3 (ipykernel)",
   "language": "python",
   "name": "python3"
  },
  "language_info": {
   "codemirror_mode": {
    "name": "ipython",
    "version": 3
   },
   "file_extension": ".py",
   "mimetype": "text/x-python",
   "name": "python",
   "nbconvert_exporter": "python",
   "pygments_lexer": "ipython3",
   "version": "3.8.12"
  }
 },
 "nbformat": 4,
 "nbformat_minor": 5
}