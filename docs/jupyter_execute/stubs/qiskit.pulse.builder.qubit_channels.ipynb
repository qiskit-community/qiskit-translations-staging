{
 "cells": [
  {
   "cell_type": "code",
   "execution_count": 1,
   "id": "38437be0",
   "metadata": {
    "execution": {
     "iopub.execute_input": "2022-04-12T17:15:44.203296Z",
     "iopub.status.busy": "2022-04-12T17:15:44.202887Z",
     "iopub.status.idle": "2022-04-12T17:15:44.661777Z",
     "shell.execute_reply": "2022-04-12T17:15:44.661343Z"
    }
   },
   "outputs": [
    {
     "name": "stdout",
     "output_type": "stream",
     "text": [
      "{MeasureChannel(0), AcquireChannel(0), DriveChannel(0), ControlChannel(1), ControlChannel(0)}\n"
     ]
    }
   ],
   "source": [
    "from qiskit import pulse\n",
    "from qiskit.test.mock import FakeOpenPulse2Q\n",
    "\n",
    "backend = FakeOpenPulse2Q()\n",
    "\n",
    "with pulse.build(backend):\n",
    "    print(pulse.qubit_channels(0))"
   ]
  }
 ],
 "metadata": {
  "kernelspec": {
   "display_name": "Python 3 (ipykernel)",
   "language": "python",
   "name": "python3"
  },
  "language_info": {
   "codemirror_mode": {
    "name": "ipython",
    "version": 3
   },
   "file_extension": ".py",
   "mimetype": "text/x-python",
   "name": "python",
   "nbconvert_exporter": "python",
   "pygments_lexer": "ipython3",
   "version": "3.8.12"
  }
 },
 "nbformat": 4,
 "nbformat_minor": 5
}