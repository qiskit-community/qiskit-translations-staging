{
 "cells": [
  {
   "cell_type": "code",
   "execution_count": 1,
   "id": "718183f5",
   "metadata": {
    "execution": {
     "iopub.execute_input": "2022-03-14T13:36:35.755511Z",
     "iopub.status.busy": "2022-03-14T13:36:35.755305Z",
     "iopub.status.idle": "2022-03-14T13:36:36.280753Z",
     "shell.execute_reply": "2022-03-14T13:36:36.280161Z"
    }
   },
   "outputs": [
    {
     "name": "stdout",
     "output_type": "stream",
     "text": [
      "{AcquireChannel(0), ControlChannel(1), ControlChannel(0), MeasureChannel(0), DriveChannel(0)}\n"
     ]
    }
   ],
   "source": [
    "from qiskit import pulse\n",
    "from qiskit.test.mock import FakeOpenPulse2Q\n",
    "\n",
    "backend = FakeOpenPulse2Q()\n",
    "\n",
    "with pulse.build(backend):\n",
    "    print(pulse.qubit_channels(0))"
   ]
  }
 ],
 "metadata": {
  "kernelspec": {
   "display_name": "Python 3 (ipykernel)",
   "language": "python",
   "name": "python3"
  },
  "language_info": {
   "codemirror_mode": {
    "name": "ipython",
    "version": 3
   },
   "file_extension": ".py",
   "mimetype": "text/x-python",
   "name": "python",
   "nbconvert_exporter": "python",
   "pygments_lexer": "ipython3",
   "version": "3.8.12"
  }
 },
 "nbformat": 4,
 "nbformat_minor": 5
}