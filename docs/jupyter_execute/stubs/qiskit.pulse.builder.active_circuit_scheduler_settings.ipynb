{
 "cells": [
  {
   "cell_type": "code",
   "execution_count": 1,
   "id": "c115ded4",
   "metadata": {
    "execution": {
     "iopub.execute_input": "2022-04-11T19:37:19.868814Z",
     "iopub.status.busy": "2022-04-11T19:37:19.868265Z",
     "iopub.status.idle": "2022-04-11T19:37:20.493691Z",
     "shell.execute_reply": "2022-04-11T19:37:20.493015Z"
    }
   },
   "outputs": [
    {
     "name": "stdout",
     "output_type": "stream",
     "text": [
      "{'method': 'alap'}\n"
     ]
    }
   ],
   "source": [
    "from qiskit import pulse\n",
    "from qiskit.test.mock import FakeOpenPulse2Q\n",
    "\n",
    "backend = FakeOpenPulse2Q()\n",
    "\n",
    "circuit_scheduler_settings = {'method': 'alap'}\n",
    "\n",
    "with pulse.build(\n",
    "        backend,\n",
    "        default_circuit_scheduler_settings=circuit_scheduler_settings):\n",
    "    print(pulse.active_circuit_scheduler_settings())"
   ]
  }
 ],
 "metadata": {
  "kernelspec": {
   "display_name": "Python 3 (ipykernel)",
   "language": "python",
   "name": "python3"
  },
  "language_info": {
   "codemirror_mode": {
    "name": "ipython",
    "version": 3
   },
   "file_extension": ".py",
   "mimetype": "text/x-python",
   "name": "python",
   "nbconvert_exporter": "python",
   "pygments_lexer": "ipython3",
   "version": "3.8.12"
  }
 },
 "nbformat": 4,
 "nbformat_minor": 5
}