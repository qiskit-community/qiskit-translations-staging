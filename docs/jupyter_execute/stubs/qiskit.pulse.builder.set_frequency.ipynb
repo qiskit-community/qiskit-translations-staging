{
 "cells": [
  {
   "cell_type": "code",
   "execution_count": 1,
   "id": "dad0cd7d",
   "metadata": {
    "execution": {
     "iopub.execute_input": "2022-05-06T16:36:48.801295Z",
     "iopub.status.busy": "2022-05-06T16:36:48.801061Z",
     "iopub.status.idle": "2022-05-06T16:36:49.094655Z",
     "shell.execute_reply": "2022-05-06T16:36:49.093969Z"
    }
   },
   "outputs": [],
   "source": [
    "from qiskit import pulse\n",
    "\n",
    "d0 = pulse.DriveChannel(0)\n",
    "\n",
    "with pulse.build() as pulse_prog:\n",
    "    pulse.set_frequency(1e9, d0)"
   ]
  }
 ],
 "metadata": {
  "kernelspec": {
   "display_name": "Python 3 (ipykernel)",
   "language": "python",
   "name": "python3"
  },
  "language_info": {
   "codemirror_mode": {
    "name": "ipython",
    "version": 3
   },
   "file_extension": ".py",
   "mimetype": "text/x-python",
   "name": "python",
   "nbconvert_exporter": "python",
   "pygments_lexer": "ipython3",
   "version": "3.8.12"
  }
 },
 "nbformat": 4,
 "nbformat_minor": 5
}