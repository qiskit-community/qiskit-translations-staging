{
 "cells": [
  {
   "cell_type": "code",
   "execution_count": 1,
   "id": "018f291d",
   "metadata": {
    "execution": {
     "iopub.execute_input": "2022-02-09T03:28:52.301881Z",
     "iopub.status.busy": "2022-02-09T03:28:52.301369Z",
     "iopub.status.idle": "2022-02-09T03:28:52.754405Z",
     "shell.execute_reply": "2022-02-09T03:28:52.753749Z"
    }
   },
   "outputs": [],
   "source": [
    "from qiskit import pulse\n",
    "\n",
    "d0 = pulse.DriveChannel(0)\n",
    "\n",
    "with pulse.build() as pulse_prog:\n",
    "    pulse.set_frequency(1e9, d0)"
   ]
  }
 ],
 "metadata": {
  "kernelspec": {
   "display_name": "Python 3 (ipykernel)",
   "language": "python",
   "name": "python3"
  },
  "language_info": {
   "codemirror_mode": {
    "name": "ipython",
    "version": 3
   },
   "file_extension": ".py",
   "mimetype": "text/x-python",
   "name": "python",
   "nbconvert_exporter": "python",
   "pygments_lexer": "ipython3",
   "version": "3.8.12"
  }
 },
 "nbformat": 4,
 "nbformat_minor": 5
}