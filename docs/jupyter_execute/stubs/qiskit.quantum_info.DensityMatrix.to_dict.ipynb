{
 "cells": [
  {
   "cell_type": "code",
   "execution_count": 1,
   "id": "2478d50a",
   "metadata": {
    "execution": {
     "iopub.execute_input": "2022-02-23T17:46:31.454557Z",
     "iopub.status.busy": "2022-02-23T17:46:31.454053Z",
     "iopub.status.idle": "2022-02-23T17:46:31.921301Z",
     "shell.execute_reply": "2022-02-23T17:46:31.919979Z"
    }
   },
   "outputs": [
    {
     "name": "stdout",
     "output_type": "stream",
     "text": [
      "{'00|00': (0.4999999999999999+0j), '10|00': (-0.4999999999999999-0j), '00|10': (-0.4999999999999999+0j), '10|10': (0.4999999999999999+0j)}\n"
     ]
    }
   ],
   "source": [
    "from qiskit.quantum_info import DensityMatrix\n",
    "\n",
    "rho = DensityMatrix.from_label('-0')\n",
    "print(rho.to_dict())"
   ]
  },
  {
   "cell_type": "code",
   "execution_count": 2,
   "id": "44643ef1",
   "metadata": {
    "execution": {
     "iopub.execute_input": "2022-02-23T17:46:31.924327Z",
     "iopub.status.busy": "2022-02-23T17:46:31.924001Z",
     "iopub.status.idle": "2022-02-23T17:46:31.930250Z",
     "shell.execute_reply": "2022-02-23T17:46:31.929677Z"
    }
   },
   "outputs": [
    {
     "name": "stdout",
     "output_type": "stream",
     "text": [
      "{'00|00': (0.25+0j), '10|10': (0.25+0j), '20|20': (0.25+0j), '22|22': (0.25+0j)}\n"
     ]
    }
   ],
   "source": [
    "import numpy as np\n",
    "from qiskit.quantum_info import DensityMatrix\n",
    "\n",
    "mat = np.zeros((9, 9))\n",
    "mat[0, 0] = 0.25\n",
    "mat[3, 3] = 0.25\n",
    "mat[6, 6] = 0.25\n",
    "mat[-1, -1] = 0.25\n",
    "rho = DensityMatrix(mat, dims=(3, 3))\n",
    "print(rho.to_dict())"
   ]
  },
  {
   "cell_type": "code",
   "execution_count": 3,
   "id": "596a55e8",
   "metadata": {
    "execution": {
     "iopub.execute_input": "2022-02-23T17:46:31.932868Z",
     "iopub.status.busy": "2022-02-23T17:46:31.932577Z",
     "iopub.status.idle": "2022-02-23T17:46:31.937312Z",
     "shell.execute_reply": "2022-02-23T17:46:31.936710Z"
    }
   },
   "outputs": [
    {
     "name": "stdout",
     "output_type": "stream",
     "text": [
      "{'00|00': (0.5+0j), '91|91': (0.5+0j)}\n"
     ]
    }
   ],
   "source": [
    "import numpy as np\n",
    "from qiskit.quantum_info import DensityMatrix\n",
    "\n",
    "mat = np.zeros((2 * 10, 2 * 10))\n",
    "mat[0, 0] = 0.5\n",
    "mat[-1, -1] = 0.5\n",
    "rho = DensityMatrix(mat, dims=(2, 10))\n",
    "print(rho.to_dict())"
   ]
  }
 ],
 "metadata": {
  "kernelspec": {
   "display_name": "Python 3 (ipykernel)",
   "language": "python",
   "name": "python3"
  },
  "language_info": {
   "codemirror_mode": {
    "name": "ipython",
    "version": 3
   },
   "file_extension": ".py",
   "mimetype": "text/x-python",
   "name": "python",
   "nbconvert_exporter": "python",
   "pygments_lexer": "ipython3",
   "version": "3.8.12"
  }
 },
 "nbformat": 4,
 "nbformat_minor": 5
}