{
 "cells": [
  {
   "cell_type": "code",
   "execution_count": 1,
   "id": "4553ebdc",
   "metadata": {
    "execution": {
     "iopub.execute_input": "2022-04-26T22:48:45.707017Z",
     "iopub.status.busy": "2022-04-26T22:48:45.706559Z",
     "iopub.status.idle": "2022-04-26T22:48:46.006767Z",
     "shell.execute_reply": "2022-04-26T22:48:46.005104Z"
    }
   },
   "outputs": [
    {
     "name": "stdout",
     "output_type": "stream",
     "text": [
      "{'00|00': (0.4999999999999999+0j), '10|00': (-0.4999999999999999-0j), '00|10': (-0.4999999999999999+0j), '10|10': (0.4999999999999999+0j)}\n"
     ]
    }
   ],
   "source": [
    "from qiskit.quantum_info import DensityMatrix\n",
    "\n",
    "rho = DensityMatrix.from_label('-0')\n",
    "print(rho.to_dict())"
   ]
  },
  {
   "cell_type": "code",
   "execution_count": 2,
   "id": "a2e3141d",
   "metadata": {
    "execution": {
     "iopub.execute_input": "2022-04-26T22:48:46.010018Z",
     "iopub.status.busy": "2022-04-26T22:48:46.009671Z",
     "iopub.status.idle": "2022-04-26T22:48:46.016031Z",
     "shell.execute_reply": "2022-04-26T22:48:46.015356Z"
    }
   },
   "outputs": [
    {
     "name": "stdout",
     "output_type": "stream",
     "text": [
      "{'00|00': (0.25+0j), '10|10': (0.25+0j), '20|20': (0.25+0j), '22|22': (0.25+0j)}\n"
     ]
    }
   ],
   "source": [
    "import numpy as np\n",
    "from qiskit.quantum_info import DensityMatrix\n",
    "\n",
    "mat = np.zeros((9, 9))\n",
    "mat[0, 0] = 0.25\n",
    "mat[3, 3] = 0.25\n",
    "mat[6, 6] = 0.25\n",
    "mat[-1, -1] = 0.25\n",
    "rho = DensityMatrix(mat, dims=(3, 3))\n",
    "print(rho.to_dict())"
   ]
  },
  {
   "cell_type": "code",
   "execution_count": 3,
   "id": "ee29a53c",
   "metadata": {
    "execution": {
     "iopub.execute_input": "2022-04-26T22:48:46.018557Z",
     "iopub.status.busy": "2022-04-26T22:48:46.018288Z",
     "iopub.status.idle": "2022-04-26T22:48:46.023546Z",
     "shell.execute_reply": "2022-04-26T22:48:46.022928Z"
    }
   },
   "outputs": [
    {
     "name": "stdout",
     "output_type": "stream",
     "text": [
      "{'00|00': (0.5+0j), '91|91': (0.5+0j)}\n"
     ]
    }
   ],
   "source": [
    "import numpy as np\n",
    "from qiskit.quantum_info import DensityMatrix\n",
    "\n",
    "mat = np.zeros((2 * 10, 2 * 10))\n",
    "mat[0, 0] = 0.5\n",
    "mat[-1, -1] = 0.5\n",
    "rho = DensityMatrix(mat, dims=(2, 10))\n",
    "print(rho.to_dict())"
   ]
  }
 ],
 "metadata": {
  "kernelspec": {
   "display_name": "Python 3 (ipykernel)",
   "language": "python",
   "name": "python3"
  },
  "language_info": {
   "codemirror_mode": {
    "name": "ipython",
    "version": 3
   },
   "file_extension": ".py",
   "mimetype": "text/x-python",
   "name": "python",
   "nbconvert_exporter": "python",
   "pygments_lexer": "ipython3",
   "version": "3.8.12"
  }
 },
 "nbformat": 4,
 "nbformat_minor": 5
}