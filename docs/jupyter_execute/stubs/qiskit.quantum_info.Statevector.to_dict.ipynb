{
 "cells": [
  {
   "cell_type": "code",
   "execution_count": 1,
   "id": "f4073bd6",
   "metadata": {
    "execution": {
     "iopub.execute_input": "2022-03-07T18:59:18.883299Z",
     "iopub.status.busy": "2022-03-07T18:59:18.882967Z",
     "iopub.status.idle": "2022-03-07T18:59:19.335693Z",
     "shell.execute_reply": "2022-03-07T18:59:19.334527Z"
    }
   },
   "outputs": [
    {
     "name": "stdout",
     "output_type": "stream",
     "text": [
      "{'00': (0.7071067811865475+0j), '10': (-0.7071067811865475+0j)}\n"
     ]
    }
   ],
   "source": [
    "from qiskit.quantum_info import Statevector\n",
    "\n",
    "psi = Statevector.from_label('-0')\n",
    "print(psi.to_dict())"
   ]
  },
  {
   "cell_type": "code",
   "execution_count": 2,
   "id": "33e417e8",
   "metadata": {
    "execution": {
     "iopub.execute_input": "2022-03-07T18:59:19.338299Z",
     "iopub.status.busy": "2022-03-07T18:59:19.338138Z",
     "iopub.status.idle": "2022-03-07T18:59:19.343274Z",
     "shell.execute_reply": "2022-03-07T18:59:19.342768Z"
    }
   },
   "outputs": [
    {
     "name": "stdout",
     "output_type": "stream",
     "text": [
      "{'00': (0.7071067811865475+0j), '22': (0.7071067811865475+0j)}\n"
     ]
    }
   ],
   "source": [
    "import numpy as np\n",
    "from qiskit.quantum_info import Statevector\n",
    "\n",
    "vec = np.zeros(9)\n",
    "vec[0] = 1 / np.sqrt(2)\n",
    "vec[-1] = 1 / np.sqrt(2)\n",
    "psi = Statevector(vec, dims=(3, 3))\n",
    "print(psi.to_dict())"
   ]
  },
  {
   "cell_type": "code",
   "execution_count": 3,
   "id": "d5e234ff",
   "metadata": {
    "execution": {
     "iopub.execute_input": "2022-03-07T18:59:19.345872Z",
     "iopub.status.busy": "2022-03-07T18:59:19.345480Z",
     "iopub.status.idle": "2022-03-07T18:59:19.349679Z",
     "shell.execute_reply": "2022-03-07T18:59:19.349141Z"
    }
   },
   "outputs": [
    {
     "name": "stdout",
     "output_type": "stream",
     "text": [
      "{'00': (0.7071067811865475+0j), '91': (0.7071067811865475+0j)}\n"
     ]
    }
   ],
   "source": [
    "import numpy as np\n",
    "from qiskit.quantum_info import Statevector\n",
    "\n",
    "vec = np.zeros(2 * 10)\n",
    "vec[0] = 1 / np.sqrt(2)\n",
    "vec[-1] = 1 / np.sqrt(2)\n",
    "psi = Statevector(vec, dims=(2, 10))\n",
    "print(psi.to_dict())"
   ]
  }
 ],
 "metadata": {
  "kernelspec": {
   "display_name": "Python 3 (ipykernel)",
   "language": "python",
   "name": "python3"
  },
  "language_info": {
   "codemirror_mode": {
    "name": "ipython",
    "version": 3
   },
   "file_extension": ".py",
   "mimetype": "text/x-python",
   "name": "python",
   "nbconvert_exporter": "python",
   "pygments_lexer": "ipython3",
   "version": "3.8.12"
  }
 },
 "nbformat": 4,
 "nbformat_minor": 5
}