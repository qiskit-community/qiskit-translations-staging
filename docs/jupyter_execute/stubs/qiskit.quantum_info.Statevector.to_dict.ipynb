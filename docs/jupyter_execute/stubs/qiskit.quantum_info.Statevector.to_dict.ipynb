{
 "cells": [
  {
   "cell_type": "code",
   "execution_count": 1,
   "id": "84f78686",
   "metadata": {
    "execution": {
     "iopub.execute_input": "2022-05-06T16:38:21.233321Z",
     "iopub.status.busy": "2022-05-06T16:38:21.233080Z",
     "iopub.status.idle": "2022-05-06T16:38:21.549624Z",
     "shell.execute_reply": "2022-05-06T16:38:21.548874Z"
    }
   },
   "outputs": [
    {
     "name": "stdout",
     "output_type": "stream",
     "text": [
      "{'00': (0.7071067811865475+0j), '10': (-0.7071067811865475+0j)}\n"
     ]
    }
   ],
   "source": [
    "from qiskit.quantum_info import Statevector\n",
    "\n",
    "psi = Statevector.from_label('-0')\n",
    "print(psi.to_dict())"
   ]
  },
  {
   "cell_type": "code",
   "execution_count": 2,
   "id": "360758fe",
   "metadata": {
    "execution": {
     "iopub.execute_input": "2022-05-06T16:38:21.552527Z",
     "iopub.status.busy": "2022-05-06T16:38:21.552142Z",
     "iopub.status.idle": "2022-05-06T16:38:21.559206Z",
     "shell.execute_reply": "2022-05-06T16:38:21.558519Z"
    }
   },
   "outputs": [
    {
     "name": "stdout",
     "output_type": "stream",
     "text": [
      "{'00': (0.7071067811865475+0j), '22': (0.7071067811865475+0j)}\n"
     ]
    }
   ],
   "source": [
    "import numpy as np\n",
    "from qiskit.quantum_info import Statevector\n",
    "\n",
    "vec = np.zeros(9)\n",
    "vec[0] = 1 / np.sqrt(2)\n",
    "vec[-1] = 1 / np.sqrt(2)\n",
    "psi = Statevector(vec, dims=(3, 3))\n",
    "print(psi.to_dict())"
   ]
  },
  {
   "cell_type": "code",
   "execution_count": 3,
   "id": "d4d78953",
   "metadata": {
    "execution": {
     "iopub.execute_input": "2022-05-06T16:38:21.562134Z",
     "iopub.status.busy": "2022-05-06T16:38:21.561935Z",
     "iopub.status.idle": "2022-05-06T16:38:21.566850Z",
     "shell.execute_reply": "2022-05-06T16:38:21.566138Z"
    }
   },
   "outputs": [
    {
     "name": "stdout",
     "output_type": "stream",
     "text": [
      "{'00': (0.7071067811865475+0j), '91': (0.7071067811865475+0j)}\n"
     ]
    }
   ],
   "source": [
    "import numpy as np\n",
    "from qiskit.quantum_info import Statevector\n",
    "\n",
    "vec = np.zeros(2 * 10)\n",
    "vec[0] = 1 / np.sqrt(2)\n",
    "vec[-1] = 1 / np.sqrt(2)\n",
    "psi = Statevector(vec, dims=(2, 10))\n",
    "print(psi.to_dict())"
   ]
  }
 ],
 "metadata": {
  "kernelspec": {
   "display_name": "Python 3 (ipykernel)",
   "language": "python",
   "name": "python3"
  },
  "language_info": {
   "codemirror_mode": {
    "name": "ipython",
    "version": 3
   },
   "file_extension": ".py",
   "mimetype": "text/x-python",
   "name": "python",
   "nbconvert_exporter": "python",
   "pygments_lexer": "ipython3",
   "version": "3.8.12"
  }
 },
 "nbformat": 4,
 "nbformat_minor": 5
}