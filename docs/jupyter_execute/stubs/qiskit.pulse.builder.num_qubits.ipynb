{
 "cells": [
  {
   "cell_type": "code",
   "execution_count": 1,
   "id": "112a8b41",
   "metadata": {
    "execution": {
     "iopub.execute_input": "2022-06-07T17:14:39.601447Z",
     "iopub.status.busy": "2022-06-07T17:14:39.601154Z",
     "iopub.status.idle": "2022-06-07T17:14:40.117039Z",
     "shell.execute_reply": "2022-06-07T17:14:40.116410Z"
    }
   },
   "outputs": [
    {
     "name": "stdout",
     "output_type": "stream",
     "text": [
      "2\n"
     ]
    }
   ],
   "source": [
    "from qiskit import pulse\n",
    "from qiskit.test.mock import FakeOpenPulse2Q\n",
    "\n",
    "backend = FakeOpenPulse2Q()\n",
    "\n",
    "with pulse.build(backend):\n",
    "    print(pulse.num_qubits())"
   ]
  }
 ],
 "metadata": {
  "kernelspec": {
   "display_name": "Python 3 (ipykernel)",
   "language": "python",
   "name": "python3"
  },
  "language_info": {
   "codemirror_mode": {
    "name": "ipython",
    "version": 3
   },
   "file_extension": ".py",
   "mimetype": "text/x-python",
   "name": "python",
   "nbconvert_exporter": "python",
   "pygments_lexer": "ipython3",
   "version": "3.8.12"
  }
 },
 "nbformat": 4,
 "nbformat_minor": 5
}