{
 "cells": [
  {
   "cell_type": "code",
   "execution_count": 1,
   "id": "9d21e2ab",
   "metadata": {
    "execution": {
     "iopub.execute_input": "2022-03-10T14:23:50.264737Z",
     "iopub.status.busy": "2022-03-10T14:23:50.264491Z",
     "iopub.status.idle": "2022-03-10T14:23:50.833446Z",
     "shell.execute_reply": "2022-03-10T14:23:50.832937Z"
    }
   },
   "outputs": [
    {
     "data": {
      "text/html": [
       "<pre style=\"word-wrap: normal;white-space: pre;background: #fff0;line-height: 1.1;font-family: &quot;Courier New&quot;,Courier,monospace\">   ┌───┐┌───┐\n",
       "q: ┤ X ├┤ H ├\n",
       "   └───┘└───┘</pre>"
      ],
      "text/plain": [
       "   ┌───┐┌───┐\n",
       "q: ┤ X ├┤ H ├\n",
       "   └───┘└───┘"
      ]
     },
     "execution_count": 1,
     "metadata": {},
     "output_type": "execute_result"
    }
   ],
   "source": [
    "from qiskit import QuantumCircuit\n",
    "from qiskit.transpiler.passes import RemoveBarriers\n",
    "\n",
    "circuit = QuantumCircuit(1)\n",
    "circuit.x(0)\n",
    "circuit.barrier()\n",
    "circuit.h(0)\n",
    "\n",
    "circuit = RemoveBarriers()(circuit)\n",
    "circuit.draw()"
   ]
  }
 ],
 "metadata": {
  "kernelspec": {
   "display_name": "Python 3 (ipykernel)",
   "language": "python",
   "name": "python3"
  },
  "language_info": {
   "codemirror_mode": {
    "name": "ipython",
    "version": 3
   },
   "file_extension": ".py",
   "mimetype": "text/x-python",
   "name": "python",
   "nbconvert_exporter": "python",
   "pygments_lexer": "ipython3",
   "version": "3.8.12"
  }
 },
 "nbformat": 4,
 "nbformat_minor": 5
}