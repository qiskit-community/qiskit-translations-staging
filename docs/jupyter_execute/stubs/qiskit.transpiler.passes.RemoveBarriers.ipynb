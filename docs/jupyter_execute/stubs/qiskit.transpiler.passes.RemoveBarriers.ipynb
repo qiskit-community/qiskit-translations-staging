{
 "cells": [
  {
   "cell_type": "code",
   "execution_count": 1,
   "id": "00434394",
   "metadata": {
    "execution": {
     "iopub.execute_input": "2022-02-23T17:48:08.782913Z",
     "iopub.status.busy": "2022-02-23T17:48:08.782648Z",
     "iopub.status.idle": "2022-02-23T17:48:09.283725Z",
     "shell.execute_reply": "2022-02-23T17:48:09.283148Z"
    }
   },
   "outputs": [
    {
     "data": {
      "text/html": [
       "<pre style=\"word-wrap: normal;white-space: pre;background: #fff0;line-height: 1.1;font-family: &quot;Courier New&quot;,Courier,monospace\">   ┌───┐┌───┐\n",
       "q: ┤ X ├┤ H ├\n",
       "   └───┘└───┘</pre>"
      ],
      "text/plain": [
       "   ┌───┐┌───┐\n",
       "q: ┤ X ├┤ H ├\n",
       "   └───┘└───┘"
      ]
     },
     "execution_count": 1,
     "metadata": {},
     "output_type": "execute_result"
    }
   ],
   "source": [
    "from qiskit import QuantumCircuit\n",
    "from qiskit.transpiler.passes import RemoveBarriers\n",
    "\n",
    "circuit = QuantumCircuit(1)\n",
    "circuit.x(0)\n",
    "circuit.barrier()\n",
    "circuit.h(0)\n",
    "\n",
    "circuit = RemoveBarriers()(circuit)\n",
    "circuit.draw()"
   ]
  }
 ],
 "metadata": {
  "kernelspec": {
   "display_name": "Python 3 (ipykernel)",
   "language": "python",
   "name": "python3"
  },
  "language_info": {
   "codemirror_mode": {
    "name": "ipython",
    "version": 3
   },
   "file_extension": ".py",
   "mimetype": "text/x-python",
   "name": "python",
   "nbconvert_exporter": "python",
   "pygments_lexer": "ipython3",
   "version": "3.8.12"
  }
 },
 "nbformat": 4,
 "nbformat_minor": 5
}