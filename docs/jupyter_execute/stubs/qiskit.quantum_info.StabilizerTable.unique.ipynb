{
 "cells": [
  {
   "cell_type": "code",
   "execution_count": 1,
   "id": "c5cbdaa9",
   "metadata": {
    "execution": {
     "iopub.execute_input": "2022-07-01T18:06:08.967573Z",
     "iopub.status.busy": "2022-07-01T18:06:08.967314Z",
     "iopub.status.idle": "2022-07-01T18:06:09.260065Z",
     "shell.execute_reply": "2022-07-01T18:06:09.258751Z"
    }
   },
   "outputs": [
    {
     "name": "stdout",
     "output_type": "stream",
     "text": [
      "StabilizerTable: ['+X', '+I', '-I', '-X']\n"
     ]
    }
   ],
   "source": [
    "from qiskit.quantum_info.operators import StabilizerTable\n",
    "\n",
    "st = StabilizerTable.from_labels(['+X', '+I', '-I', '-X', '+X', '-X', '+I'])\n",
    "unique = st.unique()\n",
    "print(unique)"
   ]
  }
 ],
 "metadata": {
  "kernelspec": {
   "display_name": "Python 3 (ipykernel)",
   "language": "python",
   "name": "python3"
  },
  "language_info": {
   "codemirror_mode": {
    "name": "ipython",
    "version": 3
   },
   "file_extension": ".py",
   "mimetype": "text/x-python",
   "name": "python",
   "nbconvert_exporter": "python",
   "pygments_lexer": "ipython3",
   "version": "3.8.13"
  }
 },
 "nbformat": 4,
 "nbformat_minor": 5
}