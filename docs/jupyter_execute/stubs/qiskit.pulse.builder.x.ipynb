{
 "cells": [
  {
   "cell_type": "code",
   "execution_count": 1,
   "id": "8c2c6143",
   "metadata": {
    "execution": {
     "iopub.execute_input": "2022-03-09T16:22:38.772170Z",
     "iopub.status.busy": "2022-03-09T16:22:38.771980Z",
     "iopub.status.idle": "2022-03-09T16:22:39.944347Z",
     "shell.execute_reply": "2022-03-09T16:22:39.943746Z"
    }
   },
   "outputs": [],
   "source": [
    "from qiskit import pulse\n",
    "from qiskit.test.mock import FakeOpenPulse2Q\n",
    "\n",
    "backend = FakeOpenPulse2Q()\n",
    "\n",
    "with pulse.build(backend) as pulse_prog:\n",
    "    pulse.x(0)"
   ]
  }
 ],
 "metadata": {
  "kernelspec": {
   "display_name": "Python 3 (ipykernel)",
   "language": "python",
   "name": "python3"
  },
  "language_info": {
   "codemirror_mode": {
    "name": "ipython",
    "version": 3
   },
   "file_extension": ".py",
   "mimetype": "text/x-python",
   "name": "python",
   "nbconvert_exporter": "python",
   "pygments_lexer": "ipython3",
   "version": "3.8.12"
  }
 },
 "nbformat": 4,
 "nbformat_minor": 5
}