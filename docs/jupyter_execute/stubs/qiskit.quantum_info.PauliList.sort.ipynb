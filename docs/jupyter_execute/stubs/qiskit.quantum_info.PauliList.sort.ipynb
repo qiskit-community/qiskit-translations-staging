{
 "cells": [
  {
   "cell_type": "code",
   "execution_count": 1,
   "id": "eb726638",
   "metadata": {
    "execution": {
     "iopub.execute_input": "2022-07-12T17:01:09.014175Z",
     "iopub.status.busy": "2022-07-12T17:01:09.013895Z",
     "iopub.status.idle": "2022-07-12T17:01:09.332707Z",
     "shell.execute_reply": "2022-07-12T17:01:09.330200Z"
    }
   },
   "outputs": [
    {
     "name": "stdout",
     "output_type": "stream",
     "text": [
      "Initial Ordering\n",
      "['XY', 'XI', 'XX', 'YY', 'YI', 'YX', 'IX', 'ZZ', 'ZY', 'ZX', 'YZ', 'IY',\n",
      " 'IZ', 'ZI', 'XZ', 'II']\n",
      "Lexicographically sorted\n",
      "['II', 'IX', 'IY', 'IZ', 'XI', 'XX', 'XY', 'XZ', 'YI', 'YX', 'YY', 'YZ',\n",
      " 'ZI', 'ZX', 'ZY', 'ZZ']\n",
      "Weight sorted\n",
      "['II', 'IX', 'IY', 'IZ', 'XI', 'YI', 'ZI', 'XX', 'XY', 'XZ', 'YX', 'YY',\n",
      " 'YZ', 'ZX', 'ZY', 'ZZ']\n"
     ]
    }
   ],
   "source": [
    "from numpy.random import shuffle\n",
    "from qiskit.quantum_info.operators import PauliList\n",
    "\n",
    "# 2-qubit labels\n",
    "labels = ['II', 'IX', 'IY', 'IZ', 'XI', 'XX', 'XY', 'XZ',\n",
    "          'YI', 'YX', 'YY', 'YZ', 'ZI', 'ZX', 'ZY', 'ZZ']\n",
    "# Shuffle Labels\n",
    "shuffle(labels)\n",
    "pt = PauliList(labels)\n",
    "print('Initial Ordering')\n",
    "print(pt)\n",
    "\n",
    "# Lexicographic Ordering\n",
    "srt = pt.sort()\n",
    "print('Lexicographically sorted')\n",
    "print(srt)\n",
    "\n",
    "# Weight Ordering\n",
    "srt = pt.sort(weight=True)\n",
    "print('Weight sorted')\n",
    "print(srt)"
   ]
  }
 ],
 "metadata": {
  "kernelspec": {
   "display_name": "Python 3 (ipykernel)",
   "language": "python",
   "name": "python3"
  },
  "language_info": {
   "codemirror_mode": {
    "name": "ipython",
    "version": 3
   },
   "file_extension": ".py",
   "mimetype": "text/x-python",
   "name": "python",
   "nbconvert_exporter": "python",
   "pygments_lexer": "ipython3",
   "version": "3.8.13"
  }
 },
 "nbformat": 4,
 "nbformat_minor": 5
}