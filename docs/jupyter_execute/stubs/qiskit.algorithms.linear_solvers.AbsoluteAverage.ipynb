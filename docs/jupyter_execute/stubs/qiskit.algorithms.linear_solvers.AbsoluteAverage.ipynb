{
 "cells": [
  {
   "cell_type": "code",
   "execution_count": 1,
   "id": "fc9ed999",
   "metadata": {
    "execution": {
     "iopub.execute_input": "2022-04-01T17:53:08.289103Z",
     "iopub.status.busy": "2022-04-01T17:53:08.288832Z",
     "iopub.status.idle": "2022-04-01T17:53:08.999457Z",
     "shell.execute_reply": "2022-04-01T17:53:08.998755Z"
    }
   },
   "outputs": [],
   "source": [
    "import numpy as np\n",
    "from qiskit import QuantumCircuit\n",
    "from qiskit.algorithms.linear_solvers.observables.absolute_average import \\\n",
    "AbsoluteAverage\n",
    "from qiskit.opflow import StateFn\n",
    "\n",
    "observable = AbsoluteAverage()\n",
    "vector = [1.0, -2.1, 3.2, -4.3]\n",
    "\n",
    "init_state = vector / np.linalg.norm(vector)\n",
    "num_qubits = int(np.log2(len(vector)))\n",
    "\n",
    "qc = QuantumCircuit(num_qubits)\n",
    "qc.isometry(init_state, list(range(num_qubits)), None)\n",
    "qc.append(observable.observable_circuit(num_qubits), list(range(num_qubits)))\n",
    "\n",
    "# Observable operator\n",
    "observable_op = observable.observable(num_qubits)\n",
    "state_vec = (~StateFn(observable_op) @ StateFn(qc)).eval()\n",
    "\n",
    "# Obtain result\n",
    "result = observable.post_processing(state_vec, num_qubits)\n",
    "\n",
    "# Obtain analytical evaluation\n",
    "exact = observable.evaluate_classically(init_state)"
   ]
  }
 ],
 "metadata": {
  "kernelspec": {
   "display_name": "Python 3 (ipykernel)",
   "language": "python",
   "name": "python3"
  },
  "language_info": {
   "codemirror_mode": {
    "name": "ipython",
    "version": 3
   },
   "file_extension": ".py",
   "mimetype": "text/x-python",
   "name": "python",
   "nbconvert_exporter": "python",
   "pygments_lexer": "ipython3",
   "version": "3.8.12"
  }
 },
 "nbformat": 4,
 "nbformat_minor": 5
}