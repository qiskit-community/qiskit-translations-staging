{
 "cells": [
  {
   "cell_type": "code",
   "execution_count": 1,
   "id": "556b9f7d",
   "metadata": {
    "execution": {
     "iopub.execute_input": "2022-07-01T18:04:24.754189Z",
     "iopub.status.busy": "2022-07-01T18:04:24.753927Z",
     "iopub.status.idle": "2022-07-01T18:04:25.232216Z",
     "shell.execute_reply": "2022-07-01T18:04:25.231632Z"
    }
   },
   "outputs": [],
   "source": [
    "from qiskit import pulse\n",
    "from qiskit.providers.fake_provider import FakeOpenPulse2Q\n",
    "\n",
    "backend = FakeOpenPulse2Q()\n",
    "\n",
    "with pulse.build(backend) as pulse_prog:\n",
    "    # Measure all qubits and return associated registers.\n",
    "    regs = pulse.measure_all()"
   ]
  }
 ],
 "metadata": {
  "kernelspec": {
   "display_name": "Python 3 (ipykernel)",
   "language": "python",
   "name": "python3"
  },
  "language_info": {
   "codemirror_mode": {
    "name": "ipython",
    "version": 3
   },
   "file_extension": ".py",
   "mimetype": "text/x-python",
   "name": "python",
   "nbconvert_exporter": "python",
   "pygments_lexer": "ipython3",
   "version": "3.8.13"
  }
 },
 "nbformat": 4,
 "nbformat_minor": 5
}