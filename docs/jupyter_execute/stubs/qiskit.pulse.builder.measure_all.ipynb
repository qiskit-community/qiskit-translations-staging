{
 "cells": [
  {
   "cell_type": "code",
   "execution_count": 1,
   "id": "7b7bfdca",
   "metadata": {
    "execution": {
     "iopub.execute_input": "2022-03-18T14:14:10.948926Z",
     "iopub.status.busy": "2022-03-18T14:14:10.948633Z",
     "iopub.status.idle": "2022-03-18T14:14:11.534672Z",
     "shell.execute_reply": "2022-03-18T14:14:11.533480Z"
    }
   },
   "outputs": [],
   "source": [
    "from qiskit import pulse\n",
    "from qiskit.test.mock import FakeOpenPulse2Q\n",
    "\n",
    "backend = FakeOpenPulse2Q()\n",
    "\n",
    "with pulse.build(backend) as pulse_prog:\n",
    "    # Measure all qubits and return associated registers.\n",
    "    regs = pulse.measure_all()"
   ]
  }
 ],
 "metadata": {
  "kernelspec": {
   "display_name": "Python 3 (ipykernel)",
   "language": "python",
   "name": "python3"
  },
  "language_info": {
   "codemirror_mode": {
    "name": "ipython",
    "version": 3
   },
   "file_extension": ".py",
   "mimetype": "text/x-python",
   "name": "python",
   "nbconvert_exporter": "python",
   "pygments_lexer": "ipython3",
   "version": "3.8.12"
  }
 },
 "nbformat": 4,
 "nbformat_minor": 5
}