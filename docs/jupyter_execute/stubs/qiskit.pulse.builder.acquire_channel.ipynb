{
 "cells": [
  {
   "cell_type": "code",
   "execution_count": 1,
   "id": "1187b79d",
   "metadata": {
    "execution": {
     "iopub.execute_input": "2022-02-01T16:37:53.869689Z",
     "iopub.status.busy": "2022-02-01T16:37:53.869260Z",
     "iopub.status.idle": "2022-02-01T16:37:54.340771Z",
     "shell.execute_reply": "2022-02-01T16:37:54.340165Z"
    }
   },
   "outputs": [],
   "source": [
    "from qiskit import pulse\n",
    "from qiskit.test.mock import FakeOpenPulse2Q\n",
    "\n",
    "backend = FakeOpenPulse2Q()\n",
    "\n",
    "with pulse.build(backend):\n",
    "    assert pulse.acquire_channel(0) == pulse.AcquireChannel(0)"
   ]
  }
 ],
 "metadata": {
  "kernelspec": {
   "display_name": "Python 3 (ipykernel)",
   "language": "python",
   "name": "python3"
  },
  "language_info": {
   "codemirror_mode": {
    "name": "ipython",
    "version": 3
   },
   "file_extension": ".py",
   "mimetype": "text/x-python",
   "name": "python",
   "nbconvert_exporter": "python",
   "pygments_lexer": "ipython3",
   "version": "3.8.12"
  }
 },
 "nbformat": 4,
 "nbformat_minor": 5
}