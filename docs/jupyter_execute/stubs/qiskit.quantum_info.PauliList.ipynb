{
 "cells": [
  {
   "cell_type": "code",
   "execution_count": 1,
   "id": "343ec81a",
   "metadata": {
    "execution": {
     "iopub.execute_input": "2022-03-09T16:23:12.268265Z",
     "iopub.status.busy": "2022-03-09T16:23:12.268059Z",
     "iopub.status.idle": "2022-03-09T16:23:12.741978Z",
     "shell.execute_reply": "2022-03-09T16:23:12.740638Z"
    }
   },
   "outputs": [
    {
     "name": "stdout",
     "output_type": "stream",
     "text": [
      "1.  ['II', 'ZI', '-iYY']\n",
      "2.  ['iXI']\n",
      "3.  ['iXI', 'iZZ']\n",
      "4.  ['YZ', '-iIX']\n"
     ]
    }
   ],
   "source": [
    "import numpy as np\n",
    "\n",
    "from qiskit.quantum_info import Pauli, PauliList\n",
    "\n",
    "# 1. init from list[str]\n",
    "pauli_list = PauliList([\"II\", \"+ZI\", \"-iYY\"])\n",
    "print(\"1. \", pauli_list)\n",
    "\n",
    "pauli1 = Pauli(\"iXI\")\n",
    "pauli2 = Pauli(\"iZZ\")\n",
    "\n",
    "# 2. init from Pauli\n",
    "print(\"2. \", PauliList(pauli1))\n",
    "\n",
    "# 3. init from list[Pauli]\n",
    "print(\"3. \", PauliList([pauli1, pauli2]))\n",
    "\n",
    "# 4. init from np.ndarray\n",
    "z = np.array([[True, True], [False, False]])\n",
    "x = np.array([[False, True], [True, False]])\n",
    "phase = np.array([0, 1])\n",
    "pauli_list = PauliList.from_symplectic(z, x, phase)\n",
    "print(\"4. \", pauli_list)"
   ]
  },
  {
   "cell_type": "code",
   "execution_count": 2,
   "id": "c70ac9ba",
   "metadata": {
    "execution": {
     "iopub.execute_input": "2022-03-09T16:23:12.745020Z",
     "iopub.status.busy": "2022-03-09T16:23:12.744697Z",
     "iopub.status.idle": "2022-03-09T16:23:12.750912Z",
     "shell.execute_reply": "2022-03-09T16:23:12.750428Z"
    }
   },
   "outputs": [
    {
     "name": "stdout",
     "output_type": "stream",
     "text": [
      "Integer:  Pauli('ZZ')\n",
      "List:  PauliList(['XX', 'IZ'])\n",
      "Slice:  PauliList(['XX', 'ZZ'])\n"
     ]
    }
   ],
   "source": [
    "pauli_list = PauliList([\"XX\", \"ZZ\", \"IZ\"])\n",
    "print(\"Integer: \", repr(pauli_list[1]))\n",
    "print(\"List: \", repr(pauli_list[[0, 2]]))\n",
    "print(\"Slice: \", repr(pauli_list[0:2]))"
   ]
  }
 ],
 "metadata": {
  "kernelspec": {
   "display_name": "Python 3 (ipykernel)",
   "language": "python",
   "name": "python3"
  },
  "language_info": {
   "codemirror_mode": {
    "name": "ipython",
    "version": 3
   },
   "file_extension": ".py",
   "mimetype": "text/x-python",
   "name": "python",
   "nbconvert_exporter": "python",
   "pygments_lexer": "ipython3",
   "version": "3.8.12"
  }
 },
 "nbformat": 4,
 "nbformat_minor": 5
}