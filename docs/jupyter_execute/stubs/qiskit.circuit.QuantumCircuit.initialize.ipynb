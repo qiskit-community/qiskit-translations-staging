{
 "cells": [
  {
   "cell_type": "code",
   "execution_count": 1,
   "id": "3e0276fe",
   "metadata": {
    "execution": {
     "iopub.execute_input": "2022-05-20T19:57:38.403819Z",
     "iopub.status.busy": "2022-05-20T19:57:38.403491Z",
     "iopub.status.idle": "2022-05-20T19:57:38.673061Z",
     "shell.execute_reply": "2022-05-20T19:57:38.672324Z"
    }
   },
   "outputs": [
    {
     "data": {
      "text/html": [
       "<pre style=\"word-wrap: normal;white-space: pre;background: #fff0;line-height: 1.1;font-family: &quot;Courier New&quot;,Courier,monospace\">   ┌──────────────────────────────┐\n",
       "q: ┤ Initialize(0.70711,-0.70711) ├\n",
       "   └──────────────────────────────┘</pre>"
      ],
      "text/plain": [
       "   ┌──────────────────────────────┐\n",
       "q: ┤ Initialize(0.70711,-0.70711) ├\n",
       "   └──────────────────────────────┘"
      ]
     },
     "execution_count": 1,
     "metadata": {},
     "output_type": "execute_result"
    }
   ],
   "source": [
    "import numpy as np\n",
    "from qiskit import QuantumCircuit\n",
    "\n",
    "circuit = QuantumCircuit(1)\n",
    "circuit.initialize([1/np.sqrt(2), -1/np.sqrt(2)], 0)\n",
    "circuit.draw()"
   ]
  },
  {
   "cell_type": "code",
   "execution_count": 2,
   "id": "b22f8307",
   "metadata": {
    "execution": {
     "iopub.execute_input": "2022-05-20T19:57:38.676774Z",
     "iopub.status.busy": "2022-05-20T19:57:38.676206Z",
     "iopub.status.idle": "2022-05-20T19:57:38.682516Z",
     "shell.execute_reply": "2022-05-20T19:57:38.681819Z"
    }
   },
   "outputs": [
    {
     "data": {
      "text/html": [
       "<pre style=\"word-wrap: normal;white-space: pre;background: #fff0;line-height: 1.1;font-family: &quot;Courier New&quot;,Courier,monospace\">     ┌──────────────────┐\n",
       "q_0: ┤0                 ├\n",
       "     │  Initialize(0,1) │\n",
       "q_1: ┤1                 ├\n",
       "     └──────────────────┘</pre>"
      ],
      "text/plain": [
       "     ┌──────────────────┐\n",
       "q_0: ┤0                 ├\n",
       "     │  Initialize(0,1) │\n",
       "q_1: ┤1                 ├\n",
       "     └──────────────────┘"
      ]
     },
     "execution_count": 2,
     "metadata": {},
     "output_type": "execute_result"
    }
   ],
   "source": [
    "import numpy as np\n",
    "from qiskit import QuantumCircuit\n",
    "\n",
    "circuit = QuantumCircuit(2)\n",
    "circuit.initialize('01', circuit.qubits)\n",
    "circuit.draw()"
   ]
  }
 ],
 "metadata": {
  "kernelspec": {
   "display_name": "Python 3 (ipykernel)",
   "language": "python",
   "name": "python3"
  },
  "language_info": {
   "codemirror_mode": {
    "name": "ipython",
    "version": 3
   },
   "file_extension": ".py",
   "mimetype": "text/x-python",
   "name": "python",
   "nbconvert_exporter": "python",
   "pygments_lexer": "ipython3",
   "version": "3.8.12"
  }
 },
 "nbformat": 4,
 "nbformat_minor": 5
}