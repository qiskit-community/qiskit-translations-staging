{
 "cells": [
  {
   "cell_type": "code",
   "execution_count": 1,
   "id": "a0c5db41",
   "metadata": {
    "execution": {
     "iopub.execute_input": "2022-03-05T03:26:00.611633Z",
     "iopub.status.busy": "2022-03-05T03:26:00.611366Z",
     "iopub.status.idle": "2022-03-05T03:26:01.077838Z",
     "shell.execute_reply": "2022-03-05T03:26:01.076449Z"
    }
   },
   "outputs": [
    {
     "name": "stdout",
     "output_type": "stream",
     "text": [
      "PauliTable: ['IY', 'IZ', 'XY', 'XZ']\n"
     ]
    }
   ],
   "source": [
    "from qiskit.quantum_info.operators import PauliTable\n",
    "\n",
    "current = PauliTable.from_labels(['I', 'X'])\n",
    "other =  PauliTable.from_labels(['Y', 'Z'])\n",
    "print(current.tensor(other))"
   ]
  }
 ],
 "metadata": {
  "kernelspec": {
   "display_name": "Python 3 (ipykernel)",
   "language": "python",
   "name": "python3"
  },
  "language_info": {
   "codemirror_mode": {
    "name": "ipython",
    "version": 3
   },
   "file_extension": ".py",
   "mimetype": "text/x-python",
   "name": "python",
   "nbconvert_exporter": "python",
   "pygments_lexer": "ipython3",
   "version": "3.8.12"
  }
 },
 "nbformat": 4,
 "nbformat_minor": 5
}