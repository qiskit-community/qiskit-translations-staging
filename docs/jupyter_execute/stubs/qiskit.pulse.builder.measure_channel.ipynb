{
 "cells": [
  {
   "cell_type": "code",
   "execution_count": 1,
   "id": "aae12530",
   "metadata": {
    "execution": {
     "iopub.execute_input": "2022-03-07T18:57:46.695480Z",
     "iopub.status.busy": "2022-03-07T18:57:46.695284Z",
     "iopub.status.idle": "2022-03-07T18:57:47.231284Z",
     "shell.execute_reply": "2022-03-07T18:57:47.230799Z"
    }
   },
   "outputs": [],
   "source": [
    "from qiskit import pulse\n",
    "from qiskit.test.mock import FakeOpenPulse2Q\n",
    "\n",
    "backend = FakeOpenPulse2Q()\n",
    "\n",
    "with pulse.build(backend):\n",
    "    assert pulse.measure_channel(0) == pulse.MeasureChannel(0)"
   ]
  }
 ],
 "metadata": {
  "kernelspec": {
   "display_name": "Python 3 (ipykernel)",
   "language": "python",
   "name": "python3"
  },
  "language_info": {
   "codemirror_mode": {
    "name": "ipython",
    "version": 3
   },
   "file_extension": ".py",
   "mimetype": "text/x-python",
   "name": "python",
   "nbconvert_exporter": "python",
   "pygments_lexer": "ipython3",
   "version": "3.8.12"
  }
 },
 "nbformat": 4,
 "nbformat_minor": 5
}