{
 "cells": [
  {
   "cell_type": "code",
   "execution_count": 1,
   "id": "7021201f",
   "metadata": {
    "execution": {
     "iopub.execute_input": "2022-07-13T20:05:42.611658Z",
     "iopub.status.busy": "2022-07-13T20:05:42.611091Z",
     "iopub.status.idle": "2022-07-13T20:05:43.702351Z",
     "shell.execute_reply": "2022-07-13T20:05:43.701393Z"
    }
   },
   "outputs": [],
   "source": [
    "from qiskit import execute, pulse\n",
    "from qiskit.providers.fake_provider import FakeOpenPulse2Q\n",
    "\n",
    "backend = FakeOpenPulse2Q()\n",
    "\n",
    "d0 = pulse.DriveChannel(0)\n",
    "\n",
    "with pulse.build() as pulse_prog:\n",
    "    pulse.play(pulse.Constant(100, 0.5), d0)"
   ]
  }
 ],
 "metadata": {
  "kernelspec": {
   "display_name": "Python 3 (ipykernel)",
   "language": "python",
   "name": "python3"
  },
  "language_info": {
   "codemirror_mode": {
    "name": "ipython",
    "version": 3
   },
   "file_extension": ".py",
   "mimetype": "text/x-python",
   "name": "python",
   "nbconvert_exporter": "python",
   "pygments_lexer": "ipython3",
   "version": "3.8.13"
  }
 },
 "nbformat": 4,
 "nbformat_minor": 5
}