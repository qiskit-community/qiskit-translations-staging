{
 "cells": [
  {
   "cell_type": "code",
   "execution_count": 1,
   "id": "0e0a88a2",
   "metadata": {
    "execution": {
     "iopub.execute_input": "2022-07-13T20:06:36.173034Z",
     "iopub.status.busy": "2022-07-13T20:06:36.172425Z",
     "iopub.status.idle": "2022-07-13T20:06:36.812890Z",
     "shell.execute_reply": "2022-07-13T20:06:36.811946Z"
    }
   },
   "outputs": [],
   "source": [
    "import math\n",
    "\n",
    "from qiskit import pulse\n",
    "from qiskit.providers.fake_provider import FakeOpenPulse2Q\n",
    "\n",
    "backend = FakeOpenPulse2Q()\n",
    "\n",
    "with pulse.build(backend) as pulse_prog:\n",
    "    pulse.u2(0, math.pi, 1)"
   ]
  }
 ],
 "metadata": {
  "kernelspec": {
   "display_name": "Python 3 (ipykernel)",
   "language": "python",
   "name": "python3"
  },
  "language_info": {
   "codemirror_mode": {
    "name": "ipython",
    "version": 3
   },
   "file_extension": ".py",
   "mimetype": "text/x-python",
   "name": "python",
   "nbconvert_exporter": "python",
   "pygments_lexer": "ipython3",
   "version": "3.8.13"
  }
 },
 "nbformat": 4,
 "nbformat_minor": 5
}