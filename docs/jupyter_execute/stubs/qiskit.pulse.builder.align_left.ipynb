{
 "cells": [
  {
   "cell_type": "code",
   "execution_count": 1,
   "id": "09923e5e",
   "metadata": {
    "execution": {
     "iopub.execute_input": "2022-04-26T22:47:25.248398Z",
     "iopub.status.busy": "2022-04-26T22:47:25.247953Z",
     "iopub.status.idle": "2022-04-26T22:47:25.564921Z",
     "shell.execute_reply": "2022-04-26T22:47:25.564044Z"
    }
   },
   "outputs": [],
   "source": [
    "from qiskit import pulse\n",
    "\n",
    "d0 = pulse.DriveChannel(0)\n",
    "d1 = pulse.DriveChannel(1)\n",
    "\n",
    "with pulse.build() as pulse_prog:\n",
    "    with pulse.align_left():\n",
    "        # this pulse will start at t=0\n",
    "        pulse.play(pulse.Constant(100, 1.0), d0)\n",
    "        # this pulse will start at t=0\n",
    "        pulse.play(pulse.Constant(20, 1.0), d1)\n",
    "pulse_prog = pulse.transforms.block_to_schedule(pulse_prog)\n",
    "\n",
    "assert pulse_prog.ch_start_time(d0) == pulse_prog.ch_start_time(d1)"
   ]
  }
 ],
 "metadata": {
  "kernelspec": {
   "display_name": "Python 3 (ipykernel)",
   "language": "python",
   "name": "python3"
  },
  "language_info": {
   "codemirror_mode": {
    "name": "ipython",
    "version": 3
   },
   "file_extension": ".py",
   "mimetype": "text/x-python",
   "name": "python",
   "nbconvert_exporter": "python",
   "pygments_lexer": "ipython3",
   "version": "3.8.12"
  }
 },
 "nbformat": 4,
 "nbformat_minor": 5
}