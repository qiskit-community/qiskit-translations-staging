{
 "cells": [
  {
   "cell_type": "code",
   "execution_count": 1,
   "id": "5dbbbc1d",
   "metadata": {
    "execution": {
     "iopub.execute_input": "2022-03-09T16:23:31.160574Z",
     "iopub.status.busy": "2022-03-09T16:23:31.160335Z",
     "iopub.status.idle": "2022-03-09T16:23:31.638467Z",
     "shell.execute_reply": "2022-03-09T16:23:31.637051Z"
    }
   },
   "outputs": [
    {
     "name": "stdout",
     "output_type": "stream",
     "text": [
      "PauliTable: ['X', 'Y', 'I', 'Z']\n"
     ]
    }
   ],
   "source": [
    "from qiskit.quantum_info.operators import PauliTable\n",
    "\n",
    "pt = PauliTable.from_labels(['X', 'Y', 'X', 'I', 'I', 'Z', 'X', 'Z'])\n",
    "unique = pt.unique()\n",
    "print(unique)"
   ]
  }
 ],
 "metadata": {
  "kernelspec": {
   "display_name": "Python 3 (ipykernel)",
   "language": "python",
   "name": "python3"
  },
  "language_info": {
   "codemirror_mode": {
    "name": "ipython",
    "version": 3
   },
   "file_extension": ".py",
   "mimetype": "text/x-python",
   "name": "python",
   "nbconvert_exporter": "python",
   "pygments_lexer": "ipython3",
   "version": "3.8.12"
  }
 },
 "nbformat": 4,
 "nbformat_minor": 5
}