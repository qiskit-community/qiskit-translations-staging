{
 "cells": [
  {
   "cell_type": "code",
   "execution_count": 1,
   "id": "2d81decc",
   "metadata": {
    "execution": {
     "iopub.execute_input": "2022-03-10T14:21:06.831527Z",
     "iopub.status.busy": "2022-03-10T14:21:06.831123Z",
     "iopub.status.idle": "2022-03-10T14:21:07.522746Z",
     "shell.execute_reply": "2022-03-10T14:21:07.522022Z"
    }
   },
   "outputs": [],
   "source": [
    "from qiskit import pulse\n",
    "from qiskit.test.mock import FakeOpenPulse2Q\n",
    "\n",
    "backend = FakeOpenPulse2Q()\n",
    "\n",
    "with pulse.build(backend):\n",
    "    assert pulse.drive_channel(0) == pulse.DriveChannel(0)"
   ]
  }
 ],
 "metadata": {
  "kernelspec": {
   "display_name": "Python 3 (ipykernel)",
   "language": "python",
   "name": "python3"
  },
  "language_info": {
   "codemirror_mode": {
    "name": "ipython",
    "version": 3
   },
   "file_extension": ".py",
   "mimetype": "text/x-python",
   "name": "python",
   "nbconvert_exporter": "python",
   "pygments_lexer": "ipython3",
   "version": "3.8.12"
  }
 },
 "nbformat": 4,
 "nbformat_minor": 5
}