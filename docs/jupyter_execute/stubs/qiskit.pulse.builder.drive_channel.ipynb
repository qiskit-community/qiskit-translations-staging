{
 "cells": [
  {
   "cell_type": "code",
   "execution_count": 1,
   "id": "0d739d31",
   "metadata": {
    "execution": {
     "iopub.execute_input": "2022-07-12T16:59:42.689076Z",
     "iopub.status.busy": "2022-07-12T16:59:42.688789Z",
     "iopub.status.idle": "2022-07-12T16:59:43.198321Z",
     "shell.execute_reply": "2022-07-12T16:59:43.197662Z"
    }
   },
   "outputs": [],
   "source": [
    "from qiskit import pulse\n",
    "from qiskit.providers.fake_provider import FakeOpenPulse2Q\n",
    "\n",
    "backend = FakeOpenPulse2Q()\n",
    "\n",
    "with pulse.build(backend):\n",
    "    assert pulse.drive_channel(0) == pulse.DriveChannel(0)"
   ]
  }
 ],
 "metadata": {
  "kernelspec": {
   "display_name": "Python 3 (ipykernel)",
   "language": "python",
   "name": "python3"
  },
  "language_info": {
   "codemirror_mode": {
    "name": "ipython",
    "version": 3
   },
   "file_extension": ".py",
   "mimetype": "text/x-python",
   "name": "python",
   "nbconvert_exporter": "python",
   "pygments_lexer": "ipython3",
   "version": "3.8.13"
  }
 },
 "nbformat": 4,
 "nbformat_minor": 5
}