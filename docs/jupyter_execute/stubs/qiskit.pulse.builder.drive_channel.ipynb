{
 "cells": [
  {
   "cell_type": "code",
   "execution_count": 1,
   "id": "82027665",
   "metadata": {
    "execution": {
     "iopub.execute_input": "2022-02-03T13:52:11.855171Z",
     "iopub.status.busy": "2022-02-03T13:52:11.854265Z",
     "iopub.status.idle": "2022-02-03T13:52:12.504769Z",
     "shell.execute_reply": "2022-02-03T13:52:12.503709Z"
    }
   },
   "outputs": [],
   "source": [
    "from qiskit import pulse\n",
    "from qiskit.test.mock import FakeOpenPulse2Q\n",
    "\n",
    "backend = FakeOpenPulse2Q()\n",
    "\n",
    "with pulse.build(backend):\n",
    "    assert pulse.drive_channel(0) == pulse.DriveChannel(0)"
   ]
  }
 ],
 "metadata": {
  "kernelspec": {
   "display_name": "Python 3 (ipykernel)",
   "language": "python",
   "name": "python3"
  },
  "language_info": {
   "codemirror_mode": {
    "name": "ipython",
    "version": 3
   },
   "file_extension": ".py",
   "mimetype": "text/x-python",
   "name": "python",
   "nbconvert_exporter": "python",
   "pygments_lexer": "ipython3",
   "version": "3.8.12"
  }
 },
 "nbformat": 4,
 "nbformat_minor": 5
}