{
 "cells": [
  {
   "cell_type": "code",
   "execution_count": 1,
   "id": "b23e81eb",
   "metadata": {
    "execution": {
     "iopub.execute_input": "2022-06-07T17:14:31.179560Z",
     "iopub.status.busy": "2022-06-07T17:14:31.179241Z",
     "iopub.status.idle": "2022-06-07T17:14:31.723942Z",
     "shell.execute_reply": "2022-06-07T17:14:31.723197Z"
    }
   },
   "outputs": [],
   "source": [
    "from qiskit import pulse\n",
    "from qiskit.test.mock import FakeOpenPulse2Q\n",
    "\n",
    "backend = FakeOpenPulse2Q()\n",
    "\n",
    "with pulse.build(backend):\n",
    "    assert pulse.drive_channel(0) == pulse.DriveChannel(0)"
   ]
  }
 ],
 "metadata": {
  "kernelspec": {
   "display_name": "Python 3 (ipykernel)",
   "language": "python",
   "name": "python3"
  },
  "language_info": {
   "codemirror_mode": {
    "name": "ipython",
    "version": 3
   },
   "file_extension": ".py",
   "mimetype": "text/x-python",
   "name": "python",
   "nbconvert_exporter": "python",
   "pygments_lexer": "ipython3",
   "version": "3.8.12"
  }
 },
 "nbformat": 4,
 "nbformat_minor": 5
}