{
 "cells": [
  {
   "cell_type": "code",
   "execution_count": 1,
   "id": "e57495d7",
   "metadata": {
    "execution": {
     "iopub.execute_input": "2022-03-07T18:57:25.659487Z",
     "iopub.status.busy": "2022-03-07T18:57:25.659079Z",
     "iopub.status.idle": "2022-03-07T18:57:26.198142Z",
     "shell.execute_reply": "2022-03-07T18:57:26.197618Z"
    }
   },
   "outputs": [],
   "source": [
    "from qiskit import pulse\n",
    "from qiskit.test.mock import FakeOpenPulse2Q\n",
    "\n",
    "backend = FakeOpenPulse2Q()\n",
    "\n",
    "d0 = pulse.DriveChannel(0)\n",
    "d1 = pulse.DriveChannel(1)\n",
    "\n",
    "with pulse.build(backend) as barrier_pulse_prog:\n",
    "    pulse.play(pulse.Constant(10, 1.0), d0)\n",
    "    pulse.barrier(d0, d1)\n",
    "    pulse.play(pulse.Constant(10, 1.0), d1)"
   ]
  },
  {
   "cell_type": "code",
   "execution_count": 2,
   "id": "df8f22ca",
   "metadata": {
    "execution": {
     "iopub.execute_input": "2022-03-07T18:57:26.201762Z",
     "iopub.status.busy": "2022-03-07T18:57:26.201327Z",
     "iopub.status.idle": "2022-03-07T18:57:26.208388Z",
     "shell.execute_reply": "2022-03-07T18:57:26.207602Z"
    }
   },
   "outputs": [],
   "source": [
    "from qiskit.pulse import transforms\n",
    "\n",
    "with pulse.build(backend) as aligned_pulse_prog:\n",
    "    with pulse.align_sequential():\n",
    "        pulse.play(pulse.Constant(10, 1.0), d0)\n",
    "        pulse.play(pulse.Constant(10, 1.0), d1)\n",
    "\n",
    "barrier_pulse_prog = transforms.target_qobj_transform(barrier_pulse_prog)\n",
    "aligned_pulse_prog = transforms.target_qobj_transform(aligned_pulse_prog)\n",
    "\n",
    "assert barrier_pulse_prog == aligned_pulse_prog"
   ]
  },
  {
   "cell_type": "code",
   "execution_count": 3,
   "id": "15d676f8",
   "metadata": {
    "execution": {
     "iopub.execute_input": "2022-03-07T18:57:26.210853Z",
     "iopub.status.busy": "2022-03-07T18:57:26.210436Z",
     "iopub.status.idle": "2022-03-07T18:57:26.792741Z",
     "shell.execute_reply": "2022-03-07T18:57:26.792254Z"
    }
   },
   "outputs": [],
   "source": [
    "import math\n",
    "\n",
    "d0 = pulse.DriveChannel(0)\n",
    "\n",
    "with pulse.build(backend) as pulse_prog:\n",
    "    with pulse.align_right():\n",
    "        pulse.x(1)\n",
    "        # Barrier qubit 1 and d0.\n",
    "        pulse.barrier(1, d0)\n",
    "        # Due to barrier this will play before the gate on qubit 1.\n",
    "        pulse.play(pulse.Constant(10, 1.0), d0)\n",
    "        # This will end at the same time as the pulse above due to\n",
    "        # the barrier.\n",
    "        pulse.x(1)"
   ]
  }
 ],
 "metadata": {
  "kernelspec": {
   "display_name": "Python 3 (ipykernel)",
   "language": "python",
   "name": "python3"
  },
  "language_info": {
   "codemirror_mode": {
    "name": "ipython",
    "version": 3
   },
   "file_extension": ".py",
   "mimetype": "text/x-python",
   "name": "python",
   "nbconvert_exporter": "python",
   "pygments_lexer": "ipython3",
   "version": "3.8.12"
  }
 },
 "nbformat": 4,
 "nbformat_minor": 5
}