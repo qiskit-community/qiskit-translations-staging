{
 "cells": [
  {
   "cell_type": "code",
   "execution_count": 1,
   "id": "4efe990d",
   "metadata": {
    "execution": {
     "iopub.execute_input": "2022-06-01T23:22:53.321012Z",
     "iopub.status.busy": "2022-06-01T23:22:53.320253Z",
     "iopub.status.idle": "2022-06-01T23:22:53.871741Z",
     "shell.execute_reply": "2022-06-01T23:22:53.871020Z"
    }
   },
   "outputs": [],
   "source": [
    "from qiskit import pulse\n",
    "from qiskit.test.mock import FakeOpenPulse2Q\n",
    "\n",
    "backend = FakeOpenPulse2Q()\n",
    "\n",
    "d0 = pulse.DriveChannel(0)\n",
    "d1 = pulse.DriveChannel(1)\n",
    "\n",
    "with pulse.build(backend) as barrier_pulse_prog:\n",
    "    pulse.play(pulse.Constant(10, 1.0), d0)\n",
    "    pulse.barrier(d0, d1)\n",
    "    pulse.play(pulse.Constant(10, 1.0), d1)"
   ]
  },
  {
   "cell_type": "code",
   "execution_count": 2,
   "id": "4e1a076d",
   "metadata": {
    "execution": {
     "iopub.execute_input": "2022-06-01T23:22:53.875678Z",
     "iopub.status.busy": "2022-06-01T23:22:53.875305Z",
     "iopub.status.idle": "2022-06-01T23:22:53.883303Z",
     "shell.execute_reply": "2022-06-01T23:22:53.882645Z"
    }
   },
   "outputs": [],
   "source": [
    "from qiskit.pulse import transforms\n",
    "\n",
    "with pulse.build(backend) as aligned_pulse_prog:\n",
    "    with pulse.align_sequential():\n",
    "        pulse.play(pulse.Constant(10, 1.0), d0)\n",
    "        pulse.play(pulse.Constant(10, 1.0), d1)\n",
    "\n",
    "barrier_pulse_prog = transforms.target_qobj_transform(barrier_pulse_prog)\n",
    "aligned_pulse_prog = transforms.target_qobj_transform(aligned_pulse_prog)\n",
    "\n",
    "assert barrier_pulse_prog == aligned_pulse_prog"
   ]
  },
  {
   "cell_type": "code",
   "execution_count": 3,
   "id": "78cd846f",
   "metadata": {
    "execution": {
     "iopub.execute_input": "2022-06-01T23:22:53.888112Z",
     "iopub.status.busy": "2022-06-01T23:22:53.886844Z",
     "iopub.status.idle": "2022-06-01T23:22:54.321861Z",
     "shell.execute_reply": "2022-06-01T23:22:54.320937Z"
    }
   },
   "outputs": [],
   "source": [
    "import math\n",
    "\n",
    "d0 = pulse.DriveChannel(0)\n",
    "\n",
    "with pulse.build(backend) as pulse_prog:\n",
    "    with pulse.align_right():\n",
    "        pulse.x(1)\n",
    "        # Barrier qubit 1 and d0.\n",
    "        pulse.barrier(1, d0)\n",
    "        # Due to barrier this will play before the gate on qubit 1.\n",
    "        pulse.play(pulse.Constant(10, 1.0), d0)\n",
    "        # This will end at the same time as the pulse above due to\n",
    "        # the barrier.\n",
    "        pulse.x(1)"
   ]
  }
 ],
 "metadata": {
  "kernelspec": {
   "display_name": "Python 3 (ipykernel)",
   "language": "python",
   "name": "python3"
  },
  "language_info": {
   "codemirror_mode": {
    "name": "ipython",
    "version": 3
   },
   "file_extension": ".py",
   "mimetype": "text/x-python",
   "name": "python",
   "nbconvert_exporter": "python",
   "pygments_lexer": "ipython3",
   "version": "3.8.12"
  }
 },
 "nbformat": 4,
 "nbformat_minor": 5
}