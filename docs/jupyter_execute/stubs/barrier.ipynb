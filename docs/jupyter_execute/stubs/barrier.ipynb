{
 "cells": [
  {
   "cell_type": "code",
   "execution_count": 1,
   "id": "cb9e1e19",
   "metadata": {
    "execution": {
     "iopub.execute_input": "2022-04-30T16:12:02.928231Z",
     "iopub.status.busy": "2022-04-30T16:12:02.927970Z",
     "iopub.status.idle": "2022-04-30T16:12:03.524922Z",
     "shell.execute_reply": "2022-04-30T16:12:03.523889Z"
    }
   },
   "outputs": [],
   "source": [
    "from qiskit import pulse\n",
    "from qiskit.test.mock import FakeOpenPulse2Q\n",
    "\n",
    "backend = FakeOpenPulse2Q()\n",
    "\n",
    "d0 = pulse.DriveChannel(0)\n",
    "d1 = pulse.DriveChannel(1)\n",
    "\n",
    "with pulse.build(backend) as barrier_pulse_prog:\n",
    "    pulse.play(pulse.Constant(10, 1.0), d0)\n",
    "    pulse.barrier(d0, d1)\n",
    "    pulse.play(pulse.Constant(10, 1.0), d1)"
   ]
  },
  {
   "cell_type": "code",
   "execution_count": 2,
   "id": "ff06ae96",
   "metadata": {
    "execution": {
     "iopub.execute_input": "2022-04-30T16:12:03.528950Z",
     "iopub.status.busy": "2022-04-30T16:12:03.528606Z",
     "iopub.status.idle": "2022-04-30T16:12:03.536440Z",
     "shell.execute_reply": "2022-04-30T16:12:03.535784Z"
    }
   },
   "outputs": [],
   "source": [
    "from qiskit.pulse import transforms\n",
    "\n",
    "with pulse.build(backend) as aligned_pulse_prog:\n",
    "    with pulse.align_sequential():\n",
    "        pulse.play(pulse.Constant(10, 1.0), d0)\n",
    "        pulse.play(pulse.Constant(10, 1.0), d1)\n",
    "\n",
    "barrier_pulse_prog = transforms.target_qobj_transform(barrier_pulse_prog)\n",
    "aligned_pulse_prog = transforms.target_qobj_transform(aligned_pulse_prog)\n",
    "\n",
    "assert barrier_pulse_prog == aligned_pulse_prog"
   ]
  },
  {
   "cell_type": "code",
   "execution_count": 3,
   "id": "8a30c935",
   "metadata": {
    "execution": {
     "iopub.execute_input": "2022-04-30T16:12:03.539206Z",
     "iopub.status.busy": "2022-04-30T16:12:03.538835Z",
     "iopub.status.idle": "2022-04-30T16:12:04.289079Z",
     "shell.execute_reply": "2022-04-30T16:12:04.288308Z"
    }
   },
   "outputs": [],
   "source": [
    "import math\n",
    "\n",
    "d0 = pulse.DriveChannel(0)\n",
    "\n",
    "with pulse.build(backend) as pulse_prog:\n",
    "    with pulse.align_right():\n",
    "        pulse.x(1)\n",
    "        # Barrier qubit 1 and d0.\n",
    "        pulse.barrier(1, d0)\n",
    "        # Due to barrier this will play before the gate on qubit 1.\n",
    "        pulse.play(pulse.Constant(10, 1.0), d0)\n",
    "        # This will end at the same time as the pulse above due to\n",
    "        # the barrier.\n",
    "        pulse.x(1)"
   ]
  }
 ],
 "metadata": {
  "kernelspec": {
   "display_name": "Python 3 (ipykernel)",
   "language": "python",
   "name": "python3"
  },
  "language_info": {
   "codemirror_mode": {
    "name": "ipython",
    "version": 3
   },
   "file_extension": ".py",
   "mimetype": "text/x-python",
   "name": "python",
   "nbconvert_exporter": "python",
   "pygments_lexer": "ipython3",
   "version": "3.8.12"
  }
 },
 "nbformat": 4,
 "nbformat_minor": 5
}