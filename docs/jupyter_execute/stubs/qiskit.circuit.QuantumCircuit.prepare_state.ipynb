{
 "cells": [
  {
   "cell_type": "code",
   "execution_count": 1,
   "id": "d5487926",
   "metadata": {
    "execution": {
     "iopub.execute_input": "2022-06-01T23:17:59.640688Z",
     "iopub.status.busy": "2022-06-01T23:17:59.640261Z",
     "iopub.status.idle": "2022-06-01T23:17:59.979693Z",
     "shell.execute_reply": "2022-06-01T23:17:59.978757Z"
    }
   },
   "outputs": [
    {
     "data": {
      "text/html": [
       "<pre style=\"word-wrap: normal;white-space: pre;background: #fff0;line-height: 1.1;font-family: &quot;Courier New&quot;,Courier,monospace\">   ┌─────────────────────────────────────┐\n",
       "q: ┤ State Preparation(0.70711,-0.70711) ├\n",
       "   └─────────────────────────────────────┘</pre>"
      ],
      "text/plain": [
       "   ┌─────────────────────────────────────┐\n",
       "q: ┤ State Preparation(0.70711,-0.70711) ├\n",
       "   └─────────────────────────────────────┘"
      ]
     },
     "execution_count": 1,
     "metadata": {},
     "output_type": "execute_result"
    }
   ],
   "source": [
    "import numpy as np\n",
    "from qiskit import QuantumCircuit\n",
    "\n",
    "circuit = QuantumCircuit(1)\n",
    "circuit.prepare_state([1/np.sqrt(2), -1/np.sqrt(2)], 0)\n",
    "circuit.draw()"
   ]
  },
  {
   "cell_type": "code",
   "execution_count": 2,
   "id": "de247e4d",
   "metadata": {
    "execution": {
     "iopub.execute_input": "2022-06-01T23:17:59.984252Z",
     "iopub.status.busy": "2022-06-01T23:17:59.983303Z",
     "iopub.status.idle": "2022-06-01T23:17:59.990599Z",
     "shell.execute_reply": "2022-06-01T23:17:59.989798Z"
    }
   },
   "outputs": [
    {
     "data": {
      "text/html": [
       "<pre style=\"word-wrap: normal;white-space: pre;background: #fff0;line-height: 1.1;font-family: &quot;Courier New&quot;,Courier,monospace\">     ┌─────────────────────────┐\n",
       "q_0: ┤0                        ├\n",
       "     │  State Preparation(0,1) │\n",
       "q_1: ┤1                        ├\n",
       "     └─────────────────────────┘</pre>"
      ],
      "text/plain": [
       "     ┌─────────────────────────┐\n",
       "q_0: ┤0                        ├\n",
       "     │  State Preparation(0,1) │\n",
       "q_1: ┤1                        ├\n",
       "     └─────────────────────────┘"
      ]
     },
     "execution_count": 2,
     "metadata": {},
     "output_type": "execute_result"
    }
   ],
   "source": [
    "import numpy as np\n",
    "from qiskit import QuantumCircuit\n",
    "\n",
    "circuit = QuantumCircuit(2)\n",
    "circuit.prepare_state('01', circuit.qubits)\n",
    "circuit.draw()"
   ]
  }
 ],
 "metadata": {
  "kernelspec": {
   "display_name": "Python 3 (ipykernel)",
   "language": "python",
   "name": "python3"
  },
  "language_info": {
   "codemirror_mode": {
    "name": "ipython",
    "version": 3
   },
   "file_extension": ".py",
   "mimetype": "text/x-python",
   "name": "python",
   "nbconvert_exporter": "python",
   "pygments_lexer": "ipython3",
   "version": "3.8.12"
  }
 },
 "nbformat": 4,
 "nbformat_minor": 5
}