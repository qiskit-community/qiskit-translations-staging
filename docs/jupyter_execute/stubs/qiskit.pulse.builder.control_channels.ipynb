{
 "cells": [
  {
   "cell_type": "code",
   "execution_count": 1,
   "id": "3af24e73",
   "metadata": {
    "execution": {
     "iopub.execute_input": "2022-04-12T17:15:17.157462Z",
     "iopub.status.busy": "2022-04-12T17:15:17.157243Z",
     "iopub.status.idle": "2022-04-12T17:15:17.676234Z",
     "shell.execute_reply": "2022-04-12T17:15:17.675765Z"
    }
   },
   "outputs": [],
   "source": [
    "from qiskit import pulse\n",
    "from qiskit.test.mock import FakeOpenPulse2Q\n",
    "\n",
    "backend = FakeOpenPulse2Q()\n",
    "with pulse.build(backend):\n",
    "    assert pulse.control_channels(0, 1) == [pulse.ControlChannel(0)]"
   ]
  }
 ],
 "metadata": {
  "kernelspec": {
   "display_name": "Python 3 (ipykernel)",
   "language": "python",
   "name": "python3"
  },
  "language_info": {
   "codemirror_mode": {
    "name": "ipython",
    "version": 3
   },
   "file_extension": ".py",
   "mimetype": "text/x-python",
   "name": "python",
   "nbconvert_exporter": "python",
   "pygments_lexer": "ipython3",
   "version": "3.8.12"
  }
 },
 "nbformat": 4,
 "nbformat_minor": 5
}