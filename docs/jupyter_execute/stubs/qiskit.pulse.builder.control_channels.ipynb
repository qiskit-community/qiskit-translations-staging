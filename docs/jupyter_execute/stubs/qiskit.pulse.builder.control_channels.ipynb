{
 "cells": [
  {
   "cell_type": "code",
   "execution_count": 1,
   "id": "e33b1fcc",
   "metadata": {
    "execution": {
     "iopub.execute_input": "2022-04-11T19:37:45.446179Z",
     "iopub.status.busy": "2022-04-11T19:37:45.445932Z",
     "iopub.status.idle": "2022-04-11T19:37:46.086712Z",
     "shell.execute_reply": "2022-04-11T19:37:46.085865Z"
    }
   },
   "outputs": [],
   "source": [
    "from qiskit import pulse\n",
    "from qiskit.test.mock import FakeOpenPulse2Q\n",
    "\n",
    "backend = FakeOpenPulse2Q()\n",
    "with pulse.build(backend):\n",
    "    assert pulse.control_channels(0, 1) == [pulse.ControlChannel(0)]"
   ]
  }
 ],
 "metadata": {
  "kernelspec": {
   "display_name": "Python 3 (ipykernel)",
   "language": "python",
   "name": "python3"
  },
  "language_info": {
   "codemirror_mode": {
    "name": "ipython",
    "version": 3
   },
   "file_extension": ".py",
   "mimetype": "text/x-python",
   "name": "python",
   "nbconvert_exporter": "python",
   "pygments_lexer": "ipython3",
   "version": "3.8.12"
  }
 },
 "nbformat": 4,
 "nbformat_minor": 5
}