{
 "cells": [
  {
   "cell_type": "code",
   "execution_count": 1,
   "id": "c56375c6",
   "metadata": {
    "execution": {
     "iopub.execute_input": "2022-06-21T17:23:13.377551Z",
     "iopub.status.busy": "2022-06-21T17:23:13.377303Z",
     "iopub.status.idle": "2022-06-21T17:23:13.632733Z",
     "shell.execute_reply": "2022-06-21T17:23:13.632072Z"
    }
   },
   "outputs": [],
   "source": [
    "from qiskit import pulse\n",
    "\n",
    "with pulse.build() as pulse_prog:\n",
    "    pulse.snapshot('first', 'statevector')"
   ]
  }
 ],
 "metadata": {
  "kernelspec": {
   "display_name": "Python 3 (ipykernel)",
   "language": "python",
   "name": "python3"
  },
  "language_info": {
   "codemirror_mode": {
    "name": "ipython",
    "version": 3
   },
   "file_extension": ".py",
   "mimetype": "text/x-python",
   "name": "python",
   "nbconvert_exporter": "python",
   "pygments_lexer": "ipython3",
   "version": "3.8.12"
  }
 },
 "nbformat": 4,
 "nbformat_minor": 5
}