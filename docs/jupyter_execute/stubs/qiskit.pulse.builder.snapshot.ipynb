{
 "cells": [
  {
   "cell_type": "code",
   "execution_count": 1,
   "id": "6ccdae19",
   "metadata": {
    "execution": {
     "iopub.execute_input": "2022-05-31T18:52:43.255725Z",
     "iopub.status.busy": "2022-05-31T18:52:43.255215Z",
     "iopub.status.idle": "2022-05-31T18:52:43.573188Z",
     "shell.execute_reply": "2022-05-31T18:52:43.571890Z"
    }
   },
   "outputs": [],
   "source": [
    "from qiskit import pulse\n",
    "\n",
    "with pulse.build() as pulse_prog:\n",
    "    pulse.snapshot('first', 'statevector')"
   ]
  }
 ],
 "metadata": {
  "kernelspec": {
   "display_name": "Python 3 (ipykernel)",
   "language": "python",
   "name": "python3"
  },
  "language_info": {
   "codemirror_mode": {
    "name": "ipython",
    "version": 3
   },
   "file_extension": ".py",
   "mimetype": "text/x-python",
   "name": "python",
   "nbconvert_exporter": "python",
   "pygments_lexer": "ipython3",
   "version": "3.8.12"
  }
 },
 "nbformat": 4,
 "nbformat_minor": 5
}