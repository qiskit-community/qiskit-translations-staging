{
 "cells": [
  {
   "cell_type": "code",
   "execution_count": 1,
   "id": "82f196b8",
   "metadata": {
    "execution": {
     "iopub.execute_input": "2022-04-28T21:20:31.038003Z",
     "iopub.status.busy": "2022-04-28T21:20:31.037800Z",
     "iopub.status.idle": "2022-04-28T21:20:31.298602Z",
     "shell.execute_reply": "2022-04-28T21:20:31.297820Z"
    }
   },
   "outputs": [],
   "source": [
    "from qiskit import pulse\n",
    "\n",
    "with pulse.build() as pulse_prog:\n",
    "    pulse.snapshot('first', 'statevector')"
   ]
  }
 ],
 "metadata": {
  "kernelspec": {
   "display_name": "Python 3 (ipykernel)",
   "language": "python",
   "name": "python3"
  },
  "language_info": {
   "codemirror_mode": {
    "name": "ipython",
    "version": 3
   },
   "file_extension": ".py",
   "mimetype": "text/x-python",
   "name": "python",
   "nbconvert_exporter": "python",
   "pygments_lexer": "ipython3",
   "version": "3.8.12"
  }
 },
 "nbformat": 4,
 "nbformat_minor": 5
}