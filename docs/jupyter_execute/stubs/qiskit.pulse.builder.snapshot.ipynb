{
 "cells": [
  {
   "cell_type": "code",
   "execution_count": 1,
   "id": "ab2a451c",
   "metadata": {
    "execution": {
     "iopub.execute_input": "2022-02-09T03:28:55.987603Z",
     "iopub.status.busy": "2022-02-09T03:28:55.987098Z",
     "iopub.status.idle": "2022-02-09T03:28:56.439290Z",
     "shell.execute_reply": "2022-02-09T03:28:56.438327Z"
    }
   },
   "outputs": [],
   "source": [
    "from qiskit import pulse\n",
    "\n",
    "with pulse.build() as pulse_prog:\n",
    "    pulse.snapshot('first', 'statevector')"
   ]
  }
 ],
 "metadata": {
  "kernelspec": {
   "display_name": "Python 3 (ipykernel)",
   "language": "python",
   "name": "python3"
  },
  "language_info": {
   "codemirror_mode": {
    "name": "ipython",
    "version": 3
   },
   "file_extension": ".py",
   "mimetype": "text/x-python",
   "name": "python",
   "nbconvert_exporter": "python",
   "pygments_lexer": "ipython3",
   "version": "3.8.12"
  }
 },
 "nbformat": 4,
 "nbformat_minor": 5
}