{
 "cells": [
  {
   "cell_type": "code",
   "execution_count": 1,
   "id": "48f1e8f7",
   "metadata": {
    "execution": {
     "iopub.execute_input": "2022-03-14T13:36:41.438869Z",
     "iopub.status.busy": "2022-03-14T13:36:41.438444Z",
     "iopub.status.idle": "2022-03-14T13:36:41.879831Z",
     "shell.execute_reply": "2022-03-14T13:36:41.878617Z"
    }
   },
   "outputs": [],
   "source": [
    "from qiskit import pulse\n",
    "\n",
    "with pulse.build() as pulse_prog:\n",
    "    pulse.snapshot('first', 'statevector')"
   ]
  }
 ],
 "metadata": {
  "kernelspec": {
   "display_name": "Python 3 (ipykernel)",
   "language": "python",
   "name": "python3"
  },
  "language_info": {
   "codemirror_mode": {
    "name": "ipython",
    "version": 3
   },
   "file_extension": ".py",
   "mimetype": "text/x-python",
   "name": "python",
   "nbconvert_exporter": "python",
   "pygments_lexer": "ipython3",
   "version": "3.8.12"
  }
 },
 "nbformat": 4,
 "nbformat_minor": 5
}