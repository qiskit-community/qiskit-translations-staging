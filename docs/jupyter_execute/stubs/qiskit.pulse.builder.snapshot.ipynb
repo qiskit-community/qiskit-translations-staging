{
 "cells": [
  {
   "cell_type": "code",
   "execution_count": 1,
   "id": "093cf8d2",
   "metadata": {
    "execution": {
     "iopub.execute_input": "2022-03-18T14:14:26.225217Z",
     "iopub.status.busy": "2022-03-18T14:14:26.224998Z",
     "iopub.status.idle": "2022-03-18T14:14:26.698357Z",
     "shell.execute_reply": "2022-03-18T14:14:26.697734Z"
    }
   },
   "outputs": [],
   "source": [
    "from qiskit import pulse\n",
    "\n",
    "with pulse.build() as pulse_prog:\n",
    "    pulse.snapshot('first', 'statevector')"
   ]
  }
 ],
 "metadata": {
  "kernelspec": {
   "display_name": "Python 3 (ipykernel)",
   "language": "python",
   "name": "python3"
  },
  "language_info": {
   "codemirror_mode": {
    "name": "ipython",
    "version": 3
   },
   "file_extension": ".py",
   "mimetype": "text/x-python",
   "name": "python",
   "nbconvert_exporter": "python",
   "pygments_lexer": "ipython3",
   "version": "3.8.12"
  }
 },
 "nbformat": 4,
 "nbformat_minor": 5
}