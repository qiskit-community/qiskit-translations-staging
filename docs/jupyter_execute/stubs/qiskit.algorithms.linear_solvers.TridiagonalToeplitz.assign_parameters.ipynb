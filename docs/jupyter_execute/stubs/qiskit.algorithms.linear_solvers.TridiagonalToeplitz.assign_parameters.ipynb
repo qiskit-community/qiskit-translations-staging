{
 "cells": [
  {
   "cell_type": "code",
   "execution_count": 1,
   "id": "f1d00fa4",
   "metadata": {
    "execution": {
     "iopub.execute_input": "2022-04-11T19:32:05.372283Z",
     "iopub.status.busy": "2022-04-11T19:32:05.371781Z",
     "iopub.status.idle": "2022-04-11T19:32:06.235276Z",
     "shell.execute_reply": "2022-04-11T19:32:06.234359Z"
    }
   },
   "outputs": [
    {
     "name": "stdout",
     "output_type": "stream",
     "text": [
      "Original circuit:\n"
     ]
    },
    {
     "name": "stdout",
     "output_type": "stream",
     "text": [
      "     ┌───────┐         \n",
      "q_0: ┤ Ry(A) ├────■────\n",
      "     └───────┘┌───┴───┐\n",
      "q_1: ─────────┤ Rx(B) ├\n",
      "              └───────┘\n",
      "Assigned in-place:\n",
      "     ┌───────┐         \n",
      "q_0: ┤ Ry(C) ├────■────\n",
      "     └───────┘┌───┴───┐\n",
      "q_1: ─────────┤ Rx(B) ├\n",
      "              └───────┘\n"
     ]
    }
   ],
   "source": [
    "from qiskit.circuit import QuantumCircuit, Parameter\n",
    "\n",
    "circuit = QuantumCircuit(2)\n",
    "params = [Parameter('A'), Parameter('B'), Parameter('C')]\n",
    "circuit.ry(params[0], 0)\n",
    "circuit.crx(params[1], 0, 1)\n",
    "\n",
    "print('Original circuit:')\n",
    "print(circuit.draw())\n",
    "\n",
    "circuit.assign_parameters({params[0]: params[2]}, inplace=True)\n",
    "\n",
    "print('Assigned in-place:')\n",
    "print(circuit.draw())"
   ]
  },
  {
   "cell_type": "code",
   "execution_count": 2,
   "id": "724fc792",
   "metadata": {
    "execution": {
     "iopub.execute_input": "2022-04-11T19:32:06.238851Z",
     "iopub.status.busy": "2022-04-11T19:32:06.238430Z",
     "iopub.status.idle": "2022-04-11T19:32:06.247939Z",
     "shell.execute_reply": "2022-04-11T19:32:06.247353Z"
    }
   },
   "outputs": [
    {
     "name": "stdout",
     "output_type": "stream",
     "text": [
      "Bound circuit:\n",
      "     ┌───────┐         \n",
      "q_0: ┤ Ry(1) ├────■────\n",
      "     └───────┘┌───┴───┐\n",
      "q_1: ─────────┤ Rx(2) ├\n",
      "              └───────┘\n",
      "The original circuit is unchanged:\n",
      "     ┌──────────┐            \n",
      "q_0: ┤ Ry(P[0]) ├─────■──────\n",
      "     └──────────┘┌────┴─────┐\n",
      "q_1: ────────────┤ Rx(P[1]) ├\n",
      "                 └──────────┘\n"
     ]
    }
   ],
   "source": [
    "from qiskit.circuit import QuantumCircuit, ParameterVector\n",
    "\n",
    "circuit = QuantumCircuit(2)\n",
    "params = ParameterVector('P', 2)\n",
    "circuit.ry(params[0], 0)\n",
    "circuit.crx(params[1], 0, 1)\n",
    "\n",
    "bound_circuit = circuit.assign_parameters({params[0]: 1, params[1]: 2})\n",
    "print('Bound circuit:')\n",
    "print(bound_circuit.draw())\n",
    "\n",
    "print('The original circuit is unchanged:')\n",
    "print(circuit.draw())"
   ]
  }
 ],
 "metadata": {
  "kernelspec": {
   "display_name": "Python 3 (ipykernel)",
   "language": "python",
   "name": "python3"
  },
  "language_info": {
   "codemirror_mode": {
    "name": "ipython",
    "version": 3
   },
   "file_extension": ".py",
   "mimetype": "text/x-python",
   "name": "python",
   "nbconvert_exporter": "python",
   "pygments_lexer": "ipython3",
   "version": "3.8.12"
  }
 },
 "nbformat": 4,
 "nbformat_minor": 5
}