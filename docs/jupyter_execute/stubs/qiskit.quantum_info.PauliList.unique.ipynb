{
 "cells": [
  {
   "cell_type": "code",
   "execution_count": 1,
   "id": "fa40432d",
   "metadata": {
    "execution": {
     "iopub.execute_input": "2022-04-25T22:13:14.701751Z",
     "iopub.status.busy": "2022-04-25T22:13:14.701473Z",
     "iopub.status.idle": "2022-04-25T22:13:15.044821Z",
     "shell.execute_reply": "2022-04-25T22:13:15.043138Z"
    }
   },
   "outputs": [
    {
     "name": "stdout",
     "output_type": "stream",
     "text": [
      "['X', 'Y', '-X', 'I', 'Z', 'iZ']\n"
     ]
    }
   ],
   "source": [
    "from qiskit.quantum_info.operators import PauliList\n",
    "\n",
    "pt = PauliList(['X', 'Y', '-X', 'I', 'I', 'Z', 'X', 'iZ'])\n",
    "unique = pt.unique()\n",
    "print(unique)"
   ]
  }
 ],
 "metadata": {
  "kernelspec": {
   "display_name": "Python 3 (ipykernel)",
   "language": "python",
   "name": "python3"
  },
  "language_info": {
   "codemirror_mode": {
    "name": "ipython",
    "version": 3
   },
   "file_extension": ".py",
   "mimetype": "text/x-python",
   "name": "python",
   "nbconvert_exporter": "python",
   "pygments_lexer": "ipython3",
   "version": "3.8.12"
  }
 },
 "nbformat": 4,
 "nbformat_minor": 5
}