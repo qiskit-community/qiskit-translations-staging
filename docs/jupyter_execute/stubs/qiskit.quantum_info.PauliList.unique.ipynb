{
 "cells": [
  {
   "cell_type": "code",
   "execution_count": 1,
   "id": "73b46087",
   "metadata": {
    "execution": {
     "iopub.execute_input": "2022-04-05T16:46:10.371058Z",
     "iopub.status.busy": "2022-04-05T16:46:10.370814Z",
     "iopub.status.idle": "2022-04-05T16:46:10.675104Z",
     "shell.execute_reply": "2022-04-05T16:46:10.673520Z"
    }
   },
   "outputs": [
    {
     "name": "stdout",
     "output_type": "stream",
     "text": [
      "['X', 'Y', '-X', 'I', 'Z', 'iZ']\n"
     ]
    }
   ],
   "source": [
    "from qiskit.quantum_info.operators import PauliList\n",
    "\n",
    "pt = PauliList(['X', 'Y', '-X', 'I', 'I', 'Z', 'X', 'iZ'])\n",
    "unique = pt.unique()\n",
    "print(unique)"
   ]
  }
 ],
 "metadata": {
  "kernelspec": {
   "display_name": "Python 3 (ipykernel)",
   "language": "python",
   "name": "python3"
  },
  "language_info": {
   "codemirror_mode": {
    "name": "ipython",
    "version": 3
   },
   "file_extension": ".py",
   "mimetype": "text/x-python",
   "name": "python",
   "nbconvert_exporter": "python",
   "pygments_lexer": "ipython3",
   "version": "3.8.12"
  }
 },
 "nbformat": 4,
 "nbformat_minor": 5
}