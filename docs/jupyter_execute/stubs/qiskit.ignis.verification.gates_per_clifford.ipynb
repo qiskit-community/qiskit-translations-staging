{
 "cells": [
  {
   "cell_type": "code",
   "execution_count": 1,
   "id": "f3f96e14",
   "metadata": {
    "execution": {
     "iopub.execute_input": "2022-04-01T17:56:48.184125Z",
     "iopub.status.busy": "2022-04-01T17:56:48.183520Z",
     "iopub.status.idle": "2022-04-01T17:56:55.480736Z",
     "shell.execute_reply": "2022-04-01T17:56:55.479547Z"
    }
   },
   "outputs": [
    {
     "name": "stderr",
     "output_type": "stream",
     "text": [
      "/tmp/ipykernel_5029/1476756504.py:3: DeprecationWarning: The qiskit.ignis package is deprecated and has been supersceded by the qiskit-experiments project. Refer to the migration guide: https://github.com/Qiskit/qiskit-ignis#migration-guide on how to migrate to the new project.\n",
      "  import qiskit.ignis.verification.randomized_benchmarking as rb\n"
     ]
    },
    {
     "name": "stdout",
     "output_type": "stream",
     "text": [
      "{0: {'cx': 1.4674285714285715,\n",
      "     'id': 0.0,\n",
      "     'u1': 0.12571428571428572,\n",
      "     'u2': 1.6251428571428572,\n",
      "     'u3': 0.21142857142857144},\n",
      " 1: {'cx': 1.4674285714285715,\n",
      "     'id': 0.0,\n",
      "     'u1': 0.1382857142857143,\n",
      "     'u2': 1.5977142857142856,\n",
      "     'u3': 0.18057142857142858}}\n"
     ]
    }
   ],
   "source": [
    "import pprint\n",
    "import qiskit\n",
    "import qiskit.ignis.verification.randomized_benchmarking as rb\n",
    "from qiskit.test.mock.backends import FakeAlmaden\n",
    "\n",
    "rb_circs_list, xdata = rb.randomized_benchmarking_seq(\n",
    "    nseeds=5,\n",
    "    length_vector=[1, 20, 50, 100],\n",
    "    rb_pattern=[[0, 1]])\n",
    "basis = FakeAlmaden().configuration().basis_gates\n",
    "\n",
    "# transpile\n",
    "transpiled_circuits_list = []\n",
    "for rb_circs in rb_circs_list:\n",
    "    rb_circs_transpiled = qiskit.transpile(rb_circs, basis_gates=basis)\n",
    "    transpiled_circuits_list.append(rb_circs_transpiled)\n",
    "\n",
    "# count gate per Clifford\n",
    "ngates = rb.rb_utils.gates_per_clifford(\n",
    "    transpiled_circuits_list=transpiled_circuits_list,\n",
    "    clifford_lengths=xdata[0],\n",
    "    basis=basis, qubits=[0, 1])\n",
    "\n",
    "pprint.pprint(ngates)"
   ]
  }
 ],
 "metadata": {
  "kernelspec": {
   "display_name": "Python 3 (ipykernel)",
   "language": "python",
   "name": "python3"
  },
  "language_info": {
   "codemirror_mode": {
    "name": "ipython",
    "version": 3
   },
   "file_extension": ".py",
   "mimetype": "text/x-python",
   "name": "python",
   "nbconvert_exporter": "python",
   "pygments_lexer": "ipython3",
   "version": "3.8.12"
  }
 },
 "nbformat": 4,
 "nbformat_minor": 5
}