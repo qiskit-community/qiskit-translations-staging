{
 "cells": [
  {
   "cell_type": "code",
   "execution_count": 1,
   "id": "517b3e31",
   "metadata": {
    "execution": {
     "iopub.execute_input": "2022-05-05T19:32:10.438985Z",
     "iopub.status.busy": "2022-05-05T19:32:10.438490Z",
     "iopub.status.idle": "2022-05-05T19:32:11.468692Z",
     "shell.execute_reply": "2022-05-05T19:32:11.467530Z"
    }
   },
   "outputs": [
    {
     "name": "stderr",
     "output_type": "stream",
     "text": [
      "/tmp/ipykernel_4658/2068500587.py:1: DeprecationWarning: The qiskit.ignis package is deprecated and has been supersceded by the qiskit-experiments project. Refer to the migration guide: https://github.com/Qiskit/qiskit-ignis#migration-guide on how to migrate to the new project.\n",
      "  import qiskit.ignis.verification.randomized_benchmarking as rb\n"
     ]
    },
    {
     "name": "stdout",
     "output_type": "stream",
     "text": [
      "EPG without `list_epgs_1q`: 0.016107, with `list_epgs_1q`: 0.013622\n"
     ]
    }
   ],
   "source": [
    "import qiskit.ignis.verification.randomized_benchmarking as rb\n",
    "\n",
    "# assuming we ran 1Q RB experiment for qubit 0 and qubit 1\n",
    "gpc = {0: {'cx': 0, 'u1': 0.13, 'u2': 0.31, 'u3': 0.51},\n",
    "       1: {'cx': 0, 'u1': 0.10, 'u2': 0.33, 'u3': 0.51}}\n",
    "epc_q0 = 1.5e-3\n",
    "epc_q1 = 5.8e-4\n",
    "\n",
    "# calculate 1Q EPGs\n",
    "epgs_q0 = rb.rb_utils.calculate_1q_epg(gate_per_cliff=gpc, epc_1q=epc_q0, qubit=0)\n",
    "epgs_q1 = rb.rb_utils.calculate_1q_epg(gate_per_cliff=gpc, epc_1q=epc_q1, qubit=1)\n",
    "\n",
    "# assuming we ran 2Q RB experiment for qubit 0 and qubit 1\n",
    "gpc = {0: {'cx': 1.49, 'u1': 0.25, 'u2': 0.95, 'u3': 0.56},\n",
    "       1: {'cx': 1.49, 'u1': 0.24, 'u2': 0.98, 'u3': 0.49}}\n",
    "epc = 2.4e-2\n",
    "\n",
    "# calculate 2Q EPG\n",
    "epg_no_comp = rb.rb_utils.calculate_2q_epg(\n",
    "    gate_per_cliff=gpc,\n",
    "    epc_2q=epc,\n",
    "    qubit_pair=[0, 1])\n",
    "\n",
    "epg_comp = rb.rb_utils.calculate_2q_epg(\n",
    "    gate_per_cliff=gpc,\n",
    "    epc_2q=epc,\n",
    "    qubit_pair=[0, 1],\n",
    "    list_epgs_1q=[epgs_q0, epgs_q1])\n",
    "\n",
    "print('EPG without `list_epgs_1q`: %f, with `list_epgs_1q`: %f' % (epg_no_comp, epg_comp))"
   ]
  }
 ],
 "metadata": {
  "kernelspec": {
   "display_name": "Python 3 (ipykernel)",
   "language": "python",
   "name": "python3"
  },
  "language_info": {
   "codemirror_mode": {
    "name": "ipython",
    "version": 3
   },
   "file_extension": ".py",
   "mimetype": "text/x-python",
   "name": "python",
   "nbconvert_exporter": "python",
   "pygments_lexer": "ipython3",
   "version": "3.8.12"
  }
 },
 "nbformat": 4,
 "nbformat_minor": 5
}