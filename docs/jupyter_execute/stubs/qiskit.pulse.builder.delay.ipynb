{
 "cells": [
  {
   "cell_type": "code",
   "execution_count": 1,
   "id": "b99e478f",
   "metadata": {
    "execution": {
     "iopub.execute_input": "2022-02-09T03:28:32.370925Z",
     "iopub.status.busy": "2022-02-09T03:28:32.370472Z",
     "iopub.status.idle": "2022-02-09T03:28:32.822067Z",
     "shell.execute_reply": "2022-02-09T03:28:32.821417Z"
    }
   },
   "outputs": [],
   "source": [
    "from qiskit import pulse\n",
    "\n",
    "d0 = pulse.DriveChannel(0)\n",
    "\n",
    "with pulse.build() as pulse_prog:\n",
    "    pulse.delay(10, d0)"
   ]
  }
 ],
 "metadata": {
  "kernelspec": {
   "display_name": "Python 3 (ipykernel)",
   "language": "python",
   "name": "python3"
  },
  "language_info": {
   "codemirror_mode": {
    "name": "ipython",
    "version": 3
   },
   "file_extension": ".py",
   "mimetype": "text/x-python",
   "name": "python",
   "nbconvert_exporter": "python",
   "pygments_lexer": "ipython3",
   "version": "3.8.12"
  }
 },
 "nbformat": 4,
 "nbformat_minor": 5
}