{
 "cells": [
  {
   "cell_type": "code",
   "execution_count": 1,
   "id": "084d98df",
   "metadata": {
    "execution": {
     "iopub.execute_input": "2022-02-02T13:28:39.785004Z",
     "iopub.status.busy": "2022-02-02T13:28:39.784604Z",
     "iopub.status.idle": "2022-02-02T13:28:40.223902Z",
     "shell.execute_reply": "2022-02-02T13:28:40.223284Z"
    }
   },
   "outputs": [],
   "source": [
    "from qiskit import pulse\n",
    "\n",
    "d0 = pulse.DriveChannel(0)\n",
    "\n",
    "with pulse.build() as pulse_prog:\n",
    "    pulse.delay(10, d0)"
   ]
  }
 ],
 "metadata": {
  "kernelspec": {
   "display_name": "Python 3 (ipykernel)",
   "language": "python",
   "name": "python3"
  },
  "language_info": {
   "codemirror_mode": {
    "name": "ipython",
    "version": 3
   },
   "file_extension": ".py",
   "mimetype": "text/x-python",
   "name": "python",
   "nbconvert_exporter": "python",
   "pygments_lexer": "ipython3",
   "version": "3.8.12"
  }
 },
 "nbformat": 4,
 "nbformat_minor": 5
}