{
 "cells": [
  {
   "cell_type": "code",
   "execution_count": 1,
   "id": "1d54cdd7",
   "metadata": {
    "execution": {
     "iopub.execute_input": "2022-02-11T14:54:51.486993Z",
     "iopub.status.busy": "2022-02-11T14:54:51.486555Z",
     "iopub.status.idle": "2022-02-11T14:54:51.943632Z",
     "shell.execute_reply": "2022-02-11T14:54:51.943050Z"
    }
   },
   "outputs": [],
   "source": [
    "from qiskit import pulse\n",
    "\n",
    "d0 = pulse.DriveChannel(0)\n",
    "\n",
    "with pulse.build() as pulse_prog:\n",
    "    pulse.delay(10, d0)"
   ]
  }
 ],
 "metadata": {
  "kernelspec": {
   "display_name": "Python 3 (ipykernel)",
   "language": "python",
   "name": "python3"
  },
  "language_info": {
   "codemirror_mode": {
    "name": "ipython",
    "version": 3
   },
   "file_extension": ".py",
   "mimetype": "text/x-python",
   "name": "python",
   "nbconvert_exporter": "python",
   "pygments_lexer": "ipython3",
   "version": "3.8.12"
  }
 },
 "nbformat": 4,
 "nbformat_minor": 5
}