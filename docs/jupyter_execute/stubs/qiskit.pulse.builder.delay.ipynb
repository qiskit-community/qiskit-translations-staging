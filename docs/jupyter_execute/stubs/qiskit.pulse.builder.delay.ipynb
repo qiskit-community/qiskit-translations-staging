{
 "cells": [
  {
   "cell_type": "code",
   "execution_count": 1,
   "id": "8931e70d",
   "metadata": {
    "execution": {
     "iopub.execute_input": "2022-05-31T18:52:17.923974Z",
     "iopub.status.busy": "2022-05-31T18:52:17.923237Z",
     "iopub.status.idle": "2022-05-31T18:52:18.231529Z",
     "shell.execute_reply": "2022-05-31T18:52:18.230727Z"
    }
   },
   "outputs": [],
   "source": [
    "from qiskit import pulse\n",
    "\n",
    "d0 = pulse.DriveChannel(0)\n",
    "\n",
    "with pulse.build() as pulse_prog:\n",
    "    pulse.delay(10, d0)"
   ]
  }
 ],
 "metadata": {
  "kernelspec": {
   "display_name": "Python 3 (ipykernel)",
   "language": "python",
   "name": "python3"
  },
  "language_info": {
   "codemirror_mode": {
    "name": "ipython",
    "version": 3
   },
   "file_extension": ".py",
   "mimetype": "text/x-python",
   "name": "python",
   "nbconvert_exporter": "python",
   "pygments_lexer": "ipython3",
   "version": "3.8.12"
  }
 },
 "nbformat": 4,
 "nbformat_minor": 5
}