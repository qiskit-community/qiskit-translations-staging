{
 "cells": [
  {
   "cell_type": "code",
   "execution_count": 1,
   "id": "01557753",
   "metadata": {
    "execution": {
     "iopub.execute_input": "2022-04-04T15:13:40.502407Z",
     "iopub.status.busy": "2022-04-04T15:13:40.501945Z",
     "iopub.status.idle": "2022-04-04T15:13:40.842211Z",
     "shell.execute_reply": "2022-04-04T15:13:40.839907Z"
    }
   },
   "outputs": [
    {
     "name": "stdout",
     "output_type": "stream",
     "text": [
      "        ┌───┐   \n",
      "q_0: ───┤ X ├───\n",
      "        └───┘   \n",
      "q_1: ─────■─────\n",
      "     ┌────┴────┐\n",
      "q_2: ┤ Ry(0.2) ├\n",
      "     └─────────┘\n"
     ]
    }
   ],
   "source": [
    "from qiskit import QuantumCircuit\n",
    "top = QuantumCircuit(1)\n",
    "top.x(0);\n",
    "bottom = QuantumCircuit(2)\n",
    "bottom.cry(0.2, 0, 1);\n",
    "tensored = bottom.tensor(top)\n",
    "print(tensored.draw())"
   ]
  }
 ],
 "metadata": {
  "kernelspec": {
   "display_name": "Python 3 (ipykernel)",
   "language": "python",
   "name": "python3"
  },
  "language_info": {
   "codemirror_mode": {
    "name": "ipython",
    "version": 3
   },
   "file_extension": ".py",
   "mimetype": "text/x-python",
   "name": "python",
   "nbconvert_exporter": "python",
   "pygments_lexer": "ipython3",
   "version": "3.8.12"
  }
 },
 "nbformat": 4,
 "nbformat_minor": 5
}