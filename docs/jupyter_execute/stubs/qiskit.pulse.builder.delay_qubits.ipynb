{
 "cells": [
  {
   "cell_type": "code",
   "execution_count": 1,
   "id": "edc83d82",
   "metadata": {
    "execution": {
     "iopub.execute_input": "2022-02-23T19:50:49.243034Z",
     "iopub.status.busy": "2022-02-23T19:50:49.242405Z",
     "iopub.status.idle": "2022-02-23T19:50:49.831727Z",
     "shell.execute_reply": "2022-02-23T19:50:49.831091Z"
    }
   },
   "outputs": [],
   "source": [
    "from qiskit import pulse\n",
    "from qiskit.test.mock import FakeOpenPulse3Q\n",
    "\n",
    "backend = FakeOpenPulse3Q()\n",
    "\n",
    "with pulse.build(backend) as pulse_prog:\n",
    "    # Delay for 100 cycles on qubits 0, 1 and 2.\n",
    "    regs = pulse.delay_qubits(100, 0, 1, 2)"
   ]
  }
 ],
 "metadata": {
  "kernelspec": {
   "display_name": "Python 3 (ipykernel)",
   "language": "python",
   "name": "python3"
  },
  "language_info": {
   "codemirror_mode": {
    "name": "ipython",
    "version": 3
   },
   "file_extension": ".py",
   "mimetype": "text/x-python",
   "name": "python",
   "nbconvert_exporter": "python",
   "pygments_lexer": "ipython3",
   "version": "3.8.12"
  }
 },
 "nbformat": 4,
 "nbformat_minor": 5
}