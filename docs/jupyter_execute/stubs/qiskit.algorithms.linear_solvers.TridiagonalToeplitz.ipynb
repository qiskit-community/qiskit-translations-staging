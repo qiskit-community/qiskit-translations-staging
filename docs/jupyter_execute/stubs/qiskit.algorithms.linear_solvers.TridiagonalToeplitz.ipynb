{
 "cells": [
  {
   "cell_type": "code",
   "execution_count": 1,
   "id": "b826a6e1",
   "metadata": {
    "execution": {
     "iopub.execute_input": "2022-04-01T17:53:57.950823Z",
     "iopub.status.busy": "2022-04-01T17:53:57.950589Z",
     "iopub.status.idle": "2022-04-01T17:53:58.596666Z",
     "shell.execute_reply": "2022-04-01T17:53:58.595880Z"
    }
   },
   "outputs": [
    {
     "data": {
      "text/plain": [
       "<qiskit.circuit.instructionset.InstructionSet at 0x7f64116fe9c0>"
      ]
     },
     "execution_count": 1,
     "metadata": {},
     "output_type": "execute_result"
    }
   ],
   "source": [
    "import numpy as np\n",
    "from qiskit import QuantumCircuit\n",
    "from qiskit.algorithms.linear_solvers.matrices import TridiagonalToeplitz\n",
    "\n",
    "matrix = TridiagonalToeplitz(2, 1, -1 / 3)\n",
    "power = 3\n",
    "\n",
    "# Controlled power (as within QPE)\n",
    "num_qubits = matrix.num_state_qubits\n",
    "pow_circ = matrix.power(power).control()\n",
    "circ_qubits = pow_circ.num_qubits\n",
    "qc = QuantumCircuit(circ_qubits)\n",
    "qc.append(matrix.power(power).control(), list(range(circ_qubits)))"
   ]
  }
 ],
 "metadata": {
  "kernelspec": {
   "display_name": "Python 3 (ipykernel)",
   "language": "python",
   "name": "python3"
  },
  "language_info": {
   "codemirror_mode": {
    "name": "ipython",
    "version": 3
   },
   "file_extension": ".py",
   "mimetype": "text/x-python",
   "name": "python",
   "nbconvert_exporter": "python",
   "pygments_lexer": "ipython3",
   "version": "3.8.12"
  }
 },
 "nbformat": 4,
 "nbformat_minor": 5
}