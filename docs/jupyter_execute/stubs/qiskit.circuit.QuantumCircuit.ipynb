{
 "cells": [
  {
   "cell_type": "code",
   "execution_count": 1,
   "id": "91a4b815",
   "metadata": {
    "execution": {
     "iopub.execute_input": "2022-04-23T23:53:51.107865Z",
     "iopub.status.busy": "2022-04-23T23:53:51.107333Z",
     "iopub.status.idle": "2022-04-23T23:53:51.450173Z",
     "shell.execute_reply": "2022-04-23T23:53:51.449458Z"
    }
   },
   "outputs": [
    {
     "data": {
      "text/html": [
       "<pre style=\"word-wrap: normal;white-space: pre;background: #fff0;line-height: 1.1;font-family: &quot;Courier New&quot;,Courier,monospace\">     ┌───┐     ┌─┐   \n",
       "q_0: ┤ H ├──■──┤M├───\n",
       "     └───┘┌─┴─┐└╥┘┌─┐\n",
       "q_1: ─────┤ X ├─╫─┤M├\n",
       "          └───┘ ║ └╥┘\n",
       "c: 2/═══════════╩══╩═\n",
       "                0  1 </pre>"
      ],
      "text/plain": [
       "     ┌───┐     ┌─┐   \n",
       "q_0: ┤ H ├──■──┤M├───\n",
       "     └───┘┌─┴─┐└╥┘┌─┐\n",
       "q_1: ─────┤ X ├─╫─┤M├\n",
       "          └───┘ ║ └╥┘\n",
       "c: 2/═══════════╩══╩═\n",
       "                0  1 "
      ]
     },
     "execution_count": 1,
     "metadata": {},
     "output_type": "execute_result"
    }
   ],
   "source": [
    "from qiskit import QuantumCircuit\n",
    "\n",
    "qc = QuantumCircuit(2, 2)\n",
    "qc.h(0)\n",
    "qc.cx(0, 1)\n",
    "qc.measure([0, 1], [0, 1])\n",
    "qc.draw()"
   ]
  },
  {
   "cell_type": "code",
   "execution_count": 2,
   "id": "d16cac69",
   "metadata": {
    "execution": {
     "iopub.execute_input": "2022-04-23T23:53:51.453266Z",
     "iopub.status.busy": "2022-04-23T23:53:51.453031Z",
     "iopub.status.idle": "2022-04-23T23:53:51.459338Z",
     "shell.execute_reply": "2022-04-23T23:53:51.458628Z"
    }
   },
   "outputs": [],
   "source": [
    "from qiskit import QuantumCircuit\n",
    "\n",
    "qc = QuantumCircuit(5)\n",
    "qc.h(0)\n",
    "qc.cx(0, range(1, 5))\n",
    "qc.measure_all()"
   ]
  },
  {
   "cell_type": "code",
   "execution_count": 3,
   "id": "01b0c1fe",
   "metadata": {
    "execution": {
     "iopub.execute_input": "2022-04-23T23:53:51.462392Z",
     "iopub.status.busy": "2022-04-23T23:53:51.462200Z",
     "iopub.status.idle": "2022-04-23T23:53:51.476538Z",
     "shell.execute_reply": "2022-04-23T23:53:51.475780Z"
    }
   },
   "outputs": [
    {
     "data": {
      "text/html": [
       "<pre style=\"word-wrap: normal;white-space: pre;background: #fff0;line-height: 1.1;font-family: &quot;Courier New&quot;,Courier,monospace\">         ┌───┐          ┌───┐           ░ ┌─┐      \n",
       "    q_0: ┤ H ├───────■──┤ H ├───────────░─┤M├──────\n",
       "         ├───┤       │  └───┘┌───┐      ░ └╥┘┌─┐   \n",
       "    q_1: ┤ H ├───────┼────■──┤ H ├──────░──╫─┤M├───\n",
       "         ├───┤       │    │  └───┘┌───┐ ░  ║ └╥┘┌─┐\n",
       "    q_2: ┤ H ├───────┼────┼────■──┤ H ├─░──╫──╫─┤M├\n",
       "         ├───┤┌───┐┌─┴─┐┌─┴─┐┌─┴─┐└───┘ ░  ║  ║ └╥┘\n",
       "ancilla: ┤ X ├┤ H ├┤ X ├┤ X ├┤ X ├─────────╫──╫──╫─\n",
       "         └───┘└───┘└───┘└───┘└───┘         ║  ║  ║ \n",
       "    c: 3/══════════════════════════════════╩══╩══╩═\n",
       "                                           0  1  2 </pre>"
      ],
      "text/plain": [
       "         ┌───┐          ┌───┐           ░ ┌─┐      \n",
       "    q_0: ┤ H ├───────■──┤ H ├───────────░─┤M├──────\n",
       "         ├───┤       │  └───┘┌───┐      ░ └╥┘┌─┐   \n",
       "    q_1: ┤ H ├───────┼────■──┤ H ├──────░──╫─┤M├───\n",
       "         ├───┤       │    │  └───┘┌───┐ ░  ║ └╥┘┌─┐\n",
       "    q_2: ┤ H ├───────┼────┼────■──┤ H ├─░──╫──╫─┤M├\n",
       "         ├───┤┌───┐┌─┴─┐┌─┴─┐┌─┴─┐└───┘ ░  ║  ║ └╥┘\n",
       "ancilla: ┤ X ├┤ H ├┤ X ├┤ X ├┤ X ├─────────╫──╫──╫─\n",
       "         └───┘└───┘└───┘└───┘└───┘         ║  ║  ║ \n",
       "    c: 3/══════════════════════════════════╩══╩══╩═\n",
       "                                           0  1  2 "
      ]
     },
     "execution_count": 3,
     "metadata": {},
     "output_type": "execute_result"
    }
   ],
   "source": [
    "from qiskit import QuantumRegister, ClassicalRegister, QuantumCircuit\n",
    "\n",
    "qr = QuantumRegister(3, 'q')\n",
    "anc = QuantumRegister(1, 'ancilla')\n",
    "cr = ClassicalRegister(3, 'c')\n",
    "qc = QuantumCircuit(qr, anc, cr)\n",
    "\n",
    "qc.x(anc[0])\n",
    "qc.h(anc[0])\n",
    "qc.h(qr[0:3])\n",
    "qc.cx(qr[0:3], anc[0])\n",
    "qc.h(qr[0:3])\n",
    "qc.barrier(qr)\n",
    "qc.measure(qr, cr)\n",
    "\n",
    "qc.draw()"
   ]
  }
 ],
 "metadata": {
  "kernelspec": {
   "display_name": "Python 3 (ipykernel)",
   "language": "python",
   "name": "python3"
  },
  "language_info": {
   "codemirror_mode": {
    "name": "ipython",
    "version": 3
   },
   "file_extension": ".py",
   "mimetype": "text/x-python",
   "name": "python",
   "nbconvert_exporter": "python",
   "pygments_lexer": "ipython3",
   "version": "3.8.12"
  }
 },
 "nbformat": 4,
 "nbformat_minor": 5
}