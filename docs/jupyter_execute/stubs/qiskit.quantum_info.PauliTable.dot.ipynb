{
 "cells": [
  {
   "cell_type": "code",
   "execution_count": 1,
   "id": "860cd525",
   "metadata": {
    "execution": {
     "iopub.execute_input": "2022-04-12T17:16:49.759182Z",
     "iopub.status.busy": "2022-04-12T17:16:49.758951Z",
     "iopub.status.idle": "2022-04-12T17:16:50.021618Z",
     "shell.execute_reply": "2022-04-12T17:16:50.020051Z"
    }
   },
   "outputs": [
    {
     "name": "stdout",
     "output_type": "stream",
     "text": [
      "PauliTable: ['Y', 'Z', 'Z', 'Y']\n"
     ]
    }
   ],
   "source": [
    "from qiskit.quantum_info.operators import PauliTable\n",
    "\n",
    "current = PauliTable.from_labels(['I', 'X'])\n",
    "other =  PauliTable.from_labels(['Y', 'Z'])\n",
    "print(current.dot(other))"
   ]
  }
 ],
 "metadata": {
  "kernelspec": {
   "display_name": "Python 3 (ipykernel)",
   "language": "python",
   "name": "python3"
  },
  "language_info": {
   "codemirror_mode": {
    "name": "ipython",
    "version": 3
   },
   "file_extension": ".py",
   "mimetype": "text/x-python",
   "name": "python",
   "nbconvert_exporter": "python",
   "pygments_lexer": "ipython3",
   "version": "3.8.12"
  }
 },
 "nbformat": 4,
 "nbformat_minor": 5
}