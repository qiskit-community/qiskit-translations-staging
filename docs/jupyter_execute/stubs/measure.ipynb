{
 "cells": [
  {
   "cell_type": "code",
   "execution_count": 1,
   "id": "6e12dccb",
   "metadata": {
    "execution": {
     "iopub.execute_input": "2022-02-19T04:30:48.940673Z",
     "iopub.status.busy": "2022-02-19T04:30:48.940430Z",
     "iopub.status.idle": "2022-02-19T04:30:49.532258Z",
     "shell.execute_reply": "2022-02-19T04:30:49.531667Z"
    }
   },
   "outputs": [],
   "source": [
    "from qiskit import pulse\n",
    "from qiskit.test.mock import FakeOpenPulse2Q\n",
    "\n",
    "backend = FakeOpenPulse2Q()\n",
    "\n",
    "qubit = 0\n",
    "\n",
    "with pulse.build(backend) as pulse_prog:\n",
    "    # Do something to the qubit.\n",
    "    qubit_drive_chan = pulse.drive_channel(0)\n",
    "    pulse.play(pulse.Constant(100, 1.0), qubit_drive_chan)\n",
    "    # Measure the qubit.\n",
    "    reg = pulse.measure(qubit)"
   ]
  },
  {
   "cell_type": "code",
   "execution_count": 2,
   "id": "3ae8cca5",
   "metadata": {
    "execution": {
     "iopub.execute_input": "2022-02-19T04:30:49.535378Z",
     "iopub.status.busy": "2022-02-19T04:30:49.535065Z",
     "iopub.status.idle": "2022-02-19T04:30:49.540409Z",
     "shell.execute_reply": "2022-02-19T04:30:49.539867Z"
    }
   },
   "outputs": [],
   "source": [
    "with pulse.build(backend) as pulse_prog:\n",
    "    pulse.play(pulse.Constant(100, 1.0), qubit_drive_chan)\n",
    "    # Measure the qubit.\n",
    "    mem0 = pulse.MemorySlot(0)\n",
    "    reg = pulse.measure(qubit, mem0)\n",
    "\n",
    "assert reg == mem0"
   ]
  }
 ],
 "metadata": {
  "kernelspec": {
   "display_name": "Python 3 (ipykernel)",
   "language": "python",
   "name": "python3"
  },
  "language_info": {
   "codemirror_mode": {
    "name": "ipython",
    "version": 3
   },
   "file_extension": ".py",
   "mimetype": "text/x-python",
   "name": "python",
   "nbconvert_exporter": "python",
   "pygments_lexer": "ipython3",
   "version": "3.8.12"
  }
 },
 "nbformat": 4,
 "nbformat_minor": 5
}