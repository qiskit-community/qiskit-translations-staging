{
 "cells": [
  {
   "cell_type": "code",
   "execution_count": 1,
   "id": "c432e133",
   "metadata": {
    "execution": {
     "iopub.execute_input": "2022-05-06T16:36:35.228629Z",
     "iopub.status.busy": "2022-05-06T16:36:35.228365Z",
     "iopub.status.idle": "2022-05-06T16:36:35.746421Z",
     "shell.execute_reply": "2022-05-06T16:36:35.745808Z"
    }
   },
   "outputs": [],
   "source": [
    "from qiskit import pulse\n",
    "from qiskit.test.mock import FakeOpenPulse2Q\n",
    "\n",
    "backend = FakeOpenPulse2Q()\n",
    "\n",
    "qubit = 0\n",
    "\n",
    "with pulse.build(backend) as pulse_prog:\n",
    "    # Do something to the qubit.\n",
    "    qubit_drive_chan = pulse.drive_channel(0)\n",
    "    pulse.play(pulse.Constant(100, 1.0), qubit_drive_chan)\n",
    "    # Measure the qubit.\n",
    "    reg = pulse.measure(qubit)"
   ]
  },
  {
   "cell_type": "code",
   "execution_count": 2,
   "id": "16686294",
   "metadata": {
    "execution": {
     "iopub.execute_input": "2022-05-06T16:36:35.750483Z",
     "iopub.status.busy": "2022-05-06T16:36:35.749440Z",
     "iopub.status.idle": "2022-05-06T16:36:35.755764Z",
     "shell.execute_reply": "2022-05-06T16:36:35.755216Z"
    }
   },
   "outputs": [],
   "source": [
    "with pulse.build(backend) as pulse_prog:\n",
    "    pulse.play(pulse.Constant(100, 1.0), qubit_drive_chan)\n",
    "    # Measure the qubit.\n",
    "    mem0 = pulse.MemorySlot(0)\n",
    "    reg = pulse.measure(qubit, mem0)\n",
    "\n",
    "assert reg == mem0"
   ]
  }
 ],
 "metadata": {
  "kernelspec": {
   "display_name": "Python 3 (ipykernel)",
   "language": "python",
   "name": "python3"
  },
  "language_info": {
   "codemirror_mode": {
    "name": "ipython",
    "version": 3
   },
   "file_extension": ".py",
   "mimetype": "text/x-python",
   "name": "python",
   "nbconvert_exporter": "python",
   "pygments_lexer": "ipython3",
   "version": "3.8.12"
  }
 },
 "nbformat": 4,
 "nbformat_minor": 5
}