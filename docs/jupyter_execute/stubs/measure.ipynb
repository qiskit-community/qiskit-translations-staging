{
 "cells": [
  {
   "cell_type": "code",
   "execution_count": 1,
   "id": "45dd6f9d",
   "metadata": {
    "execution": {
     "iopub.execute_input": "2022-03-09T16:22:09.263720Z",
     "iopub.status.busy": "2022-03-09T16:22:09.263497Z",
     "iopub.status.idle": "2022-03-09T16:22:09.862402Z",
     "shell.execute_reply": "2022-03-09T16:22:09.861777Z"
    }
   },
   "outputs": [],
   "source": [
    "from qiskit import pulse\n",
    "from qiskit.test.mock import FakeOpenPulse2Q\n",
    "\n",
    "backend = FakeOpenPulse2Q()\n",
    "\n",
    "qubit = 0\n",
    "\n",
    "with pulse.build(backend) as pulse_prog:\n",
    "    # Do something to the qubit.\n",
    "    qubit_drive_chan = pulse.drive_channel(0)\n",
    "    pulse.play(pulse.Constant(100, 1.0), qubit_drive_chan)\n",
    "    # Measure the qubit.\n",
    "    reg = pulse.measure(qubit)"
   ]
  },
  {
   "cell_type": "code",
   "execution_count": 2,
   "id": "32338d8f",
   "metadata": {
    "execution": {
     "iopub.execute_input": "2022-03-09T16:22:09.865767Z",
     "iopub.status.busy": "2022-03-09T16:22:09.865448Z",
     "iopub.status.idle": "2022-03-09T16:22:09.870821Z",
     "shell.execute_reply": "2022-03-09T16:22:09.870294Z"
    }
   },
   "outputs": [],
   "source": [
    "with pulse.build(backend) as pulse_prog:\n",
    "    pulse.play(pulse.Constant(100, 1.0), qubit_drive_chan)\n",
    "    # Measure the qubit.\n",
    "    mem0 = pulse.MemorySlot(0)\n",
    "    reg = pulse.measure(qubit, mem0)\n",
    "\n",
    "assert reg == mem0"
   ]
  }
 ],
 "metadata": {
  "kernelspec": {
   "display_name": "Python 3 (ipykernel)",
   "language": "python",
   "name": "python3"
  },
  "language_info": {
   "codemirror_mode": {
    "name": "ipython",
    "version": 3
   },
   "file_extension": ".py",
   "mimetype": "text/x-python",
   "name": "python",
   "nbconvert_exporter": "python",
   "pygments_lexer": "ipython3",
   "version": "3.8.12"
  }
 },
 "nbformat": 4,
 "nbformat_minor": 5
}