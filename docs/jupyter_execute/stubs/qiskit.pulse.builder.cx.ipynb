{
 "cells": [
  {
   "cell_type": "code",
   "execution_count": 1,
   "id": "f1ebafca",
   "metadata": {
    "execution": {
     "iopub.execute_input": "2022-02-01T16:38:16.870127Z",
     "iopub.status.busy": "2022-02-01T16:38:16.869679Z",
     "iopub.status.idle": "2022-02-01T16:38:17.590107Z",
     "shell.execute_reply": "2022-02-01T16:38:17.589615Z"
    }
   },
   "outputs": [],
   "source": [
    "from qiskit import pulse\n",
    "from qiskit.test.mock import FakeOpenPulse2Q\n",
    "\n",
    "backend = FakeOpenPulse2Q()\n",
    "\n",
    "with pulse.build(backend) as pulse_prog:\n",
    "    pulse.cx(0, 1)"
   ]
  }
 ],
 "metadata": {
  "kernelspec": {
   "display_name": "Python 3 (ipykernel)",
   "language": "python",
   "name": "python3"
  },
  "language_info": {
   "codemirror_mode": {
    "name": "ipython",
    "version": 3
   },
   "file_extension": ".py",
   "mimetype": "text/x-python",
   "name": "python",
   "nbconvert_exporter": "python",
   "pygments_lexer": "ipython3",
   "version": "3.8.12"
  }
 },
 "nbformat": 4,
 "nbformat_minor": 5
}