{
 "cells": [
  {
   "cell_type": "code",
   "execution_count": 1,
   "id": "4f4ec463",
   "metadata": {
    "execution": {
     "iopub.execute_input": "2022-06-21T17:22:49.217744Z",
     "iopub.status.busy": "2022-06-21T17:22:49.217300Z",
     "iopub.status.idle": "2022-06-21T17:22:49.709925Z",
     "shell.execute_reply": "2022-06-21T17:22:49.709232Z"
    }
   },
   "outputs": [],
   "source": [
    "from qiskit import pulse\n",
    "from qiskit.test.mock import FakeOpenPulse2Q\n",
    "\n",
    "backend = FakeOpenPulse2Q()\n",
    "\n",
    "with pulse.build(backend) as pulse_prog:\n",
    "    pulse.cx(0, 1)"
   ]
  }
 ],
 "metadata": {
  "kernelspec": {
   "display_name": "Python 3 (ipykernel)",
   "language": "python",
   "name": "python3"
  },
  "language_info": {
   "codemirror_mode": {
    "name": "ipython",
    "version": 3
   },
   "file_extension": ".py",
   "mimetype": "text/x-python",
   "name": "python",
   "nbconvert_exporter": "python",
   "pygments_lexer": "ipython3",
   "version": "3.8.12"
  }
 },
 "nbformat": 4,
 "nbformat_minor": 5
}