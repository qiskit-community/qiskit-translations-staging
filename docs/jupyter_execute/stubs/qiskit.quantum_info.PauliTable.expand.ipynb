{
 "cells": [
  {
   "cell_type": "code",
   "execution_count": 1,
   "id": "cd90f24b",
   "metadata": {
    "execution": {
     "iopub.execute_input": "2022-03-14T13:37:30.645608Z",
     "iopub.status.busy": "2022-03-14T13:37:30.645279Z",
     "iopub.status.idle": "2022-03-14T13:37:31.084517Z",
     "shell.execute_reply": "2022-03-14T13:37:31.084001Z"
    }
   },
   "outputs": [
    {
     "name": "stdout",
     "output_type": "stream",
     "text": [
      "PauliTable: ['YI', 'YX', 'ZI', 'ZX']\n"
     ]
    }
   ],
   "source": [
    "from qiskit.quantum_info.operators import PauliTable\n",
    "\n",
    "current = PauliTable.from_labels(['I', 'X'])\n",
    "other =  PauliTable.from_labels(['Y', 'Z'])\n",
    "print(current.expand(other))"
   ]
  }
 ],
 "metadata": {
  "kernelspec": {
   "display_name": "Python 3 (ipykernel)",
   "language": "python",
   "name": "python3"
  },
  "language_info": {
   "codemirror_mode": {
    "name": "ipython",
    "version": 3
   },
   "file_extension": ".py",
   "mimetype": "text/x-python",
   "name": "python",
   "nbconvert_exporter": "python",
   "pygments_lexer": "ipython3",
   "version": "3.8.12"
  }
 },
 "nbformat": 4,
 "nbformat_minor": 5
}