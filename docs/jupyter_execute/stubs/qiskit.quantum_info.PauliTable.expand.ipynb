{
 "cells": [
  {
   "cell_type": "code",
   "execution_count": 1,
   "id": "2c20cf7c",
   "metadata": {
    "execution": {
     "iopub.execute_input": "2022-02-11T14:56:02.858004Z",
     "iopub.status.busy": "2022-02-11T14:56:02.857491Z",
     "iopub.status.idle": "2022-02-11T14:56:03.313223Z",
     "shell.execute_reply": "2022-02-11T14:56:03.312700Z"
    }
   },
   "outputs": [
    {
     "name": "stdout",
     "output_type": "stream",
     "text": [
      "PauliTable: ['YI', 'YX', 'ZI', 'ZX']\n"
     ]
    }
   ],
   "source": [
    "from qiskit.quantum_info.operators import PauliTable\n",
    "\n",
    "current = PauliTable.from_labels(['I', 'X'])\n",
    "other =  PauliTable.from_labels(['Y', 'Z'])\n",
    "print(current.expand(other))"
   ]
  }
 ],
 "metadata": {
  "kernelspec": {
   "display_name": "Python 3 (ipykernel)",
   "language": "python",
   "name": "python3"
  },
  "language_info": {
   "codemirror_mode": {
    "name": "ipython",
    "version": 3
   },
   "file_extension": ".py",
   "mimetype": "text/x-python",
   "name": "python",
   "nbconvert_exporter": "python",
   "pygments_lexer": "ipython3",
   "version": "3.8.12"
  }
 },
 "nbformat": 4,
 "nbformat_minor": 5
}