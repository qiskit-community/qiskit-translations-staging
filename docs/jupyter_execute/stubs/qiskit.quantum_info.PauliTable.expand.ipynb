{
 "cells": [
  {
   "cell_type": "code",
   "execution_count": 1,
   "id": "de41d3bd",
   "metadata": {
    "execution": {
     "iopub.execute_input": "2022-03-09T16:23:24.829564Z",
     "iopub.status.busy": "2022-03-09T16:23:24.829330Z",
     "iopub.status.idle": "2022-03-09T16:23:25.299287Z",
     "shell.execute_reply": "2022-03-09T16:23:25.297888Z"
    }
   },
   "outputs": [
    {
     "name": "stdout",
     "output_type": "stream",
     "text": [
      "PauliTable: ['YI', 'YX', 'ZI', 'ZX']\n"
     ]
    }
   ],
   "source": [
    "from qiskit.quantum_info.operators import PauliTable\n",
    "\n",
    "current = PauliTable.from_labels(['I', 'X'])\n",
    "other =  PauliTable.from_labels(['Y', 'Z'])\n",
    "print(current.expand(other))"
   ]
  }
 ],
 "metadata": {
  "kernelspec": {
   "display_name": "Python 3 (ipykernel)",
   "language": "python",
   "name": "python3"
  },
  "language_info": {
   "codemirror_mode": {
    "name": "ipython",
    "version": 3
   },
   "file_extension": ".py",
   "mimetype": "text/x-python",
   "name": "python",
   "nbconvert_exporter": "python",
   "pygments_lexer": "ipython3",
   "version": "3.8.12"
  }
 },
 "nbformat": 4,
 "nbformat_minor": 5
}