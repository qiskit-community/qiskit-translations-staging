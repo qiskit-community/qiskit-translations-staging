{
 "cells": [
  {
   "cell_type": "code",
   "execution_count": 1,
   "id": "b6b437e4",
   "metadata": {
    "execution": {
     "iopub.execute_input": "2022-05-05T19:29:26.557773Z",
     "iopub.status.busy": "2022-05-05T19:29:26.557583Z",
     "iopub.status.idle": "2022-05-05T19:29:26.823487Z",
     "shell.execute_reply": "2022-05-05T19:29:26.822972Z"
    }
   },
   "outputs": [
    {
     "data": {
      "text/html": [
       "<pre style=\"word-wrap: normal;white-space: pre;background: #fff0;line-height: 1.1;font-family: &quot;Courier New&quot;,Courier,monospace\">   ┌──────────────────────────────┐\n",
       "q: ┤ Initialize(0.70711,-0.70711) ├\n",
       "   └──────────────────────────────┘</pre>"
      ],
      "text/plain": [
       "   ┌──────────────────────────────┐\n",
       "q: ┤ Initialize(0.70711,-0.70711) ├\n",
       "   └──────────────────────────────┘"
      ]
     },
     "execution_count": 1,
     "metadata": {},
     "output_type": "execute_result"
    }
   ],
   "source": [
    "import numpy as np\n",
    "from qiskit import QuantumCircuit\n",
    "\n",
    "circuit = QuantumCircuit(1)\n",
    "circuit.initialize([1/np.sqrt(2), -1/np.sqrt(2)], 0)\n",
    "circuit.draw()"
   ]
  },
  {
   "cell_type": "code",
   "execution_count": 2,
   "id": "9d4ae5d2",
   "metadata": {
    "execution": {
     "iopub.execute_input": "2022-05-05T19:29:26.826346Z",
     "iopub.status.busy": "2022-05-05T19:29:26.826189Z",
     "iopub.status.idle": "2022-05-05T19:29:26.832085Z",
     "shell.execute_reply": "2022-05-05T19:29:26.831584Z"
    }
   },
   "outputs": [
    {
     "data": {
      "text/html": [
       "<pre style=\"word-wrap: normal;white-space: pre;background: #fff0;line-height: 1.1;font-family: &quot;Courier New&quot;,Courier,monospace\">     ┌──────────────────┐\n",
       "q_0: ┤0                 ├\n",
       "     │  Initialize(0,1) │\n",
       "q_1: ┤1                 ├\n",
       "     └──────────────────┘</pre>"
      ],
      "text/plain": [
       "     ┌──────────────────┐\n",
       "q_0: ┤0                 ├\n",
       "     │  Initialize(0,1) │\n",
       "q_1: ┤1                 ├\n",
       "     └──────────────────┘"
      ]
     },
     "execution_count": 2,
     "metadata": {},
     "output_type": "execute_result"
    }
   ],
   "source": [
    "import numpy as np\n",
    "from qiskit import QuantumCircuit\n",
    "\n",
    "circuit = QuantumCircuit(2)\n",
    "circuit.initialize('01', circuit.qubits)\n",
    "circuit.draw()"
   ]
  }
 ],
 "metadata": {
  "kernelspec": {
   "display_name": "Python 3 (ipykernel)",
   "language": "python",
   "name": "python3"
  },
  "language_info": {
   "codemirror_mode": {
    "name": "ipython",
    "version": 3
   },
   "file_extension": ".py",
   "mimetype": "text/x-python",
   "name": "python",
   "nbconvert_exporter": "python",
   "pygments_lexer": "ipython3",
   "version": "3.8.12"
  }
 },
 "nbformat": 4,
 "nbformat_minor": 5
}