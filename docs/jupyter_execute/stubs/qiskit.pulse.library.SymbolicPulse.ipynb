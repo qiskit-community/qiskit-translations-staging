{
 "cells": [
  {
   "cell_type": "code",
   "execution_count": 1,
   "id": "47713550",
   "metadata": {
    "execution": {
     "iopub.execute_input": "2022-07-13T20:06:55.187086Z",
     "iopub.status.busy": "2022-07-13T20:06:55.186738Z",
     "iopub.status.idle": "2022-07-13T20:06:55.592300Z",
     "shell.execute_reply": "2022-07-13T20:06:55.591152Z"
    }
   },
   "outputs": [],
   "source": [
    "from qiskit.pulse.library import SymbolicPulse\n",
    "\n",
    "my_pulse = SymbolicPulse(\n",
    "    pulse_type=\"Sawtooth\",\n",
    "    duration=100,\n",
    "    parameters={\"amp\": 0.1, \"freq\": 0.05},\n",
    "    name=\"pulse1\",\n",
    ")"
   ]
  },
  {
   "cell_type": "code",
   "execution_count": 2,
   "id": "672bf385",
   "metadata": {
    "execution": {
     "iopub.execute_input": "2022-07-13T20:06:55.597162Z",
     "iopub.status.busy": "2022-07-13T20:06:55.596533Z",
     "iopub.status.idle": "2022-07-13T20:06:57.145548Z",
     "shell.execute_reply": "2022-07-13T20:06:57.144851Z"
    }
   },
   "outputs": [
    {
     "data": {
      "image/png": "[encoded data removed]",
      "text/plain": [
       "<Figure size 936x216 with 1 Axes>"
      ]
     },
     "execution_count": 2,
     "metadata": {
      "filenames": {
       "image/png": "/home/runner/work/qiskit-translations/qiskit-translations/docs/_build/html/locale/jupyter_execute/stubs/qiskit.pulse.library.SymbolicPulse_1_0.png"
      }
     },
     "output_type": "execute_result"
    }
   ],
   "source": [
    "import sympy\n",
    "\n",
    "t, amp, freq = sympy.symbols(\"t, amp, freq\")\n",
    "envelope = 2 * amp * (freq * t - sympy.floor(1 / 2 + freq * t))\n",
    "\n",
    "my_pulse = SymbolicPulse(\n",
    "    pulse_type=\"Sawtooth\",\n",
    "    duration=100,\n",
    "    parameters={\"amp\": 0.1, \"freq\": 0.05},\n",
    "    envelope=envelope,\n",
    "    name=\"pulse1\",\n",
    ")\n",
    "\n",
    "my_pulse.draw()"
   ]
  }
 ],
 "metadata": {
  "kernelspec": {
   "display_name": "Python 3 (ipykernel)",
   "language": "python",
   "name": "python3"
  },
  "language_info": {
   "codemirror_mode": {
    "name": "ipython",
    "version": 3
   },
   "file_extension": ".py",
   "mimetype": "text/x-python",
   "name": "python",
   "nbconvert_exporter": "python",
   "pygments_lexer": "ipython3",
   "version": "3.8.13"
  }
 },
 "nbformat": 4,
 "nbformat_minor": 5
}