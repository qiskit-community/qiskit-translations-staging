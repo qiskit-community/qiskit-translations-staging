{
 "cells": [
  {
   "cell_type": "code",
   "execution_count": 1,
   "id": "5e2de0b7",
   "metadata": {
    "execution": {
     "iopub.execute_input": "2022-07-01T18:07:26.217923Z",
     "iopub.status.busy": "2022-07-01T18:07:26.217317Z",
     "iopub.status.idle": "2022-07-01T18:07:26.690698Z",
     "shell.execute_reply": "2022-07-01T18:07:26.690038Z"
    }
   },
   "outputs": [],
   "source": [
    "from qiskit.test.ibmq_mock import mock_get_backend\n",
    "mock_get_backend('FakeVigo')"
   ]
  },
  {
   "cell_type": "code",
   "execution_count": 2,
   "id": "3c45e371",
   "metadata": {
    "execution": {
     "iopub.execute_input": "2022-07-01T18:07:26.694115Z",
     "iopub.status.busy": "2022-07-01T18:07:26.693754Z",
     "iopub.status.idle": "2022-07-01T18:07:27.388477Z",
     "shell.execute_reply": "2022-07-01T18:07:27.387840Z"
    }
   },
   "outputs": [
    {
     "data": {
      "image/png": "[encoded data removed]",
      "text/plain": [
       "<Figure size 360x360 with 1 Axes>"
      ]
     },
     "execution_count": 2,
     "metadata": {
      "filenames": {
       "image/png": "/home/runner/work/qiskit-translations/qiskit-translations/docs/_build/html/locale/jupyter_execute/stubs/qiskit.visualization.plot_gate_map_1_0.png"
      }
     },
     "output_type": "execute_result"
    }
   ],
   "source": [
    "from qiskit import QuantumCircuit, execute, IBMQ\n",
    "from qiskit.visualization import plot_gate_map\n",
    "%matplotlib inline\n",
    "\n",
    "provider = IBMQ.load_account()\n",
    "accountProvider = IBMQ.get_provider(hub='ibm-q')\n",
    "backend = accountProvider.get_backend('ibmq_vigo')\n",
    "plot_gate_map(backend)"
   ]
  }
 ],
 "metadata": {
  "kernelspec": {
   "display_name": "Python 3 (ipykernel)",
   "language": "python",
   "name": "python3"
  },
  "language_info": {
   "codemirror_mode": {
    "name": "ipython",
    "version": 3
   },
   "file_extension": ".py",
   "mimetype": "text/x-python",
   "name": "python",
   "nbconvert_exporter": "python",
   "pygments_lexer": "ipython3",
   "version": "3.8.13"
  }
 },
 "nbformat": 4,
 "nbformat_minor": 5
}