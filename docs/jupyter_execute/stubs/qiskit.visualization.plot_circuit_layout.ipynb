{
 "cells": [
  {
   "cell_type": "code",
   "execution_count": 1,
   "id": "e3857249",
   "metadata": {
    "execution": {
     "iopub.execute_input": "2022-03-18T14:16:55.265133Z",
     "iopub.status.busy": "2022-03-18T14:16:55.264918Z",
     "iopub.status.idle": "2022-03-18T14:16:55.863757Z",
     "shell.execute_reply": "2022-03-18T14:16:55.863173Z"
    }
   },
   "outputs": [],
   "source": [
    "from qiskit.test.ibmq_mock import mock_get_backend\n",
    "mock_get_backend('FakeVigo')"
   ]
  },
  {
   "cell_type": "code",
   "execution_count": 2,
   "id": "49336c52",
   "metadata": {
    "execution": {
     "iopub.execute_input": "2022-03-18T14:16:55.867035Z",
     "iopub.status.busy": "2022-03-18T14:16:55.866854Z",
     "iopub.status.idle": "2022-03-18T14:16:57.281781Z",
     "shell.execute_reply": "2022-03-18T14:16:57.281293Z"
    }
   },
   "outputs": [
    {
     "data": {
      "image/png": "[encoded data removed]",
      "text/plain": [
       "<Figure size 360x360 with 1 Axes>"
      ]
     },
     "execution_count": 2,
     "metadata": {
      "filenames": {
       "image/png": "/home/runner/work/qiskit-translations/qiskit-translations/docs/_build/html/locale/jupyter_execute/stubs/qiskit.visualization.plot_circuit_layout_1_0.png"
      }
     },
     "output_type": "execute_result"
    }
   ],
   "source": [
    "import numpy as np\n",
    "from qiskit import QuantumCircuit, IBMQ, transpile\n",
    "from qiskit.visualization import plot_histogram, plot_gate_map, plot_circuit_layout\n",
    "from qiskit.tools.monitor import job_monitor\n",
    "import matplotlib.pyplot as plt\n",
    "%matplotlib inline\n",
    "\n",
    "IBMQ.load_account()\n",
    "\n",
    "ghz = QuantumCircuit(3, 3)\n",
    "ghz.h(0)\n",
    "for idx in range(1,3):\n",
    "    ghz.cx(0,idx)\n",
    "ghz.measure(range(3), range(3))\n",
    "\n",
    "provider = IBMQ.get_provider(hub='ibm-q')\n",
    "backend = provider.get_backend('ibmq_vigo')\n",
    "new_circ_lv3 = transpile(ghz, backend=backend, optimization_level=3)\n",
    "plot_circuit_layout(new_circ_lv3, backend)"
   ]
  }
 ],
 "metadata": {
  "kernelspec": {
   "display_name": "Python 3 (ipykernel)",
   "language": "python",
   "name": "python3"
  },
  "language_info": {
   "codemirror_mode": {
    "name": "ipython",
    "version": 3
   },
   "file_extension": ".py",
   "mimetype": "text/x-python",
   "name": "python",
   "nbconvert_exporter": "python",
   "pygments_lexer": "ipython3",
   "version": "3.8.12"
  }
 },
 "nbformat": 4,
 "nbformat_minor": 5
}