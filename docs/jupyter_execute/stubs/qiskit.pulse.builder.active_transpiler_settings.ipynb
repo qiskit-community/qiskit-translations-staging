{
 "cells": [
  {
   "cell_type": "code",
   "execution_count": 1,
   "id": "6be3b8b0",
   "metadata": {
    "execution": {
     "iopub.execute_input": "2022-03-09T16:21:38.299526Z",
     "iopub.status.busy": "2022-03-09T16:21:38.299181Z",
     "iopub.status.idle": "2022-03-09T16:21:38.896191Z",
     "shell.execute_reply": "2022-03-09T16:21:38.894882Z"
    }
   },
   "outputs": [
    {
     "name": "stdout",
     "output_type": "stream",
     "text": [
      "{'optimization_level': 3}\n"
     ]
    }
   ],
   "source": [
    "from qiskit import pulse\n",
    "from qiskit.test.mock import FakeOpenPulse2Q\n",
    "\n",
    "backend = FakeOpenPulse2Q()\n",
    "\n",
    "transpiler_settings = {'optimization_level': 3}\n",
    "\n",
    "with pulse.build(backend,\n",
    "                 default_transpiler_settings=transpiler_settings):\n",
    "    print(pulse.active_transpiler_settings())"
   ]
  }
 ],
 "metadata": {
  "kernelspec": {
   "display_name": "Python 3 (ipykernel)",
   "language": "python",
   "name": "python3"
  },
  "language_info": {
   "codemirror_mode": {
    "name": "ipython",
    "version": 3
   },
   "file_extension": ".py",
   "mimetype": "text/x-python",
   "name": "python",
   "nbconvert_exporter": "python",
   "pygments_lexer": "ipython3",
   "version": "3.8.12"
  }
 },
 "nbformat": 4,
 "nbformat_minor": 5
}