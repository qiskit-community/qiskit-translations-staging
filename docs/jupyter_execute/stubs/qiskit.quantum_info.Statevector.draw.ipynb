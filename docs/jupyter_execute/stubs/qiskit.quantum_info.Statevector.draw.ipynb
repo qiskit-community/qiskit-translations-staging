{
 "cells": [
  {
   "cell_type": "code",
   "execution_count": 1,
   "id": "028f98f5",
   "metadata": {
    "execution": {
     "iopub.execute_input": "2022-05-06T16:38:16.239928Z",
     "iopub.status.busy": "2022-05-06T16:38:16.239475Z",
     "iopub.status.idle": "2022-05-06T16:38:17.146231Z",
     "shell.execute_reply": "2022-05-06T16:38:17.145573Z"
    }
   },
   "outputs": [
    {
     "data": {
      "text/latex": [
       "$$\\frac{\\sqrt{2}}{2} |00\\rangle- \\frac{\\sqrt{2}}{2} |11\\rangle$$"
      ],
      "text/plain": [
       "<IPython.core.display.Latex object>"
      ]
     },
     "execution_count": 1,
     "metadata": {},
     "output_type": "execute_result"
    }
   ],
   "source": [
    "from numpy import sqrt\n",
    "from qiskit.quantum_info import Statevector\n",
    "sv=Statevector([1/sqrt(2), 0, 0, -1/sqrt(2)])\n",
    "sv.draw(output='latex')"
   ]
  }
 ],
 "metadata": {
  "kernelspec": {
   "display_name": "Python 3 (ipykernel)",
   "language": "python",
   "name": "python3"
  },
  "language_info": {
   "codemirror_mode": {
    "name": "ipython",
    "version": 3
   },
   "file_extension": ".py",
   "mimetype": "text/x-python",
   "name": "python",
   "nbconvert_exporter": "python",
   "pygments_lexer": "ipython3",
   "version": "3.8.12"
  }
 },
 "nbformat": 4,
 "nbformat_minor": 5
}