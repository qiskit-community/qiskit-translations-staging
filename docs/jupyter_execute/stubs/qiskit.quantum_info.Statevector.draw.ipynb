{
 "cells": [
  {
   "cell_type": "code",
   "execution_count": 1,
   "id": "fdc959ef",
   "metadata": {
    "execution": {
     "iopub.execute_input": "2022-07-01T18:06:11.042065Z",
     "iopub.status.busy": "2022-07-01T18:06:11.041410Z",
     "iopub.status.idle": "2022-07-01T18:06:11.887778Z",
     "shell.execute_reply": "2022-07-01T18:06:11.887170Z"
    }
   },
   "outputs": [
    {
     "data": {
      "text/latex": [
       "$$\\frac{\\sqrt{2}}{2} |00\\rangle- \\frac{\\sqrt{2}}{2} |11\\rangle$$"
      ],
      "text/plain": [
       "<IPython.core.display.Latex object>"
      ]
     },
     "execution_count": 1,
     "metadata": {},
     "output_type": "execute_result"
    }
   ],
   "source": [
    "from numpy import sqrt\n",
    "from qiskit.quantum_info import Statevector\n",
    "sv=Statevector([1/sqrt(2), 0, 0, -1/sqrt(2)])\n",
    "sv.draw(output='latex')"
   ]
  }
 ],
 "metadata": {
  "kernelspec": {
   "display_name": "Python 3 (ipykernel)",
   "language": "python",
   "name": "python3"
  },
  "language_info": {
   "codemirror_mode": {
    "name": "ipython",
    "version": 3
   },
   "file_extension": ".py",
   "mimetype": "text/x-python",
   "name": "python",
   "nbconvert_exporter": "python",
   "pygments_lexer": "ipython3",
   "version": "3.8.13"
  }
 },
 "nbformat": 4,
 "nbformat_minor": 5
}