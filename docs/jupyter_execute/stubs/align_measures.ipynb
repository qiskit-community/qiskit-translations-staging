{
 "cells": [
  {
   "cell_type": "code",
   "execution_count": 1,
   "id": "705d25f2",
   "metadata": {
    "execution": {
     "iopub.execute_input": "2022-03-07T17:33:50.395808Z",
     "iopub.status.busy": "2022-03-07T17:33:50.395611Z",
     "iopub.status.idle": "2022-03-07T17:33:50.835289Z",
     "shell.execute_reply": "2022-03-07T17:33:50.834704Z"
    }
   },
   "outputs": [],
   "source": [
    "from qiskit import pulse\n",
    "from qiskit.pulse import transforms\n",
    "\n",
    "d0 = pulse.DriveChannel(0)\n",
    "m0 = pulse.MeasureChannel(0)\n",
    "a0 = pulse.AcquireChannel(0)\n",
    "mem0 = pulse.MemorySlot(0)\n",
    "\n",
    "sched = pulse.Schedule()\n",
    "sched.append(pulse.Play(pulse.Constant(10, 0.5), d0), inplace=True)\n",
    "sched.append(pulse.Play(pulse.Constant(10, 1.), m0).shift(sched.duration), inplace=True)\n",
    "sched.append(pulse.Acquire(20, a0, mem0).shift(sched.duration), inplace=True)\n",
    "\n",
    "sched_shifted = sched << 20\n",
    "\n",
    "aligned_sched, aligned_sched_shifted = transforms.align_measures([sched, sched_shifted])\n",
    "\n",
    "assert aligned_sched == aligned_sched_shifted"
   ]
  },
  {
   "cell_type": "code",
   "execution_count": 2,
   "id": "f200972d",
   "metadata": {
    "execution": {
     "iopub.execute_input": "2022-03-07T17:33:50.839176Z",
     "iopub.status.busy": "2022-03-07T17:33:50.838852Z",
     "iopub.status.idle": "2022-03-07T17:33:50.843569Z",
     "shell.execute_reply": "2022-03-07T17:33:50.843112Z"
    }
   },
   "outputs": [],
   "source": [
    "aligned_sched, aligned_sched_shifted = transforms.align_measures(\n",
    "    [sched, sched_shifted],\n",
    "    align_all=False,\n",
    ")\n",
    "\n",
    "assert aligned_sched != aligned_sched_shifted"
   ]
  }
 ],
 "metadata": {
  "kernelspec": {
   "display_name": "Python 3 (ipykernel)",
   "language": "python",
   "name": "python3"
  },
  "language_info": {
   "codemirror_mode": {
    "name": "ipython",
    "version": 3
   },
   "file_extension": ".py",
   "mimetype": "text/x-python",
   "name": "python",
   "nbconvert_exporter": "python",
   "pygments_lexer": "ipython3",
   "version": "3.8.12"
  }
 },
 "nbformat": 4,
 "nbformat_minor": 5
}