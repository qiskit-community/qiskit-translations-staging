{
 "cells": [
  {
   "cell_type": "code",
   "execution_count": 1,
   "id": "5e00704f",
   "metadata": {
    "execution": {
     "iopub.execute_input": "2022-03-09T16:22:25.469878Z",
     "iopub.status.busy": "2022-03-09T16:22:25.469627Z",
     "iopub.status.idle": "2022-03-09T16:22:25.942563Z",
     "shell.execute_reply": "2022-03-09T16:22:25.941938Z"
    }
   },
   "outputs": [],
   "source": [
    "import math\n",
    "\n",
    "from qiskit import pulse\n",
    "\n",
    "d0 = pulse.DriveChannel(0)\n",
    "\n",
    "with pulse.build() as pulse_prog:\n",
    "    pulse.shift_phase(math.pi, d0)"
   ]
  }
 ],
 "metadata": {
  "kernelspec": {
   "display_name": "Python 3 (ipykernel)",
   "language": "python",
   "name": "python3"
  },
  "language_info": {
   "codemirror_mode": {
    "name": "ipython",
    "version": 3
   },
   "file_extension": ".py",
   "mimetype": "text/x-python",
   "name": "python",
   "nbconvert_exporter": "python",
   "pygments_lexer": "ipython3",
   "version": "3.8.12"
  }
 },
 "nbformat": 4,
 "nbformat_minor": 5
}