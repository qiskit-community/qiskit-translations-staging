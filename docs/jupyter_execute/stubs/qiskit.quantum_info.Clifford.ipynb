{
 "cells": [
  {
   "cell_type": "code",
   "execution_count": 1,
   "id": "2d3663b7",
   "metadata": {
    "execution": {
     "iopub.execute_input": "2022-05-05T19:34:36.931867Z",
     "iopub.status.busy": "2022-05-05T19:34:36.931633Z",
     "iopub.status.idle": "2022-05-05T19:34:37.198929Z",
     "shell.execute_reply": "2022-05-05T19:34:37.197439Z"
    }
   },
   "outputs": [
    {
     "name": "stdout",
     "output_type": "stream",
     "text": [
      "Clifford: Stabilizer = ['+XX', '+ZZ'], Destabilizer = ['+IZ', '+XI']\n",
      "StabilizerTable: ['+IZ', '+XI']\n",
      "StabilizerTable: ['+XX', '+ZZ']\n"
     ]
    }
   ],
   "source": [
    "from qiskit import QuantumCircuit\n",
    "from qiskit.quantum_info import Clifford\n",
    "\n",
    "# Bell state generation circuit\n",
    "qc = QuantumCircuit(2)\n",
    "qc.h(0)\n",
    "qc.cx(0, 1)\n",
    "cliff = Clifford(qc)\n",
    "\n",
    "# Print the Clifford\n",
    "print(cliff)\n",
    "\n",
    "# Print the Clifford destabilizer rows\n",
    "print(cliff.destabilizer)\n",
    "\n",
    "# Print the Clifford stabilizer rows\n",
    "print(cliff.stabilizer)"
   ]
  }
 ],
 "metadata": {
  "kernelspec": {
   "display_name": "Python 3 (ipykernel)",
   "language": "python",
   "name": "python3"
  },
  "language_info": {
   "codemirror_mode": {
    "name": "ipython",
    "version": 3
   },
   "file_extension": ".py",
   "mimetype": "text/x-python",
   "name": "python",
   "nbconvert_exporter": "python",
   "pygments_lexer": "ipython3",
   "version": "3.8.12"
  }
 },
 "nbformat": 4,
 "nbformat_minor": 5
}