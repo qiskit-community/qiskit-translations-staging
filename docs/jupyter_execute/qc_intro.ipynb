{
 "cells": [
  {
   "cell_type": "code",
   "execution_count": 1,
   "id": "cc3ca2ae",
   "metadata": {
    "execution": {
     "iopub.execute_input": "2022-02-01T16:32:23.332774Z",
     "iopub.status.busy": "2022-02-01T16:32:23.332349Z",
     "iopub.status.idle": "2022-02-01T16:32:23.755293Z",
     "shell.execute_reply": "2022-02-01T16:32:23.754655Z"
    }
   },
   "outputs": [],
   "source": [
    "from qiskit import *"
   ]
  },
  {
   "cell_type": "code",
   "execution_count": 2,
   "id": "b7044694",
   "metadata": {
    "execution": {
     "iopub.execute_input": "2022-02-01T16:32:23.766260Z",
     "iopub.status.busy": "2022-02-01T16:32:23.765828Z",
     "iopub.status.idle": "2022-02-01T16:32:23.769893Z",
     "shell.execute_reply": "2022-02-01T16:32:23.770471Z"
    }
   },
   "outputs": [
    {
     "data": {
      "text/plain": [
       "<qiskit.circuit.instructionset.InstructionSet at 0x7efd9e1e0e80>"
      ]
     },
     "execution_count": 2,
     "metadata": {},
     "output_type": "execute_result"
    }
   ],
   "source": [
    "qr = QuantumRegister(3, 'q')\n",
    "cr = ClassicalRegister(2, 'zx_meas')\n",
    "qc = QuantumCircuit(qr,cr)\n",
    "qc.reset(range(3))\n",
    "qc.barrier()\n",
    "qc.h(1)\n",
    "qc.cx([1,0],[2,1])\n",
    "qc.h(0)\n",
    "qc.barrier()\n",
    "qc.measure([0,1], [0,1])\n",
    "qc.barrier()\n",
    "qc.z(2).c_if(cr, 1)\n",
    "qc.x(2).c_if(cr, 2)"
   ]
  }
 ],
 "metadata": {
  "kernelspec": {
   "display_name": "Python 3 (ipykernel)",
   "language": "python",
   "name": "python3"
  },
  "language_info": {
   "codemirror_mode": {
    "name": "ipython",
    "version": 3
   },
   "file_extension": ".py",
   "mimetype": "text/x-python",
   "name": "python",
   "nbconvert_exporter": "python",
   "pygments_lexer": "ipython3",
   "version": "3.8.12"
  }
 },
 "nbformat": 4,
 "nbformat_minor": 5
}