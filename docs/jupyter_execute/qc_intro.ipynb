{
 "cells": [
  {
   "cell_type": "code",
   "execution_count": 1,
   "id": "6bb9c7c5",
   "metadata": {
    "execution": {
     "iopub.execute_input": "2022-04-28T21:12:15.801632Z",
     "iopub.status.busy": "2022-04-28T21:12:15.801430Z",
     "iopub.status.idle": "2022-04-28T21:12:16.059344Z",
     "shell.execute_reply": "2022-04-28T21:12:16.058774Z"
    }
   },
   "outputs": [],
   "source": [
    "from qiskit import *"
   ]
  },
  {
   "cell_type": "code",
   "execution_count": 2,
   "id": "6ddc9c02",
   "metadata": {
    "execution": {
     "iopub.execute_input": "2022-04-28T21:12:16.063114Z",
     "iopub.status.busy": "2022-04-28T21:12:16.062716Z",
     "iopub.status.idle": "2022-04-28T21:12:16.076017Z",
     "shell.execute_reply": "2022-04-28T21:12:16.075554Z"
    }
   },
   "outputs": [
    {
     "data": {
      "text/plain": [
       "<qiskit.circuit.instructionset.InstructionSet at 0x7ffa527e0dc0>"
      ]
     },
     "execution_count": 2,
     "metadata": {},
     "output_type": "execute_result"
    }
   ],
   "source": [
    "qr = QuantumRegister(3, 'q')\n",
    "cr = ClassicalRegister(2, 'zx_meas')\n",
    "qc = QuantumCircuit(qr,cr)\n",
    "qc.reset(range(3))\n",
    "qc.barrier()\n",
    "qc.h(1)\n",
    "qc.cx([1,0],[2,1])\n",
    "qc.h(0)\n",
    "qc.barrier()\n",
    "qc.measure([0,1], [0,1])\n",
    "qc.barrier()\n",
    "qc.z(2).c_if(cr, 1)\n",
    "qc.x(2).c_if(cr, 2)"
   ]
  }
 ],
 "metadata": {
  "kernelspec": {
   "display_name": "Python 3 (ipykernel)",
   "language": "python",
   "name": "python3"
  },
  "language_info": {
   "codemirror_mode": {
    "name": "ipython",
    "version": 3
   },
   "file_extension": ".py",
   "mimetype": "text/x-python",
   "name": "python",
   "nbconvert_exporter": "python",
   "pygments_lexer": "ipython3",
   "version": "3.8.12"
  }
 },
 "nbformat": 4,
 "nbformat_minor": 5
}