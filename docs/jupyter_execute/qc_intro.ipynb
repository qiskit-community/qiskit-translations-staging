{
 "cells": [
  {
   "cell_type": "code",
   "execution_count": 1,
   "id": "1ef11a77",
   "metadata": {
    "execution": {
     "iopub.execute_input": "2022-02-03T13:43:59.864432Z",
     "iopub.status.busy": "2022-02-03T13:43:59.863458Z",
     "iopub.status.idle": "2022-02-03T13:44:00.465650Z",
     "shell.execute_reply": "2022-02-03T13:44:00.464557Z"
    }
   },
   "outputs": [],
   "source": [
    "from qiskit import *"
   ]
  },
  {
   "cell_type": "code",
   "execution_count": 2,
   "id": "fba434ef",
   "metadata": {
    "execution": {
     "iopub.execute_input": "2022-02-03T13:44:00.479274Z",
     "iopub.status.busy": "2022-02-03T13:44:00.473989Z",
     "iopub.status.idle": "2022-02-03T13:44:00.492835Z",
     "shell.execute_reply": "2022-02-03T13:44:00.491599Z"
    }
   },
   "outputs": [
    {
     "data": {
      "text/plain": [
       "<qiskit.circuit.instructionset.InstructionSet at 0x7f978f219ec0>"
      ]
     },
     "execution_count": 2,
     "metadata": {},
     "output_type": "execute_result"
    }
   ],
   "source": [
    "qr = QuantumRegister(3, 'q')\n",
    "cr = ClassicalRegister(2, 'zx_meas')\n",
    "qc = QuantumCircuit(qr,cr)\n",
    "qc.reset(range(3))\n",
    "qc.barrier()\n",
    "qc.h(1)\n",
    "qc.cx([1,0],[2,1])\n",
    "qc.h(0)\n",
    "qc.barrier()\n",
    "qc.measure([0,1], [0,1])\n",
    "qc.barrier()\n",
    "qc.z(2).c_if(cr, 1)\n",
    "qc.x(2).c_if(cr, 2)"
   ]
  }
 ],
 "metadata": {
  "kernelspec": {
   "display_name": "Python 3 (ipykernel)",
   "language": "python",
   "name": "python3"
  },
  "language_info": {
   "codemirror_mode": {
    "name": "ipython",
    "version": 3
   },
   "file_extension": ".py",
   "mimetype": "text/x-python",
   "name": "python",
   "nbconvert_exporter": "python",
   "pygments_lexer": "ipython3",
   "version": "3.8.12"
  }
 },
 "nbformat": 4,
 "nbformat_minor": 5
}