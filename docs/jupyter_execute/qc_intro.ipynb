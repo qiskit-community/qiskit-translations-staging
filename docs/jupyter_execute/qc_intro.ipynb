{
 "cells": [
  {
   "cell_type": "code",
   "execution_count": 1,
   "id": "616c63ce",
   "metadata": {
    "execution": {
     "iopub.execute_input": "2022-03-05T03:18:02.421863Z",
     "iopub.status.busy": "2022-03-05T03:18:02.421636Z",
     "iopub.status.idle": "2022-03-05T03:18:02.832015Z",
     "shell.execute_reply": "2022-03-05T03:18:02.831457Z"
    }
   },
   "outputs": [],
   "source": [
    "from qiskit import *"
   ]
  },
  {
   "cell_type": "code",
   "execution_count": 2,
   "id": "09dd046a",
   "metadata": {
    "execution": {
     "iopub.execute_input": "2022-03-05T03:18:02.835517Z",
     "iopub.status.busy": "2022-03-05T03:18:02.835223Z",
     "iopub.status.idle": "2022-03-05T03:18:02.847673Z",
     "shell.execute_reply": "2022-03-05T03:18:02.847216Z"
    }
   },
   "outputs": [
    {
     "data": {
      "text/plain": [
       "<qiskit.circuit.instructionset.InstructionSet at 0x7f8148c55980>"
      ]
     },
     "execution_count": 2,
     "metadata": {},
     "output_type": "execute_result"
    }
   ],
   "source": [
    "qr = QuantumRegister(3, 'q')\n",
    "cr = ClassicalRegister(2, 'zx_meas')\n",
    "qc = QuantumCircuit(qr,cr)\n",
    "qc.reset(range(3))\n",
    "qc.barrier()\n",
    "qc.h(1)\n",
    "qc.cx([1,0],[2,1])\n",
    "qc.h(0)\n",
    "qc.barrier()\n",
    "qc.measure([0,1], [0,1])\n",
    "qc.barrier()\n",
    "qc.z(2).c_if(cr, 1)\n",
    "qc.x(2).c_if(cr, 2)"
   ]
  }
 ],
 "metadata": {
  "kernelspec": {
   "display_name": "Python 3 (ipykernel)",
   "language": "python",
   "name": "python3"
  },
  "language_info": {
   "codemirror_mode": {
    "name": "ipython",
    "version": 3
   },
   "file_extension": ".py",
   "mimetype": "text/x-python",
   "name": "python",
   "nbconvert_exporter": "python",
   "pygments_lexer": "ipython3",
   "version": "3.8.12"
  }
 },
 "nbformat": 4,
 "nbformat_minor": 5
}