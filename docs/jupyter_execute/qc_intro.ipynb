{
 "cells": [
  {
   "cell_type": "code",
   "execution_count": 1,
   "id": "ec702989",
   "metadata": {
    "execution": {
     "iopub.execute_input": "2022-05-20T19:54:05.962844Z",
     "iopub.status.busy": "2022-05-20T19:54:05.962540Z",
     "iopub.status.idle": "2022-05-20T19:54:06.224856Z",
     "shell.execute_reply": "2022-05-20T19:54:06.224109Z"
    }
   },
   "outputs": [],
   "source": [
    "from qiskit import *"
   ]
  },
  {
   "cell_type": "code",
   "execution_count": 2,
   "id": "50a2efe7",
   "metadata": {
    "execution": {
     "iopub.execute_input": "2022-05-20T19:54:06.228995Z",
     "iopub.status.busy": "2022-05-20T19:54:06.228541Z",
     "iopub.status.idle": "2022-05-20T19:54:06.243153Z",
     "shell.execute_reply": "2022-05-20T19:54:06.242043Z"
    }
   },
   "outputs": [
    {
     "data": {
      "text/plain": [
       "<qiskit.circuit.instructionset.InstructionSet at 0x7f888bd53380>"
      ]
     },
     "execution_count": 2,
     "metadata": {},
     "output_type": "execute_result"
    }
   ],
   "source": [
    "qr = QuantumRegister(3, 'q')\n",
    "cr = ClassicalRegister(2, 'zx_meas')\n",
    "qc = QuantumCircuit(qr,cr)\n",
    "qc.reset(range(3))\n",
    "qc.barrier()\n",
    "qc.h(1)\n",
    "qc.cx([1,0],[2,1])\n",
    "qc.h(0)\n",
    "qc.barrier()\n",
    "qc.measure([0,1], [0,1])\n",
    "qc.barrier()\n",
    "qc.z(2).c_if(cr, 1)\n",
    "qc.x(2).c_if(cr, 2)"
   ]
  }
 ],
 "metadata": {
  "kernelspec": {
   "display_name": "Python 3 (ipykernel)",
   "language": "python",
   "name": "python3"
  },
  "language_info": {
   "codemirror_mode": {
    "name": "ipython",
    "version": 3
   },
   "file_extension": ".py",
   "mimetype": "text/x-python",
   "name": "python",
   "nbconvert_exporter": "python",
   "pygments_lexer": "ipython3",
   "version": "3.8.12"
  }
 },
 "nbformat": 4,
 "nbformat_minor": 5
}