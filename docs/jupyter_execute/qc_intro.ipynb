{
 "cells": [
  {
   "cell_type": "code",
   "execution_count": 1,
   "id": "901cc7d7",
   "metadata": {
    "execution": {
     "iopub.execute_input": "2022-05-31T18:43:20.562180Z",
     "iopub.status.busy": "2022-05-31T18:43:20.561876Z",
     "iopub.status.idle": "2022-05-31T18:43:20.856353Z",
     "shell.execute_reply": "2022-05-31T18:43:20.855486Z"
    }
   },
   "outputs": [],
   "source": [
    "from qiskit import *"
   ]
  },
  {
   "cell_type": "code",
   "execution_count": 2,
   "id": "0d923a1f",
   "metadata": {
    "execution": {
     "iopub.execute_input": "2022-05-31T18:43:20.861663Z",
     "iopub.status.busy": "2022-05-31T18:43:20.860676Z",
     "iopub.status.idle": "2022-05-31T18:43:20.879530Z",
     "shell.execute_reply": "2022-05-31T18:43:20.878767Z"
    }
   },
   "outputs": [
    {
     "data": {
      "text/plain": [
       "<qiskit.circuit.instructionset.InstructionSet at 0x7f7db26cd540>"
      ]
     },
     "execution_count": 2,
     "metadata": {},
     "output_type": "execute_result"
    }
   ],
   "source": [
    "qr = QuantumRegister(3, 'q')\n",
    "cr = ClassicalRegister(2, 'zx_meas')\n",
    "qc = QuantumCircuit(qr,cr)\n",
    "qc.reset(range(3))\n",
    "qc.barrier()\n",
    "qc.h(1)\n",
    "qc.cx([1,0],[2,1])\n",
    "qc.h(0)\n",
    "qc.barrier()\n",
    "qc.measure([0,1], [0,1])\n",
    "qc.barrier()\n",
    "qc.z(2).c_if(cr, 1)\n",
    "qc.x(2).c_if(cr, 2)"
   ]
  }
 ],
 "metadata": {
  "kernelspec": {
   "display_name": "Python 3 (ipykernel)",
   "language": "python",
   "name": "python3"
  },
  "language_info": {
   "codemirror_mode": {
    "name": "ipython",
    "version": 3
   },
   "file_extension": ".py",
   "mimetype": "text/x-python",
   "name": "python",
   "nbconvert_exporter": "python",
   "pygments_lexer": "ipython3",
   "version": "3.8.12"
  }
 },
 "nbformat": 4,
 "nbformat_minor": 5
}