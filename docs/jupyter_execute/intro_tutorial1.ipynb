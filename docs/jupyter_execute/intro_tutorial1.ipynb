{
 "cells": [
  {
   "cell_type": "code",
   "execution_count": 1,
   "id": "de5d577c",
   "metadata": {
    "execution": {
     "iopub.execute_input": "2022-02-03T13:43:56.033199Z",
     "iopub.status.busy": "2022-02-03T13:43:56.032194Z",
     "iopub.status.idle": "2022-02-03T13:43:57.004770Z",
     "shell.execute_reply": "2022-02-03T13:43:57.004021Z"
    }
   },
   "outputs": [
    {
     "name": "stdout",
     "output_type": "stream",
     "text": [
      "\n",
      "Total count for 00 and 11 are: {'11': 497, '00': 503}\n"
     ]
    },
    {
     "data": {
      "text/html": [
       "<pre style=\"word-wrap: normal;white-space: pre;background: #fff0;line-height: 1.1;font-family: &quot;Courier New&quot;,Courier,monospace\">     ┌───┐     ┌─┐   \n",
       "q_0: ┤ H ├──■──┤M├───\n",
       "     └───┘┌─┴─┐└╥┘┌─┐\n",
       "q_1: ─────┤ X ├─╫─┤M├\n",
       "          └───┘ ║ └╥┘\n",
       "c: 2/═══════════╩══╩═\n",
       "                0  1 </pre>"
      ],
      "text/plain": [
       "     ┌───┐     ┌─┐   \n",
       "q_0: ┤ H ├──■──┤M├───\n",
       "     └───┘┌─┴─┐└╥┘┌─┐\n",
       "q_1: ─────┤ X ├─╫─┤M├\n",
       "          └───┘ ║ └╥┘\n",
       "c: 2/═══════════╩══╩═\n",
       "                0  1 "
      ]
     },
     "execution_count": 1,
     "metadata": {},
     "output_type": "execute_result"
    }
   ],
   "source": [
    "import numpy as np\n",
    "from qiskit import QuantumCircuit, transpile\n",
    "from qiskit.providers.aer import QasmSimulator\n",
    "from qiskit.visualization import plot_histogram\n",
    "\n",
    "# Use Aer's qasm_simulator\n",
    "simulator = QasmSimulator()\n",
    "\n",
    "# Create a Quantum Circuit acting on the q register\n",
    "circuit = QuantumCircuit(2, 2)\n",
    "\n",
    "# Add a H gate on qubit 0\n",
    "circuit.h(0)\n",
    "\n",
    "# Add a CX (CNOT) gate on control qubit 0 and target qubit 1\n",
    "circuit.cx(0, 1)\n",
    "\n",
    "# Map the quantum measurement to the classical bits\n",
    "circuit.measure([0,1], [0,1])\n",
    "\n",
    "# compile the circuit down to low-level QASM instructions\n",
    "# supported by the backend (not needed for simple circuits)\n",
    "compiled_circuit = transpile(circuit, simulator)\n",
    "\n",
    "# Execute the circuit on the qasm simulator\n",
    "job = simulator.run(compiled_circuit, shots=1000)\n",
    "\n",
    "# Grab results from the job\n",
    "result = job.result()\n",
    "\n",
    "# Returns counts\n",
    "counts = result.get_counts(compiled_circuit)\n",
    "print(\"\\nTotal count for 00 and 11 are:\",counts)\n",
    "\n",
    "# Draw the circuit\n",
    "circuit.draw()"
   ]
  },
  {
   "cell_type": "code",
   "execution_count": 2,
   "id": "98723b6d",
   "metadata": {
    "execution": {
     "iopub.execute_input": "2022-02-03T13:43:57.017016Z",
     "iopub.status.busy": "2022-02-03T13:43:57.013924Z",
     "iopub.status.idle": "2022-02-03T13:43:57.986323Z",
     "shell.execute_reply": "2022-02-03T13:43:57.986801Z"
    }
   },
   "outputs": [
    {
     "data": {
      "image/png": "[encoded data removed]",
      "text/plain": [
       "<Figure size 504x360 with 1 Axes>"
      ]
     },
     "execution_count": 2,
     "metadata": {
      "filenames": {
       "image/png": "/home/runner/work/qiskit-translations/qiskit-translations/docs/_build/html/locale/jupyter_execute/intro_tutorial1_1_0.png"
      }
     },
     "output_type": "execute_result"
    }
   ],
   "source": [
    "# Plot a histogram\n",
    "plot_histogram(counts)"
   ]
  },
  {
   "cell_type": "code",
   "execution_count": 3,
   "id": "d9a493bd",
   "metadata": {
    "execution": {
     "iopub.execute_input": "2022-02-03T13:43:57.998368Z",
     "iopub.status.busy": "2022-02-03T13:43:57.990742Z",
     "iopub.status.idle": "2022-02-03T13:43:58.004802Z",
     "shell.execute_reply": "2022-02-03T13:43:58.003951Z"
    }
   },
   "outputs": [
    {
     "data": {
      "text/html": [
       "<pre style=\"word-wrap: normal;white-space: pre;background: #fff0;line-height: 1.1;font-family: &quot;Courier New&quot;,Courier,monospace\">     ┌───┐     ┌─┐   \n",
       "q_0: ┤ H ├──■──┤M├───\n",
       "     └───┘┌─┴─┐└╥┘┌─┐\n",
       "q_1: ─────┤ X ├─╫─┤M├\n",
       "          └───┘ ║ └╥┘\n",
       "c: 2/═══════════╩══╩═\n",
       "                0  1 </pre>"
      ],
      "text/plain": [
       "     ┌───┐     ┌─┐   \n",
       "q_0: ┤ H ├──■──┤M├───\n",
       "     └───┘┌─┴─┐└╥┘┌─┐\n",
       "q_1: ─────┤ X ├─╫─┤M├\n",
       "          └───┘ ║ └╥┘\n",
       "c: 2/═══════════╩══╩═\n",
       "                0  1 "
      ]
     },
     "execution_count": 3,
     "metadata": {},
     "output_type": "execute_result"
    }
   ],
   "source": [
    "circuit.draw()"
   ]
  },
  {
   "cell_type": "code",
   "execution_count": 4,
   "id": "110ae90f",
   "metadata": {
    "execution": {
     "iopub.execute_input": "2022-02-03T13:43:58.014663Z",
     "iopub.status.busy": "2022-02-03T13:43:58.013968Z",
     "iopub.status.idle": "2022-02-03T13:43:58.027875Z",
     "shell.execute_reply": "2022-02-03T13:43:58.028807Z"
    }
   },
   "outputs": [
    {
     "name": "stdout",
     "output_type": "stream",
     "text": [
      "\n",
      "Total count for 00 and 11 are: {'00': 502, '11': 498}\n"
     ]
    }
   ],
   "source": [
    "simulator = QasmSimulator()\n",
    "compiled_circuit = transpile(circuit, simulator)\n",
    "job = simulator.run(compiled_circuit, shots=1000)\n",
    "result = job.result()\n",
    "counts = result.get_counts(circuit)\n",
    "print(\"\\nTotal count for 00 and 11 are:\",counts)"
   ]
  },
  {
   "cell_type": "code",
   "execution_count": 5,
   "id": "47fcb5ff",
   "metadata": {
    "execution": {
     "iopub.execute_input": "2022-02-03T13:43:58.041532Z",
     "iopub.status.busy": "2022-02-03T13:43:58.033339Z",
     "iopub.status.idle": "2022-02-03T13:43:58.129108Z",
     "shell.execute_reply": "2022-02-03T13:43:58.129931Z"
    }
   },
   "outputs": [
    {
     "data": {
      "image/png": "[encoded data removed]",
      "text/plain": [
       "<Figure size 504x360 with 1 Axes>"
      ]
     },
     "execution_count": 5,
     "metadata": {
      "filenames": {
       "image/png": "/home/runner/work/qiskit-translations/qiskit-translations/docs/_build/html/locale/jupyter_execute/intro_tutorial1_4_0.png"
      }
     },
     "output_type": "execute_result"
    }
   ],
   "source": [
    "plot_histogram(counts)"
   ]
  }
 ],
 "metadata": {
  "kernelspec": {
   "display_name": "Python 3 (ipykernel)",
   "language": "python",
   "name": "python3"
  },
  "language_info": {
   "codemirror_mode": {
    "name": "ipython",
    "version": 3
   },
   "file_extension": ".py",
   "mimetype": "text/x-python",
   "name": "python",
   "nbconvert_exporter": "python",
   "pygments_lexer": "ipython3",
   "version": "3.8.12"
  }
 },
 "nbformat": 4,
 "nbformat_minor": 5
}